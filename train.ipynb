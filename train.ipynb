{
 "cells": [
  {
   "metadata": {
    "ExecuteTime": {
     "end_time": "2024-06-21T18:15:01.148131Z",
     "start_time": "2024-06-21T18:15:00.414005Z"
    }
   },
   "cell_type": "code",
   "source": [
    "import model\n",
    "import dataset\n",
    "import trainner"
   ],
   "id": "6d3cd0ad572e7e74",
   "outputs": [],
   "execution_count": 1
  },
  {
   "metadata": {
    "ExecuteTime": {
     "end_time": "2024-06-21T18:15:01.151513Z",
     "start_time": "2024-06-21T18:15:01.148868Z"
    }
   },
   "cell_type": "code",
   "source": [
    "import torch\n",
    "import torch.nn as nn\n",
    "import torch.nn.functional as F\n",
    "from torch.autograd import Variable\n",
    "from torch.utils.data import Dataset, DataLoader"
   ],
   "id": "a1a52b271ff56da8",
   "outputs": [],
   "execution_count": 2
  },
  {
   "metadata": {
    "ExecuteTime": {
     "end_time": "2024-06-21T18:15:01.154690Z",
     "start_time": "2024-06-21T18:15:01.152193Z"
    }
   },
   "cell_type": "code",
   "source": [
    "\n",
    "spread_times = 3\n",
    "embedded_depth = 2  # at least 1\n",
    "vector_size = 8\n",
    "embedding_size = 64\n",
    "batch_size = 10"
   ],
   "id": "ad8e5949841ced4c",
   "outputs": [],
   "execution_count": 3
  },
  {
   "metadata": {
    "ExecuteTime": {
     "end_time": "2024-06-21T18:15:01.158288Z",
     "start_time": "2024-06-21T18:15:01.155614Z"
    }
   },
   "cell_type": "code",
   "source": [
    "train_dataset = \"data/training\"\n",
    "test_dataset = None\n",
    "output_path = \"output/parameter.model\""
   ],
   "id": "33b6a082569cd6ff",
   "outputs": [],
   "execution_count": 4
  },
  {
   "metadata": {
    "ExecuteTime": {
     "end_time": "2024-06-21T18:15:01.161790Z",
     "start_time": "2024-06-21T18:15:01.158886Z"
    }
   },
   "cell_type": "code",
   "source": "data = dataset.GraphDataset(train_dataset)",
   "id": "72427de269da7ea7",
   "outputs": [],
   "execution_count": 5
  },
  {
   "metadata": {
    "ExecuteTime": {
     "end_time": "2024-06-21T18:15:01.165183Z",
     "start_time": "2024-06-21T18:15:01.162353Z"
    }
   },
   "cell_type": "code",
   "source": [
    "print(\"Creating Dataset\")\n",
    "train_dataset = dataset.GraphDataset(train_dataset)\n",
    "test_dataset = dataset.GraphDataset(test_dataset) if test_dataset is not None else None"
   ],
   "id": "f57ebbeee6db7f72",
   "outputs": [
    {
     "name": "stdout",
     "output_type": "stream",
     "text": [
      "Creating Dataset\n"
     ]
    }
   ],
   "execution_count": 6
  },
  {
   "metadata": {
    "ExecuteTime": {
     "end_time": "2024-06-21T18:15:01.168080Z",
     "start_time": "2024-06-21T18:15:01.165683Z"
    }
   },
   "cell_type": "code",
   "source": [
    "print(\"Creating Dataloader\")\n",
    "train_data_loader = DataLoader(train_dataset, batch_size=batch_size, num_workers=0, collate_fn=dataset.custom_collate_fn)\n",
    "test_data_loader = DataLoader(test_dataset, batch_size=batch_size, num_workers=10, collate_fn=dataset.custom_collate_fn, shuffle=True) \\\n",
    "    if test_dataset is not None else None"
   ],
   "id": "b482e350a94f096a",
   "outputs": [
    {
     "name": "stdout",
     "output_type": "stream",
     "text": [
      "Creating Dataloader\n"
     ]
    }
   ],
   "execution_count": 7
  },
  {
   "metadata": {
    "ExecuteTime": {
     "end_time": "2024-06-21T18:15:01.172676Z",
     "start_time": "2024-06-21T18:15:01.168719Z"
    }
   },
   "cell_type": "code",
   "source": [
    "print(\"Building model\")\n",
    "model = model.GraphEmbeddingNetwork(spread_times, embedded_depth, vector_size, embedding_size)"
   ],
   "id": "e41364645e30dcd5",
   "outputs": [
    {
     "name": "stdout",
     "output_type": "stream",
     "text": [
      "Building model\n"
     ]
    }
   ],
   "execution_count": 8
  },
  {
   "metadata": {
    "ExecuteTime": {
     "end_time": "2024-06-21T18:15:01.513928Z",
     "start_time": "2024-06-21T18:15:01.173396Z"
    }
   },
   "cell_type": "code",
   "source": [
    "print(\"Creating Trainer\")\n",
    "train_model = trainner.Trainer(model, train_data_loader, test_data_loader)"
   ],
   "id": "600fe69f29ed53e1",
   "outputs": [
    {
     "name": "stdout",
     "output_type": "stream",
     "text": [
      "Creating Trainer\n",
      "CUDA available: False\n"
     ]
    },
    {
     "name": "stderr",
     "output_type": "stream",
     "text": [
      "/home/tongxixu/anaconda3/envs/myenv/lib/python3.12/site-packages/torch/cuda/__init__.py:118: UserWarning: CUDA initialization: CUDA unknown error - this may be due to an incorrectly set up environment, e.g. changing env variable CUDA_VISIBLE_DEVICES after program start. Setting the available devices to be zero. (Triggered internally at /opt/conda/conda-bld/pytorch_1716905969118/work/c10/cuda/CUDAFunctions.cpp:108.)\n",
      "  return torch._C._cuda_getDeviceCount() > 0\n"
     ]
    },
    {
     "name": "stdout",
     "output_type": "stream",
     "text": [
      "Total Parameters: 13056\n"
     ]
    }
   ],
   "execution_count": 9
  },
  {
   "metadata": {
    "ExecuteTime": {
     "end_time": "2024-06-21T18:15:06.195850Z",
     "start_time": "2024-06-21T18:15:01.514548Z"
    }
   },
   "cell_type": "code",
   "source": [
    "print(\"Training Start\")\n",
    "for epoch in range(20):\n",
    "    train_model.train(epoch, batch_size)\n",
    "    train_model.save(epoch, output_path)"
   ],
   "id": "38c053ee98e4e07c",
   "outputs": [
    {
     "name": "stdout",
     "output_type": "stream",
     "text": [
      "Training Start\n"
     ]
    },
    {
     "name": "stderr",
     "output_type": "stream",
     "text": [
      "EP_train:0: 100%|| 21/21 [00:00<00:00, 118.69it/s]\n"
     ]
    },
    {
     "name": "stdout",
     "output_type": "stream",
     "text": [
      "torch.Size([10, 33, 33]) torch.Size([10, 33, 64])\n",
      "torch.Size([10, 33, 33]) torch.Size([10, 33, 64])\n",
      "torch.Size([10, 33, 33]) torch.Size([10, 33, 64])\n",
      "torch.Size([10, 33, 33]) torch.Size([10, 33, 64])\n",
      "torch.Size([10, 33, 33]) torch.Size([10, 33, 64])\n",
      "torch.Size([10, 33, 33]) torch.Size([10, 33, 64])\n",
      "{'epoch': 0, 'iter': 0, 'loss:': 1.6098754405975342}\n",
      "torch.Size([10, 67, 67]) torch.Size([10, 67, 64])\n",
      "torch.Size([10, 67, 67]) torch.Size([10, 67, 64])\n",
      "torch.Size([10, 67, 67]) torch.Size([10, 67, 64])\n",
      "torch.Size([10, 176, 176]) torch.Size([10, 176, 64])\n",
      "torch.Size([10, 176, 176]) torch.Size([10, 176, 64])\n",
      "torch.Size([10, 176, 176]) torch.Size([10, 176, 64])\n",
      "torch.Size([10, 54, 54]) torch.Size([10, 54, 64])\n",
      "torch.Size([10, 54, 54]) torch.Size([10, 54, 64])\n",
      "torch.Size([10, 54, 54]) torch.Size([10, 54, 64])\n",
      "torch.Size([10, 54, 54]) torch.Size([10, 54, 64])\n",
      "torch.Size([10, 54, 54]) torch.Size([10, 54, 64])\n",
      "torch.Size([10, 54, 54]) torch.Size([10, 54, 64])\n",
      "torch.Size([10, 32, 32]) torch.Size([10, 32, 64])\n",
      "torch.Size([10, 32, 32]) torch.Size([10, 32, 64])\n",
      "torch.Size([10, 32, 32]) torch.Size([10, 32, 64])\n",
      "torch.Size([10, 69, 69]) torch.Size([10, 69, 64])\n",
      "torch.Size([10, 69, 69]) torch.Size([10, 69, 64])\n",
      "torch.Size([10, 69, 69]) torch.Size([10, 69, 64])\n",
      "torch.Size([10, 196, 196]) torch.Size([10, 196, 64])\n",
      "torch.Size([10, 196, 196]) torch.Size([10, 196, 64])\n",
      "torch.Size([10, 196, 196]) torch.Size([10, 196, 64])\n",
      "torch.Size([10, 196, 196]) torch.Size([10, 196, 64])\n",
      "torch.Size([10, 196, 196]) torch.Size([10, 196, 64])\n",
      "torch.Size([10, 196, 196]) torch.Size([10, 196, 64])\n",
      "torch.Size([10, 20, 20]) torch.Size([10, 20, 64])\n",
      "torch.Size([10, 20, 20]) torch.Size([10, 20, 64])\n",
      "torch.Size([10, 20, 20]) torch.Size([10, 20, 64])\n",
      "torch.Size([10, 20, 20]) torch.Size([10, 20, 64])\n",
      "torch.Size([10, 20, 20]) torch.Size([10, 20, 64])\n",
      "torch.Size([10, 20, 20]) torch.Size([10, 20, 64])\n",
      "{'epoch': 0, 'iter': 5, 'loss:': 1.059666633605957}\n",
      "torch.Size([10, 479, 479]) torch.Size([10, 479, 64])\n",
      "torch.Size([10, 479, 479]) torch.Size([10, 479, 64])\n",
      "torch.Size([10, 479, 479]) torch.Size([10, 479, 64])\n",
      "torch.Size([10, 479, 479]) torch.Size([10, 479, 64])\n",
      "torch.Size([10, 479, 479]) torch.Size([10, 479, 64])\n",
      "torch.Size([10, 479, 479]) torch.Size([10, 479, 64])\n",
      "torch.Size([10, 162, 162]) torch.Size([10, 162, 64])\n",
      "torch.Size([10, 162, 162]) torch.Size([10, 162, 64])\n",
      "torch.Size([10, 162, 162]) torch.Size([10, 162, 64])\n",
      "torch.Size([10, 162, 162]) torch.Size([10, 162, 64])\n",
      "torch.Size([10, 162, 162]) torch.Size([10, 162, 64])\n",
      "torch.Size([10, 162, 162]) torch.Size([10, 162, 64])\n",
      "torch.Size([10, 113, 113]) torch.Size([10, 113, 64])\n",
      "torch.Size([10, 113, 113]) torch.Size([10, 113, 64])\n",
      "torch.Size([10, 113, 113]) torch.Size([10, 113, 64])\n",
      "torch.Size([10, 113, 113]) torch.Size([10, 113, 64])\n",
      "torch.Size([10, 113, 113]) torch.Size([10, 113, 64])\n",
      "torch.Size([10, 113, 113]) torch.Size([10, 113, 64])\n",
      "torch.Size([10, 43, 43]) torch.Size([10, 43, 64])\n",
      "torch.Size([10, 43, 43]) torch.Size([10, 43, 64])\n",
      "torch.Size([10, 43, 43]) torch.Size([10, 43, 64])\n",
      "torch.Size([10, 43, 43]) torch.Size([10, 43, 64])\n",
      "torch.Size([10, 43, 43]) torch.Size([10, 43, 64])\n",
      "torch.Size([10, 43, 43]) torch.Size([10, 43, 64])\n",
      "torch.Size([10, 67, 67]) torch.Size([10, 67, 64])\n",
      "torch.Size([10, 67, 67]) torch.Size([10, 67, 64])\n",
      "torch.Size([10, 67, 67]) torch.Size([10, 67, 64])\n",
      "torch.Size([10, 67, 67]) torch.Size([10, 67, 64])\n",
      "torch.Size([10, 67, 67]) torch.Size([10, 67, 64])\n",
      "torch.Size([10, 67, 67]) torch.Size([10, 67, 64])\n",
      "{'epoch': 0, 'iter': 10, 'loss:': 1.453061819076538}\n",
      "torch.Size([10, 15, 15]) torch.Size([10, 15, 64])\n",
      "torch.Size([10, 15, 15]) torch.Size([10, 15, 64])\n",
      "torch.Size([10, 15, 15]) torch.Size([10, 15, 64])\n",
      "torch.Size([10, 176, 176]) torch.Size([10, 176, 64])\n",
      "torch.Size([10, 176, 176]) torch.Size([10, 176, 64])\n",
      "torch.Size([10, 176, 176]) torch.Size([10, 176, 64])\n",
      "torch.Size([10, 232, 232]) torch.Size([10, 232, 64])\n",
      "torch.Size([10, 232, 232]) torch.Size([10, 232, 64])\n",
      "torch.Size([10, 232, 232]) torch.Size([10, 232, 64])\n",
      "torch.Size([10, 232, 232]) torch.Size([10, 232, 64])\n",
      "torch.Size([10, 232, 232]) torch.Size([10, 232, 64])\n",
      "torch.Size([10, 232, 232]) torch.Size([10, 232, 64])\n",
      "torch.Size([10, 78, 78]) torch.Size([10, 78, 64])\n",
      "torch.Size([10, 78, 78]) torch.Size([10, 78, 64])\n",
      "torch.Size([10, 78, 78]) torch.Size([10, 78, 64])\n",
      "torch.Size([10, 78, 78]) torch.Size([10, 78, 64])\n",
      "torch.Size([10, 78, 78]) torch.Size([10, 78, 64])\n",
      "torch.Size([10, 78, 78]) torch.Size([10, 78, 64])\n",
      "torch.Size([10, 54, 54]) torch.Size([10, 54, 64])\n",
      "torch.Size([10, 54, 54]) torch.Size([10, 54, 64])\n",
      "torch.Size([10, 54, 54]) torch.Size([10, 54, 64])\n",
      "torch.Size([10, 54, 54]) torch.Size([10, 54, 64])\n",
      "torch.Size([10, 54, 54]) torch.Size([10, 54, 64])\n",
      "torch.Size([10, 54, 54]) torch.Size([10, 54, 64])\n",
      "torch.Size([10, 31, 31]) torch.Size([10, 31, 64])\n",
      "torch.Size([10, 31, 31]) torch.Size([10, 31, 64])\n",
      "torch.Size([10, 31, 31]) torch.Size([10, 31, 64])\n",
      "torch.Size([10, 176, 176]) torch.Size([10, 176, 64])\n",
      "torch.Size([10, 176, 176]) torch.Size([10, 176, 64])\n",
      "torch.Size([10, 176, 176]) torch.Size([10, 176, 64])\n",
      "{'epoch': 0, 'iter': 15, 'loss:': 1.976474404335022}\n",
      "torch.Size([10, 53, 53]) torch.Size([10, 53, 64])\n",
      "torch.Size([10, 53, 53]) torch.Size([10, 53, 64])\n",
      "torch.Size([10, 53, 53]) torch.Size([10, 53, 64])\n",
      "torch.Size([10, 53, 53]) torch.Size([10, 53, 64])\n",
      "torch.Size([10, 53, 53]) torch.Size([10, 53, 64])\n",
      "torch.Size([10, 53, 53]) torch.Size([10, 53, 64])\n",
      "torch.Size([10, 60, 60]) torch.Size([10, 60, 64])\n",
      "torch.Size([10, 60, 60]) torch.Size([10, 60, 64])\n",
      "torch.Size([10, 60, 60]) torch.Size([10, 60, 64])\n",
      "torch.Size([10, 60, 60]) torch.Size([10, 60, 64])\n",
      "torch.Size([10, 60, 60]) torch.Size([10, 60, 64])\n",
      "torch.Size([10, 60, 60]) torch.Size([10, 60, 64])\n",
      "torch.Size([10, 11, 11]) torch.Size([10, 11, 64])\n",
      "torch.Size([10, 11, 11]) torch.Size([10, 11, 64])\n",
      "torch.Size([10, 11, 11]) torch.Size([10, 11, 64])\n",
      "torch.Size([10, 11, 11]) torch.Size([10, 11, 64])\n",
      "torch.Size([10, 11, 11]) torch.Size([10, 11, 64])\n",
      "torch.Size([10, 11, 11]) torch.Size([10, 11, 64])\n",
      "torch.Size([10, 178, 178]) torch.Size([10, 178, 64])\n",
      "torch.Size([10, 178, 178]) torch.Size([10, 178, 64])\n",
      "torch.Size([10, 178, 178]) torch.Size([10, 178, 64])\n",
      "torch.Size([10, 178, 178]) torch.Size([10, 178, 64])\n",
      "torch.Size([10, 178, 178]) torch.Size([10, 178, 64])\n",
      "torch.Size([10, 178, 178]) torch.Size([10, 178, 64])\n",
      "torch.Size([1, 5, 5]) torch.Size([10, 5, 64])\n",
      "torch.Size([1, 5, 5]) torch.Size([10, 5, 64])\n",
      "torch.Size([1, 5, 5]) torch.Size([10, 5, 64])\n",
      "torch.Size([1, 4, 4]) torch.Size([10, 4, 64])\n",
      "torch.Size([1, 4, 4]) torch.Size([10, 4, 64])\n",
      "torch.Size([1, 4, 4]) torch.Size([10, 4, 64])\n",
      "{'epoch': 0, 'iter': 20, 'loss:': 3.9458072185516357}\n",
      "EP:0 Model Saved on: output/parameter.model.ep0\n"
     ]
    },
    {
     "name": "stderr",
     "output_type": "stream",
     "text": [
      "EP_train:1:   0%|| 0/21 [00:00<?, ?it/s]"
     ]
    },
    {
     "name": "stdout",
     "output_type": "stream",
     "text": [
      "torch.Size([10, 33, 33]) torch.Size([10, 33, 64])\n",
      "torch.Size([10, 33, 33]) torch.Size([10, 33, 64])\n",
      "torch.Size([10, 33, 33]) torch.Size([10, 33, 64])\n",
      "torch.Size([10, 33, 33]) torch.Size([10, 33, 64])\n",
      "torch.Size([10, 33, 33]) torch.Size([10, 33, 64])\n",
      "torch.Size([10, 33, 33]) torch.Size([10, 33, 64])\n",
      "{'epoch': 1, 'iter': 0, 'loss:': 1.5242401361465454}\n",
      "torch.Size([10, 67, 67]) torch.Size([10, 67, 64])\n",
      "torch.Size([10, 67, 67]) torch.Size([10, 67, 64])\n",
      "torch.Size([10, 67, 67]) torch.Size([10, 67, 64])\n",
      "torch.Size([10, 176, 176]) torch.Size([10, 176, 64])\n",
      "torch.Size([10, 176, 176]) torch.Size([10, 176, 64])\n",
      "torch.Size([10, 176, 176]) torch.Size([10, 176, 64])\n",
      "torch.Size([10, 54, 54]) torch.Size([10, 54, 64])\n",
      "torch.Size([10, 54, 54]) torch.Size([10, 54, 64])\n",
      "torch.Size([10, 54, 54]) torch.Size([10, 54, 64])\n",
      "torch.Size([10, 54, 54]) torch.Size([10, 54, 64])\n",
      "torch.Size([10, 54, 54]) torch.Size([10, 54, 64])\n",
      "torch.Size([10, 54, 54]) torch.Size([10, 54, 64])\n"
     ]
    },
    {
     "name": "stderr",
     "output_type": "stream",
     "text": [
      "EP_train:1:  38%|| 8/21 [00:00<00:00, 77.33it/s]"
     ]
    },
    {
     "name": "stdout",
     "output_type": "stream",
     "text": [
      "torch.Size([10, 32, 32]) torch.Size([10, 32, 64])\n",
      "torch.Size([10, 32, 32]) torch.Size([10, 32, 64])\n",
      "torch.Size([10, 32, 32]) torch.Size([10, 32, 64])\n",
      "torch.Size([10, 69, 69]) torch.Size([10, 69, 64])\n",
      "torch.Size([10, 69, 69]) torch.Size([10, 69, 64])\n",
      "torch.Size([10, 69, 69]) torch.Size([10, 69, 64])\n",
      "torch.Size([10, 196, 196]) torch.Size([10, 196, 64])\n",
      "torch.Size([10, 196, 196]) torch.Size([10, 196, 64])\n",
      "torch.Size([10, 196, 196]) torch.Size([10, 196, 64])\n",
      "torch.Size([10, 196, 196]) torch.Size([10, 196, 64])\n",
      "torch.Size([10, 196, 196]) torch.Size([10, 196, 64])\n",
      "torch.Size([10, 196, 196]) torch.Size([10, 196, 64])\n",
      "torch.Size([10, 20, 20]) torch.Size([10, 20, 64])\n",
      "torch.Size([10, 20, 20]) torch.Size([10, 20, 64])\n",
      "torch.Size([10, 20, 20]) torch.Size([10, 20, 64])\n",
      "torch.Size([10, 20, 20]) torch.Size([10, 20, 64])\n",
      "torch.Size([10, 20, 20]) torch.Size([10, 20, 64])\n",
      "torch.Size([10, 20, 20]) torch.Size([10, 20, 64])\n",
      "{'epoch': 1, 'iter': 5, 'loss:': 1.03664231300354}\n",
      "torch.Size([10, 479, 479]) torch.Size([10, 479, 64])\n",
      "torch.Size([10, 479, 479]) torch.Size([10, 479, 64])\n",
      "torch.Size([10, 479, 479]) torch.Size([10, 479, 64])\n",
      "torch.Size([10, 479, 479]) torch.Size([10, 479, 64])\n",
      "torch.Size([10, 479, 479]) torch.Size([10, 479, 64])\n",
      "torch.Size([10, 479, 479]) torch.Size([10, 479, 64])\n",
      "torch.Size([10, 162, 162]) torch.Size([10, 162, 64])\n",
      "torch.Size([10, 162, 162]) torch.Size([10, 162, 64])\n",
      "torch.Size([10, 162, 162]) torch.Size([10, 162, 64])\n",
      "torch.Size([10, 162, 162]) torch.Size([10, 162, 64])\n",
      "torch.Size([10, 162, 162]) torch.Size([10, 162, 64])\n",
      "torch.Size([10, 162, 162]) torch.Size([10, 162, 64])\n",
      "torch.Size([10, 113, 113]) torch.Size([10, 113, 64])\n",
      "torch.Size([10, 113, 113]) torch.Size([10, 113, 64])\n",
      "torch.Size([10, 113, 113]) torch.Size([10, 113, 64])\n",
      "torch.Size([10, 113, 113]) torch.Size([10, 113, 64])\n",
      "torch.Size([10, 113, 113]) torch.Size([10, 113, 64])\n",
      "torch.Size([10, 113, 113]) torch.Size([10, 113, 64])\n",
      "torch.Size([10, 43, 43]) torch.Size([10, 43, 64])\n",
      "torch.Size([10, 43, 43]) torch.Size([10, 43, 64])\n",
      "torch.Size([10, 43, 43]) torch.Size([10, 43, 64])\n",
      "torch.Size([10, 43, 43]) torch.Size([10, 43, 64])\n",
      "torch.Size([10, 43, 43]) torch.Size([10, 43, 64])\n",
      "torch.Size([10, 43, 43]) torch.Size([10, 43, 64])\n",
      "torch.Size([10, 67, 67]) torch.Size([10, 67, 64])\n",
      "torch.Size([10, 67, 67]) torch.Size([10, 67, 64])\n",
      "torch.Size([10, 67, 67]) torch.Size([10, 67, 64])\n",
      "torch.Size([10, 67, 67]) torch.Size([10, 67, 64])\n",
      "torch.Size([10, 67, 67]) torch.Size([10, 67, 64])\n",
      "torch.Size([10, 67, 67]) torch.Size([10, 67, 64])\n",
      "{'epoch': 1, 'iter': 10, 'loss:': 1.4147298336029053}\n",
      "torch.Size([10, 15, 15]) torch.Size([10, 15, 64])\n",
      "torch.Size([10, 15, 15]) torch.Size([10, 15, 64])\n",
      "torch.Size([10, 15, 15]) torch.Size([10, 15, 64])\n",
      "torch.Size([10, 176, 176]) torch.Size([10, 176, 64])\n",
      "torch.Size([10, 176, 176]) torch.Size([10, 176, 64])\n",
      "torch.Size([10, 176, 176]) torch.Size([10, 176, 64])\n",
      "torch.Size([10, 232, 232]) torch.Size([10, 232, 64])\n",
      "torch.Size([10, 232, 232]) torch.Size([10, 232, 64])\n",
      "torch.Size([10, 232, 232]) torch.Size([10, 232, 64])\n",
      "torch.Size([10, 232, 232]) torch.Size([10, 232, 64])\n",
      "torch.Size([10, 232, 232]) torch.Size([10, 232, 64])\n",
      "torch.Size([10, 232, 232]) torch.Size([10, 232, 64])\n",
      "torch.Size([10, 78, 78]) torch.Size([10, 78, 64])\n",
      "torch.Size([10, 78, 78]) torch.Size([10, 78, 64])\n",
      "torch.Size([10, 78, 78]) torch.Size([10, 78, 64])\n",
      "torch.Size([10, 78, 78]) torch.Size([10, 78, 64])\n",
      "torch.Size([10, 78, 78]) torch.Size([10, 78, 64])\n",
      "torch.Size([10, 78, 78]) torch.Size([10, 78, 64])\n",
      "torch.Size([10, 54, 54]) torch.Size([10, 54, 64])\n",
      "torch.Size([10, 54, 54]) torch.Size([10, 54, 64])\n",
      "torch.Size([10, 54, 54]) torch.Size([10, 54, 64])\n",
      "torch.Size([10, 54, 54]) torch.Size([10, 54, 64])\n",
      "torch.Size([10, 54, 54]) torch.Size([10, 54, 64])\n",
      "torch.Size([10, 54, 54]) torch.Size([10, 54, 64])\n",
      "torch.Size([10, 31, 31]) torch.Size([10, 31, 64])\n",
      "torch.Size([10, 31, 31]) torch.Size([10, 31, 64])\n",
      "torch.Size([10, 31, 31]) torch.Size([10, 31, 64])\n",
      "torch.Size([10, 176, 176]) torch.Size([10, 176, 64])\n",
      "torch.Size([10, 176, 176]) torch.Size([10, 176, 64])\n",
      "torch.Size([10, 176, 176]) torch.Size([10, 176, 64])\n",
      "{'epoch': 1, 'iter': 15, 'loss:': 1.9436328411102295}\n",
      "torch.Size([10, 53, 53]) torch.Size([10, 53, 64])\n",
      "torch.Size([10, 53, 53]) torch.Size([10, 53, 64])\n",
      "torch.Size([10, 53, 53]) torch.Size([10, 53, 64])\n",
      "torch.Size([10, 53, 53]) torch.Size([10, 53, 64])\n",
      "torch.Size([10, 53, 53]) torch.Size([10, 53, 64])\n",
      "torch.Size([10, 53, 53]) torch.Size([10, 53, 64])\n",
      "torch.Size([10, 60, 60]) torch.Size([10, 60, 64])\n",
      "torch.Size([10, 60, 60]) torch.Size([10, 60, 64])\n",
      "torch.Size([10, 60, 60]) torch.Size([10, 60, 64])\n",
      "torch.Size([10, 60, 60]) torch.Size([10, 60, 64])\n",
      "torch.Size([10, 60, 60]) torch.Size([10, 60, 64])\n",
      "torch.Size([10, 60, 60]) torch.Size([10, 60, 64])\n"
     ]
    },
    {
     "name": "stderr",
     "output_type": "stream",
     "text": [
      "EP_train:1:  86%|| 18/21 [00:00<00:00, 87.95it/s]"
     ]
    },
    {
     "name": "stdout",
     "output_type": "stream",
     "text": [
      "torch.Size([10, 11, 11]) torch.Size([10, 11, 64])\n",
      "torch.Size([10, 11, 11]) torch.Size([10, 11, 64])\n",
      "torch.Size([10, 11, 11]) torch.Size([10, 11, 64])\n",
      "torch.Size([10, 11, 11]) torch.Size([10, 11, 64])\n",
      "torch.Size([10, 11, 11]) torch.Size([10, 11, 64])\n",
      "torch.Size([10, 11, 11]) torch.Size([10, 11, 64])\n",
      "torch.Size([10, 178, 178]) torch.Size([10, 178, 64])\n",
      "torch.Size([10, 178, 178]) torch.Size([10, 178, 64])\n",
      "torch.Size([10, 178, 178]) torch.Size([10, 178, 64])\n",
      "torch.Size([10, 178, 178]) torch.Size([10, 178, 64])\n",
      "torch.Size([10, 178, 178]) torch.Size([10, 178, 64])\n",
      "torch.Size([10, 178, 178]) torch.Size([10, 178, 64])\n",
      "torch.Size([1, 5, 5]) torch.Size([10, 5, 64])\n",
      "torch.Size([1, 5, 5]) torch.Size([10, 5, 64])\n"
     ]
    },
    {
     "name": "stderr",
     "output_type": "stream",
     "text": [
      "EP_train:1: 100%|| 21/21 [00:00<00:00, 88.11it/s]\n"
     ]
    },
    {
     "name": "stdout",
     "output_type": "stream",
     "text": [
      "torch.Size([1, 5, 5]) torch.Size([10, 5, 64])\n",
      "torch.Size([1, 4, 4]) torch.Size([10, 4, 64])\n",
      "torch.Size([1, 4, 4]) torch.Size([10, 4, 64])\n",
      "torch.Size([1, 4, 4]) torch.Size([10, 4, 64])\n",
      "{'epoch': 1, 'iter': 20, 'loss:': 3.944363832473755}\n",
      "EP:1 Model Saved on: output/parameter.model.ep1\n"
     ]
    },
    {
     "name": "stderr",
     "output_type": "stream",
     "text": [
      "EP_train:2:  48%|| 10/21 [00:00<00:00, 99.17it/s]"
     ]
    },
    {
     "name": "stdout",
     "output_type": "stream",
     "text": [
      "torch.Size([10, 33, 33]) torch.Size([10, 33, 64])\n",
      "torch.Size([10, 33, 33]) torch.Size([10, 33, 64])\n",
      "torch.Size([10, 33, 33]) torch.Size([10, 33, 64])\n",
      "torch.Size([10, 33, 33]) torch.Size([10, 33, 64])\n",
      "torch.Size([10, 33, 33]) torch.Size([10, 33, 64])\n",
      "torch.Size([10, 33, 33]) torch.Size([10, 33, 64])\n",
      "{'epoch': 2, 'iter': 0, 'loss:': 1.4329283237457275}\n",
      "torch.Size([10, 67, 67]) torch.Size([10, 67, 64])\n",
      "torch.Size([10, 67, 67]) torch.Size([10, 67, 64])\n",
      "torch.Size([10, 67, 67]) torch.Size([10, 67, 64])\n",
      "torch.Size([10, 176, 176]) torch.Size([10, 176, 64])\n",
      "torch.Size([10, 176, 176]) torch.Size([10, 176, 64])\n",
      "torch.Size([10, 176, 176]) torch.Size([10, 176, 64])\n",
      "torch.Size([10, 54, 54]) torch.Size([10, 54, 64])\n",
      "torch.Size([10, 54, 54]) torch.Size([10, 54, 64])\n",
      "torch.Size([10, 54, 54]) torch.Size([10, 54, 64])\n",
      "torch.Size([10, 54, 54]) torch.Size([10, 54, 64])\n",
      "torch.Size([10, 54, 54]) torch.Size([10, 54, 64])\n",
      "torch.Size([10, 54, 54]) torch.Size([10, 54, 64])\n",
      "torch.Size([10, 32, 32]) torch.Size([10, 32, 64])\n",
      "torch.Size([10, 32, 32]) torch.Size([10, 32, 64])\n",
      "torch.Size([10, 32, 32]) torch.Size([10, 32, 64])\n",
      "torch.Size([10, 69, 69]) torch.Size([10, 69, 64])\n",
      "torch.Size([10, 69, 69]) torch.Size([10, 69, 64])\n",
      "torch.Size([10, 69, 69]) torch.Size([10, 69, 64])\n",
      "torch.Size([10, 196, 196]) torch.Size([10, 196, 64])\n",
      "torch.Size([10, 196, 196]) torch.Size([10, 196, 64])\n",
      "torch.Size([10, 196, 196]) torch.Size([10, 196, 64])\n",
      "torch.Size([10, 196, 196]) torch.Size([10, 196, 64])\n",
      "torch.Size([10, 196, 196]) torch.Size([10, 196, 64])\n",
      "torch.Size([10, 196, 196]) torch.Size([10, 196, 64])\n",
      "torch.Size([10, 20, 20]) torch.Size([10, 20, 64])\n",
      "torch.Size([10, 20, 20]) torch.Size([10, 20, 64])\n",
      "torch.Size([10, 20, 20]) torch.Size([10, 20, 64])\n",
      "torch.Size([10, 20, 20]) torch.Size([10, 20, 64])\n",
      "torch.Size([10, 20, 20]) torch.Size([10, 20, 64])\n",
      "torch.Size([10, 20, 20]) torch.Size([10, 20, 64])\n",
      "{'epoch': 2, 'iter': 5, 'loss:': 1.0127296447753906}\n",
      "torch.Size([10, 479, 479]) torch.Size([10, 479, 64])\n",
      "torch.Size([10, 479, 479]) torch.Size([10, 479, 64])\n",
      "torch.Size([10, 479, 479]) torch.Size([10, 479, 64])\n",
      "torch.Size([10, 479, 479]) torch.Size([10, 479, 64])\n",
      "torch.Size([10, 479, 479]) torch.Size([10, 479, 64])\n",
      "torch.Size([10, 479, 479]) torch.Size([10, 479, 64])\n",
      "torch.Size([10, 162, 162]) torch.Size([10, 162, 64])\n",
      "torch.Size([10, 162, 162]) torch.Size([10, 162, 64])\n",
      "torch.Size([10, 162, 162]) torch.Size([10, 162, 64])\n",
      "torch.Size([10, 162, 162]) torch.Size([10, 162, 64])\n",
      "torch.Size([10, 162, 162]) torch.Size([10, 162, 64])\n",
      "torch.Size([10, 162, 162]) torch.Size([10, 162, 64])\n",
      "torch.Size([10, 113, 113]) torch.Size([10, 113, 64])\n",
      "torch.Size([10, 113, 113]) torch.Size([10, 113, 64])\n",
      "torch.Size([10, 113, 113]) torch.Size([10, 113, 64])\n",
      "torch.Size([10, 113, 113]) torch.Size([10, 113, 64])\n",
      "torch.Size([10, 113, 113]) torch.Size([10, 113, 64])\n",
      "torch.Size([10, 113, 113]) torch.Size([10, 113, 64])\n",
      "torch.Size([10, 43, 43]) torch.Size([10, 43, 64])\n",
      "torch.Size([10, 43, 43]) torch.Size([10, 43, 64])\n",
      "torch.Size([10, 43, 43]) torch.Size([10, 43, 64])\n",
      "torch.Size([10, 43, 43]) torch.Size([10, 43, 64])\n",
      "torch.Size([10, 43, 43]) torch.Size([10, 43, 64])\n",
      "torch.Size([10, 43, 43]) torch.Size([10, 43, 64])\n",
      "torch.Size([10, 67, 67]) torch.Size([10, 67, 64])\n",
      "torch.Size([10, 67, 67]) torch.Size([10, 67, 64])\n",
      "torch.Size([10, 67, 67]) torch.Size([10, 67, 64])\n",
      "torch.Size([10, 67, 67]) torch.Size([10, 67, 64])\n",
      "torch.Size([10, 67, 67]) torch.Size([10, 67, 64])\n",
      "torch.Size([10, 67, 67]) torch.Size([10, 67, 64])\n",
      "{'epoch': 2, 'iter': 10, 'loss:': 1.3662497997283936}\n",
      "torch.Size([10, 15, 15]) torch.Size([10, 15, 64])\n",
      "torch.Size([10, 15, 15]) torch.Size([10, 15, 64])\n",
      "torch.Size([10, 15, 15]) torch.Size([10, 15, 64])\n",
      "torch.Size([10, 176, 176]) torch.Size([10, 176, 64])\n",
      "torch.Size([10, 176, 176]) torch.Size([10, 176, 64])\n",
      "torch.Size([10, 176, 176]) torch.Size([10, 176, 64])\n",
      "torch.Size([10, 232, 232]) torch.Size([10, 232, 64])\n",
      "torch.Size([10, 232, 232]) torch.Size([10, 232, 64])\n",
      "torch.Size([10, 232, 232]) torch.Size([10, 232, 64])\n",
      "torch.Size([10, 232, 232]) torch.Size([10, 232, 64])\n",
      "torch.Size([10, 232, 232]) torch.Size([10, 232, 64])\n",
      "torch.Size([10, 232, 232]) torch.Size([10, 232, 64])\n",
      "torch.Size([10, 78, 78]) torch.Size([10, 78, 64])\n",
      "torch.Size([10, 78, 78]) torch.Size([10, 78, 64])\n",
      "torch.Size([10, 78, 78]) torch.Size([10, 78, 64])\n",
      "torch.Size([10, 78, 78]) torch.Size([10, 78, 64])\n",
      "torch.Size([10, 78, 78]) torch.Size([10, 78, 64])\n",
      "torch.Size([10, 78, 78]) torch.Size([10, 78, 64])\n",
      "torch.Size([10, 54, 54]) torch.Size([10, 54, 64])\n",
      "torch.Size([10, 54, 54]) torch.Size([10, 54, 64])\n",
      "torch.Size([10, 54, 54]) torch.Size([10, 54, 64])\n",
      "torch.Size([10, 54, 54]) torch.Size([10, 54, 64])\n",
      "torch.Size([10, 54, 54]) torch.Size([10, 54, 64])\n",
      "torch.Size([10, 54, 54]) torch.Size([10, 54, 64])\n",
      "torch.Size([10, 31, 31]) torch.Size([10, 31, 64])\n",
      "torch.Size([10, 31, 31]) torch.Size([10, 31, 64])\n",
      "torch.Size([10, 31, 31]) torch.Size([10, 31, 64])\n",
      "torch.Size([10, 176, 176]) torch.Size([10, 176, 64])\n",
      "torch.Size([10, 176, 176]) torch.Size([10, 176, 64])\n",
      "torch.Size([10, 176, 176]) torch.Size([10, 176, 64])\n",
      "{'epoch': 2, 'iter': 15, 'loss:': 1.9160999059677124}\n",
      "torch.Size([10, 53, 53]) torch.Size([10, 53, 64])\n",
      "torch.Size([10, 53, 53]) torch.Size([10, 53, 64])\n",
      "torch.Size([10, 53, 53]) torch.Size([10, 53, 64])\n",
      "torch.Size([10, 53, 53]) torch.Size([10, 53, 64])\n",
      "torch.Size([10, 53, 53]) torch.Size([10, 53, 64])\n",
      "torch.Size([10, 53, 53]) torch.Size([10, 53, 64])\n",
      "torch.Size([10, 60, 60]) torch.Size([10, 60, 64])\n",
      "torch.Size([10, 60, 60]) torch.Size([10, 60, 64])\n",
      "torch.Size([10, 60, 60]) torch.Size([10, 60, 64])\n",
      "torch.Size([10, 60, 60]) torch.Size([10, 60, 64])\n",
      "torch.Size([10, 60, 60]) torch.Size([10, 60, 64])\n",
      "torch.Size([10, 60, 60]) torch.Size([10, 60, 64])\n",
      "torch.Size([10, 11, 11]) torch.Size([10, 11, 64])\n",
      "torch.Size([10, 11, 11]) torch.Size([10, 11, 64])\n",
      "torch.Size([10, 11, 11]) torch.Size([10, 11, 64])\n",
      "torch.Size([10, 11, 11]) torch.Size([10, 11, 64])\n",
      "torch.Size([10, 11, 11]) torch.Size([10, 11, 64])\n",
      "torch.Size([10, 11, 11]) torch.Size([10, 11, 64])\n",
      "torch.Size([10, 178, 178]) torch.Size([10, 178, 64])\n",
      "torch.Size([10, 178, 178]) torch.Size([10, 178, 64])\n",
      "torch.Size([10, 178, 178]) torch.Size([10, 178, 64])\n",
      "torch.Size([10, 178, 178]) torch.Size([10, 178, 64])\n",
      "torch.Size([10, 178, 178]) torch.Size([10, 178, 64])\n",
      "torch.Size([10, 178, 178]) torch.Size([10, 178, 64])\n"
     ]
    },
    {
     "name": "stderr",
     "output_type": "stream",
     "text": [
      "EP_train:2: 100%|| 21/21 [00:00<00:00, 112.06it/s]\n"
     ]
    },
    {
     "name": "stdout",
     "output_type": "stream",
     "text": [
      "torch.Size([1, 5, 5]) torch.Size([10, 5, 64])\n",
      "torch.Size([1, 5, 5]) torch.Size([10, 5, 64])\n",
      "torch.Size([1, 5, 5]) torch.Size([10, 5, 64])\n",
      "torch.Size([1, 4, 4]) torch.Size([10, 4, 64])\n",
      "torch.Size([1, 4, 4]) torch.Size([10, 4, 64])\n",
      "torch.Size([1, 4, 4]) torch.Size([10, 4, 64])\n",
      "{'epoch': 2, 'iter': 20, 'loss:': 3.9435272216796875}\n",
      "EP:2 Model Saved on: output/parameter.model.ep2\n"
     ]
    },
    {
     "name": "stderr",
     "output_type": "stream",
     "text": [
      "                                        "
     ]
    },
    {
     "name": "stdout",
     "output_type": "stream",
     "text": [
      "torch.Size([10, 33, 33]) torch.Size([10, 33, 64])\n",
      "torch.Size([10, 33, 33]) torch.Size([10, 33, 64])\n",
      "torch.Size([10, 33, 33]) torch.Size([10, 33, 64])\n",
      "torch.Size([10, 33, 33]) torch.Size([10, 33, 64])\n",
      "torch.Size([10, 33, 33]) torch.Size([10, 33, 64])\n",
      "torch.Size([10, 33, 33]) torch.Size([10, 33, 64])\n"
     ]
    },
    {
     "name": "stderr",
     "output_type": "stream",
     "text": [
      "EP_train:3:  38%|| 8/21 [00:00<00:00, 73.18it/s]"
     ]
    },
    {
     "name": "stdout",
     "output_type": "stream",
     "text": [
      "{'epoch': 3, 'iter': 0, 'loss:': 1.3304935693740845}\n",
      "torch.Size([10, 67, 67]) torch.Size([10, 67, 64])\n",
      "torch.Size([10, 67, 67]) torch.Size([10, 67, 64])\n",
      "torch.Size([10, 67, 67]) torch.Size([10, 67, 64])\n",
      "torch.Size([10, 176, 176]) torch.Size([10, 176, 64])\n",
      "torch.Size([10, 176, 176]) torch.Size([10, 176, 64])\n",
      "torch.Size([10, 176, 176]) torch.Size([10, 176, 64])\n",
      "torch.Size([10, 54, 54]) torch.Size([10, 54, 64])\n",
      "torch.Size([10, 54, 54]) torch.Size([10, 54, 64])\n",
      "torch.Size([10, 54, 54]) torch.Size([10, 54, 64])\n",
      "torch.Size([10, 54, 54]) torch.Size([10, 54, 64])\n",
      "torch.Size([10, 54, 54]) torch.Size([10, 54, 64])\n",
      "torch.Size([10, 54, 54]) torch.Size([10, 54, 64])\n",
      "torch.Size([10, 32, 32]) torch.Size([10, 32, 64])\n",
      "torch.Size([10, 32, 32]) torch.Size([10, 32, 64])\n",
      "torch.Size([10, 32, 32]) torch.Size([10, 32, 64])\n",
      "torch.Size([10, 69, 69]) torch.Size([10, 69, 64])\n",
      "torch.Size([10, 69, 69]) torch.Size([10, 69, 64])\n",
      "torch.Size([10, 69, 69]) torch.Size([10, 69, 64])\n",
      "torch.Size([10, 196, 196]) torch.Size([10, 196, 64])\n",
      "torch.Size([10, 196, 196]) torch.Size([10, 196, 64])\n",
      "torch.Size([10, 196, 196]) torch.Size([10, 196, 64])\n",
      "torch.Size([10, 196, 196]) torch.Size([10, 196, 64])\n",
      "torch.Size([10, 196, 196]) torch.Size([10, 196, 64])\n",
      "torch.Size([10, 196, 196]) torch.Size([10, 196, 64])\n",
      "torch.Size([10, 20, 20]) torch.Size([10, 20, 64])\n",
      "torch.Size([10, 20, 20]) torch.Size([10, 20, 64])\n",
      "torch.Size([10, 20, 20]) torch.Size([10, 20, 64])\n",
      "torch.Size([10, 20, 20]) torch.Size([10, 20, 64])\n",
      "torch.Size([10, 20, 20]) torch.Size([10, 20, 64])\n",
      "torch.Size([10, 20, 20]) torch.Size([10, 20, 64])\n",
      "{'epoch': 3, 'iter': 5, 'loss:': 0.988412082195282}\n",
      "torch.Size([10, 479, 479]) torch.Size([10, 479, 64])\n",
      "torch.Size([10, 479, 479]) torch.Size([10, 479, 64])\n",
      "torch.Size([10, 479, 479]) torch.Size([10, 479, 64])\n",
      "torch.Size([10, 479, 479]) torch.Size([10, 479, 64])\n",
      "torch.Size([10, 479, 479]) torch.Size([10, 479, 64])\n",
      "torch.Size([10, 479, 479]) torch.Size([10, 479, 64])\n",
      "torch.Size([10, 162, 162]) torch.Size([10, 162, 64])\n",
      "torch.Size([10, 162, 162]) torch.Size([10, 162, 64])\n",
      "torch.Size([10, 162, 162]) torch.Size([10, 162, 64])\n",
      "torch.Size([10, 162, 162]) torch.Size([10, 162, 64])\n",
      "torch.Size([10, 162, 162]) torch.Size([10, 162, 64])\n",
      "torch.Size([10, 162, 162]) torch.Size([10, 162, 64])\n",
      "torch.Size([10, 113, 113]) torch.Size([10, 113, 64])\n",
      "torch.Size([10, 113, 113]) torch.Size([10, 113, 64])\n",
      "torch.Size([10, 113, 113]) torch.Size([10, 113, 64])\n",
      "torch.Size([10, 113, 113]) torch.Size([10, 113, 64])\n",
      "torch.Size([10, 113, 113]) torch.Size([10, 113, 64])\n",
      "torch.Size([10, 113, 113]) torch.Size([10, 113, 64])\n",
      "torch.Size([10, 43, 43]) torch.Size([10, 43, 64])\n",
      "torch.Size([10, 43, 43]) torch.Size([10, 43, 64])\n",
      "torch.Size([10, 43, 43]) torch.Size([10, 43, 64])\n",
      "torch.Size([10, 43, 43]) torch.Size([10, 43, 64])\n",
      "torch.Size([10, 43, 43]) torch.Size([10, 43, 64])\n",
      "torch.Size([10, 43, 43]) torch.Size([10, 43, 64])\n",
      "torch.Size([10, 67, 67]) torch.Size([10, 67, 64])\n",
      "torch.Size([10, 67, 67]) torch.Size([10, 67, 64])\n",
      "torch.Size([10, 67, 67]) torch.Size([10, 67, 64])\n",
      "torch.Size([10, 67, 67]) torch.Size([10, 67, 64])\n",
      "torch.Size([10, 67, 67]) torch.Size([10, 67, 64])\n",
      "torch.Size([10, 67, 67]) torch.Size([10, 67, 64])\n",
      "{'epoch': 3, 'iter': 10, 'loss:': 1.302850604057312}\n",
      "torch.Size([10, 15, 15]) torch.Size([10, 15, 64])\n",
      "torch.Size([10, 15, 15]) torch.Size([10, 15, 64])\n",
      "torch.Size([10, 15, 15]) torch.Size([10, 15, 64])\n",
      "torch.Size([10, 176, 176]) torch.Size([10, 176, 64])\n",
      "torch.Size([10, 176, 176]) torch.Size([10, 176, 64])\n",
      "torch.Size([10, 176, 176]) torch.Size([10, 176, 64])\n",
      "torch.Size([10, 232, 232]) torch.Size([10, 232, 64])\n",
      "torch.Size([10, 232, 232]) torch.Size([10, 232, 64])\n",
      "torch.Size([10, 232, 232]) torch.Size([10, 232, 64])\n",
      "torch.Size([10, 232, 232]) torch.Size([10, 232, 64])\n",
      "torch.Size([10, 232, 232]) torch.Size([10, 232, 64])\n",
      "torch.Size([10, 232, 232]) torch.Size([10, 232, 64])\n",
      "torch.Size([10, 78, 78]) torch.Size([10, 78, 64])\n",
      "torch.Size([10, 78, 78]) torch.Size([10, 78, 64])\n",
      "torch.Size([10, 78, 78]) torch.Size([10, 78, 64])\n",
      "torch.Size([10, 78, 78]) torch.Size([10, 78, 64])\n",
      "torch.Size([10, 78, 78]) torch.Size([10, 78, 64])\n",
      "torch.Size([10, 78, 78]) torch.Size([10, 78, 64])\n",
      "torch.Size([10, 54, 54]) torch.Size([10, 54, 64])\n",
      "torch.Size([10, 54, 54]) torch.Size([10, 54, 64])\n",
      "torch.Size([10, 54, 54]) torch.Size([10, 54, 64])\n",
      "torch.Size([10, 54, 54]) torch.Size([10, 54, 64])\n",
      "torch.Size([10, 54, 54]) torch.Size([10, 54, 64])\n",
      "torch.Size([10, 54, 54]) torch.Size([10, 54, 64])\n",
      "torch.Size([10, 31, 31]) torch.Size([10, 31, 64])\n",
      "torch.Size([10, 31, 31]) torch.Size([10, 31, 64])\n",
      "torch.Size([10, 31, 31]) torch.Size([10, 31, 64])\n",
      "torch.Size([10, 176, 176]) torch.Size([10, 176, 64])\n",
      "torch.Size([10, 176, 176]) torch.Size([10, 176, 64])\n",
      "torch.Size([10, 176, 176]) torch.Size([10, 176, 64])\n"
     ]
    },
    {
     "name": "stderr",
     "output_type": "stream",
     "text": [
      "EP_train:3:  38%|| 8/21 [00:00<00:00, 73.18it/s]"
     ]
    },
    {
     "name": "stdout",
     "output_type": "stream",
     "text": [
      "{'epoch': 3, 'iter': 15, 'loss:': 1.8938337564468384}\n",
      "torch.Size([10, 53, 53]) torch.Size([10, 53, 64])\n",
      "torch.Size([10, 53, 53]) torch.Size([10, 53, 64])\n",
      "torch.Size([10, 53, 53]) torch.Size([10, 53, 64])\n",
      "torch.Size([10, 53, 53]) torch.Size([10, 53, 64])\n",
      "torch.Size([10, 53, 53]) torch.Size([10, 53, 64])\n",
      "torch.Size([10, 53, 53]) torch.Size([10, 53, 64])\n"
     ]
    },
    {
     "name": "stderr",
     "output_type": "stream",
     "text": [
      "EP_train:3: 100%|| 21/21 [00:00<00:00, 83.81it/s]\n"
     ]
    },
    {
     "name": "stdout",
     "output_type": "stream",
     "text": [
      "torch.Size([10, 60, 60]) torch.Size([10, 60, 64])\n",
      "torch.Size([10, 60, 60]) torch.Size([10, 60, 64])\n",
      "torch.Size([10, 60, 60]) torch.Size([10, 60, 64])\n",
      "torch.Size([10, 60, 60]) torch.Size([10, 60, 64])\n",
      "torch.Size([10, 60, 60]) torch.Size([10, 60, 64])\n",
      "torch.Size([10, 60, 60]) torch.Size([10, 60, 64])\n",
      "torch.Size([10, 11, 11]) torch.Size([10, 11, 64])\n",
      "torch.Size([10, 11, 11]) torch.Size([10, 11, 64])\n",
      "torch.Size([10, 11, 11]) torch.Size([10, 11, 64])\n",
      "torch.Size([10, 11, 11]) torch.Size([10, 11, 64])\n",
      "torch.Size([10, 11, 11]) torch.Size([10, 11, 64])\n",
      "torch.Size([10, 11, 11]) torch.Size([10, 11, 64])\n",
      "torch.Size([10, 178, 178]) torch.Size([10, 178, 64])\n",
      "torch.Size([10, 178, 178]) torch.Size([10, 178, 64])\n",
      "torch.Size([10, 178, 178]) torch.Size([10, 178, 64])\n",
      "torch.Size([10, 178, 178]) torch.Size([10, 178, 64])\n",
      "torch.Size([10, 178, 178]) torch.Size([10, 178, 64])\n",
      "torch.Size([10, 178, 178]) torch.Size([10, 178, 64])\n",
      "torch.Size([1, 5, 5]) torch.Size([10, 5, 64])\n",
      "torch.Size([1, 5, 5]) torch.Size([10, 5, 64])\n",
      "torch.Size([1, 5, 5]) torch.Size([10, 5, 64])\n",
      "torch.Size([1, 4, 4]) torch.Size([10, 4, 64])\n",
      "torch.Size([1, 4, 4]) torch.Size([10, 4, 64])\n",
      "torch.Size([1, 4, 4]) torch.Size([10, 4, 64])\n",
      "{'epoch': 3, 'iter': 20, 'loss:': 3.944532871246338}\n",
      "EP:3 Model Saved on: output/parameter.model.ep3\n"
     ]
    },
    {
     "name": "stderr",
     "output_type": "stream",
     "text": [
      "EP_train:4:  33%|| 7/21 [00:00<00:00, 69.74it/s]"
     ]
    },
    {
     "name": "stdout",
     "output_type": "stream",
     "text": [
      "torch.Size([10, 33, 33]) torch.Size([10, 33, 64])\n",
      "torch.Size([10, 33, 33]) torch.Size([10, 33, 64])\n",
      "torch.Size([10, 33, 33]) torch.Size([10, 33, 64])\n",
      "torch.Size([10, 33, 33]) torch.Size([10, 33, 64])\n",
      "torch.Size([10, 33, 33]) torch.Size([10, 33, 64])\n",
      "torch.Size([10, 33, 33]) torch.Size([10, 33, 64])\n",
      "{'epoch': 4, 'iter': 0, 'loss:': 1.2189083099365234}\n",
      "torch.Size([10, 67, 67]) torch.Size([10, 67, 64])\n",
      "torch.Size([10, 67, 67]) torch.Size([10, 67, 64])\n",
      "torch.Size([10, 67, 67]) torch.Size([10, 67, 64])\n",
      "torch.Size([10, 176, 176]) torch.Size([10, 176, 64])\n",
      "torch.Size([10, 176, 176]) torch.Size([10, 176, 64])\n",
      "torch.Size([10, 176, 176]) torch.Size([10, 176, 64])\n",
      "torch.Size([10, 54, 54]) torch.Size([10, 54, 64])\n",
      "torch.Size([10, 54, 54]) torch.Size([10, 54, 64])\n",
      "torch.Size([10, 54, 54]) torch.Size([10, 54, 64])\n",
      "torch.Size([10, 54, 54]) torch.Size([10, 54, 64])\n",
      "torch.Size([10, 54, 54]) torch.Size([10, 54, 64])\n",
      "torch.Size([10, 54, 54]) torch.Size([10, 54, 64])\n",
      "torch.Size([10, 32, 32]) torch.Size([10, 32, 64])\n",
      "torch.Size([10, 32, 32]) torch.Size([10, 32, 64])\n",
      "torch.Size([10, 32, 32]) torch.Size([10, 32, 64])\n",
      "torch.Size([10, 69, 69]) torch.Size([10, 69, 64])\n",
      "torch.Size([10, 69, 69]) torch.Size([10, 69, 64])\n",
      "torch.Size([10, 69, 69]) torch.Size([10, 69, 64])\n",
      "torch.Size([10, 196, 196]) torch.Size([10, 196, 64])\n",
      "torch.Size([10, 196, 196]) torch.Size([10, 196, 64])\n",
      "torch.Size([10, 196, 196]) torch.Size([10, 196, 64])\n",
      "torch.Size([10, 196, 196]) torch.Size([10, 196, 64])\n",
      "torch.Size([10, 196, 196]) torch.Size([10, 196, 64])\n",
      "torch.Size([10, 196, 196]) torch.Size([10, 196, 64])\n",
      "torch.Size([10, 20, 20]) torch.Size([10, 20, 64])\n",
      "torch.Size([10, 20, 20]) torch.Size([10, 20, 64])\n",
      "torch.Size([10, 20, 20]) torch.Size([10, 20, 64])\n",
      "torch.Size([10, 20, 20]) torch.Size([10, 20, 64])\n",
      "torch.Size([10, 20, 20]) torch.Size([10, 20, 64])\n",
      "torch.Size([10, 20, 20]) torch.Size([10, 20, 64])\n",
      "{'epoch': 4, 'iter': 5, 'loss:': 0.9653563499450684}\n",
      "torch.Size([10, 479, 479]) torch.Size([10, 479, 64])\n",
      "torch.Size([10, 479, 479]) torch.Size([10, 479, 64])\n",
      "torch.Size([10, 479, 479]) torch.Size([10, 479, 64])\n",
      "torch.Size([10, 479, 479]) torch.Size([10, 479, 64])\n",
      "torch.Size([10, 479, 479]) torch.Size([10, 479, 64])\n",
      "torch.Size([10, 479, 479]) torch.Size([10, 479, 64])\n",
      "torch.Size([10, 162, 162]) torch.Size([10, 162, 64])\n",
      "torch.Size([10, 162, 162]) torch.Size([10, 162, 64])\n",
      "torch.Size([10, 162, 162]) torch.Size([10, 162, 64])\n",
      "torch.Size([10, 162, 162]) torch.Size([10, 162, 64])\n",
      "torch.Size([10, 162, 162]) torch.Size([10, 162, 64])\n",
      "torch.Size([10, 162, 162]) torch.Size([10, 162, 64])\n",
      "torch.Size([10, 113, 113]) torch.Size([10, 113, 64])\n",
      "torch.Size([10, 113, 113]) torch.Size([10, 113, 64])\n",
      "torch.Size([10, 113, 113]) torch.Size([10, 113, 64])\n",
      "torch.Size([10, 113, 113]) torch.Size([10, 113, 64])\n",
      "torch.Size([10, 113, 113]) torch.Size([10, 113, 64])\n",
      "torch.Size([10, 113, 113]) torch.Size([10, 113, 64])\n",
      "torch.Size([10, 43, 43]) torch.Size([10, 43, 64])\n",
      "torch.Size([10, 43, 43]) torch.Size([10, 43, 64])\n",
      "torch.Size([10, 43, 43]) torch.Size([10, 43, 64])\n",
      "torch.Size([10, 43, 43]) torch.Size([10, 43, 64])\n",
      "torch.Size([10, 43, 43]) torch.Size([10, 43, 64])\n",
      "torch.Size([10, 43, 43]) torch.Size([10, 43, 64])\n",
      "torch.Size([10, 67, 67]) torch.Size([10, 67, 64])\n",
      "torch.Size([10, 67, 67]) torch.Size([10, 67, 64])\n",
      "torch.Size([10, 67, 67]) torch.Size([10, 67, 64])\n",
      "torch.Size([10, 67, 67]) torch.Size([10, 67, 64])\n",
      "torch.Size([10, 67, 67]) torch.Size([10, 67, 64])\n",
      "torch.Size([10, 67, 67]) torch.Size([10, 67, 64])\n"
     ]
    },
    {
     "name": "stderr",
     "output_type": "stream",
     "text": [
      "EP_train:4:  33%|| 7/21 [00:00<00:00, 69.74it/s]"
     ]
    },
    {
     "name": "stdout",
     "output_type": "stream",
     "text": [
      "{'epoch': 4, 'iter': 10, 'loss:': 1.219085454940796}\n",
      "torch.Size([10, 15, 15]) torch.Size([10, 15, 64])\n",
      "torch.Size([10, 15, 15]) torch.Size([10, 15, 64])\n",
      "torch.Size([10, 15, 15]) torch.Size([10, 15, 64])\n",
      "torch.Size([10, 176, 176]) torch.Size([10, 176, 64])\n",
      "torch.Size([10, 176, 176]) torch.Size([10, 176, 64])\n",
      "torch.Size([10, 176, 176]) torch.Size([10, 176, 64])\n"
     ]
    },
    {
     "name": "stderr",
     "output_type": "stream",
     "text": [
      "EP_train:4:  90%|| 19/21 [00:00<00:00, 97.99it/s]"
     ]
    },
    {
     "name": "stdout",
     "output_type": "stream",
     "text": [
      "torch.Size([10, 232, 232]) torch.Size([10, 232, 64])\n",
      "torch.Size([10, 232, 232]) torch.Size([10, 232, 64])\n",
      "torch.Size([10, 232, 232]) torch.Size([10, 232, 64])\n",
      "torch.Size([10, 232, 232]) torch.Size([10, 232, 64])\n",
      "torch.Size([10, 232, 232]) torch.Size([10, 232, 64])\n",
      "torch.Size([10, 232, 232]) torch.Size([10, 232, 64])\n",
      "torch.Size([10, 78, 78]) torch.Size([10, 78, 64])\n",
      "torch.Size([10, 78, 78]) torch.Size([10, 78, 64])\n",
      "torch.Size([10, 78, 78]) torch.Size([10, 78, 64])\n",
      "torch.Size([10, 78, 78]) torch.Size([10, 78, 64])\n",
      "torch.Size([10, 78, 78]) torch.Size([10, 78, 64])\n",
      "torch.Size([10, 78, 78]) torch.Size([10, 78, 64])\n",
      "torch.Size([10, 54, 54]) torch.Size([10, 54, 64])\n",
      "torch.Size([10, 54, 54]) torch.Size([10, 54, 64])\n",
      "torch.Size([10, 54, 54]) torch.Size([10, 54, 64])\n",
      "torch.Size([10, 54, 54]) torch.Size([10, 54, 64])\n",
      "torch.Size([10, 54, 54]) torch.Size([10, 54, 64])\n",
      "torch.Size([10, 54, 54]) torch.Size([10, 54, 64])\n",
      "torch.Size([10, 31, 31]) torch.Size([10, 31, 64])\n",
      "torch.Size([10, 31, 31]) torch.Size([10, 31, 64])\n",
      "torch.Size([10, 31, 31]) torch.Size([10, 31, 64])\n",
      "torch.Size([10, 176, 176]) torch.Size([10, 176, 64])\n",
      "torch.Size([10, 176, 176]) torch.Size([10, 176, 64])\n",
      "torch.Size([10, 176, 176]) torch.Size([10, 176, 64])\n",
      "{'epoch': 4, 'iter': 15, 'loss:': 1.872667908668518}\n",
      "torch.Size([10, 53, 53]) torch.Size([10, 53, 64])\n",
      "torch.Size([10, 53, 53]) torch.Size([10, 53, 64])\n",
      "torch.Size([10, 53, 53]) torch.Size([10, 53, 64])\n",
      "torch.Size([10, 53, 53]) torch.Size([10, 53, 64])\n",
      "torch.Size([10, 53, 53]) torch.Size([10, 53, 64])\n",
      "torch.Size([10, 53, 53]) torch.Size([10, 53, 64])\n",
      "torch.Size([10, 60, 60]) torch.Size([10, 60, 64])\n",
      "torch.Size([10, 60, 60]) torch.Size([10, 60, 64])\n",
      "torch.Size([10, 60, 60]) torch.Size([10, 60, 64])\n",
      "torch.Size([10, 60, 60]) torch.Size([10, 60, 64])\n",
      "torch.Size([10, 60, 60]) torch.Size([10, 60, 64])\n",
      "torch.Size([10, 60, 60]) torch.Size([10, 60, 64])\n",
      "torch.Size([10, 11, 11]) torch.Size([10, 11, 64])\n",
      "torch.Size([10, 11, 11]) torch.Size([10, 11, 64])\n",
      "torch.Size([10, 11, 11]) torch.Size([10, 11, 64])\n",
      "torch.Size([10, 11, 11]) torch.Size([10, 11, 64])\n",
      "torch.Size([10, 11, 11]) torch.Size([10, 11, 64])\n",
      "torch.Size([10, 11, 11]) torch.Size([10, 11, 64])\n"
     ]
    },
    {
     "name": "stderr",
     "output_type": "stream",
     "text": [
      "EP_train:4: 100%|| 21/21 [00:00<00:00, 97.89it/s]\n"
     ]
    },
    {
     "name": "stdout",
     "output_type": "stream",
     "text": [
      "torch.Size([10, 178, 178]) torch.Size([10, 178, 64])\n",
      "torch.Size([10, 178, 178]) torch.Size([10, 178, 64])\n",
      "torch.Size([10, 178, 178]) torch.Size([10, 178, 64])\n",
      "torch.Size([10, 178, 178]) torch.Size([10, 178, 64])\n",
      "torch.Size([10, 178, 178]) torch.Size([10, 178, 64])\n",
      "torch.Size([10, 178, 178]) torch.Size([10, 178, 64])\n",
      "torch.Size([1, 5, 5]) torch.Size([10, 5, 64])\n",
      "torch.Size([1, 5, 5]) torch.Size([10, 5, 64])\n",
      "torch.Size([1, 5, 5]) torch.Size([10, 5, 64])\n",
      "torch.Size([1, 4, 4]) torch.Size([10, 4, 64])\n",
      "torch.Size([1, 4, 4]) torch.Size([10, 4, 64])\n",
      "torch.Size([1, 4, 4]) torch.Size([10, 4, 64])\n",
      "{'epoch': 4, 'iter': 20, 'loss:': 3.945542812347412}\n",
      "EP:4 Model Saved on: output/parameter.model.ep4\n"
     ]
    },
    {
     "name": "stderr",
     "output_type": "stream",
     "text": [
      "EP_train:5:  43%|| 9/21 [00:00<00:00, 89.32it/s]"
     ]
    },
    {
     "name": "stdout",
     "output_type": "stream",
     "text": [
      "torch.Size([10, 33, 33]) torch.Size([10, 33, 64])\n",
      "torch.Size([10, 33, 33]) torch.Size([10, 33, 64])\n",
      "torch.Size([10, 33, 33]) torch.Size([10, 33, 64])\n",
      "torch.Size([10, 33, 33]) torch.Size([10, 33, 64])\n",
      "torch.Size([10, 33, 33]) torch.Size([10, 33, 64])\n",
      "torch.Size([10, 33, 33]) torch.Size([10, 33, 64])\n",
      "{'epoch': 5, 'iter': 0, 'loss:': 1.1048592329025269}\n",
      "torch.Size([10, 67, 67]) torch.Size([10, 67, 64])\n",
      "torch.Size([10, 67, 67]) torch.Size([10, 67, 64])\n",
      "torch.Size([10, 67, 67]) torch.Size([10, 67, 64])\n",
      "torch.Size([10, 176, 176]) torch.Size([10, 176, 64])\n",
      "torch.Size([10, 176, 176]) torch.Size([10, 176, 64])\n",
      "torch.Size([10, 176, 176]) torch.Size([10, 176, 64])\n",
      "torch.Size([10, 54, 54]) torch.Size([10, 54, 64])\n",
      "torch.Size([10, 54, 54]) torch.Size([10, 54, 64])\n",
      "torch.Size([10, 54, 54]) torch.Size([10, 54, 64])\n",
      "torch.Size([10, 54, 54]) torch.Size([10, 54, 64])\n",
      "torch.Size([10, 54, 54]) torch.Size([10, 54, 64])\n",
      "torch.Size([10, 54, 54]) torch.Size([10, 54, 64])\n",
      "torch.Size([10, 32, 32]) torch.Size([10, 32, 64])\n",
      "torch.Size([10, 32, 32]) torch.Size([10, 32, 64])\n",
      "torch.Size([10, 32, 32]) torch.Size([10, 32, 64])\n",
      "torch.Size([10, 69, 69]) torch.Size([10, 69, 64])\n",
      "torch.Size([10, 69, 69]) torch.Size([10, 69, 64])\n",
      "torch.Size([10, 69, 69]) torch.Size([10, 69, 64])\n",
      "torch.Size([10, 196, 196]) torch.Size([10, 196, 64])\n",
      "torch.Size([10, 196, 196]) torch.Size([10, 196, 64])\n",
      "torch.Size([10, 196, 196]) torch.Size([10, 196, 64])\n",
      "torch.Size([10, 196, 196]) torch.Size([10, 196, 64])\n",
      "torch.Size([10, 196, 196]) torch.Size([10, 196, 64])\n",
      "torch.Size([10, 196, 196]) torch.Size([10, 196, 64])\n",
      "torch.Size([10, 20, 20]) torch.Size([10, 20, 64])\n",
      "torch.Size([10, 20, 20]) torch.Size([10, 20, 64])\n",
      "torch.Size([10, 20, 20]) torch.Size([10, 20, 64])\n",
      "torch.Size([10, 20, 20]) torch.Size([10, 20, 64])\n",
      "torch.Size([10, 20, 20]) torch.Size([10, 20, 64])\n",
      "torch.Size([10, 20, 20]) torch.Size([10, 20, 64])\n",
      "{'epoch': 5, 'iter': 5, 'loss:': 0.9469419717788696}\n",
      "torch.Size([10, 479, 479]) torch.Size([10, 479, 64])\n",
      "torch.Size([10, 479, 479]) torch.Size([10, 479, 64])\n",
      "torch.Size([10, 479, 479]) torch.Size([10, 479, 64])\n",
      "torch.Size([10, 479, 479]) torch.Size([10, 479, 64])\n",
      "torch.Size([10, 479, 479]) torch.Size([10, 479, 64])\n",
      "torch.Size([10, 479, 479]) torch.Size([10, 479, 64])\n",
      "torch.Size([10, 162, 162]) torch.Size([10, 162, 64])\n",
      "torch.Size([10, 162, 162]) torch.Size([10, 162, 64])\n",
      "torch.Size([10, 162, 162]) torch.Size([10, 162, 64])\n",
      "torch.Size([10, 162, 162]) torch.Size([10, 162, 64])\n",
      "torch.Size([10, 162, 162]) torch.Size([10, 162, 64])\n",
      "torch.Size([10, 162, 162]) torch.Size([10, 162, 64])\n",
      "torch.Size([10, 113, 113]) torch.Size([10, 113, 64])\n",
      "torch.Size([10, 113, 113]) torch.Size([10, 113, 64])\n",
      "torch.Size([10, 113, 113]) torch.Size([10, 113, 64])\n",
      "torch.Size([10, 113, 113]) torch.Size([10, 113, 64])\n",
      "torch.Size([10, 113, 113]) torch.Size([10, 113, 64])\n",
      "torch.Size([10, 113, 113]) torch.Size([10, 113, 64])\n",
      "torch.Size([10, 43, 43]) torch.Size([10, 43, 64])\n",
      "torch.Size([10, 43, 43]) torch.Size([10, 43, 64])\n",
      "torch.Size([10, 43, 43]) torch.Size([10, 43, 64])\n",
      "torch.Size([10, 43, 43]) torch.Size([10, 43, 64])\n",
      "torch.Size([10, 43, 43]) torch.Size([10, 43, 64])\n",
      "torch.Size([10, 43, 43]) torch.Size([10, 43, 64])\n",
      "torch.Size([10, 67, 67]) torch.Size([10, 67, 64])\n",
      "torch.Size([10, 67, 67]) torch.Size([10, 67, 64])\n",
      "torch.Size([10, 67, 67]) torch.Size([10, 67, 64])\n",
      "torch.Size([10, 67, 67]) torch.Size([10, 67, 64])\n",
      "torch.Size([10, 67, 67]) torch.Size([10, 67, 64])\n",
      "torch.Size([10, 67, 67]) torch.Size([10, 67, 64])\n",
      "{'epoch': 5, 'iter': 10, 'loss:': 1.1114251613616943}\n",
      "torch.Size([10, 15, 15]) torch.Size([10, 15, 64])\n",
      "torch.Size([10, 15, 15]) torch.Size([10, 15, 64])\n",
      "torch.Size([10, 15, 15]) torch.Size([10, 15, 64])\n",
      "torch.Size([10, 176, 176]) torch.Size([10, 176, 64])\n",
      "torch.Size([10, 176, 176]) torch.Size([10, 176, 64])\n",
      "torch.Size([10, 176, 176]) torch.Size([10, 176, 64])\n",
      "torch.Size([10, 232, 232]) torch.Size([10, 232, 64])\n",
      "torch.Size([10, 232, 232]) torch.Size([10, 232, 64])\n",
      "torch.Size([10, 232, 232]) torch.Size([10, 232, 64])\n",
      "torch.Size([10, 232, 232]) torch.Size([10, 232, 64])\n",
      "torch.Size([10, 232, 232]) torch.Size([10, 232, 64])\n",
      "torch.Size([10, 232, 232]) torch.Size([10, 232, 64])\n",
      "torch.Size([10, 78, 78]) torch.Size([10, 78, 64])\n",
      "torch.Size([10, 78, 78]) torch.Size([10, 78, 64])\n",
      "torch.Size([10, 78, 78]) torch.Size([10, 78, 64])\n",
      "torch.Size([10, 78, 78]) torch.Size([10, 78, 64])\n",
      "torch.Size([10, 78, 78]) torch.Size([10, 78, 64])\n",
      "torch.Size([10, 78, 78]) torch.Size([10, 78, 64])\n"
     ]
    },
    {
     "name": "stderr",
     "output_type": "stream",
     "text": [
      "EP_train:5:  43%|| 9/21 [00:00<00:00, 89.32it/s]"
     ]
    },
    {
     "name": "stdout",
     "output_type": "stream",
     "text": [
      "torch.Size([10, 54, 54]) torch.Size([10, 54, 64])\n",
      "torch.Size([10, 54, 54]) torch.Size([10, 54, 64])\n",
      "torch.Size([10, 54, 54]) torch.Size([10, 54, 64])\n",
      "torch.Size([10, 54, 54]) torch.Size([10, 54, 64])\n",
      "torch.Size([10, 54, 54]) torch.Size([10, 54, 64])\n",
      "torch.Size([10, 54, 54]) torch.Size([10, 54, 64])\n",
      "torch.Size([10, 31, 31]) torch.Size([10, 31, 64])\n",
      "torch.Size([10, 31, 31]) torch.Size([10, 31, 64])\n",
      "torch.Size([10, 31, 31]) torch.Size([10, 31, 64])\n",
      "torch.Size([10, 176, 176]) torch.Size([10, 176, 64])\n",
      "torch.Size([10, 176, 176]) torch.Size([10, 176, 64])\n",
      "torch.Size([10, 176, 176]) torch.Size([10, 176, 64])\n",
      "{'epoch': 5, 'iter': 15, 'loss:': 1.8457908630371094}\n",
      "torch.Size([10, 53, 53]) torch.Size([10, 53, 64])\n",
      "torch.Size([10, 53, 53]) torch.Size([10, 53, 64])\n",
      "torch.Size([10, 53, 53]) torch.Size([10, 53, 64])\n",
      "torch.Size([10, 53, 53]) torch.Size([10, 53, 64])\n",
      "torch.Size([10, 53, 53]) torch.Size([10, 53, 64])\n",
      "torch.Size([10, 53, 53]) torch.Size([10, 53, 64])\n",
      "torch.Size([10, 60, 60]) torch.Size([10, 60, 64])\n",
      "torch.Size([10, 60, 60]) torch.Size([10, 60, 64])\n",
      "torch.Size([10, 60, 60]) torch.Size([10, 60, 64])\n",
      "torch.Size([10, 60, 60]) torch.Size([10, 60, 64])\n",
      "torch.Size([10, 60, 60]) torch.Size([10, 60, 64])\n",
      "torch.Size([10, 60, 60]) torch.Size([10, 60, 64])\n",
      "torch.Size([10, 11, 11]) torch.Size([10, 11, 64])\n",
      "torch.Size([10, 11, 11]) torch.Size([10, 11, 64])\n",
      "torch.Size([10, 11, 11]) torch.Size([10, 11, 64])\n",
      "torch.Size([10, 11, 11]) torch.Size([10, 11, 64])\n",
      "torch.Size([10, 11, 11]) torch.Size([10, 11, 64])\n",
      "torch.Size([10, 11, 11]) torch.Size([10, 11, 64])\n",
      "torch.Size([10, 178, 178]) torch.Size([10, 178, 64])\n",
      "torch.Size([10, 178, 178]) torch.Size([10, 178, 64])\n"
     ]
    },
    {
     "name": "stderr",
     "output_type": "stream",
     "text": [
      "EP_train:5: 100%|| 21/21 [00:00<00:00, 105.17it/s]\n"
     ]
    },
    {
     "name": "stdout",
     "output_type": "stream",
     "text": [
      "torch.Size([10, 178, 178]) torch.Size([10, 178, 64])\n",
      "torch.Size([10, 178, 178]) torch.Size([10, 178, 64])\n",
      "torch.Size([10, 178, 178]) torch.Size([10, 178, 64])\n",
      "torch.Size([10, 178, 178]) torch.Size([10, 178, 64])\n",
      "torch.Size([1, 5, 5]) torch.Size([10, 5, 64])\n",
      "torch.Size([1, 5, 5]) torch.Size([10, 5, 64])\n",
      "torch.Size([1, 5, 5]) torch.Size([10, 5, 64])\n",
      "torch.Size([1, 4, 4]) torch.Size([10, 4, 64])\n",
      "torch.Size([1, 4, 4]) torch.Size([10, 4, 64])\n",
      "torch.Size([1, 4, 4]) torch.Size([10, 4, 64])\n",
      "{'epoch': 5, 'iter': 20, 'loss:': 3.9466919898986816}\n",
      "EP:5 Model Saved on: output/parameter.model.ep5\n"
     ]
    },
    {
     "name": "stderr",
     "output_type": "stream",
     "text": [
      "EP_train:6:  38%|| 8/21 [00:00<00:00, 74.85it/s]"
     ]
    },
    {
     "name": "stdout",
     "output_type": "stream",
     "text": [
      "torch.Size([10, 33, 33]) torch.Size([10, 33, 64])\n",
      "torch.Size([10, 33, 33]) torch.Size([10, 33, 64])\n",
      "torch.Size([10, 33, 33]) torch.Size([10, 33, 64])\n",
      "torch.Size([10, 33, 33]) torch.Size([10, 33, 64])\n",
      "torch.Size([10, 33, 33]) torch.Size([10, 33, 64])\n",
      "torch.Size([10, 33, 33]) torch.Size([10, 33, 64])\n",
      "{'epoch': 6, 'iter': 0, 'loss:': 0.9944270849227905}\n",
      "torch.Size([10, 67, 67]) torch.Size([10, 67, 64])\n",
      "torch.Size([10, 67, 67]) torch.Size([10, 67, 64])\n",
      "torch.Size([10, 67, 67]) torch.Size([10, 67, 64])\n",
      "torch.Size([10, 176, 176]) torch.Size([10, 176, 64])\n",
      "torch.Size([10, 176, 176]) torch.Size([10, 176, 64])\n",
      "torch.Size([10, 176, 176]) torch.Size([10, 176, 64])\n",
      "torch.Size([10, 54, 54]) torch.Size([10, 54, 64])\n",
      "torch.Size([10, 54, 54]) torch.Size([10, 54, 64])\n",
      "torch.Size([10, 54, 54]) torch.Size([10, 54, 64])\n",
      "torch.Size([10, 54, 54]) torch.Size([10, 54, 64])\n",
      "torch.Size([10, 54, 54]) torch.Size([10, 54, 64])\n",
      "torch.Size([10, 54, 54]) torch.Size([10, 54, 64])\n",
      "torch.Size([10, 32, 32]) torch.Size([10, 32, 64])\n",
      "torch.Size([10, 32, 32]) torch.Size([10, 32, 64])\n",
      "torch.Size([10, 32, 32]) torch.Size([10, 32, 64])\n",
      "torch.Size([10, 69, 69]) torch.Size([10, 69, 64])\n",
      "torch.Size([10, 69, 69]) torch.Size([10, 69, 64])\n",
      "torch.Size([10, 69, 69]) torch.Size([10, 69, 64])\n",
      "torch.Size([10, 196, 196]) torch.Size([10, 196, 64])\n",
      "torch.Size([10, 196, 196]) torch.Size([10, 196, 64])\n",
      "torch.Size([10, 196, 196]) torch.Size([10, 196, 64])\n",
      "torch.Size([10, 196, 196]) torch.Size([10, 196, 64])\n",
      "torch.Size([10, 196, 196]) torch.Size([10, 196, 64])\n",
      "torch.Size([10, 196, 196]) torch.Size([10, 196, 64])\n",
      "torch.Size([10, 20, 20]) torch.Size([10, 20, 64])\n",
      "torch.Size([10, 20, 20]) torch.Size([10, 20, 64])\n",
      "torch.Size([10, 20, 20]) torch.Size([10, 20, 64])\n",
      "torch.Size([10, 20, 20]) torch.Size([10, 20, 64])\n",
      "torch.Size([10, 20, 20]) torch.Size([10, 20, 64])\n",
      "torch.Size([10, 20, 20]) torch.Size([10, 20, 64])\n",
      "{'epoch': 6, 'iter': 5, 'loss:': 0.9337233304977417}\n",
      "torch.Size([10, 479, 479]) torch.Size([10, 479, 64])\n",
      "torch.Size([10, 479, 479]) torch.Size([10, 479, 64])\n",
      "torch.Size([10, 479, 479]) torch.Size([10, 479, 64])\n",
      "torch.Size([10, 479, 479]) torch.Size([10, 479, 64])\n",
      "torch.Size([10, 479, 479]) torch.Size([10, 479, 64])\n",
      "torch.Size([10, 479, 479]) torch.Size([10, 479, 64])\n",
      "torch.Size([10, 162, 162]) torch.Size([10, 162, 64])\n",
      "torch.Size([10, 162, 162]) torch.Size([10, 162, 64])\n",
      "torch.Size([10, 162, 162]) torch.Size([10, 162, 64])\n",
      "torch.Size([10, 162, 162]) torch.Size([10, 162, 64])\n",
      "torch.Size([10, 162, 162]) torch.Size([10, 162, 64])\n",
      "torch.Size([10, 162, 162]) torch.Size([10, 162, 64])\n",
      "torch.Size([10, 113, 113]) torch.Size([10, 113, 64])\n",
      "torch.Size([10, 113, 113]) torch.Size([10, 113, 64])\n",
      "torch.Size([10, 113, 113]) torch.Size([10, 113, 64])\n",
      "torch.Size([10, 113, 113]) torch.Size([10, 113, 64])\n",
      "torch.Size([10, 113, 113]) torch.Size([10, 113, 64])\n",
      "torch.Size([10, 113, 113]) torch.Size([10, 113, 64])\n",
      "torch.Size([10, 43, 43]) torch.Size([10, 43, 64])\n",
      "torch.Size([10, 43, 43]) torch.Size([10, 43, 64])\n",
      "torch.Size([10, 43, 43]) torch.Size([10, 43, 64])\n",
      "torch.Size([10, 43, 43]) torch.Size([10, 43, 64])\n",
      "torch.Size([10, 43, 43]) torch.Size([10, 43, 64])\n",
      "torch.Size([10, 43, 43]) torch.Size([10, 43, 64])\n",
      "torch.Size([10, 67, 67]) torch.Size([10, 67, 64])\n",
      "torch.Size([10, 67, 67]) torch.Size([10, 67, 64])\n",
      "torch.Size([10, 67, 67]) torch.Size([10, 67, 64])\n",
      "torch.Size([10, 67, 67]) torch.Size([10, 67, 64])\n",
      "torch.Size([10, 67, 67]) torch.Size([10, 67, 64])\n",
      "torch.Size([10, 67, 67]) torch.Size([10, 67, 64])\n"
     ]
    },
    {
     "name": "stderr",
     "output_type": "stream",
     "text": [
      "EP_train:6:  38%|| 8/21 [00:00<00:00, 74.85it/s]"
     ]
    },
    {
     "name": "stdout",
     "output_type": "stream",
     "text": [
      "{'epoch': 6, 'iter': 10, 'loss:': 0.9808855056762695}\n",
      "torch.Size([10, 15, 15]) torch.Size([10, 15, 64])\n",
      "torch.Size([10, 15, 15]) torch.Size([10, 15, 64])\n",
      "torch.Size([10, 15, 15]) torch.Size([10, 15, 64])\n",
      "torch.Size([10, 176, 176]) torch.Size([10, 176, 64])\n",
      "torch.Size([10, 176, 176]) torch.Size([10, 176, 64])\n",
      "torch.Size([10, 176, 176]) torch.Size([10, 176, 64])\n",
      "torch.Size([10, 232, 232]) torch.Size([10, 232, 64])\n",
      "torch.Size([10, 232, 232]) torch.Size([10, 232, 64])\n",
      "torch.Size([10, 232, 232]) torch.Size([10, 232, 64])\n",
      "torch.Size([10, 232, 232]) torch.Size([10, 232, 64])\n",
      "torch.Size([10, 232, 232]) torch.Size([10, 232, 64])\n",
      "torch.Size([10, 232, 232]) torch.Size([10, 232, 64])\n",
      "torch.Size([10, 78, 78]) torch.Size([10, 78, 64])\n",
      "torch.Size([10, 78, 78]) torch.Size([10, 78, 64])\n",
      "torch.Size([10, 78, 78]) torch.Size([10, 78, 64])\n",
      "torch.Size([10, 78, 78]) torch.Size([10, 78, 64])\n",
      "torch.Size([10, 78, 78]) torch.Size([10, 78, 64])\n",
      "torch.Size([10, 78, 78]) torch.Size([10, 78, 64])\n",
      "torch.Size([10, 54, 54]) torch.Size([10, 54, 64])\n",
      "torch.Size([10, 54, 54]) torch.Size([10, 54, 64])\n",
      "torch.Size([10, 54, 54]) torch.Size([10, 54, 64])\n",
      "torch.Size([10, 54, 54]) torch.Size([10, 54, 64])\n",
      "torch.Size([10, 54, 54]) torch.Size([10, 54, 64])\n",
      "torch.Size([10, 54, 54]) torch.Size([10, 54, 64])\n"
     ]
    },
    {
     "name": "stderr",
     "output_type": "stream",
     "text": [
      "EP_train:6:  38%|| 8/21 [00:00<00:00, 74.85it/s]"
     ]
    },
    {
     "name": "stdout",
     "output_type": "stream",
     "text": [
      "torch.Size([10, 31, 31]) torch.Size([10, 31, 64])\n",
      "torch.Size([10, 31, 31]) torch.Size([10, 31, 64])\n",
      "torch.Size([10, 31, 31]) torch.Size([10, 31, 64])\n",
      "torch.Size([10, 176, 176]) torch.Size([10, 176, 64])\n",
      "torch.Size([10, 176, 176]) torch.Size([10, 176, 64])\n",
      "torch.Size([10, 176, 176]) torch.Size([10, 176, 64])\n",
      "{'epoch': 6, 'iter': 15, 'loss:': 1.8064467906951904}\n",
      "torch.Size([10, 53, 53]) torch.Size([10, 53, 64])\n",
      "torch.Size([10, 53, 53]) torch.Size([10, 53, 64])\n",
      "torch.Size([10, 53, 53]) torch.Size([10, 53, 64])\n",
      "torch.Size([10, 53, 53]) torch.Size([10, 53, 64])\n",
      "torch.Size([10, 53, 53]) torch.Size([10, 53, 64])\n",
      "torch.Size([10, 53, 53]) torch.Size([10, 53, 64])\n"
     ]
    },
    {
     "name": "stderr",
     "output_type": "stream",
     "text": [
      "EP_train:6: 100%|| 21/21 [00:00<00:00, 85.06it/s]\n"
     ]
    },
    {
     "name": "stdout",
     "output_type": "stream",
     "text": [
      "torch.Size([10, 60, 60]) torch.Size([10, 60, 64])\n",
      "torch.Size([10, 60, 60]) torch.Size([10, 60, 64])\n",
      "torch.Size([10, 60, 60]) torch.Size([10, 60, 64])\n",
      "torch.Size([10, 60, 60]) torch.Size([10, 60, 64])\n",
      "torch.Size([10, 60, 60]) torch.Size([10, 60, 64])\n",
      "torch.Size([10, 60, 60]) torch.Size([10, 60, 64])\n",
      "torch.Size([10, 11, 11]) torch.Size([10, 11, 64])\n",
      "torch.Size([10, 11, 11]) torch.Size([10, 11, 64])\n",
      "torch.Size([10, 11, 11]) torch.Size([10, 11, 64])\n",
      "torch.Size([10, 11, 11]) torch.Size([10, 11, 64])\n",
      "torch.Size([10, 11, 11]) torch.Size([10, 11, 64])\n",
      "torch.Size([10, 11, 11]) torch.Size([10, 11, 64])\n",
      "torch.Size([10, 178, 178]) torch.Size([10, 178, 64])\n",
      "torch.Size([10, 178, 178]) torch.Size([10, 178, 64])\n",
      "torch.Size([10, 178, 178]) torch.Size([10, 178, 64])\n",
      "torch.Size([10, 178, 178]) torch.Size([10, 178, 64])\n",
      "torch.Size([10, 178, 178]) torch.Size([10, 178, 64])\n",
      "torch.Size([10, 178, 178]) torch.Size([10, 178, 64])\n",
      "torch.Size([1, 5, 5]) torch.Size([10, 5, 64])\n",
      "torch.Size([1, 5, 5]) torch.Size([10, 5, 64])\n",
      "torch.Size([1, 5, 5]) torch.Size([10, 5, 64])\n",
      "torch.Size([1, 4, 4]) torch.Size([10, 4, 64])\n",
      "torch.Size([1, 4, 4]) torch.Size([10, 4, 64])\n",
      "torch.Size([1, 4, 4]) torch.Size([10, 4, 64])\n",
      "{'epoch': 6, 'iter': 20, 'loss:': 3.949211597442627}\n",
      "EP:6 Model Saved on: output/parameter.model.ep6\n"
     ]
    },
    {
     "name": "stderr",
     "output_type": "stream",
     "text": [
      "EP_train:7:   0%|| 0/21 [00:00<?, ?it/s]"
     ]
    },
    {
     "name": "stdout",
     "output_type": "stream",
     "text": [
      "torch.Size([10, 33, 33]) torch.Size([10, 33, 64])\n",
      "torch.Size([10, 33, 33]) torch.Size([10, 33, 64])\n",
      "torch.Size([10, 33, 33]) torch.Size([10, 33, 64])\n",
      "torch.Size([10, 33, 33]) torch.Size([10, 33, 64])\n",
      "torch.Size([10, 33, 33]) torch.Size([10, 33, 64])\n",
      "torch.Size([10, 33, 33]) torch.Size([10, 33, 64])\n",
      "{'epoch': 7, 'iter': 0, 'loss:': 0.8904047012329102}\n",
      "torch.Size([10, 67, 67]) torch.Size([10, 67, 64])\n",
      "torch.Size([10, 67, 67]) torch.Size([10, 67, 64])\n",
      "torch.Size([10, 67, 67]) torch.Size([10, 67, 64])\n",
      "torch.Size([10, 176, 176]) torch.Size([10, 176, 64])\n",
      "torch.Size([10, 176, 176]) torch.Size([10, 176, 64])\n",
      "torch.Size([10, 176, 176]) torch.Size([10, 176, 64])\n",
      "torch.Size([10, 54, 54]) torch.Size([10, 54, 64])\n",
      "torch.Size([10, 54, 54]) torch.Size([10, 54, 64])\n",
      "torch.Size([10, 54, 54]) torch.Size([10, 54, 64])\n",
      "torch.Size([10, 54, 54]) torch.Size([10, 54, 64])\n",
      "torch.Size([10, 54, 54]) torch.Size([10, 54, 64])\n",
      "torch.Size([10, 54, 54]) torch.Size([10, 54, 64])\n",
      "torch.Size([10, 32, 32]) torch.Size([10, 32, 64])\n",
      "torch.Size([10, 32, 32]) torch.Size([10, 32, 64])\n",
      "torch.Size([10, 32, 32]) torch.Size([10, 32, 64])\n",
      "torch.Size([10, 69, 69]) torch.Size([10, 69, 64])\n",
      "torch.Size([10, 69, 69]) torch.Size([10, 69, 64])\n",
      "torch.Size([10, 69, 69]) torch.Size([10, 69, 64])\n",
      "torch.Size([10, 196, 196]) torch.Size([10, 196, 64])\n",
      "torch.Size([10, 196, 196]) torch.Size([10, 196, 64])\n",
      "torch.Size([10, 196, 196]) torch.Size([10, 196, 64])\n",
      "torch.Size([10, 196, 196]) torch.Size([10, 196, 64])\n",
      "torch.Size([10, 196, 196]) torch.Size([10, 196, 64])\n",
      "torch.Size([10, 196, 196]) torch.Size([10, 196, 64])\n",
      "torch.Size([10, 20, 20]) torch.Size([10, 20, 64])\n",
      "torch.Size([10, 20, 20]) torch.Size([10, 20, 64])\n",
      "torch.Size([10, 20, 20]) torch.Size([10, 20, 64])\n",
      "torch.Size([10, 20, 20]) torch.Size([10, 20, 64])\n",
      "torch.Size([10, 20, 20]) torch.Size([10, 20, 64])\n",
      "torch.Size([10, 20, 20]) torch.Size([10, 20, 64])\n",
      "{'epoch': 7, 'iter': 5, 'loss:': 0.9255459904670715}\n",
      "torch.Size([10, 479, 479]) torch.Size([10, 479, 64])\n",
      "torch.Size([10, 479, 479]) torch.Size([10, 479, 64])\n",
      "torch.Size([10, 479, 479]) torch.Size([10, 479, 64])\n",
      "torch.Size([10, 479, 479]) torch.Size([10, 479, 64])\n",
      "torch.Size([10, 479, 479]) torch.Size([10, 479, 64])\n",
      "torch.Size([10, 479, 479]) torch.Size([10, 479, 64])\n",
      "torch.Size([10, 162, 162]) torch.Size([10, 162, 64])\n",
      "torch.Size([10, 162, 162]) torch.Size([10, 162, 64])\n",
      "torch.Size([10, 162, 162]) torch.Size([10, 162, 64])\n",
      "torch.Size([10, 162, 162]) torch.Size([10, 162, 64])\n",
      "torch.Size([10, 162, 162]) torch.Size([10, 162, 64])\n",
      "torch.Size([10, 162, 162]) torch.Size([10, 162, 64])\n",
      "torch.Size([10, 113, 113]) torch.Size([10, 113, 64])\n",
      "torch.Size([10, 113, 113]) torch.Size([10, 113, 64])\n",
      "torch.Size([10, 113, 113]) torch.Size([10, 113, 64])\n",
      "torch.Size([10, 113, 113]) torch.Size([10, 113, 64])\n",
      "torch.Size([10, 113, 113]) torch.Size([10, 113, 64])\n",
      "torch.Size([10, 113, 113]) torch.Size([10, 113, 64])\n",
      "torch.Size([10, 43, 43]) torch.Size([10, 43, 64])\n",
      "torch.Size([10, 43, 43]) torch.Size([10, 43, 64])\n",
      "torch.Size([10, 43, 43]) torch.Size([10, 43, 64])\n",
      "torch.Size([10, 43, 43]) torch.Size([10, 43, 64])\n",
      "torch.Size([10, 43, 43]) torch.Size([10, 43, 64])\n",
      "torch.Size([10, 43, 43]) torch.Size([10, 43, 64])\n"
     ]
    },
    {
     "name": "stderr",
     "output_type": "stream",
     "text": [
      "EP_train:7:  48%|| 10/21 [00:00<00:00, 92.56it/s]"
     ]
    },
    {
     "name": "stdout",
     "output_type": "stream",
     "text": [
      "torch.Size([10, 67, 67]) torch.Size([10, 67, 64])\n",
      "torch.Size([10, 67, 67]) torch.Size([10, 67, 64])\n",
      "torch.Size([10, 67, 67]) torch.Size([10, 67, 64])\n",
      "torch.Size([10, 67, 67]) torch.Size([10, 67, 64])\n",
      "torch.Size([10, 67, 67]) torch.Size([10, 67, 64])\n",
      "torch.Size([10, 67, 67]) torch.Size([10, 67, 64])\n",
      "{'epoch': 7, 'iter': 10, 'loss:': 0.8344975709915161}\n",
      "torch.Size([10, 15, 15]) torch.Size([10, 15, 64])\n",
      "torch.Size([10, 15, 15]) torch.Size([10, 15, 64])\n",
      "torch.Size([10, 15, 15]) torch.Size([10, 15, 64])\n",
      "torch.Size([10, 176, 176]) torch.Size([10, 176, 64])\n",
      "torch.Size([10, 176, 176]) torch.Size([10, 176, 64])\n",
      "torch.Size([10, 176, 176]) torch.Size([10, 176, 64])\n",
      "torch.Size([10, 232, 232]) torch.Size([10, 232, 64])\n",
      "torch.Size([10, 232, 232]) torch.Size([10, 232, 64])\n",
      "torch.Size([10, 232, 232]) torch.Size([10, 232, 64])\n",
      "torch.Size([10, 232, 232]) torch.Size([10, 232, 64])\n",
      "torch.Size([10, 232, 232]) torch.Size([10, 232, 64])\n",
      "torch.Size([10, 232, 232]) torch.Size([10, 232, 64])\n",
      "torch.Size([10, 78, 78]) torch.Size([10, 78, 64])\n",
      "torch.Size([10, 78, 78]) torch.Size([10, 78, 64])\n",
      "torch.Size([10, 78, 78]) torch.Size([10, 78, 64])\n",
      "torch.Size([10, 78, 78]) torch.Size([10, 78, 64])\n",
      "torch.Size([10, 78, 78]) torch.Size([10, 78, 64])\n",
      "torch.Size([10, 78, 78]) torch.Size([10, 78, 64])\n",
      "torch.Size([10, 54, 54]) torch.Size([10, 54, 64])\n",
      "torch.Size([10, 54, 54]) torch.Size([10, 54, 64])\n",
      "torch.Size([10, 54, 54]) torch.Size([10, 54, 64])\n",
      "torch.Size([10, 54, 54]) torch.Size([10, 54, 64])\n",
      "torch.Size([10, 54, 54]) torch.Size([10, 54, 64])\n",
      "torch.Size([10, 54, 54]) torch.Size([10, 54, 64])\n"
     ]
    },
    {
     "name": "stderr",
     "output_type": "stream",
     "text": [
      "EP_train:7:  48%|| 10/21 [00:00<00:00, 92.56it/s]"
     ]
    },
    {
     "name": "stdout",
     "output_type": "stream",
     "text": [
      "torch.Size([10, 31, 31]) torch.Size([10, 31, 64])\n",
      "torch.Size([10, 31, 31]) torch.Size([10, 31, 64])\n",
      "torch.Size([10, 31, 31]) torch.Size([10, 31, 64])\n",
      "torch.Size([10, 176, 176]) torch.Size([10, 176, 64])\n",
      "torch.Size([10, 176, 176]) torch.Size([10, 176, 64])\n",
      "torch.Size([10, 176, 176]) torch.Size([10, 176, 64])\n",
      "{'epoch': 7, 'iter': 15, 'loss:': 1.7515475749969482}\n",
      "torch.Size([10, 53, 53]) torch.Size([10, 53, 64])\n",
      "torch.Size([10, 53, 53]) torch.Size([10, 53, 64])\n",
      "torch.Size([10, 53, 53]) torch.Size([10, 53, 64])\n",
      "torch.Size([10, 53, 53]) torch.Size([10, 53, 64])\n",
      "torch.Size([10, 53, 53]) torch.Size([10, 53, 64])\n",
      "torch.Size([10, 53, 53]) torch.Size([10, 53, 64])\n",
      "torch.Size([10, 60, 60]) torch.Size([10, 60, 64])\n",
      "torch.Size([10, 60, 60]) torch.Size([10, 60, 64])\n",
      "torch.Size([10, 60, 60]) torch.Size([10, 60, 64])\n",
      "torch.Size([10, 60, 60]) torch.Size([10, 60, 64])\n",
      "torch.Size([10, 60, 60]) torch.Size([10, 60, 64])\n",
      "torch.Size([10, 60, 60]) torch.Size([10, 60, 64])\n",
      "torch.Size([10, 11, 11]) torch.Size([10, 11, 64])\n",
      "torch.Size([10, 11, 11]) torch.Size([10, 11, 64])\n",
      "torch.Size([10, 11, 11]) torch.Size([10, 11, 64])\n",
      "torch.Size([10, 11, 11]) torch.Size([10, 11, 64])\n",
      "torch.Size([10, 11, 11]) torch.Size([10, 11, 64])\n",
      "torch.Size([10, 11, 11]) torch.Size([10, 11, 64])\n"
     ]
    },
    {
     "name": "stderr",
     "output_type": "stream",
     "text": [
      "EP_train:7: 100%|| 21/21 [00:00<00:00, 93.23it/s]\n"
     ]
    },
    {
     "name": "stdout",
     "output_type": "stream",
     "text": [
      "torch.Size([10, 178, 178]) torch.Size([10, 178, 64])\n",
      "torch.Size([10, 178, 178]) torch.Size([10, 178, 64])\n",
      "torch.Size([10, 178, 178]) torch.Size([10, 178, 64])\n",
      "torch.Size([10, 178, 178]) torch.Size([10, 178, 64])\n",
      "torch.Size([10, 178, 178]) torch.Size([10, 178, 64])\n",
      "torch.Size([10, 178, 178]) torch.Size([10, 178, 64])\n",
      "torch.Size([1, 5, 5]) torch.Size([10, 5, 64])\n",
      "torch.Size([1, 5, 5]) torch.Size([10, 5, 64])\n",
      "torch.Size([1, 5, 5]) torch.Size([10, 5, 64])\n",
      "torch.Size([1, 4, 4]) torch.Size([10, 4, 64])\n",
      "torch.Size([1, 4, 4]) torch.Size([10, 4, 64])\n",
      "torch.Size([1, 4, 4]) torch.Size([10, 4, 64])\n",
      "{'epoch': 7, 'iter': 20, 'loss:': 3.950934886932373}\n",
      "EP:7 Model Saved on: output/parameter.model.ep7\n"
     ]
    },
    {
     "name": "stderr",
     "output_type": "stream",
     "text": [
      "EP_train:8:   0%|| 0/21 [00:00<?, ?it/s]"
     ]
    },
    {
     "name": "stdout",
     "output_type": "stream",
     "text": [
      "torch.Size([10, 33, 33]) torch.Size([10, 33, 64])\n",
      "torch.Size([10, 33, 33]) torch.Size([10, 33, 64])\n",
      "torch.Size([10, 33, 33]) torch.Size([10, 33, 64])\n",
      "torch.Size([10, 33, 33]) torch.Size([10, 33, 64])\n",
      "torch.Size([10, 33, 33]) torch.Size([10, 33, 64])\n",
      "torch.Size([10, 33, 33]) torch.Size([10, 33, 64])\n",
      "{'epoch': 8, 'iter': 0, 'loss:': 0.7921562194824219}\n",
      "torch.Size([10, 67, 67]) torch.Size([10, 67, 64])\n",
      "torch.Size([10, 67, 67]) torch.Size([10, 67, 64])\n",
      "torch.Size([10, 67, 67]) torch.Size([10, 67, 64])\n",
      "torch.Size([10, 176, 176]) torch.Size([10, 176, 64])\n",
      "torch.Size([10, 176, 176]) torch.Size([10, 176, 64])\n",
      "torch.Size([10, 176, 176]) torch.Size([10, 176, 64])\n",
      "torch.Size([10, 54, 54]) torch.Size([10, 54, 64])\n",
      "torch.Size([10, 54, 54]) torch.Size([10, 54, 64])\n",
      "torch.Size([10, 54, 54]) torch.Size([10, 54, 64])\n",
      "torch.Size([10, 54, 54]) torch.Size([10, 54, 64])\n",
      "torch.Size([10, 54, 54]) torch.Size([10, 54, 64])\n",
      "torch.Size([10, 54, 54]) torch.Size([10, 54, 64])\n",
      "torch.Size([10, 32, 32]) torch.Size([10, 32, 64])\n",
      "torch.Size([10, 32, 32]) torch.Size([10, 32, 64])\n",
      "torch.Size([10, 32, 32]) torch.Size([10, 32, 64])\n",
      "torch.Size([10, 69, 69]) torch.Size([10, 69, 64])\n",
      "torch.Size([10, 69, 69]) torch.Size([10, 69, 64])\n",
      "torch.Size([10, 69, 69]) torch.Size([10, 69, 64])\n",
      "torch.Size([10, 196, 196]) torch.Size([10, 196, 64])\n",
      "torch.Size([10, 196, 196]) torch.Size([10, 196, 64])\n",
      "torch.Size([10, 196, 196]) torch.Size([10, 196, 64])\n",
      "torch.Size([10, 196, 196]) torch.Size([10, 196, 64])\n",
      "torch.Size([10, 196, 196]) torch.Size([10, 196, 64])\n",
      "torch.Size([10, 196, 196]) torch.Size([10, 196, 64])\n"
     ]
    },
    {
     "name": "stderr",
     "output_type": "stream",
     "text": [
      "EP_train:8:   0%|| 0/21 [00:00<?, ?it/s]"
     ]
    },
    {
     "name": "stdout",
     "output_type": "stream",
     "text": [
      "torch.Size([10, 20, 20]) torch.Size([10, 20, 64])\n",
      "torch.Size([10, 20, 20]) torch.Size([10, 20, 64])\n",
      "torch.Size([10, 20, 20]) torch.Size([10, 20, 64])\n",
      "torch.Size([10, 20, 20]) torch.Size([10, 20, 64])\n",
      "torch.Size([10, 20, 20]) torch.Size([10, 20, 64])\n",
      "torch.Size([10, 20, 20]) torch.Size([10, 20, 64])\n",
      "{'epoch': 8, 'iter': 5, 'loss:': 0.9237720370292664}\n",
      "torch.Size([10, 479, 479]) torch.Size([10, 479, 64])\n",
      "torch.Size([10, 479, 479]) torch.Size([10, 479, 64])\n",
      "torch.Size([10, 479, 479]) torch.Size([10, 479, 64])\n",
      "torch.Size([10, 479, 479]) torch.Size([10, 479, 64])\n",
      "torch.Size([10, 479, 479]) torch.Size([10, 479, 64])\n",
      "torch.Size([10, 479, 479]) torch.Size([10, 479, 64])\n"
     ]
    },
    {
     "name": "stderr",
     "output_type": "stream",
     "text": [
      "EP_train:8:  38%|| 8/21 [00:00<00:00, 75.12it/s]"
     ]
    },
    {
     "name": "stdout",
     "output_type": "stream",
     "text": [
      "torch.Size([10, 162, 162]) torch.Size([10, 162, 64])\n",
      "torch.Size([10, 162, 162]) torch.Size([10, 162, 64])\n",
      "torch.Size([10, 162, 162]) torch.Size([10, 162, 64])\n",
      "torch.Size([10, 162, 162]) torch.Size([10, 162, 64])\n",
      "torch.Size([10, 162, 162]) torch.Size([10, 162, 64])\n",
      "torch.Size([10, 162, 162]) torch.Size([10, 162, 64])\n",
      "torch.Size([10, 113, 113]) torch.Size([10, 113, 64])\n",
      "torch.Size([10, 113, 113]) torch.Size([10, 113, 64])\n",
      "torch.Size([10, 113, 113]) torch.Size([10, 113, 64])\n",
      "torch.Size([10, 113, 113]) torch.Size([10, 113, 64])\n",
      "torch.Size([10, 113, 113]) torch.Size([10, 113, 64])\n",
      "torch.Size([10, 113, 113]) torch.Size([10, 113, 64])\n"
     ]
    },
    {
     "name": "stderr",
     "output_type": "stream",
     "text": [
      "EP_train:8:  38%|| 8/21 [00:00<00:00, 75.12it/s]"
     ]
    },
    {
     "name": "stdout",
     "output_type": "stream",
     "text": [
      "torch.Size([10, 43, 43]) torch.Size([10, 43, 64])\n",
      "torch.Size([10, 43, 43]) torch.Size([10, 43, 64])\n",
      "torch.Size([10, 43, 43]) torch.Size([10, 43, 64])\n",
      "torch.Size([10, 43, 43]) torch.Size([10, 43, 64])\n",
      "torch.Size([10, 43, 43]) torch.Size([10, 43, 64])\n",
      "torch.Size([10, 43, 43]) torch.Size([10, 43, 64])\n",
      "torch.Size([10, 67, 67]) torch.Size([10, 67, 64])\n",
      "torch.Size([10, 67, 67]) torch.Size([10, 67, 64])\n",
      "torch.Size([10, 67, 67]) torch.Size([10, 67, 64])\n",
      "torch.Size([10, 67, 67]) torch.Size([10, 67, 64])\n",
      "torch.Size([10, 67, 67]) torch.Size([10, 67, 64])\n",
      "torch.Size([10, 67, 67]) torch.Size([10, 67, 64])\n",
      "{'epoch': 8, 'iter': 10, 'loss:': 0.6867300271987915}\n",
      "torch.Size([10, 15, 15]) torch.Size([10, 15, 64])\n",
      "torch.Size([10, 15, 15]) torch.Size([10, 15, 64])\n",
      "torch.Size([10, 15, 15]) torch.Size([10, 15, 64])\n",
      "torch.Size([10, 176, 176]) torch.Size([10, 176, 64])\n",
      "torch.Size([10, 176, 176]) torch.Size([10, 176, 64])\n",
      "torch.Size([10, 176, 176]) torch.Size([10, 176, 64])\n",
      "torch.Size([10, 232, 232]) torch.Size([10, 232, 64])\n",
      "torch.Size([10, 232, 232]) torch.Size([10, 232, 64])\n",
      "torch.Size([10, 232, 232]) torch.Size([10, 232, 64])\n",
      "torch.Size([10, 232, 232]) torch.Size([10, 232, 64])\n",
      "torch.Size([10, 232, 232]) torch.Size([10, 232, 64])\n",
      "torch.Size([10, 232, 232]) torch.Size([10, 232, 64])\n",
      "torch.Size([10, 78, 78]) torch.Size([10, 78, 64])\n",
      "torch.Size([10, 78, 78]) torch.Size([10, 78, 64])\n",
      "torch.Size([10, 78, 78]) torch.Size([10, 78, 64])\n",
      "torch.Size([10, 78, 78]) torch.Size([10, 78, 64])\n",
      "torch.Size([10, 78, 78]) torch.Size([10, 78, 64])\n",
      "torch.Size([10, 78, 78]) torch.Size([10, 78, 64])\n",
      "torch.Size([10, 54, 54]) torch.Size([10, 54, 64])\n",
      "torch.Size([10, 54, 54]) torch.Size([10, 54, 64])\n",
      "torch.Size([10, 54, 54]) torch.Size([10, 54, 64])\n",
      "torch.Size([10, 54, 54]) torch.Size([10, 54, 64])\n",
      "torch.Size([10, 54, 54]) torch.Size([10, 54, 64])\n",
      "torch.Size([10, 54, 54]) torch.Size([10, 54, 64])\n"
     ]
    },
    {
     "name": "stderr",
     "output_type": "stream",
     "text": [
      "EP_train:8:  38%|| 8/21 [00:00<00:00, 75.12it/s]"
     ]
    },
    {
     "name": "stdout",
     "output_type": "stream",
     "text": [
      "torch.Size([10, 31, 31]) torch.Size([10, 31, 64])\n",
      "torch.Size([10, 31, 31]) torch.Size([10, 31, 64])\n",
      "torch.Size([10, 31, 31]) torch.Size([10, 31, 64])\n",
      "torch.Size([10, 176, 176]) torch.Size([10, 176, 64])\n",
      "torch.Size([10, 176, 176]) torch.Size([10, 176, 64])\n",
      "torch.Size([10, 176, 176]) torch.Size([10, 176, 64])\n",
      "{'epoch': 8, 'iter': 15, 'loss:': 1.6806644201278687}\n",
      "torch.Size([10, 53, 53]) torch.Size([10, 53, 64])\n",
      "torch.Size([10, 53, 53]) torch.Size([10, 53, 64])\n",
      "torch.Size([10, 53, 53]) torch.Size([10, 53, 64])\n",
      "torch.Size([10, 53, 53]) torch.Size([10, 53, 64])\n",
      "torch.Size([10, 53, 53]) torch.Size([10, 53, 64])\n",
      "torch.Size([10, 53, 53]) torch.Size([10, 53, 64])\n",
      "torch.Size([10, 60, 60]) torch.Size([10, 60, 64])\n",
      "torch.Size([10, 60, 60]) torch.Size([10, 60, 64])\n"
     ]
    },
    {
     "name": "stderr",
     "output_type": "stream",
     "text": [
      "EP_train:8: 100%|| 21/21 [00:00<00:00, 86.70it/s]\n"
     ]
    },
    {
     "name": "stdout",
     "output_type": "stream",
     "text": [
      "torch.Size([10, 60, 60]) torch.Size([10, 60, 64])\n",
      "torch.Size([10, 60, 60]) torch.Size([10, 60, 64])\n",
      "torch.Size([10, 60, 60]) torch.Size([10, 60, 64])\n",
      "torch.Size([10, 60, 60]) torch.Size([10, 60, 64])\n",
      "torch.Size([10, 11, 11]) torch.Size([10, 11, 64])\n",
      "torch.Size([10, 11, 11]) torch.Size([10, 11, 64])\n",
      "torch.Size([10, 11, 11]) torch.Size([10, 11, 64])\n",
      "torch.Size([10, 11, 11]) torch.Size([10, 11, 64])\n",
      "torch.Size([10, 11, 11]) torch.Size([10, 11, 64])\n",
      "torch.Size([10, 11, 11]) torch.Size([10, 11, 64])\n",
      "torch.Size([10, 178, 178]) torch.Size([10, 178, 64])\n",
      "torch.Size([10, 178, 178]) torch.Size([10, 178, 64])\n",
      "torch.Size([10, 178, 178]) torch.Size([10, 178, 64])\n",
      "torch.Size([10, 178, 178]) torch.Size([10, 178, 64])\n",
      "torch.Size([10, 178, 178]) torch.Size([10, 178, 64])\n",
      "torch.Size([10, 178, 178]) torch.Size([10, 178, 64])\n",
      "torch.Size([1, 5, 5]) torch.Size([10, 5, 64])\n",
      "torch.Size([1, 5, 5]) torch.Size([10, 5, 64])\n",
      "torch.Size([1, 5, 5]) torch.Size([10, 5, 64])\n",
      "torch.Size([1, 4, 4]) torch.Size([10, 4, 64])\n",
      "torch.Size([1, 4, 4]) torch.Size([10, 4, 64])\n",
      "torch.Size([1, 4, 4]) torch.Size([10, 4, 64])\n",
      "{'epoch': 8, 'iter': 20, 'loss:': 3.949756622314453}\n",
      "EP:8 Model Saved on: output/parameter.model.ep8\n"
     ]
    },
    {
     "name": "stderr",
     "output_type": "stream",
     "text": [
      "EP_train:9:   0%|| 0/21 [00:00<?, ?it/s]"
     ]
    },
    {
     "name": "stdout",
     "output_type": "stream",
     "text": [
      "torch.Size([10, 33, 33]) torch.Size([10, 33, 64])\n",
      "torch.Size([10, 33, 33]) torch.Size([10, 33, 64])\n",
      "torch.Size([10, 33, 33]) torch.Size([10, 33, 64])\n",
      "torch.Size([10, 33, 33]) torch.Size([10, 33, 64])\n",
      "torch.Size([10, 33, 33]) torch.Size([10, 33, 64])\n",
      "torch.Size([10, 33, 33]) torch.Size([10, 33, 64])\n",
      "{'epoch': 9, 'iter': 0, 'loss:': 0.7002477645874023}\n",
      "torch.Size([10, 67, 67]) torch.Size([10, 67, 64])\n",
      "torch.Size([10, 67, 67]) torch.Size([10, 67, 64])\n",
      "torch.Size([10, 67, 67]) torch.Size([10, 67, 64])\n",
      "torch.Size([10, 176, 176]) torch.Size([10, 176, 64])\n",
      "torch.Size([10, 176, 176]) torch.Size([10, 176, 64])\n",
      "torch.Size([10, 176, 176]) torch.Size([10, 176, 64])\n",
      "torch.Size([10, 54, 54]) torch.Size([10, 54, 64])\n",
      "torch.Size([10, 54, 54]) torch.Size([10, 54, 64])\n",
      "torch.Size([10, 54, 54]) torch.Size([10, 54, 64])\n",
      "torch.Size([10, 54, 54]) torch.Size([10, 54, 64])\n",
      "torch.Size([10, 54, 54]) torch.Size([10, 54, 64])\n",
      "torch.Size([10, 54, 54]) torch.Size([10, 54, 64])\n",
      "torch.Size([10, 32, 32]) torch.Size([10, 32, 64])\n",
      "torch.Size([10, 32, 32]) torch.Size([10, 32, 64])\n",
      "torch.Size([10, 32, 32]) torch.Size([10, 32, 64])\n",
      "torch.Size([10, 69, 69]) torch.Size([10, 69, 64])\n",
      "torch.Size([10, 69, 69]) torch.Size([10, 69, 64])\n",
      "torch.Size([10, 69, 69]) torch.Size([10, 69, 64])\n"
     ]
    },
    {
     "name": "stderr",
     "output_type": "stream",
     "text": [
      "EP_train:9:   0%|| 0/21 [00:00<?, ?it/s]"
     ]
    },
    {
     "name": "stdout",
     "output_type": "stream",
     "text": [
      "torch.Size([10, 196, 196]) torch.Size([10, 196, 64])\n",
      "torch.Size([10, 196, 196]) torch.Size([10, 196, 64])\n",
      "torch.Size([10, 196, 196]) torch.Size([10, 196, 64])\n",
      "torch.Size([10, 196, 196]) torch.Size([10, 196, 64])\n",
      "torch.Size([10, 196, 196]) torch.Size([10, 196, 64])\n",
      "torch.Size([10, 196, 196]) torch.Size([10, 196, 64])\n",
      "torch.Size([10, 20, 20]) torch.Size([10, 20, 64])\n",
      "torch.Size([10, 20, 20]) torch.Size([10, 20, 64])\n",
      "torch.Size([10, 20, 20]) torch.Size([10, 20, 64])\n",
      "torch.Size([10, 20, 20]) torch.Size([10, 20, 64])\n",
      "torch.Size([10, 20, 20]) torch.Size([10, 20, 64])\n",
      "torch.Size([10, 20, 20]) torch.Size([10, 20, 64])\n",
      "{'epoch': 9, 'iter': 5, 'loss:': 0.9326145052909851}\n",
      "torch.Size([10, 479, 479]) torch.Size([10, 479, 64])\n",
      "torch.Size([10, 479, 479]) torch.Size([10, 479, 64])\n",
      "torch.Size([10, 479, 479]) torch.Size([10, 479, 64])\n",
      "torch.Size([10, 479, 479]) torch.Size([10, 479, 64])\n",
      "torch.Size([10, 479, 479]) torch.Size([10, 479, 64])\n",
      "torch.Size([10, 479, 479]) torch.Size([10, 479, 64])\n",
      "torch.Size([10, 162, 162]) torch.Size([10, 162, 64])\n",
      "torch.Size([10, 162, 162]) torch.Size([10, 162, 64])\n",
      "torch.Size([10, 162, 162]) torch.Size([10, 162, 64])\n",
      "torch.Size([10, 162, 162]) torch.Size([10, 162, 64])\n",
      "torch.Size([10, 162, 162]) torch.Size([10, 162, 64])\n",
      "torch.Size([10, 162, 162]) torch.Size([10, 162, 64])\n"
     ]
    },
    {
     "name": "stderr",
     "output_type": "stream",
     "text": [
      "EP_train:9:  43%|| 9/21 [00:00<00:00, 78.32it/s]"
     ]
    },
    {
     "name": "stdout",
     "output_type": "stream",
     "text": [
      "torch.Size([10, 113, 113]) torch.Size([10, 113, 64])\n",
      "torch.Size([10, 113, 113]) torch.Size([10, 113, 64])\n",
      "torch.Size([10, 113, 113]) torch.Size([10, 113, 64])\n",
      "torch.Size([10, 113, 113]) torch.Size([10, 113, 64])\n",
      "torch.Size([10, 113, 113]) torch.Size([10, 113, 64])\n",
      "torch.Size([10, 113, 113]) torch.Size([10, 113, 64])\n",
      "torch.Size([10, 43, 43]) torch.Size([10, 43, 64])\n",
      "torch.Size([10, 43, 43]) torch.Size([10, 43, 64])\n",
      "torch.Size([10, 43, 43]) torch.Size([10, 43, 64])\n",
      "torch.Size([10, 43, 43]) torch.Size([10, 43, 64])\n",
      "torch.Size([10, 43, 43]) torch.Size([10, 43, 64])\n",
      "torch.Size([10, 43, 43]) torch.Size([10, 43, 64])\n"
     ]
    },
    {
     "name": "stderr",
     "output_type": "stream",
     "text": [
      "EP_train:9:  43%|| 9/21 [00:00<00:00, 78.32it/s]"
     ]
    },
    {
     "name": "stdout",
     "output_type": "stream",
     "text": [
      "torch.Size([10, 67, 67]) torch.Size([10, 67, 64])\n",
      "torch.Size([10, 67, 67]) torch.Size([10, 67, 64])\n",
      "torch.Size([10, 67, 67]) torch.Size([10, 67, 64])\n",
      "torch.Size([10, 67, 67]) torch.Size([10, 67, 64])\n",
      "torch.Size([10, 67, 67]) torch.Size([10, 67, 64])\n",
      "torch.Size([10, 67, 67]) torch.Size([10, 67, 64])\n",
      "{'epoch': 9, 'iter': 10, 'loss:': 0.5573477149009705}\n",
      "torch.Size([10, 15, 15]) torch.Size([10, 15, 64])\n",
      "torch.Size([10, 15, 15]) torch.Size([10, 15, 64])\n",
      "torch.Size([10, 15, 15]) torch.Size([10, 15, 64])\n",
      "torch.Size([10, 176, 176]) torch.Size([10, 176, 64])\n",
      "torch.Size([10, 176, 176]) torch.Size([10, 176, 64])\n",
      "torch.Size([10, 176, 176]) torch.Size([10, 176, 64])\n",
      "torch.Size([10, 232, 232]) torch.Size([10, 232, 64])\n",
      "torch.Size([10, 232, 232]) torch.Size([10, 232, 64])\n",
      "torch.Size([10, 232, 232]) torch.Size([10, 232, 64])\n",
      "torch.Size([10, 232, 232]) torch.Size([10, 232, 64])\n",
      "torch.Size([10, 232, 232]) torch.Size([10, 232, 64])\n",
      "torch.Size([10, 232, 232]) torch.Size([10, 232, 64])\n",
      "torch.Size([10, 78, 78]) torch.Size([10, 78, 64])\n",
      "torch.Size([10, 78, 78]) torch.Size([10, 78, 64])\n",
      "torch.Size([10, 78, 78]) torch.Size([10, 78, 64])\n",
      "torch.Size([10, 78, 78]) torch.Size([10, 78, 64])\n",
      "torch.Size([10, 78, 78]) torch.Size([10, 78, 64])\n",
      "torch.Size([10, 78, 78]) torch.Size([10, 78, 64])\n",
      "torch.Size([10, 54, 54]) torch.Size([10, 54, 64])\n",
      "torch.Size([10, 54, 54]) torch.Size([10, 54, 64])\n",
      "torch.Size([10, 54, 54]) torch.Size([10, 54, 64])\n",
      "torch.Size([10, 54, 54]) torch.Size([10, 54, 64])\n",
      "torch.Size([10, 54, 54]) torch.Size([10, 54, 64])\n",
      "torch.Size([10, 54, 54]) torch.Size([10, 54, 64])\n",
      "torch.Size([10, 31, 31]) torch.Size([10, 31, 64])\n",
      "torch.Size([10, 31, 31]) torch.Size([10, 31, 64])\n",
      "torch.Size([10, 31, 31]) torch.Size([10, 31, 64])\n",
      "torch.Size([10, 176, 176]) torch.Size([10, 176, 64])\n",
      "torch.Size([10, 176, 176]) torch.Size([10, 176, 64])\n",
      "torch.Size([10, 176, 176]) torch.Size([10, 176, 64])\n"
     ]
    },
    {
     "name": "stderr",
     "output_type": "stream",
     "text": [
      "EP_train:9:  43%|| 9/21 [00:00<00:00, 78.32it/s]"
     ]
    },
    {
     "name": "stdout",
     "output_type": "stream",
     "text": [
      "{'epoch': 9, 'iter': 15, 'loss:': 1.596593976020813}\n",
      "torch.Size([10, 53, 53]) torch.Size([10, 53, 64])\n",
      "torch.Size([10, 53, 53]) torch.Size([10, 53, 64])\n",
      "torch.Size([10, 53, 53]) torch.Size([10, 53, 64])\n",
      "torch.Size([10, 53, 53]) torch.Size([10, 53, 64])\n",
      "torch.Size([10, 53, 53]) torch.Size([10, 53, 64])\n",
      "torch.Size([10, 53, 53]) torch.Size([10, 53, 64])\n",
      "torch.Size([10, 60, 60]) torch.Size([10, 60, 64])\n",
      "torch.Size([10, 60, 60]) torch.Size([10, 60, 64])\n",
      "torch.Size([10, 60, 60]) torch.Size([10, 60, 64])\n",
      "torch.Size([10, 60, 60]) torch.Size([10, 60, 64])\n",
      "torch.Size([10, 60, 60]) torch.Size([10, 60, 64])\n",
      "torch.Size([10, 60, 60]) torch.Size([10, 60, 64])\n"
     ]
    },
    {
     "name": "stderr",
     "output_type": "stream",
     "text": [
      "EP_train:9:  86%|| 18/21 [00:00<00:00, 82.04it/s]"
     ]
    },
    {
     "name": "stdout",
     "output_type": "stream",
     "text": [
      "torch.Size([10, 11, 11]) torch.Size([10, 11, 64])\n",
      "torch.Size([10, 11, 11]) torch.Size([10, 11, 64])\n"
     ]
    },
    {
     "name": "stderr",
     "output_type": "stream",
     "text": [
      "EP_train:9: 100%|| 21/21 [00:00<00:00, 61.23it/s]\n"
     ]
    },
    {
     "name": "stdout",
     "output_type": "stream",
     "text": [
      "torch.Size([10, 11, 11]) torch.Size([10, 11, 64])\n",
      "torch.Size([10, 11, 11]) torch.Size([10, 11, 64])\n",
      "torch.Size([10, 11, 11]) torch.Size([10, 11, 64])\n",
      "torch.Size([10, 11, 11]) torch.Size([10, 11, 64])\n",
      "torch.Size([10, 178, 178]) torch.Size([10, 178, 64])\n",
      "torch.Size([10, 178, 178]) torch.Size([10, 178, 64])\n",
      "torch.Size([10, 178, 178]) torch.Size([10, 178, 64])\n",
      "torch.Size([10, 178, 178]) torch.Size([10, 178, 64])\n",
      "torch.Size([10, 178, 178]) torch.Size([10, 178, 64])\n",
      "torch.Size([10, 178, 178]) torch.Size([10, 178, 64])\n",
      "torch.Size([1, 5, 5]) torch.Size([10, 5, 64])\n",
      "torch.Size([1, 5, 5]) torch.Size([10, 5, 64])\n",
      "torch.Size([1, 5, 5]) torch.Size([10, 5, 64])\n",
      "torch.Size([1, 4, 4]) torch.Size([10, 4, 64])\n",
      "torch.Size([1, 4, 4]) torch.Size([10, 4, 64])\n",
      "torch.Size([1, 4, 4]) torch.Size([10, 4, 64])\n",
      "{'epoch': 9, 'iter': 20, 'loss:': 3.94704008102417}\n",
      "EP:9 Model Saved on: output/parameter.model.ep9\n"
     ]
    },
    {
     "name": "stderr",
     "output_type": "stream",
     "text": [
      "EP_train:10:   0%|| 0/21 [00:00<?, ?it/s]"
     ]
    },
    {
     "name": "stdout",
     "output_type": "stream",
     "text": [
      "torch.Size([10, 33, 33]) torch.Size([10, 33, 64])\n",
      "torch.Size([10, 33, 33]) torch.Size([10, 33, 64])\n",
      "torch.Size([10, 33, 33]) torch.Size([10, 33, 64])\n",
      "torch.Size([10, 33, 33]) torch.Size([10, 33, 64])\n",
      "torch.Size([10, 33, 33]) torch.Size([10, 33, 64])\n",
      "torch.Size([10, 33, 33]) torch.Size([10, 33, 64])\n"
     ]
    },
    {
     "name": "stderr",
     "output_type": "stream",
     "text": [
      "EP_train:10:   0%|| 0/21 [00:00<?, ?it/s]"
     ]
    },
    {
     "name": "stdout",
     "output_type": "stream",
     "text": [
      "{'epoch': 10, 'iter': 0, 'loss:': 0.6202751398086548}\n",
      "torch.Size([10, 67, 67]) torch.Size([10, 67, 64])\n"
     ]
    },
    {
     "name": "stderr",
     "output_type": "stream",
     "text": [
      "EP_train:10:  14%|| 3/21 [00:00<00:00, 27.44it/s]"
     ]
    },
    {
     "name": "stdout",
     "output_type": "stream",
     "text": [
      "torch.Size([10, 67, 67]) torch.Size([10, 67, 64])\n",
      "torch.Size([10, 67, 67]) torch.Size([10, 67, 64])\n",
      "torch.Size([10, 176, 176]) torch.Size([10, 176, 64])\n",
      "torch.Size([10, 176, 176]) torch.Size([10, 176, 64])\n",
      "torch.Size([10, 176, 176]) torch.Size([10, 176, 64])\n",
      "torch.Size([10, 54, 54]) torch.Size([10, 54, 64])\n",
      "torch.Size([10, 54, 54]) torch.Size([10, 54, 64])\n",
      "torch.Size([10, 54, 54]) torch.Size([10, 54, 64])\n",
      "torch.Size([10, 54, 54]) torch.Size([10, 54, 64])\n",
      "torch.Size([10, 54, 54]) torch.Size([10, 54, 64])\n",
      "torch.Size([10, 54, 54]) torch.Size([10, 54, 64])\n",
      "torch.Size([10, 32, 32]) torch.Size([10, 32, 64])\n",
      "torch.Size([10, 32, 32]) torch.Size([10, 32, 64])\n",
      "torch.Size([10, 32, 32]) torch.Size([10, 32, 64])\n",
      "torch.Size([10, 69, 69]) torch.Size([10, 69, 64])\n",
      "torch.Size([10, 69, 69]) torch.Size([10, 69, 64])\n",
      "torch.Size([10, 69, 69]) torch.Size([10, 69, 64])\n"
     ]
    },
    {
     "name": "stderr",
     "output_type": "stream",
     "text": [
      "EP_train:10:  14%|| 3/21 [00:00<00:00, 27.44it/s]"
     ]
    },
    {
     "name": "stdout",
     "output_type": "stream",
     "text": [
      "torch.Size([10, 196, 196]) torch.Size([10, 196, 64])\n",
      "torch.Size([10, 196, 196]) torch.Size([10, 196, 64])\n",
      "torch.Size([10, 196, 196]) torch.Size([10, 196, 64])\n",
      "torch.Size([10, 196, 196]) torch.Size([10, 196, 64])\n",
      "torch.Size([10, 196, 196]) torch.Size([10, 196, 64])\n",
      "torch.Size([10, 196, 196]) torch.Size([10, 196, 64])\n",
      "torch.Size([10, 20, 20]) torch.Size([10, 20, 64])\n",
      "torch.Size([10, 20, 20]) torch.Size([10, 20, 64])\n",
      "torch.Size([10, 20, 20]) torch.Size([10, 20, 64])\n",
      "torch.Size([10, 20, 20]) torch.Size([10, 20, 64])\n",
      "torch.Size([10, 20, 20]) torch.Size([10, 20, 64])\n",
      "torch.Size([10, 20, 20]) torch.Size([10, 20, 64])\n",
      "{'epoch': 10, 'iter': 5, 'loss:': 0.9582378268241882}\n",
      "torch.Size([10, 479, 479]) torch.Size([10, 479, 64])\n",
      "torch.Size([10, 479, 479]) torch.Size([10, 479, 64])\n",
      "torch.Size([10, 479, 479]) torch.Size([10, 479, 64])\n",
      "torch.Size([10, 479, 479]) torch.Size([10, 479, 64])\n",
      "torch.Size([10, 479, 479]) torch.Size([10, 479, 64])\n",
      "torch.Size([10, 479, 479]) torch.Size([10, 479, 64])\n"
     ]
    },
    {
     "name": "stderr",
     "output_type": "stream",
     "text": [
      "EP_train:10:  38%|| 8/21 [00:00<00:00, 39.07it/s]"
     ]
    },
    {
     "name": "stdout",
     "output_type": "stream",
     "text": [
      "torch.Size([10, 162, 162]) torch.Size([10, 162, 64])\n",
      "torch.Size([10, 162, 162]) torch.Size([10, 162, 64])\n",
      "torch.Size([10, 162, 162]) torch.Size([10, 162, 64])\n",
      "torch.Size([10, 162, 162]) torch.Size([10, 162, 64])\n",
      "torch.Size([10, 162, 162]) torch.Size([10, 162, 64])\n",
      "torch.Size([10, 162, 162]) torch.Size([10, 162, 64])\n"
     ]
    },
    {
     "name": "stderr",
     "output_type": "stream",
     "text": [
      "EP_train:10:  38%|| 8/21 [00:00<00:00, 39.07it/s]"
     ]
    },
    {
     "name": "stdout",
     "output_type": "stream",
     "text": [
      "torch.Size([10, 113, 113]) torch.Size([10, 113, 64])\n",
      "torch.Size([10, 113, 113]) torch.Size([10, 113, 64])\n",
      "torch.Size([10, 113, 113]) torch.Size([10, 113, 64])\n",
      "torch.Size([10, 113, 113]) torch.Size([10, 113, 64])\n",
      "torch.Size([10, 113, 113]) torch.Size([10, 113, 64])\n",
      "torch.Size([10, 113, 113]) torch.Size([10, 113, 64])\n",
      "torch.Size([10, 43, 43]) torch.Size([10, 43, 64])\n",
      "torch.Size([10, 43, 43]) torch.Size([10, 43, 64])\n",
      "torch.Size([10, 43, 43]) torch.Size([10, 43, 64])\n",
      "torch.Size([10, 43, 43]) torch.Size([10, 43, 64])\n",
      "torch.Size([10, 43, 43]) torch.Size([10, 43, 64])\n",
      "torch.Size([10, 43, 43]) torch.Size([10, 43, 64])\n",
      "torch.Size([10, 67, 67]) torch.Size([10, 67, 64])\n",
      "torch.Size([10, 67, 67]) torch.Size([10, 67, 64])\n",
      "torch.Size([10, 67, 67]) torch.Size([10, 67, 64])\n",
      "torch.Size([10, 67, 67]) torch.Size([10, 67, 64])\n",
      "torch.Size([10, 67, 67]) torch.Size([10, 67, 64])\n",
      "torch.Size([10, 67, 67]) torch.Size([10, 67, 64])\n",
      "{'epoch': 10, 'iter': 10, 'loss:': 0.4607602059841156}\n",
      "torch.Size([10, 15, 15]) torch.Size([10, 15, 64])\n",
      "torch.Size([10, 15, 15]) torch.Size([10, 15, 64])\n",
      "torch.Size([10, 15, 15]) torch.Size([10, 15, 64])\n",
      "torch.Size([10, 176, 176]) torch.Size([10, 176, 64])\n",
      "torch.Size([10, 176, 176]) torch.Size([10, 176, 64])\n",
      "torch.Size([10, 176, 176]) torch.Size([10, 176, 64])\n",
      "torch.Size([10, 232, 232]) torch.Size([10, 232, 64])\n",
      "torch.Size([10, 232, 232]) torch.Size([10, 232, 64])\n",
      "torch.Size([10, 232, 232]) torch.Size([10, 232, 64])\n",
      "torch.Size([10, 232, 232]) torch.Size([10, 232, 64])\n",
      "torch.Size([10, 232, 232]) torch.Size([10, 232, 64])\n",
      "torch.Size([10, 232, 232]) torch.Size([10, 232, 64])\n"
     ]
    },
    {
     "name": "stderr",
     "output_type": "stream",
     "text": [
      "EP_train:10:  76%|| 16/21 [00:00<00:00, 56.55it/s]"
     ]
    },
    {
     "name": "stdout",
     "output_type": "stream",
     "text": [
      "torch.Size([10, 78, 78]) torch.Size([10, 78, 64])\n",
      "torch.Size([10, 78, 78]) torch.Size([10, 78, 64])\n",
      "torch.Size([10, 78, 78]) torch.Size([10, 78, 64])\n",
      "torch.Size([10, 78, 78]) torch.Size([10, 78, 64])\n",
      "torch.Size([10, 78, 78]) torch.Size([10, 78, 64])\n",
      "torch.Size([10, 78, 78]) torch.Size([10, 78, 64])\n",
      "torch.Size([10, 54, 54]) torch.Size([10, 54, 64])\n",
      "torch.Size([10, 54, 54]) torch.Size([10, 54, 64])\n",
      "torch.Size([10, 54, 54]) torch.Size([10, 54, 64])\n",
      "torch.Size([10, 54, 54]) torch.Size([10, 54, 64])\n",
      "torch.Size([10, 54, 54]) torch.Size([10, 54, 64])\n",
      "torch.Size([10, 54, 54]) torch.Size([10, 54, 64])\n",
      "torch.Size([10, 31, 31]) torch.Size([10, 31, 64])\n",
      "torch.Size([10, 31, 31]) torch.Size([10, 31, 64])\n",
      "torch.Size([10, 31, 31]) torch.Size([10, 31, 64])\n",
      "torch.Size([10, 176, 176]) torch.Size([10, 176, 64])\n",
      "torch.Size([10, 176, 176]) torch.Size([10, 176, 64])\n",
      "torch.Size([10, 176, 176]) torch.Size([10, 176, 64])\n",
      "{'epoch': 10, 'iter': 15, 'loss:': 1.5034821033477783}\n",
      "torch.Size([10, 53, 53]) torch.Size([10, 53, 64])\n",
      "torch.Size([10, 53, 53]) torch.Size([10, 53, 64])\n",
      "torch.Size([10, 53, 53]) torch.Size([10, 53, 64])\n",
      "torch.Size([10, 53, 53]) torch.Size([10, 53, 64])\n",
      "torch.Size([10, 53, 53]) torch.Size([10, 53, 64])\n",
      "torch.Size([10, 53, 53]) torch.Size([10, 53, 64])\n"
     ]
    },
    {
     "name": "stderr",
     "output_type": "stream",
     "text": [
      "EP_train:10: 100%|| 21/21 [00:00<00:00, 57.51it/s]\n"
     ]
    },
    {
     "name": "stdout",
     "output_type": "stream",
     "text": [
      "torch.Size([10, 60, 60]) torch.Size([10, 60, 64])\n",
      "torch.Size([10, 60, 60]) torch.Size([10, 60, 64])\n",
      "torch.Size([10, 60, 60]) torch.Size([10, 60, 64])\n",
      "torch.Size([10, 60, 60]) torch.Size([10, 60, 64])\n",
      "torch.Size([10, 60, 60]) torch.Size([10, 60, 64])\n",
      "torch.Size([10, 60, 60]) torch.Size([10, 60, 64])\n",
      "torch.Size([10, 11, 11]) torch.Size([10, 11, 64])\n",
      "torch.Size([10, 11, 11]) torch.Size([10, 11, 64])\n",
      "torch.Size([10, 11, 11]) torch.Size([10, 11, 64])\n",
      "torch.Size([10, 11, 11]) torch.Size([10, 11, 64])\n",
      "torch.Size([10, 11, 11]) torch.Size([10, 11, 64])\n",
      "torch.Size([10, 11, 11]) torch.Size([10, 11, 64])\n",
      "torch.Size([10, 178, 178]) torch.Size([10, 178, 64])\n",
      "torch.Size([10, 178, 178]) torch.Size([10, 178, 64])\n",
      "torch.Size([10, 178, 178]) torch.Size([10, 178, 64])\n",
      "torch.Size([10, 178, 178]) torch.Size([10, 178, 64])\n",
      "torch.Size([10, 178, 178]) torch.Size([10, 178, 64])\n",
      "torch.Size([10, 178, 178]) torch.Size([10, 178, 64])\n",
      "torch.Size([1, 5, 5]) torch.Size([10, 5, 64])\n",
      "torch.Size([1, 5, 5]) torch.Size([10, 5, 64])\n",
      "torch.Size([1, 5, 5]) torch.Size([10, 5, 64])\n",
      "torch.Size([1, 4, 4]) torch.Size([10, 4, 64])\n",
      "torch.Size([1, 4, 4]) torch.Size([10, 4, 64])\n",
      "torch.Size([1, 4, 4]) torch.Size([10, 4, 64])\n",
      "{'epoch': 10, 'iter': 20, 'loss:': 3.944422483444214}\n",
      "EP:10 Model Saved on: output/parameter.model.ep10\n"
     ]
    },
    {
     "name": "stderr",
     "output_type": "stream",
     "text": [
      "EP_train:11:   0%|| 0/21 [00:00<?, ?it/s]"
     ]
    },
    {
     "name": "stdout",
     "output_type": "stream",
     "text": [
      "torch.Size([10, 33, 33]) torch.Size([10, 33, 64])\n",
      "torch.Size([10, 33, 33]) torch.Size([10, 33, 64])\n",
      "torch.Size([10, 33, 33]) torch.Size([10, 33, 64])\n",
      "torch.Size([10, 33, 33]) torch.Size([10, 33, 64])\n",
      "torch.Size([10, 33, 33]) torch.Size([10, 33, 64])\n",
      "torch.Size([10, 33, 33]) torch.Size([10, 33, 64])\n"
     ]
    },
    {
     "name": "stderr",
     "output_type": "stream",
     "text": [
      "EP_train:11:   0%|| 0/21 [00:00<?, ?it/s]"
     ]
    },
    {
     "name": "stdout",
     "output_type": "stream",
     "text": [
      "{'epoch': 11, 'iter': 0, 'loss:': 0.5573019981384277}\n",
      "torch.Size([10, 67, 67]) torch.Size([10, 67, 64])\n",
      "torch.Size([10, 67, 67]) torch.Size([10, 67, 64])\n",
      "torch.Size([10, 67, 67]) torch.Size([10, 67, 64])\n",
      "torch.Size([10, 176, 176]) torch.Size([10, 176, 64])\n",
      "torch.Size([10, 176, 176]) torch.Size([10, 176, 64])\n",
      "torch.Size([10, 176, 176]) torch.Size([10, 176, 64])\n",
      "torch.Size([10, 54, 54]) torch.Size([10, 54, 64])\n",
      "torch.Size([10, 54, 54]) torch.Size([10, 54, 64])\n",
      "torch.Size([10, 54, 54]) torch.Size([10, 54, 64])\n",
      "torch.Size([10, 54, 54]) torch.Size([10, 54, 64])\n",
      "torch.Size([10, 54, 54]) torch.Size([10, 54, 64])\n",
      "torch.Size([10, 54, 54]) torch.Size([10, 54, 64])\n",
      "torch.Size([10, 32, 32]) torch.Size([10, 32, 64])\n",
      "torch.Size([10, 32, 32]) torch.Size([10, 32, 64])\n",
      "torch.Size([10, 32, 32]) torch.Size([10, 32, 64])\n",
      "torch.Size([10, 69, 69]) torch.Size([10, 69, 64])\n",
      "torch.Size([10, 69, 69]) torch.Size([10, 69, 64])\n",
      "torch.Size([10, 69, 69]) torch.Size([10, 69, 64])\n",
      "torch.Size([10, 196, 196]) torch.Size([10, 196, 64])\n",
      "torch.Size([10, 196, 196]) torch.Size([10, 196, 64])\n",
      "torch.Size([10, 196, 196]) torch.Size([10, 196, 64])\n",
      "torch.Size([10, 196, 196]) torch.Size([10, 196, 64])\n",
      "torch.Size([10, 196, 196]) torch.Size([10, 196, 64])\n",
      "torch.Size([10, 196, 196]) torch.Size([10, 196, 64])\n"
     ]
    },
    {
     "name": "stderr",
     "output_type": "stream",
     "text": [
      "EP_train:11:  38%|| 8/21 [00:00<00:00, 74.62it/s]"
     ]
    },
    {
     "name": "stdout",
     "output_type": "stream",
     "text": [
      "torch.Size([10, 20, 20]) torch.Size([10, 20, 64])\n",
      "torch.Size([10, 20, 20]) torch.Size([10, 20, 64])\n",
      "torch.Size([10, 20, 20]) torch.Size([10, 20, 64])\n",
      "torch.Size([10, 20, 20]) torch.Size([10, 20, 64])\n",
      "torch.Size([10, 20, 20]) torch.Size([10, 20, 64])\n",
      "torch.Size([10, 20, 20]) torch.Size([10, 20, 64])\n",
      "{'epoch': 11, 'iter': 5, 'loss:': 0.9997246861457825}\n",
      "torch.Size([10, 479, 479]) torch.Size([10, 479, 64])\n",
      "torch.Size([10, 479, 479]) torch.Size([10, 479, 64])\n",
      "torch.Size([10, 479, 479]) torch.Size([10, 479, 64])\n",
      "torch.Size([10, 479, 479]) torch.Size([10, 479, 64])\n",
      "torch.Size([10, 479, 479]) torch.Size([10, 479, 64])\n",
      "torch.Size([10, 479, 479]) torch.Size([10, 479, 64])\n",
      "torch.Size([10, 162, 162]) torch.Size([10, 162, 64])\n",
      "torch.Size([10, 162, 162]) torch.Size([10, 162, 64])\n",
      "torch.Size([10, 162, 162]) torch.Size([10, 162, 64])\n",
      "torch.Size([10, 162, 162]) torch.Size([10, 162, 64])\n",
      "torch.Size([10, 162, 162]) torch.Size([10, 162, 64])\n",
      "torch.Size([10, 162, 162]) torch.Size([10, 162, 64])\n",
      "torch.Size([10, 113, 113]) torch.Size([10, 113, 64])\n",
      "torch.Size([10, 113, 113]) torch.Size([10, 113, 64])\n",
      "torch.Size([10, 113, 113]) torch.Size([10, 113, 64])\n",
      "torch.Size([10, 113, 113]) torch.Size([10, 113, 64])\n",
      "torch.Size([10, 113, 113]) torch.Size([10, 113, 64])\n",
      "torch.Size([10, 113, 113]) torch.Size([10, 113, 64])\n"
     ]
    },
    {
     "name": "stderr",
     "output_type": "stream",
     "text": [
      "EP_train:11:  38%|| 8/21 [00:00<00:00, 74.62it/s]"
     ]
    },
    {
     "name": "stdout",
     "output_type": "stream",
     "text": [
      "torch.Size([10, 43, 43]) torch.Size([10, 43, 64])\n",
      "torch.Size([10, 43, 43]) torch.Size([10, 43, 64])\n",
      "torch.Size([10, 43, 43]) torch.Size([10, 43, 64])\n",
      "torch.Size([10, 43, 43]) torch.Size([10, 43, 64])\n",
      "torch.Size([10, 43, 43]) torch.Size([10, 43, 64])\n",
      "torch.Size([10, 43, 43]) torch.Size([10, 43, 64])\n",
      "torch.Size([10, 67, 67]) torch.Size([10, 67, 64])\n",
      "torch.Size([10, 67, 67]) torch.Size([10, 67, 64])\n",
      "torch.Size([10, 67, 67]) torch.Size([10, 67, 64])\n",
      "torch.Size([10, 67, 67]) torch.Size([10, 67, 64])\n",
      "torch.Size([10, 67, 67]) torch.Size([10, 67, 64])\n",
      "torch.Size([10, 67, 67]) torch.Size([10, 67, 64])\n",
      "{'epoch': 11, 'iter': 10, 'loss:': 0.3960951268672943}\n",
      "torch.Size([10, 15, 15]) torch.Size([10, 15, 64])\n",
      "torch.Size([10, 15, 15]) torch.Size([10, 15, 64])\n",
      "torch.Size([10, 15, 15]) torch.Size([10, 15, 64])\n",
      "torch.Size([10, 176, 176]) torch.Size([10, 176, 64])\n",
      "torch.Size([10, 176, 176]) torch.Size([10, 176, 64])\n",
      "torch.Size([10, 176, 176]) torch.Size([10, 176, 64])\n",
      "torch.Size([10, 232, 232]) torch.Size([10, 232, 64])\n",
      "torch.Size([10, 232, 232]) torch.Size([10, 232, 64])\n",
      "torch.Size([10, 232, 232]) torch.Size([10, 232, 64])\n",
      "torch.Size([10, 232, 232]) torch.Size([10, 232, 64])\n",
      "torch.Size([10, 232, 232]) torch.Size([10, 232, 64])\n",
      "torch.Size([10, 232, 232]) torch.Size([10, 232, 64])\n",
      "torch.Size([10, 78, 78]) torch.Size([10, 78, 64])\n",
      "torch.Size([10, 78, 78]) torch.Size([10, 78, 64])\n",
      "torch.Size([10, 78, 78]) torch.Size([10, 78, 64])\n",
      "torch.Size([10, 78, 78]) torch.Size([10, 78, 64])\n",
      "torch.Size([10, 78, 78]) torch.Size([10, 78, 64])\n"
     ]
    },
    {
     "name": "stderr",
     "output_type": "stream",
     "text": [
      "EP_train:11:  38%|| 8/21 [00:00<00:00, 74.62it/s]"
     ]
    },
    {
     "name": "stdout",
     "output_type": "stream",
     "text": [
      "torch.Size([10, 78, 78]) torch.Size([10, 78, 64])\n",
      "torch.Size([10, 54, 54]) torch.Size([10, 54, 64])\n",
      "torch.Size([10, 54, 54]) torch.Size([10, 54, 64])\n",
      "torch.Size([10, 54, 54]) torch.Size([10, 54, 64])\n",
      "torch.Size([10, 54, 54]) torch.Size([10, 54, 64])\n",
      "torch.Size([10, 54, 54]) torch.Size([10, 54, 64])\n",
      "torch.Size([10, 54, 54]) torch.Size([10, 54, 64])\n",
      "torch.Size([10, 31, 31]) torch.Size([10, 31, 64])\n",
      "torch.Size([10, 31, 31]) torch.Size([10, 31, 64])\n",
      "torch.Size([10, 31, 31]) torch.Size([10, 31, 64])\n",
      "torch.Size([10, 176, 176]) torch.Size([10, 176, 64])\n",
      "torch.Size([10, 176, 176]) torch.Size([10, 176, 64])\n",
      "torch.Size([10, 176, 176]) torch.Size([10, 176, 64])\n",
      "{'epoch': 11, 'iter': 15, 'loss:': 1.4013830423355103}\n",
      "torch.Size([10, 53, 53]) torch.Size([10, 53, 64])\n",
      "torch.Size([10, 53, 53]) torch.Size([10, 53, 64])\n",
      "torch.Size([10, 53, 53]) torch.Size([10, 53, 64])\n",
      "torch.Size([10, 53, 53]) torch.Size([10, 53, 64])\n",
      "torch.Size([10, 53, 53]) torch.Size([10, 53, 64])\n",
      "torch.Size([10, 53, 53]) torch.Size([10, 53, 64])\n"
     ]
    },
    {
     "name": "stderr",
     "output_type": "stream",
     "text": [
      "EP_train:11:  86%|| 18/21 [00:00<00:00, 86.83it/s]"
     ]
    },
    {
     "name": "stdout",
     "output_type": "stream",
     "text": [
      "torch.Size([10, 60, 60]) torch.Size([10, 60, 64])\n",
      "torch.Size([10, 60, 60]) torch.Size([10, 60, 64])\n",
      "torch.Size([10, 60, 60]) torch.Size([10, 60, 64])\n",
      "torch.Size([10, 60, 60]) torch.Size([10, 60, 64])\n",
      "torch.Size([10, 60, 60]) torch.Size([10, 60, 64])\n",
      "torch.Size([10, 60, 60]) torch.Size([10, 60, 64])\n",
      "torch.Size([10, 11, 11]) torch.Size([10, 11, 64])\n",
      "torch.Size([10, 11, 11]) torch.Size([10, 11, 64])\n",
      "torch.Size([10, 11, 11]) torch.Size([10, 11, 64])\n",
      "torch.Size([10, 11, 11]) torch.Size([10, 11, 64])\n",
      "torch.Size([10, 11, 11]) torch.Size([10, 11, 64])\n",
      "torch.Size([10, 11, 11]) torch.Size([10, 11, 64])\n",
      "torch.Size([10, 178, 178]) torch.Size([10, 178, 64])\n",
      "torch.Size([10, 178, 178]) torch.Size([10, 178, 64])\n",
      "torch.Size([10, 178, 178]) torch.Size([10, 178, 64])\n",
      "torch.Size([10, 178, 178]) torch.Size([10, 178, 64])\n",
      "torch.Size([10, 178, 178]) torch.Size([10, 178, 64])\n",
      "torch.Size([10, 178, 178]) torch.Size([10, 178, 64])\n",
      "torch.Size([1, 5, 5]) torch.Size([10, 5, 64])\n",
      "torch.Size([1, 5, 5]) torch.Size([10, 5, 64])\n",
      "torch.Size([1, 5, 5]) torch.Size([10, 5, 64])\n",
      "torch.Size([1, 4, 4]) torch.Size([10, 4, 64])\n",
      "torch.Size([1, 4, 4]) torch.Size([10, 4, 64])\n",
      "torch.Size([1, 4, 4]) torch.Size([10, 4, 64])\n"
     ]
    },
    {
     "name": "stderr",
     "output_type": "stream",
     "text": [
      "EP_train:11: 100%|| 21/21 [00:00<00:00, 87.53it/s]\n"
     ]
    },
    {
     "name": "stdout",
     "output_type": "stream",
     "text": [
      "{'epoch': 11, 'iter': 20, 'loss:': 3.9418692588806152}\n",
      "EP:11 Model Saved on: output/parameter.model.ep11\n"
     ]
    },
    {
     "name": "stderr",
     "output_type": "stream",
     "text": [
      "EP_train:12:   0%|| 0/21 [00:00<?, ?it/s]"
     ]
    },
    {
     "name": "stdout",
     "output_type": "stream",
     "text": [
      "torch.Size([10, 33, 33]) torch.Size([10, 33, 64])\n",
      "torch.Size([10, 33, 33]) torch.Size([10, 33, 64])\n",
      "torch.Size([10, 33, 33]) torch.Size([10, 33, 64])\n",
      "torch.Size([10, 33, 33]) torch.Size([10, 33, 64])\n",
      "torch.Size([10, 33, 33]) torch.Size([10, 33, 64])\n",
      "torch.Size([10, 33, 33]) torch.Size([10, 33, 64])\n",
      "{'epoch': 12, 'iter': 0, 'loss:': 0.512402355670929}\n",
      "torch.Size([10, 67, 67]) torch.Size([10, 67, 64])\n",
      "torch.Size([10, 67, 67]) torch.Size([10, 67, 64])\n",
      "torch.Size([10, 67, 67]) torch.Size([10, 67, 64])\n",
      "torch.Size([10, 176, 176]) torch.Size([10, 176, 64])\n",
      "torch.Size([10, 176, 176]) torch.Size([10, 176, 64])\n"
     ]
    },
    {
     "name": "stderr",
     "output_type": "stream",
     "text": [
      "EP_train:12:   0%|| 0/21 [00:00<?, ?it/s]"
     ]
    },
    {
     "name": "stdout",
     "output_type": "stream",
     "text": [
      "torch.Size([10, 176, 176]) torch.Size([10, 176, 64])\n",
      "torch.Size([10, 54, 54]) torch.Size([10, 54, 64])\n",
      "torch.Size([10, 54, 54]) torch.Size([10, 54, 64])\n",
      "torch.Size([10, 54, 54]) torch.Size([10, 54, 64])\n",
      "torch.Size([10, 54, 54]) torch.Size([10, 54, 64])\n",
      "torch.Size([10, 54, 54]) torch.Size([10, 54, 64])\n",
      "torch.Size([10, 54, 54]) torch.Size([10, 54, 64])\n",
      "torch.Size([10, 32, 32]) torch.Size([10, 32, 64])\n",
      "torch.Size([10, 32, 32]) torch.Size([10, 32, 64])\n",
      "torch.Size([10, 32, 32]) torch.Size([10, 32, 64])\n",
      "torch.Size([10, 69, 69]) torch.Size([10, 69, 64])\n",
      "torch.Size([10, 69, 69]) torch.Size([10, 69, 64])\n",
      "torch.Size([10, 69, 69]) torch.Size([10, 69, 64])\n",
      "torch.Size([10, 196, 196]) torch.Size([10, 196, 64])\n",
      "torch.Size([10, 196, 196]) torch.Size([10, 196, 64])\n",
      "torch.Size([10, 196, 196]) torch.Size([10, 196, 64])\n",
      "torch.Size([10, 196, 196]) torch.Size([10, 196, 64])\n",
      "torch.Size([10, 196, 196]) torch.Size([10, 196, 64])\n",
      "torch.Size([10, 196, 196]) torch.Size([10, 196, 64])\n",
      "torch.Size([10, 20, 20]) torch.Size([10, 20, 64])\n",
      "torch.Size([10, 20, 20]) torch.Size([10, 20, 64])\n",
      "torch.Size([10, 20, 20]) torch.Size([10, 20, 64])\n",
      "torch.Size([10, 20, 20]) torch.Size([10, 20, 64])\n",
      "torch.Size([10, 20, 20]) torch.Size([10, 20, 64])\n",
      "torch.Size([10, 20, 20]) torch.Size([10, 20, 64])\n",
      "{'epoch': 12, 'iter': 5, 'loss:': 1.0427600145339966}\n",
      "torch.Size([10, 479, 479]) torch.Size([10, 479, 64])\n",
      "torch.Size([10, 479, 479]) torch.Size([10, 479, 64])\n",
      "torch.Size([10, 479, 479]) torch.Size([10, 479, 64])\n"
     ]
    },
    {
     "name": "stderr",
     "output_type": "stream",
     "text": [
      "EP_train:12:  33%|| 7/21 [00:00<00:00, 69.23it/s]"
     ]
    },
    {
     "name": "stdout",
     "output_type": "stream",
     "text": [
      "torch.Size([10, 479, 479]) torch.Size([10, 479, 64])\n",
      "torch.Size([10, 479, 479]) torch.Size([10, 479, 64])\n",
      "torch.Size([10, 479, 479]) torch.Size([10, 479, 64])\n",
      "torch.Size([10, 162, 162]) torch.Size([10, 162, 64])\n",
      "torch.Size([10, 162, 162]) torch.Size([10, 162, 64])\n",
      "torch.Size([10, 162, 162]) torch.Size([10, 162, 64])\n",
      "torch.Size([10, 162, 162]) torch.Size([10, 162, 64])\n",
      "torch.Size([10, 162, 162]) torch.Size([10, 162, 64])\n",
      "torch.Size([10, 162, 162]) torch.Size([10, 162, 64])\n",
      "torch.Size([10, 113, 113]) torch.Size([10, 113, 64])\n",
      "torch.Size([10, 113, 113]) torch.Size([10, 113, 64])\n",
      "torch.Size([10, 113, 113]) torch.Size([10, 113, 64])\n",
      "torch.Size([10, 113, 113]) torch.Size([10, 113, 64])\n",
      "torch.Size([10, 113, 113]) torch.Size([10, 113, 64])\n"
     ]
    },
    {
     "name": "stderr",
     "output_type": "stream",
     "text": [
      "EP_train:12:  33%|| 7/21 [00:00<00:00, 69.23it/s]"
     ]
    },
    {
     "name": "stdout",
     "output_type": "stream",
     "text": [
      "torch.Size([10, 113, 113]) torch.Size([10, 113, 64])\n",
      "torch.Size([10, 43, 43]) torch.Size([10, 43, 64])\n",
      "torch.Size([10, 43, 43]) torch.Size([10, 43, 64])\n",
      "torch.Size([10, 43, 43]) torch.Size([10, 43, 64])\n",
      "torch.Size([10, 43, 43]) torch.Size([10, 43, 64])\n",
      "torch.Size([10, 43, 43]) torch.Size([10, 43, 64])\n",
      "torch.Size([10, 43, 43]) torch.Size([10, 43, 64])\n",
      "torch.Size([10, 67, 67]) torch.Size([10, 67, 64])\n",
      "torch.Size([10, 67, 67]) torch.Size([10, 67, 64])\n",
      "torch.Size([10, 67, 67]) torch.Size([10, 67, 64])\n",
      "torch.Size([10, 67, 67]) torch.Size([10, 67, 64])\n",
      "torch.Size([10, 67, 67]) torch.Size([10, 67, 64])\n",
      "torch.Size([10, 67, 67]) torch.Size([10, 67, 64])\n",
      "{'epoch': 12, 'iter': 10, 'loss:': 0.3522445559501648}\n",
      "torch.Size([10, 15, 15]) torch.Size([10, 15, 64])\n",
      "torch.Size([10, 15, 15]) torch.Size([10, 15, 64])\n",
      "torch.Size([10, 15, 15]) torch.Size([10, 15, 64])\n",
      "torch.Size([10, 176, 176]) torch.Size([10, 176, 64])\n",
      "torch.Size([10, 176, 176]) torch.Size([10, 176, 64])\n",
      "torch.Size([10, 176, 176]) torch.Size([10, 176, 64])\n",
      "torch.Size([10, 232, 232]) torch.Size([10, 232, 64])\n",
      "torch.Size([10, 232, 232]) torch.Size([10, 232, 64])\n",
      "torch.Size([10, 232, 232]) torch.Size([10, 232, 64])\n",
      "torch.Size([10, 232, 232]) torch.Size([10, 232, 64])\n",
      "torch.Size([10, 232, 232]) torch.Size([10, 232, 64])\n",
      "torch.Size([10, 232, 232]) torch.Size([10, 232, 64])\n",
      "torch.Size([10, 78, 78]) torch.Size([10, 78, 64])\n",
      "torch.Size([10, 78, 78]) torch.Size([10, 78, 64])\n",
      "torch.Size([10, 78, 78]) torch.Size([10, 78, 64])\n",
      "torch.Size([10, 78, 78]) torch.Size([10, 78, 64])\n",
      "torch.Size([10, 78, 78]) torch.Size([10, 78, 64])\n",
      "torch.Size([10, 78, 78]) torch.Size([10, 78, 64])\n",
      "torch.Size([10, 54, 54]) torch.Size([10, 54, 64])\n",
      "torch.Size([10, 54, 54]) torch.Size([10, 54, 64])\n",
      "torch.Size([10, 54, 54]) torch.Size([10, 54, 64])\n",
      "torch.Size([10, 54, 54]) torch.Size([10, 54, 64])\n",
      "torch.Size([10, 54, 54]) torch.Size([10, 54, 64])\n",
      "torch.Size([10, 54, 54]) torch.Size([10, 54, 64])\n",
      "torch.Size([10, 31, 31])"
     ]
    },
    {
     "name": "stderr",
     "output_type": "stream",
     "text": [
      "EP_train:12:  76%|| 16/21 [00:00<00:00, 75.13it/s]"
     ]
    },
    {
     "name": "stdout",
     "output_type": "stream",
     "text": [
      " torch.Size([10, 31, 64])\n",
      "torch.Size([10, 31, 31]) torch.Size([10, 31, 64])\n",
      "torch.Size([10, 31, 31]) torch.Size([10, 31, 64])\n",
      "torch.Size([10, 176, 176]) torch.Size([10, 176, 64])\n",
      "torch.Size([10, 176, 176]) torch.Size([10, 176, 64])\n",
      "torch.Size([10, 176, 176]) torch.Size([10, 176, 64])\n",
      "{'epoch': 12, 'iter': 15, 'loss:': 1.2992597818374634}\n",
      "torch.Size([10, 53, 53]) torch.Size([10, 53, 64])\n"
     ]
    },
    {
     "name": "stderr",
     "output_type": "stream",
     "text": [
      "EP_train:12: 100%|| 21/21 [00:00<00:00, 79.04it/s]\n"
     ]
    },
    {
     "name": "stdout",
     "output_type": "stream",
     "text": [
      "torch.Size([10, 53, 53]) torch.Size([10, 53, 64])\n",
      "torch.Size([10, 53, 53]) torch.Size([10, 53, 64])\n",
      "torch.Size([10, 53, 53]) torch.Size([10, 53, 64])\n",
      "torch.Size([10, 53, 53]) torch.Size([10, 53, 64])\n",
      "torch.Size([10, 53, 53]) torch.Size([10, 53, 64])\n",
      "torch.Size([10, 60, 60]) torch.Size([10, 60, 64])\n",
      "torch.Size([10, 60, 60]) torch.Size([10, 60, 64])\n",
      "torch.Size([10, 60, 60]) torch.Size([10, 60, 64])\n",
      "torch.Size([10, 60, 60]) torch.Size([10, 60, 64])\n",
      "torch.Size([10, 60, 60]) torch.Size([10, 60, 64])\n",
      "torch.Size([10, 60, 60]) torch.Size([10, 60, 64])\n",
      "torch.Size([10, 11, 11]) torch.Size([10, 11, 64])\n",
      "torch.Size([10, 11, 11]) torch.Size([10, 11, 64])\n",
      "torch.Size([10, 11, 11]) torch.Size([10, 11, 64])\n",
      "torch.Size([10, 11, 11]) torch.Size([10, 11, 64])\n",
      "torch.Size([10, 11, 11]) torch.Size([10, 11, 64])\n",
      "torch.Size([10, 11, 11]) torch.Size([10, 11, 64])\n",
      "torch.Size([10, 178, 178]) torch.Size([10, 178, 64])\n",
      "torch.Size([10, 178, 178]) torch.Size([10, 178, 64])\n",
      "torch.Size([10, 178, 178]) torch.Size([10, 178, 64])\n",
      "torch.Size([10, 178, 178]) torch.Size([10, 178, 64])\n",
      "torch.Size([10, 178, 178]) torch.Size([10, 178, 64])\n",
      "torch.Size([10, 178, 178]) torch.Size([10, 178, 64])\n",
      "torch.Size([1, 5, 5]) torch.Size([10, 5, 64])\n",
      "torch.Size([1, 5, 5]) torch.Size([10, 5, 64])\n",
      "torch.Size([1, 5, 5]) torch.Size([10, 5, 64])\n",
      "torch.Size([1, 4, 4]) torch.Size([10, 4, 64])\n",
      "torch.Size([1, 4, 4]) torch.Size([10, 4, 64])\n",
      "torch.Size([1, 4, 4]) torch.Size([10, 4, 64])\n",
      "{'epoch': 12, 'iter': 20, 'loss:': 3.9393348693847656}\n",
      "EP:12 Model Saved on: output/parameter.model.ep12\n"
     ]
    },
    {
     "name": "stderr",
     "output_type": "stream",
     "text": [
      "EP_train:13:   0%|| 0/21 [00:00<?, ?it/s]"
     ]
    },
    {
     "name": "stdout",
     "output_type": "stream",
     "text": [
      "torch.Size([10, 33, 33]) torch.Size([10, 33, 64])\n",
      "torch.Size([10, 33, 33]) torch.Size([10, 33, 64])\n",
      "torch.Size([10, 33, 33]) torch.Size([10, 33, 64])\n",
      "torch.Size([10, 33, 33]) torch.Size([10, 33, 64])\n",
      "torch.Size([10, 33, 33]) torch.Size([10, 33, 64])\n",
      "torch.Size([10, 33, 33]) torch.Size([10, 33, 64])\n",
      "{'epoch': 13, 'iter': 0, 'loss:': 0.48589611053466797}\n",
      "torch.Size([10, 67, 67]) torch.Size([10, 67, 64])\n",
      "torch.Size([10, 67, 67]) torch.Size([10, 67, 64])\n",
      "torch.Size([10, 67, 67]) torch.Size([10, 67, 64])\n",
      "torch.Size([10, 176, 176]) torch.Size([10, 176, 64])\n",
      "torch.Size([10, 176, 176]) torch.Size([10, 176, 64])\n",
      "torch.Size([10, 176, 176]) torch.Size([10, 176, 64])\n",
      "torch.Size([10, 54, 54]) torch.Size([10, 54, 64])\n",
      "torch.Size([10, 54, 54]) torch.Size([10, 54, 64])\n",
      "torch.Size([10, 54, 54]) torch.Size([10, 54, 64])\n",
      "torch.Size([10, 54, 54]) torch.Size([10, 54, 64])\n",
      "torch.Size([10, 54, 54]) torch.Size([10, 54, 64])\n",
      "torch.Size([10, 54, 54]) torch.Size([10, 54, 64])\n",
      "torch.Size([10, 32, 32]) torch.Size([10, 32, 64])\n",
      "torch.Size([10, 32, 32]) torch.Size([10, 32, 64])\n",
      "torch.Size([10, 32, 32]) torch.Size([10, 32, 64])\n",
      "torch.Size([10, 69, 69]) torch.Size([10, 69, 64])\n",
      "torch.Size([10, 69, 69]) torch.Size([10, 69, 64])\n",
      "torch.Size([10, 69, 69]) torch.Size([10, 69, 64])\n",
      "torch.Size([10, 196, 196]) torch.Size([10, 196, 64])\n",
      "torch.Size([10, 196, 196]) torch.Size([10, 196, 64])\n",
      "torch.Size([10, 196, 196]) torch.Size([10, 196, 64])\n",
      "torch.Size([10, 196, 196]) torch.Size([10, 196, 64])\n",
      "torch.Size([10, 196, 196]) torch.Size([10, 196, 64])\n",
      "torch.Size([10, 196, 196]) torch.Size([10, 196, 64])\n",
      "torch.Size([10, 20, 20]) torch.Size([10, 20, 64])\n",
      "torch.Size([10, 20, 20]) torch.Size([10, 20, 64])\n",
      "torch.Size([10, 20, 20]) torch.Size([10, 20, 64])\n",
      "torch.Size([10, 20, 20]) torch.Size([10, 20, 64])\n",
      "torch.Size([10, 20, 20]) torch.Size([10, 20, 64])\n",
      "torch.Size([10, 20, 20]) torch.Size([10, 20, 64])\n"
     ]
    },
    {
     "name": "stderr",
     "output_type": "stream",
     "text": [
      "EP_train:13:   0%|| 0/21 [00:00<?, ?it/s]"
     ]
    },
    {
     "name": "stdout",
     "output_type": "stream",
     "text": [
      "{'epoch': 13, 'iter': 5, 'loss:': 1.0726728439331055}\n",
      "torch.Size([10, 479, 479]) torch.Size([10, 479, 64])\n",
      "torch.Size([10, 479, 479]) torch.Size([10, 479, 64])\n",
      "torch.Size([10, 479, 479]) torch.Size([10, 479, 64])\n",
      "torch.Size([10, 479, 479]) torch.Size([10, 479, 64])\n",
      "torch.Size([10, 479, 479]) torch.Size([10, 479, 64])\n",
      "torch.Size([10, 479, 479]) torch.Size([10, 479, 64])\n",
      "torch.Size([10, 162, 162]) torch.Size([10, 162, 64])\n",
      "torch.Size([10, 162, 162]) torch.Size([10, 162, 64])\n",
      "torch.Size([10, 162, 162]) torch.Size([10, 162, 64])\n",
      "torch.Size([10, 162, 162]) torch.Size([10, 162, 64])\n",
      "torch.Size([10, 162, 162]) torch.Size([10, 162, 64])\n",
      "torch.Size([10, 162, 162]) torch.Size([10, 162, 64])\n"
     ]
    },
    {
     "name": "stderr",
     "output_type": "stream",
     "text": [
      "EP_train:13:  38%|| 8/21 [00:00<00:00, 79.30it/s]"
     ]
    },
    {
     "name": "stdout",
     "output_type": "stream",
     "text": [
      "torch.Size([10, 113, 113]) torch.Size([10, 113, 64])\n",
      "torch.Size([10, 113, 113]) torch.Size([10, 113, 64])\n",
      "torch.Size([10, 113, 113]) torch.Size([10, 113, 64])\n",
      "torch.Size([10, 113, 113]) torch.Size([10, 113, 64])\n",
      "torch.Size([10, 113, 113]) torch.Size([10, 113, 64])\n",
      "torch.Size([10, 113, 113]) torch.Size([10, 113, 64])\n"
     ]
    },
    {
     "name": "stderr",
     "output_type": "stream",
     "text": [
      "EP_train:13:  38%|| 8/21 [00:00<00:00, 79.30it/s]"
     ]
    },
    {
     "name": "stdout",
     "output_type": "stream",
     "text": [
      "torch.Size([10, 43, 43]) torch.Size([10, 43, 64])\n",
      "torch.Size([10, 43, 43]) torch.Size([10, 43, 64])\n",
      "torch.Size([10, 43, 43]) torch.Size([10, 43, 64])\n",
      "torch.Size([10, 43, 43]) torch.Size([10, 43, 64])\n",
      "torch.Size([10, 43, 43]) torch.Size([10, 43, 64])\n",
      "torch.Size([10, 43, 43]) torch.Size([10, 43, 64])\n",
      "torch.Size([10, 67, 67]) torch.Size([10, 67, 64])\n",
      "torch.Size([10, 67, 67]) torch.Size([10, 67, 64])\n",
      "torch.Size([10, 67, 67]) torch.Size([10, 67, 64])\n",
      "torch.Size([10, 67, 67]) torch.Size([10, 67, 64])\n",
      "torch.Size([10, 67, 67]) torch.Size([10, 67, 64])\n",
      "torch.Size([10, 67, 67]) torch.Size([10, 67, 64])\n",
      "{'epoch': 13, 'iter': 10, 'loss:': 0.3207673132419586}\n",
      "torch.Size([10, 15, 15]) torch.Size([10, 15, 64])\n",
      "torch.Size([10, 15, 15]) torch.Size([10, 15, 64])\n",
      "torch.Size([10, 15, 15]) torch.Size([10, 15, 64])\n",
      "torch.Size([10, 176, 176]) torch.Size([10, 176, 64])\n",
      "torch.Size([10, 176, 176]) torch.Size([10, 176, 64])\n",
      "torch.Size([10, 176, 176]) torch.Size([10, 176, 64])\n",
      "torch.Size([10, 232, 232]) torch.Size([10, 232, 64])\n",
      "torch.Size([10, 232, 232]) torch.Size([10, 232, 64])\n",
      "torch.Size([10, 232, 232]) torch.Size([10, 232, 64])\n"
     ]
    },
    {
     "name": "stderr",
     "output_type": "stream",
     "text": [
      "EP_train:13:  38%|| 8/21 [00:00<00:00, 79.30it/s]"
     ]
    },
    {
     "name": "stdout",
     "output_type": "stream",
     "text": [
      "torch.Size([10, 232, 232]) torch.Size([10, 232, 64])\n",
      "torch.Size([10, 232, 232]) torch.Size([10, 232, 64])\n",
      "torch.Size([10, 232, 232]) torch.Size([10, 232, 64])\n",
      "torch.Size([10, 78, 78]) torch.Size([10, 78, 64])\n",
      "torch.Size([10, 78, 78]) torch.Size([10, 78, 64])\n",
      "torch.Size([10, 78, 78]) torch.Size([10, 78, 64])\n",
      "torch.Size([10, 78, 78]) torch.Size([10, 78, 64])\n",
      "torch.Size([10, 78, 78]) torch.Size([10, 78, 64])\n",
      "torch.Size([10, 78, 78]) torch.Size([10, 78, 64])\n",
      "torch.Size([10, 54, 54]) torch.Size([10, 54, 64])\n",
      "torch.Size([10, 54, 54]) torch.Size([10, 54, 64])\n",
      "torch.Size([10, 54, 54]) torch.Size([10, 54, 64])\n",
      "torch.Size([10, 54, 54]) torch.Size([10, 54, 64])\n",
      "torch.Size([10, 54, 54]) torch.Size([10, 54, 64])\n",
      "torch.Size([10, 54, 54]) torch.Size([10, 54, 64])\n",
      "torch.Size([10, 31, 31]) torch.Size([10, 31, 64])\n",
      "torch.Size([10, 31, 31]) torch.Size([10, 31, 64])\n",
      "torch.Size([10, 31, 31]) torch.Size([10, 31, 64])\n",
      "torch.Size([10, 176, 176]) torch.Size([10, 176, 64])\n",
      "torch.Size([10, 176, 176]) torch.Size([10, 176, 64])\n",
      "torch.Size([10, 176, 176]) torch.Size([10, 176, 64])\n",
      "{'epoch': 13, 'iter': 15, 'loss:': 1.2221271991729736}\n",
      "torch.Size([10, 53, 53]) torch.Size([10, 53, 64])\n",
      "torch.Size([10, 53, 53]) torch.Size([10, 53, 64])\n",
      "torch.Size([10, 53, 53]) torch.Size([10, 53, 64])\n",
      "torch.Size([10, 53, 53]) torch.Size([10, 53, 64])\n",
      "torch.Size([10, 53, 53]) torch.Size([10, 53, 64])\n",
      "torch.Size([10, 53, 53]) torch.Size([10, 53, 64])\n",
      "torch.Size([10, 60, 60]) torch.Size([10, 60, 64])\n",
      "torch.Size([10, 60, 60]) torch.Size([10, 60, 64])\n",
      "torch.Size([10, 60, 60]) torch.Size([10, 60, 64])\n",
      "torch.Size([10, 60, 60]) torch.Size([10, 60, 64])\n",
      "torch.Size([10, 60, 60]) torch.Size([10, 60, 64])\n",
      "torch.Size([10, 60, 60]) torch.Size([10, 60, 64])\n"
     ]
    },
    {
     "name": "stderr",
     "output_type": "stream",
     "text": [
      "EP_train:13:  86%|| 18/21 [00:00<00:00, 86.29it/s]"
     ]
    },
    {
     "name": "stdout",
     "output_type": "stream",
     "text": [
      "torch.Size([10, 11, 11]) torch.Size([10, 11, 64])\n",
      "torch.Size([10, 11, 11]) torch.Size([10, 11, 64])\n",
      "torch.Size([10, 11, 11]) torch.Size([10, 11, 64])\n",
      "torch.Size([10, 11, 11]) torch.Size([10, 11, 64])\n",
      "torch.Size([10, 11, 11]) torch.Size([10, 11, 64])\n",
      "torch.Size([10, 11, 11]) torch.Size([10, 11, 64])\n"
     ]
    },
    {
     "name": "stderr",
     "output_type": "stream",
     "text": [
      "EP_train:13: 100%|| 21/21 [00:00<00:00, 88.33it/s]\n"
     ]
    },
    {
     "name": "stdout",
     "output_type": "stream",
     "text": [
      "torch.Size([10, 178, 178]) torch.Size([10, 178, 64])\n",
      "torch.Size([10, 178, 178]) torch.Size([10, 178, 64])\n",
      "torch.Size([10, 178, 178]) torch.Size([10, 178, 64])\n",
      "torch.Size([10, 178, 178]) torch.Size([10, 178, 64])\n",
      "torch.Size([10, 178, 178]) torch.Size([10, 178, 64])\n",
      "torch.Size([10, 178, 178]) torch.Size([10, 178, 64])\n",
      "torch.Size([1, 5, 5]) torch.Size([10, 5, 64])\n",
      "torch.Size([1, 5, 5]) torch.Size([10, 5, 64])\n",
      "torch.Size([1, 5, 5]) torch.Size([10, 5, 64])\n",
      "torch.Size([1, 4, 4]) torch.Size([10, 4, 64])\n",
      "torch.Size([1, 4, 4]) torch.Size([10, 4, 64])\n",
      "torch.Size([1, 4, 4]) torch.Size([10, 4, 64])\n",
      "{'epoch': 13, 'iter': 20, 'loss:': 3.936534881591797}\n",
      "EP:13 Model Saved on: output/parameter.model.ep13\n"
     ]
    },
    {
     "name": "stderr",
     "output_type": "stream",
     "text": [
      "EP_train:14:   0%|| 0/21 [00:00<?, ?it/s]"
     ]
    },
    {
     "name": "stdout",
     "output_type": "stream",
     "text": [
      "torch.Size([10, 33, 33]) torch.Size([10, 33, 64])\n",
      "torch.Size([10, 33, 33]) torch.Size([10, 33, 64])\n",
      "torch.Size([10, 33, 33]) torch.Size([10, 33, 64])\n",
      "torch.Size([10, 33, 33]) torch.Size([10, 33, 64])\n",
      "torch.Size([10, 33, 33]) torch.Size([10, 33, 64])\n",
      "torch.Size([10, 33, 33]) torch.Size([10, 33, 64])\n",
      "{'epoch': 14, 'iter': 0, 'loss:': 0.4713614881038666}\n",
      "torch.Size([10, 67, 67]) torch.Size([10, 67, 64])\n",
      "torch.Size([10, 67, 67]) torch.Size([10, 67, 64])\n",
      "torch.Size([10, 67, 67]) torch.Size([10, 67, 64])\n",
      "torch.Size([10, 176, 176]) torch.Size([10, 176, 64])\n",
      "torch.Size([10, 176, 176]) torch.Size([10, 176, 64])\n",
      "torch.Size([10, 176, 176]) torch.Size([10, 176, 64])\n"
     ]
    },
    {
     "name": "stderr",
     "output_type": "stream",
     "text": [
      "EP_train:14:   0%|| 0/21 [00:00<?, ?it/s]"
     ]
    },
    {
     "name": "stdout",
     "output_type": "stream",
     "text": [
      "torch.Size([10, 54, 54]) torch.Size([10, 54, 64])\n",
      "torch.Size([10, 54, 54]) torch.Size([10, 54, 64])\n",
      "torch.Size([10, 54, 54]) torch.Size([10, 54, 64])\n",
      "torch.Size([10, 54, 54]) torch.Size([10, 54, 64])\n",
      "torch.Size([10, 54, 54]) torch.Size([10, 54, 64])\n",
      "torch.Size([10, 54, 54]) torch.Size([10, 54, 64])\n",
      "torch.Size([10, 32, 32]) torch.Size([10, 32, 64])\n",
      "torch.Size([10, 32, 32]) torch.Size([10, 32, 64])\n",
      "torch.Size([10, 32, 32]) torch.Size([10, 32, 64])\n",
      "torch.Size([10, 69, 69]) torch.Size([10, 69, 64])\n",
      "torch.Size([10, 69, 69]) torch.Size([10, 69, 64])\n",
      "torch.Size([10, 69, 69]) torch.Size([10, 69, 64])\n",
      "torch.Size([10, 196, 196]) torch.Size([10, 196, 64])\n",
      "torch.Size([10, 196, 196]) torch.Size([10, 196, 64])\n",
      "torch.Size([10, 196, 196]) torch.Size([10, 196, 64])\n",
      "torch.Size([10, 196, 196]) torch.Size([10, 196, 64])\n",
      "torch.Size([10, 196, 196]) torch.Size([10, 196, 64])\n",
      "torch.Size([10, 196, 196]) torch.Size([10, 196, 64])\n",
      "torch.Size([10, 20, 20]) torch.Size([10, 20, 64])\n",
      "torch.Size([10, 20, 20]) torch.Size([10, 20, 64])\n",
      "torch.Size([10, 20, 20]) torch.Size([10, 20, 64])\n",
      "torch.Size([10, 20, 20]) torch.Size([10, 20, 64])\n",
      "torch.Size([10, 20, 20]) torch.Size([10, 20, 64])\n",
      "torch.Size([10, 20, 20]) torch.Size([10, 20, 64])\n",
      "{'epoch': 14, 'iter': 5, 'loss:': 1.0869721174240112}\n",
      "torch.Size([10, 479, 479]) torch.Size([10, 479, 64])\n",
      "torch.Size([10, 479, 479]) torch.Size([10, 479, 64])\n",
      "torch.Size([10, 479, 479]) torch.Size([10, 479, 64])\n",
      "torch.Size([10, 479, 479]) torch.Size([10, 479, 64])\n",
      "torch.Size([10, 479, 479]) torch.Size([10, 479, 64])\n",
      "torch.Size([10, 479, 479]) torch.Size([10, 479, 64])\n",
      "torch.Size([10, 162, 162]) torch.Size([10, 162, 64])\n",
      "torch.Size([10, 162, 162]) torch.Size([10, 162, 64])\n",
      "torch.Size([10, 162, 162]) torch.Size([10, 162, 64])\n",
      "torch.Size([10, 162, 162]) torch.Size([10, 162, 64])\n",
      "torch.Size([10, 162, 162]) torch.Size([10, 162, 64])\n"
     ]
    },
    {
     "name": "stderr",
     "output_type": "stream",
     "text": [
      "EP_train:14:  38%|| 8/21 [00:00<00:00, 77.67it/s]"
     ]
    },
    {
     "name": "stdout",
     "output_type": "stream",
     "text": [
      "torch.Size([10, 162, 162]) torch.Size([10, 162, 64])\n",
      "torch.Size([10, 113, 113]) torch.Size([10, 113, 64])\n",
      "torch.Size([10, 113, 113]) torch.Size([10, 113, 64])\n",
      "torch.Size([10, 113, 113]) torch.Size([10, 113, 64])\n",
      "torch.Size([10, 113, 113]) torch.Size([10, 113, 64])\n",
      "torch.Size([10, 113, 113]) torch.Size([10, 113, 64])\n",
      "torch.Size([10, 113, 113]) torch.Size([10, 113, 64])\n"
     ]
    },
    {
     "name": "stderr",
     "output_type": "stream",
     "text": [
      "EP_train:14:  38%|| 8/21 [00:00<00:00, 77.67it/s]"
     ]
    },
    {
     "name": "stdout",
     "output_type": "stream",
     "text": [
      "torch.Size([10, 43, 43]) torch.Size([10, 43, 64])\n",
      "torch.Size([10, 43, 43]) torch.Size([10, 43, 64])\n",
      "torch.Size([10, 43, 43]) torch.Size([10, 43, 64])\n",
      "torch.Size([10, 43, 43]) torch.Size([10, 43, 64])\n",
      "torch.Size([10, 43, 43]) torch.Size([10, 43, 64])\n",
      "torch.Size([10, 43, 43]) torch.Size([10, 43, 64])\n",
      "torch.Size([10, 67, 67]) torch.Size([10, 67, 64])\n",
      "torch.Size([10, 67, 67]) torch.Size([10, 67, 64])\n",
      "torch.Size([10, 67, 67]) torch.Size([10, 67, 64])\n",
      "torch.Size([10, 67, 67]) torch.Size([10, 67, 64])\n",
      "torch.Size([10, 67, 67]) torch.Size([10, 67, 64])\n",
      "torch.Size([10, 67, 67]) torch.Size([10, 67, 64])\n",
      "{'epoch': 14, 'iter': 10, 'loss:': 0.29908445477485657}\n",
      "torch.Size([10, 15, 15]) torch.Size([10, 15, 64])\n",
      "torch.Size([10, 15, 15]) torch.Size([10, 15, 64])\n",
      "torch.Size([10, 15, 15]) torch.Size([10, 15, 64])\n",
      "torch.Size([10, 176, 176]) torch.Size([10, 176, 64])\n",
      "torch.Size([10, 176, 176]) torch.Size([10, 176, 64])\n",
      "torch.Size([10, 176, 176]) torch.Size([10, 176, 64])\n",
      "torch.Size([10, 232, 232]) torch.Size([10, 232, 64])\n",
      "torch.Size([10, 232, 232]) torch.Size([10, 232, 64])\n",
      "torch.Size([10, 232, 232]) torch.Size([10, 232, 64])\n",
      "torch.Size([10, 232, 232]) torch.Size([10, 232, 64])\n",
      "torch.Size([10, 232, 232]) torch.Size([10, 232, 64])\n",
      "torch.Size([10, 232, 232]) torch.Size([10, 232, 64])\n",
      "torch.Size([10, 78, 78]) torch.Size([10, 78, 64])\n",
      "torch.Size([10, 78, 78]) torch.Size([10, 78, 64])\n",
      "torch.Size([10, 78, 78]) torch.Size([10, 78, 64])\n",
      "torch.Size([10, 78, 78]) torch.Size([10, 78, 64])\n",
      "torch.Size([10, 78, 78]) torch.Size([10, 78, 64])\n",
      "torch.Size([10, 78, 78]) torch.Size([10, 78, 64])\n",
      "torch.Size([10, 54, 54]) torch.Size([10, 54, 64])\n",
      "torch.Size([10, 54, 54]) torch.Size([10, 54, 64])\n",
      "torch.Size([10, 54, 54]) torch.Size([10, 54, 64])\n",
      "torch.Size([10, 54, 54]) torch.Size([10, 54, 64])\n",
      "torch.Size([10, 54, 54]) torch.Size([10, 54, 64])\n",
      "torch.Size([10, 54, 54]) torch.Size([10, 54, 64])\n",
      "torch.Size([10, 31, 31]) torch.Size([10, 31, 64])\n",
      "torch.Size([10, 31, 31]) torch.Size([10, 31, 64])\n",
      "torch.Size([10, 31, 31]) torch.Size([10, 31, 64])\n",
      "torch.Size([10, 176, 176]) torch.Size([10, 176, 64])\n",
      "torch.Size([10, 176, 176]) torch.Size([10, 176, 64])\n",
      "torch.Size([10, 176, 176]) torch.Size([10, 176, 64])\n",
      "{'epoch': 14, 'iter': 15, 'loss:': 1.1750935316085815}\n",
      "torch.Size([10, 53, 53]) torch.Size([10, 53, 64])\n",
      "torch.Size([10, 53, 53]) torch.Size([10, 53, 64])\n",
      "torch.Size([10, 53, 53]) torch.Size([10, 53, 64])\n",
      "torch.Size([10, 53, 53]) torch.Size([10, 53, 64])\n",
      "torch.Size([10, 53, 53]) torch.Size([10, 53, 64])\n",
      "torch.Size([10, 53, 53]) torch.Size([10, 53, 64])\n",
      "torch.Size([10, 60, 60]) torch.Size([10, 60, 64])\n",
      "torch.Size([10, 60, 60]) torch.Size([10, 60, 64])\n",
      "torch.Size([10, 60, 60]) torch.Size([10, 60, 64])\n",
      "torch.Size([10, 60, 60]) torch.Size([10, 60, 64])\n",
      "torch.Size([10, 60, 60]) torch.Size([10, 60, 64])\n",
      "torch.Size([10, 60, 60]) torch.Size([10, 60, 64])\n",
      "torch.Size([10, 11, 11]) torch.Size([10, 11, 64])\n",
      "torch.Size([10, 11, 11]) torch.Size([10, 11, 64])\n",
      "torch.Size([10, 11, 11]) torch.Size([10, 11, 64])\n",
      "torch.Size([10, 11, 11]) torch.Size([10, 11, 64])\n",
      "torch.Size([10, 11, 11]) torch.Size([10, 11, 64])\n",
      "torch.Size([10, 11, 11]) torch.Size([10, 11, 64])\n",
      "torch.Size([10, 178, 178]) torch.Size([10, 178, 64])\n",
      "torch.Size([10, 178, 178]) torch.Size([10, 178, 64])\n",
      "torch.Size([10, 178, 178]) torch.Size([10, 178, 64])\n",
      "torch.Size([10, 178, 178]) torch.Size([10, 178, 64])\n",
      "torch.Size([10, 178, 178]) torch.Size([10, 178, 64])\n",
      "torch.Size([10, 178, 178]) torch.Size([10, 178, 64])\n"
     ]
    },
    {
     "name": "stderr",
     "output_type": "stream",
     "text": [
      "EP_train:14: 100%|| 21/21 [00:00<00:00, 112.46it/s]\n"
     ]
    },
    {
     "name": "stdout",
     "output_type": "stream",
     "text": [
      "torch.Size([1, 5, 5]) torch.Size([10, 5, 64])\n",
      "torch.Size([1, 5, 5]) torch.Size([10, 5, 64])\n",
      "torch.Size([1, 5, 5]) torch.Size([10, 5, 64])\n",
      "torch.Size([1, 4, 4]) torch.Size([10, 4, 64])\n",
      "torch.Size([1, 4, 4]) torch.Size([10, 4, 64])\n",
      "torch.Size([1, 4, 4]) torch.Size([10, 4, 64])\n",
      "{'epoch': 14, 'iter': 20, 'loss:': 3.9330379962921143}\n",
      "EP:14 Model Saved on: output/parameter.model.ep14\n"
     ]
    },
    {
     "name": "stderr",
     "output_type": "stream",
     "text": [
      "EP_train:15:   0%|| 0/21 [00:00<?, ?it/s]"
     ]
    },
    {
     "name": "stdout",
     "output_type": "stream",
     "text": [
      "torch.Size([10, 33, 33]) torch.Size([10, 33, 64])\n",
      "torch.Size([10, 33, 33]) torch.Size([10, 33, 64])\n",
      "torch.Size([10, 33, 33]) torch.Size([10, 33, 64])\n",
      "torch.Size([10, 33, 33]) torch.Size([10, 33, 64])\n",
      "torch.Size([10, 33, 33]) torch.Size([10, 33, 64])\n",
      "torch.Size([10, 33, 33]) torch.Size([10, 33, 64])\n",
      "{'epoch': 15, 'iter': 0, 'loss:': 0.4657990038394928}\n",
      "torch.Size([10, 67, 67]) torch.Size([10, 67, 64])\n",
      "torch.Size([10, 67, 67]) torch.Size([10, 67, 64])\n",
      "torch.Size([10, 67, 67]) torch.Size([10, 67, 64])\n",
      "torch.Size([10, 176, 176]) torch.Size([10, 176, 64])\n",
      "torch.Size([10, 176, 176]) torch.Size([10, 176, 64])\n",
      "torch.Size([10, 176, 176]) torch.Size([10, 176, 64])\n",
      "torch.Size([10, 54, 54]) torch.Size([10, 54, 64])\n",
      "torch.Size([10, 54, 54]) torch.Size([10, 54, 64])\n",
      "torch.Size([10, 54, 54]) torch.Size([10, 54, 64])\n",
      "torch.Size([10, 54, 54]) torch.Size([10, 54, 64])\n",
      "torch.Size([10, 54, 54]) torch.Size([10, 54, 64])\n",
      "torch.Size([10, 54, 54]) torch.Size([10, 54, 64])\n",
      "torch.Size([10, 32, 32]) torch.Size([10, 32, 64])\n",
      "torch.Size([10, 32, 32]) torch.Size([10, 32, 64])\n",
      "torch.Size([10, 32, 32]) torch.Size([10, 32, 64])\n",
      "torch.Size([10, 69, 69]) torch.Size([10, 69, 64])\n",
      "torch.Size([10, 69, 69]) torch.Size([10, 69, 64])\n",
      "torch.Size([10, 69, 69]) torch.Size([10, 69, 64])\n",
      "torch.Size([10, 196, 196]) torch.Size([10, 196, 64])\n",
      "torch.Size([10, 196, 196]) torch.Size([10, 196, 64])\n",
      "torch.Size([10, 196, 196]) torch.Size([10, 196, 64])\n",
      "torch.Size([10, 196, 196]) torch.Size([10, 196, 64])\n",
      "torch.Size([10, 196, 196]) torch.Size([10, 196, 64])\n",
      "torch.Size([10, 196, 196]) torch.Size([10, 196, 64])\n"
     ]
    },
    {
     "name": "stderr",
     "output_type": "stream",
     "text": [
      "EP_train:15:   0%|| 0/21 [00:00<?, ?it/s]"
     ]
    },
    {
     "name": "stdout",
     "output_type": "stream",
     "text": [
      "torch.Size([10, 20, 20]) torch.Size([10, 20, 64])\n",
      "torch.Size([10, 20, 20]) torch.Size([10, 20, 64])\n",
      "torch.Size([10, 20, 20]) torch.Size([10, 20, 64])\n",
      "torch.Size([10, 20, 20]) torch.Size([10, 20, 64])\n",
      "torch.Size([10, 20, 20]) torch.Size([10, 20, 64])\n",
      "torch.Size([10, 20, 20]) torch.Size([10, 20, 64])\n",
      "{'epoch': 15, 'iter': 5, 'loss:': 1.093217372894287}\n",
      "torch.Size([10, 479, 479]) torch.Size([10, 479, 64])\n",
      "torch.Size([10, 479, 479]) torch.Size([10, 479, 64])\n",
      "torch.Size([10, 479, 479]) torch.Size([10, 479, 64])\n",
      "torch.Size([10, 479, 479]) torch.Size([10, 479, 64])\n",
      "torch.Size([10, 479, 479]) torch.Size([10, 479, 64])\n",
      "torch.Size([10, 479, 479]) torch.Size([10, 479, 64])\n",
      "torch.Size([10, 162, 162]) torch.Size([10, 162, 64])\n",
      "torch.Size([10, 162, 162]) torch.Size([10, 162, 64])\n",
      "torch.Size([10, 162, 162]) torch.Size([10, 162, 64])\n",
      "torch.Size([10, 162, 162]) torch.Size([10, 162, 64])\n",
      "torch.Size([10, 162, 162]) torch.Size([10, 162, 64])\n",
      "torch.Size([10, 162, 162]) torch.Size([10, 162, 64])\n",
      "torch.Size([10, 113, 113]) torch.Size([10, 113, 64])\n",
      "torch.Size([10, 113, 113]) torch.Size([10, 113, 64])\n",
      "torch.Size([10, 113, 113]) torch.Size([10, 113, 64])\n",
      "torch.Size([10, 113, 113]) torch.Size([10, 113, 64])\n",
      "torch.Size([10, 113, 113]) torch.Size([10, 113, 64])\n",
      "torch.Size([10, 113, 113]) torch.Size([10, 113, 64])\n"
     ]
    },
    {
     "name": "stderr",
     "output_type": "stream",
     "text": [
      "EP_train:15:   0%|| 0/21 [00:00<?, ?it/s]"
     ]
    },
    {
     "name": "stdout",
     "output_type": "stream",
     "text": [
      "torch.Size([10, 43, 43]) torch.Size([10, 43, 64])\n",
      "torch.Size([10, 43, 43]) torch.Size([10, 43, 64])\n",
      "torch.Size([10, 43, 43]) torch.Size([10, 43, 64])\n",
      "torch.Size([10, 43, 43]) torch.Size([10, 43, 64])\n",
      "torch.Size([10, 43, 43]) torch.Size([10, 43, 64])\n",
      "torch.Size([10, 43, 43]) torch.Size([10, 43, 64])\n",
      "torch.Size([10, 67, 67]) torch.Size([10, 67, 64])\n",
      "torch.Size([10, 67, 67]) torch.Size([10, 67, 64])\n",
      "torch.Size([10, 67, 67]) torch.Size([10, 67, 64])\n",
      "torch.Size([10, 67, 67]) torch.Size([10, 67, 64])\n",
      "torch.Size([10, 67, 67]) torch.Size([10, 67, 64])\n",
      "torch.Size([10, 67, 67]) torch.Size([10, 67, 64])\n",
      "{'epoch': 15, 'iter': 10, 'loss:': 0.28156784176826477}\n",
      "torch.Size([10, 15, 15]) torch.Size([10, 15, 64])\n",
      "torch.Size([10, 15, 15]) torch.Size([10, 15, 64])\n",
      "torch.Size([10, 15, 15]) torch.Size([10, 15, 64])\n",
      "torch.Size([10, 176, 176]) torch.Size([10, 176, 64])\n",
      "torch.Size([10, 176, 176]) torch.Size([10, 176, 64])\n",
      "torch.Size([10, 176, 176]) torch.Size([10, 176, 64])\n",
      "torch.Size([10, 232, 232]) torch.Size([10, 232, 64])\n",
      "torch.Size([10, 232, 232]) torch.Size([10, 232, 64])\n",
      "torch.Size([10, 232, 232]) torch.Size([10, 232, 64])\n",
      "torch.Size([10, 232, 232]) torch.Size([10, 232, 64])\n",
      "torch.Size([10, 232, 232]) torch.Size([10, 232, 64])\n",
      "torch.Size([10, 232, 232]) torch.Size([10, 232, 64])\n"
     ]
    },
    {
     "name": "stderr",
     "output_type": "stream",
     "text": [
      "EP_train:15:  62%|| 13/21 [00:00<00:00, 120.53it/s]"
     ]
    },
    {
     "name": "stdout",
     "output_type": "stream",
     "text": [
      "torch.Size([10, 78, 78]) torch.Size([10, 78, 64])\n",
      "torch.Size([10, 78, 78]) torch.Size([10, 78, 64])\n",
      "torch.Size([10, 78, 78]) torch.Size([10, 78, 64])\n",
      "torch.Size([10, 78, 78]) torch.Size([10, 78, 64])\n",
      "torch.Size([10, 78, 78]) torch.Size([10, 78, 64])\n",
      "torch.Size([10, 78, 78]) torch.Size([10, 78, 64])\n",
      "torch.Size([10, 54, 54]) torch.Size([10, 54, 64])\n",
      "torch.Size([10, 54, 54]) torch.Size([10, 54, 64])\n",
      "torch.Size([10, 54, 54]) torch.Size([10, 54, 64])\n",
      "torch.Size([10, 54, 54]) torch.Size([10, 54, 64])\n",
      "torch.Size([10, 54, 54]) torch.Size([10, 54, 64])\n",
      "torch.Size([10, 54, 54]) torch.Size([10, 54, 64])\n",
      "torch.Size([10, 31, 31]) torch.Size([10, 31, 64])\n",
      "torch.Size([10, 31, 31]) torch.Size([10, 31, 64])\n",
      "torch.Size([10, 31, 31]) torch.Size([10, 31, 64])\n",
      "torch.Size([10, 176, 176]) torch.Size([10, 176, 64])\n",
      "torch.Size([10, 176, 176]) torch.Size([10, 176, 64])\n",
      "torch.Size([10, 176, 176]) torch.Size([10, 176, 64])\n"
     ]
    },
    {
     "name": "stderr",
     "output_type": "stream",
     "text": [
      "EP_train:15: 100%|| 21/21 [00:00<00:00, 137.27it/s]\n"
     ]
    },
    {
     "name": "stdout",
     "output_type": "stream",
     "text": [
      "{'epoch': 15, 'iter': 15, 'loss:': 1.1450388431549072}\n",
      "torch.Size([10, 53, 53]) torch.Size([10, 53, 64])\n",
      "torch.Size([10, 53, 53]) torch.Size([10, 53, 64])\n",
      "torch.Size([10, 53, 53]) torch.Size([10, 53, 64])\n",
      "torch.Size([10, 53, 53]) torch.Size([10, 53, 64])\n",
      "torch.Size([10, 53, 53]) torch.Size([10, 53, 64])\n",
      "torch.Size([10, 53, 53]) torch.Size([10, 53, 64])\n",
      "torch.Size([10, 60, 60]) torch.Size([10, 60, 64])\n",
      "torch.Size([10, 60, 60]) torch.Size([10, 60, 64])\n",
      "torch.Size([10, 60, 60]) torch.Size([10, 60, 64])\n",
      "torch.Size([10, 60, 60]) torch.Size([10, 60, 64])\n",
      "torch.Size([10, 60, 60]) torch.Size([10, 60, 64])\n",
      "torch.Size([10, 60, 60]) torch.Size([10, 60, 64])\n",
      "torch.Size([10, 11, 11]) torch.Size([10, 11, 64])\n",
      "torch.Size([10, 11, 11]) torch.Size([10, 11, 64])\n",
      "torch.Size([10, 11, 11]) torch.Size([10, 11, 64])\n",
      "torch.Size([10, 11, 11]) torch.Size([10, 11, 64])\n",
      "torch.Size([10, 11, 11]) torch.Size([10, 11, 64])\n",
      "torch.Size([10, 11, 11]) torch.Size([10, 11, 64])\n",
      "torch.Size([10, 178, 178]) torch.Size([10, 178, 64])\n",
      "torch.Size([10, 178, 178]) torch.Size([10, 178, 64])\n",
      "torch.Size([10, 178, 178]) torch.Size([10, 178, 64])\n",
      "torch.Size([10, 178, 178]) torch.Size([10, 178, 64])\n",
      "torch.Size([10, 178, 178]) torch.Size([10, 178, 64])\n",
      "torch.Size([10, 178, 178]) torch.Size([10, 178, 64])\n",
      "torch.Size([1, 5, 5]) torch.Size([10, 5, 64])\n",
      "torch.Size([1, 5, 5]) torch.Size([10, 5, 64])\n",
      "torch.Size([1, 5, 5]) torch.Size([10, 5, 64])\n",
      "torch.Size([1, 4, 4]) torch.Size([10, 4, 64])\n",
      "torch.Size([1, 4, 4]) torch.Size([10, 4, 64])\n",
      "torch.Size([1, 4, 4]) torch.Size([10, 4, 64])\n",
      "{'epoch': 15, 'iter': 20, 'loss:': 3.928800106048584}\n",
      "EP:15 Model Saved on: output/parameter.model.ep15\n"
     ]
    },
    {
     "name": "stderr",
     "output_type": "stream",
     "text": [
      "EP_train:16:   0%|| 0/21 [00:00<?, ?it/s]"
     ]
    },
    {
     "name": "stdout",
     "output_type": "stream",
     "text": [
      "torch.Size([10, 33, 33]) torch.Size([10, 33, 64])\n",
      "torch.Size([10, 33, 33]) torch.Size([10, 33, 64])\n",
      "torch.Size([10, 33, 33]) torch.Size([10, 33, 64])\n",
      "torch.Size([10, 33, 33]) torch.Size([10, 33, 64])\n",
      "torch.Size([10, 33, 33]) torch.Size([10, 33, 64])\n",
      "torch.Size([10, 33, 33]) torch.Size([10, 33, 64])\n",
      "{'epoch': 16, 'iter': 0, 'loss:': 0.4916594922542572}\n",
      "torch.Size([10, 67, 67]) torch.Size([10, 67, 64])\n",
      "torch.Size([10, 67, 67]) torch.Size([10, 67, 64])\n",
      "torch.Size([10, 67, 67]) torch.Size([10, 67, 64])\n",
      "torch.Size([10, 176, 176]) torch.Size([10, 176, 64])\n",
      "torch.Size([10, 176, 176]) torch.Size([10, 176, 64])\n",
      "torch.Size([10, 176, 176]) torch.Size([10, 176, 64])\n",
      "torch.Size([10, 54, 54]) torch.Size([10, 54, 64])\n",
      "torch.Size([10, 54, 54]) torch.Size([10, 54, 64])\n",
      "torch.Size([10, 54, 54]) torch.Size([10, 54, 64])\n",
      "torch.Size([10, 54, 54]) torch.Size([10, 54, 64])\n",
      "torch.Size([10, 54, 54]) torch.Size([10, 54, 64])\n",
      "torch.Size([10, 54, 54]) torch.Size([10, 54, 64])\n",
      "torch.Size([10, 32, 32]) torch.Size([10, 32, 64])\n",
      "torch.Size([10, 32, 32]) torch.Size([10, 32, 64])\n",
      "torch.Size([10, 32, 32]) torch.Size([10, 32, 64])\n",
      "torch.Size([10, 69, 69]) torch.Size([10, 69, 64])\n",
      "torch.Size([10, 69, 69]) torch.Size([10, 69, 64])\n",
      "torch.Size([10, 69, 69]) torch.Size([10, 69, 64])\n",
      "torch.Size([10, 196, 196]) torch.Size([10, 196, 64])\n",
      "torch.Size([10, 196, 196]) torch.Size([10, 196, 64])\n",
      "torch.Size([10, 196, 196]) torch.Size([10, 196, 64])\n",
      "torch.Size([10, 196, 196]) torch.Size([10, 196, 64])\n",
      "torch.Size([10, 196, 196]) torch.Size([10, 196, 64])\n",
      "torch.Size([10, 196, 196]) torch.Size([10, 196, 64])\n",
      "torch.Size([10, 20, 20]) torch.Size([10, 20, 64])\n",
      "torch.Size([10, 20, 20]) torch.Size([10, 20, 64])\n",
      "torch.Size([10, 20, 20]) torch.Size([10, 20, 64])\n",
      "torch.Size([10, 20, 20]) torch.Size([10, 20, 64])\n",
      "torch.Size([10, 20, 20]) torch.Size([10, 20, 64])\n",
      "torch.Size([10, 20, 20]) torch.Size([10, 20, 64])\n"
     ]
    },
    {
     "name": "stderr",
     "output_type": "stream",
     "text": [
      "EP_train:16:   0%|| 0/21 [00:00<?, ?it/s]"
     ]
    },
    {
     "name": "stdout",
     "output_type": "stream",
     "text": [
      "{'epoch': 16, 'iter': 5, 'loss:': 1.0982115268707275}\n",
      "torch.Size([10, 479, 479]) torch.Size([10, 479, 64])\n",
      "torch.Size([10, 479, 479]) torch.Size([10, 479, 64])\n",
      "torch.Size([10, 479, 479]) torch.Size([10, 479, 64])\n",
      "torch.Size([10, 479, 479]) torch.Size([10, 479, 64])\n",
      "torch.Size([10, 479, 479]) torch.Size([10, 479, 64])\n",
      "torch.Size([10, 479, 479]) torch.Size([10, 479, 64])\n"
     ]
    },
    {
     "name": "stderr",
     "output_type": "stream",
     "text": [
      "EP_train:16:  38%|| 8/21 [00:00<00:00, 75.50it/s]"
     ]
    },
    {
     "name": "stdout",
     "output_type": "stream",
     "text": [
      "torch.Size([10, 162, 162]) torch.Size([10, 162, 64])\n",
      "torch.Size([10, 162, 162]) torch.Size([10, 162, 64])\n",
      "torch.Size([10, 162, 162]) torch.Size([10, 162, 64])\n",
      "torch.Size([10, 162, 162]) torch.Size([10, 162, 64])\n",
      "torch.Size([10, 162, 162]) torch.Size([10, 162, 64])\n",
      "torch.Size([10, 162, 162]) torch.Size([10, 162, 64])\n",
      "torch.Size([10, 113, 113]) torch.Size([10, 113, 64])\n",
      "torch.Size([10, 113, 113]) torch.Size([10, 113, 64])\n",
      "torch.Size([10, 113, 113]) torch.Size([10, 113, 64])\n",
      "torch.Size([10, 113, 113]) torch.Size([10, 113, 64])\n",
      "torch.Size([10, 113, 113]) torch.Size([10, 113, 64])\n",
      "torch.Size([10, 113, 113]) torch.Size([10, 113, 64])\n",
      "torch.Size([10, 43, 43]) torch.Size([10, 43, 64])\n",
      "torch.Size([10, 43, 43]) torch.Size([10, 43, 64])\n",
      "torch.Size([10, 43, 43]) torch.Size([10, 43, 64])\n",
      "torch.Size([10, 43, 43]) torch.Size([10, 43, 64])\n",
      "torch.Size([10, 43, 43]) torch.Size([10, 43, 64])\n",
      "torch.Size([10, 43, 43]) torch.Size([10, 43, 64])\n"
     ]
    },
    {
     "name": "stderr",
     "output_type": "stream",
     "text": [
      "EP_train:16:  38%|| 8/21 [00:00<00:00, 75.50it/s]"
     ]
    },
    {
     "name": "stdout",
     "output_type": "stream",
     "text": [
      "torch.Size([10, 67, 67]) torch.Size([10, 67, 64])\n",
      "torch.Size([10, 67, 67]) torch.Size([10, 67, 64])\n",
      "torch.Size([10, 67, 67]) torch.Size([10, 67, 64])\n",
      "torch.Size([10, 67, 67]) torch.Size([10, 67, 64])\n",
      "torch.Size([10, 67, 67]) torch.Size([10, 67, 64])\n",
      "torch.Size([10, 67, 67]) torch.Size([10, 67, 64])\n",
      "{'epoch': 16, 'iter': 10, 'loss:': 0.26057133078575134}\n",
      "torch.Size([10, 15, 15]) torch.Size([10, 15, 64])\n",
      "torch.Size([10, 15, 15]) torch.Size([10, 15, 64])\n",
      "torch.Size([10, 15, 15]) torch.Size([10, 15, 64])\n",
      "torch.Size([10, 176, 176]) torch.Size([10, 176, 64])\n",
      "torch.Size([10, 176, 176]) torch.Size([10, 176, 64])\n",
      "torch.Size([10, 176, 176]) torch.Size([10, 176, 64])\n",
      "torch.Size([10, 232, 232]) torch.Size([10, 232, 64])\n",
      "torch.Size([10, 232, 232]) torch.Size([10, 232, 64])\n",
      "torch.Size([10, 232, 232]) torch.Size([10, 232, 64])\n",
      "torch.Size([10, 232, 232]) torch.Size([10, 232, 64])\n",
      "torch.Size([10, 232, 232]) torch.Size([10, 232, 64])\n",
      "torch.Size([10, 232, 232]) torch.Size([10, 232, 64])\n",
      "torch.Size([10, 78, 78]) torch.Size([10, 78, 64])\n",
      "torch.Size([10, 78, 78]) torch.Size([10, 78, 64])\n",
      "torch.Size([10, 78, 78]) torch.Size([10, 78, 64])\n",
      "torch.Size([10, 78, 78]) torch.Size([10, 78, 64])\n",
      "torch.Size([10, 78, 78]) torch.Size([10, 78, 64])\n",
      "torch.Size([10, 78, 78]) torch.Size([10, 78, 64])\n",
      "torch.Size([10, 54, 54]) torch.Size([10, 54, 64])\n",
      "torch.Size([10, 54, 54]) torch.Size([10, 54, 64])\n"
     ]
    },
    {
     "name": "stderr",
     "output_type": "stream",
     "text": [
      "EP_train:16:  86%|| 18/21 [00:00<00:00, 88.46it/s]"
     ]
    },
    {
     "name": "stdout",
     "output_type": "stream",
     "text": [
      "torch.Size([10, 54, 54]) torch.Size([10, 54, 64])\n",
      "torch.Size([10, 54, 54]) torch.Size([10, 54, 64])\n",
      "torch.Size([10, 54, 54]) torch.Size([10, 54, 64])\n",
      "torch.Size([10, 54, 54]) torch.Size([10, 54, 64])\n",
      "torch.Size([10, 31, 31]) torch.Size([10, 31, 64])\n",
      "torch.Size([10, 31, 31]) torch.Size([10, 31, 64])\n",
      "torch.Size([10, 31, 31]) torch.Size([10, 31, 64])\n",
      "torch.Size([10, 176, 176]) torch.Size([10, 176, 64])\n",
      "torch.Size([10, 176, 176]) torch.Size([10, 176, 64])\n",
      "torch.Size([10, 176, 176]) torch.Size([10, 176, 64])\n",
      "{'epoch': 16, 'iter': 15, 'loss:': 1.1203911304473877}\n",
      "torch.Size([10, 53, 53]) torch.Size([10, 53, 64])\n",
      "torch.Size([10, 53, 53]) torch.Size([10, 53, 64])\n",
      "torch.Size([10, 53, 53]) torch.Size([10, 53, 64])\n",
      "torch.Size([10, 53, 53]) torch.Size([10, 53, 64])\n",
      "torch.Size([10, 53, 53]) torch.Size([10, 53, 64])\n",
      "torch.Size([10, 53, 53]) torch.Size([10, 53, 64])\n",
      "torch.Size([10, 60, 60]) torch.Size([10, 60, 64])\n",
      "torch.Size([10, 60, 60]) torch.Size([10, 60, 64])\n",
      "torch.Size([10, 60, 60]) torch.Size([10, 60, 64])\n",
      "torch.Size([10, 60, 60]) torch.Size([10, 60, 64])\n",
      "torch.Size([10, 60, 60]) torch.Size([10, 60, 64])\n",
      "torch.Size([10, 60, 60]) torch.Size([10, 60, 64])\n",
      "torch.Size([10, 11, 11]) torch.Size([10, 11, 64])\n",
      "torch.Size([10, 11, 11]) torch.Size([10, 11, 64])\n",
      "torch.Size([10, 11, 11]) torch.Size([10, 11, 64])\n",
      "torch.Size([10, 11, 11]) torch.Size([10, 11, 64])\n",
      "torch.Size([10, 11, 11]) torch.Size([10, 11, 64])\n",
      "torch.Size([10, 11, 11]) torch.Size([10, 11, 64])\n",
      "torch.Size([10, 178, 178]) torch.Size([10, 178, 64])\n",
      "torch.Size([10, 178, 178]) torch.Size([10, 178, 64])\n",
      "torch.Size([10, 178, 178]) torch.Size([10, 178, 64])\n",
      "torch.Size([10, 178, 178]) torch.Size([10, 178, 64])\n",
      "torch.Size([10, 178, 178]) torch.Size([10, 178, 64])\n",
      "torch.Size([10, 178, 178]) torch.Size([10, 178, 64])\n",
      "torch.Size([1, 5, 5]) torch.Size([10, 5, 64])\n",
      "torch.Size([1, 5, 5]) torch.Size([10, 5, 64])\n"
     ]
    },
    {
     "name": "stderr",
     "output_type": "stream",
     "text": [
      "EP_train:16: 100%|| 21/21 [00:00<00:00, 87.61it/s]\n"
     ]
    },
    {
     "name": "stdout",
     "output_type": "stream",
     "text": [
      "torch.Size([1, 5, 5]) torch.Size([10, 5, 64])\n",
      "torch.Size([1, 4, 4]) torch.Size([10, 4, 64])\n",
      "torch.Size([1, 4, 4]) torch.Size([10, 4, 64])\n",
      "torch.Size([1, 4, 4]) torch.Size([10, 4, 64])\n",
      "{'epoch': 16, 'iter': 20, 'loss:': 3.924072742462158}\n",
      "EP:16 Model Saved on: output/parameter.model.ep16\n"
     ]
    },
    {
     "name": "stderr",
     "output_type": "stream",
     "text": [
      "EP_train:17:   0%|| 0/21 [00:00<?, ?it/s]"
     ]
    },
    {
     "name": "stdout",
     "output_type": "stream",
     "text": [
      "torch.Size([10, 33, 33]) torch.Size([10, 33, 64])\n",
      "torch.Size([10, 33, 33]) torch.Size([10, 33, 64])\n",
      "torch.Size([10, 33, 33]) torch.Size([10, 33, 64])\n",
      "torch.Size([10, 33, 33]) torch.Size([10, 33, 64])\n",
      "torch.Size([10, 33, 33]) torch.Size([10, 33, 64])\n",
      "torch.Size([10, 33, 33]) torch.Size([10, 33, 64])\n"
     ]
    },
    {
     "name": "stderr",
     "output_type": "stream",
     "text": [
      "EP_train:17:   0%|| 0/21 [00:00<?, ?it/s]"
     ]
    },
    {
     "name": "stdout",
     "output_type": "stream",
     "text": [
      "{'epoch': 17, 'iter': 0, 'loss:': 0.5573462247848511}\n",
      "torch.Size([10, 67, 67]) torch.Size([10, 67, 64])\n",
      "torch.Size([10, 67, 67]) torch.Size([10, 67, 64])\n",
      "torch.Size([10, 67, 67]) torch.Size([10, 67, 64])\n",
      "torch.Size([10, 176, 176]) torch.Size([10, 176, 64])\n",
      "torch.Size([10, 176, 176]) torch.Size([10, 176, 64])\n",
      "torch.Size([10, 176, 176]) torch.Size([10, 176, 64])\n",
      "torch.Size([10, 54, 54]) torch.Size([10, 54, 64])\n",
      "torch.Size([10, 54, 54]) torch.Size([10, 54, 64])\n",
      "torch.Size([10, 54, 54]) torch.Size([10, 54, 64])\n",
      "torch.Size([10, 54, 54]) torch.Size([10, 54, 64])\n",
      "torch.Size([10, 54, 54]) torch.Size([10, 54, 64])\n",
      "torch.Size([10, 54, 54]) torch.Size([10, 54, 64])\n",
      "torch.Size([10, 32, 32]) torch.Size([10, 32, 64])\n",
      "torch.Size([10, 32, 32]) torch.Size([10, 32, 64])\n"
     ]
    },
    {
     "name": "stderr",
     "output_type": "stream",
     "text": [
      "EP_train:17:   0%|| 0/21 [00:00<?, ?it/s]"
     ]
    },
    {
     "name": "stdout",
     "output_type": "stream",
     "text": [
      "torch.Size([10, 32, 32]) torch.Size([10, 32, 64])\n",
      "torch.Size([10, 69, 69]) torch.Size([10, 69, 64])\n",
      "torch.Size([10, 69, 69]) torch.Size([10, 69, 64])\n",
      "torch.Size([10, 69, 69]) torch.Size([10, 69, 64])\n",
      "torch.Size([10, 196, 196]) torch.Size([10, 196, 64])\n",
      "torch.Size([10, 196, 196]) torch.Size([10, 196, 64])\n",
      "torch.Size([10, 196, 196]) torch.Size([10, 196, 64])\n",
      "torch.Size([10, 196, 196]) torch.Size([10, 196, 64])\n",
      "torch.Size([10, 196, 196]) torch.Size([10, 196, 64])\n",
      "torch.Size([10, 196, 196]) torch.Size([10, 196, 64])\n",
      "torch.Size([10, 20, 20]) torch.Size([10, 20, 64])\n",
      "torch.Size([10, 20, 20]) torch.Size([10, 20, 64])\n",
      "torch.Size([10, 20, 20]) torch.Size([10, 20, 64])\n",
      "torch.Size([10, 20, 20]) torch.Size([10, 20, 64])\n",
      "torch.Size([10, 20, 20]) torch.Size([10, 20, 64])\n",
      "torch.Size([10, 20, 20]) torch.Size([10, 20, 64])\n",
      "{'epoch': 17, 'iter': 5, 'loss:': 1.1028300523757935}\n",
      "torch.Size([10, 479, 479]) torch.Size([10, 479, 64])\n",
      "torch.Size([10, 479, 479]) torch.Size([10, 479, 64])\n",
      "torch.Size([10, 479, 479]) torch.Size([10, 479, 64])\n",
      "torch.Size([10, 479, 479]) torch.Size([10, 479, 64])\n",
      "torch.Size([10, 479, 479]) torch.Size([10, 479, 64])\n",
      "torch.Size([10, 479, 479]) torch.Size([10, 479, 64])\n",
      "torch.Size([10, 162, 162]) torch.Size([10, 162, 64])\n",
      "torch.Size([10, 162, 162]) torch.Size([10, 162, 64])\n",
      "torch.Size([10, 162, 162]) torch.Size([10, 162, 64])\n",
      "torch.Size([10, 162, 162]) torch.Size([10, 162, 64])\n",
      "torch.Size([10, 162, 162]) torch.Size([10, 162, 64])\n",
      "torch.Size([10, 162, 162]) torch.Size([10, 162, 64])\n",
      "torch.Size([10, 113, 113]) torch.Size([10, 113, 64])\n",
      "torch.Size([10, 113, 113]) torch.Size([10, 113, 64])\n",
      "torch.Size([10, 113, 113]) torch.Size([10, 113, 64])\n",
      "torch.Size([10, 113, 113]) torch.Size([10, 113, 64])\n",
      "torch.Size([10, 113, 113]) torch.Size([10, 113, 64])\n",
      "torch.Size([10, 113, 113]) torch.Size([10, 113, 64])\n",
      "torch.Size([10, 43, 43]) torch.Size([10, 43, 64])\n",
      "torch.Size([10, 43, 43]) torch.Size([10, 43, 64])\n",
      "torch.Size([10, 43, 43]) torch.Size([10, 43, 64])\n",
      "torch.Size([10, 43, 43]) torch.Size([10, 43, 64])\n",
      "torch.Size([10, 43, 43]) torch.Size([10, 43, 64])\n",
      "torch.Size([10, 43, 43]) torch.Size([10, 43, 64])\n",
      "torch.Size([10, 67, 67]) torch.Size([10, 67, 64])\n",
      "torch.Size([10, 67, 67]) torch.Size([10, 67, 64])\n",
      "torch.Size([10, 67, 67]) torch.Size([10, 67, 64])\n",
      "torch.Size([10, 67, 67]) torch.Size([10, 67, 64])\n",
      "torch.Size([10, 67, 67]) torch.Size([10, 67, 64])\n"
     ]
    },
    {
     "name": "stderr",
     "output_type": "stream",
     "text": [
      "EP_train:17:  57%|| 12/21 [00:00<00:00, 111.79it/s]"
     ]
    },
    {
     "name": "stdout",
     "output_type": "stream",
     "text": [
      "torch.Size([10, 67, 67]) torch.Size([10, 67, 64])\n",
      "{'epoch': 17, 'iter': 10, 'loss:': 0.23463311791419983}\n",
      "torch.Size([10, 15, 15]) torch.Size([10, 15, 64])\n",
      "torch.Size([10, 15, 15]) torch.Size([10, 15, 64])\n",
      "torch.Size([10, 15, 15]) torch.Size([10, 15, 64])\n",
      "torch.Size([10, 176, 176]) torch.Size([10, 176, 64])\n",
      "torch.Size([10, 176, 176]) torch.Size([10, 176, 64])\n",
      "torch.Size([10, 176, 176]) torch.Size([10, 176, 64])\n",
      "torch.Size([10, 232, 232]) torch.Size([10, 232, 64])\n",
      "torch.Size([10, 232, 232]) torch.Size([10, 232, 64])\n",
      "torch.Size([10, 232, 232]) torch.Size([10, 232, 64])\n",
      "torch.Size([10, 232, 232]) torch.Size([10, 232, 64])\n",
      "torch.Size([10, 232, 232]) torch.Size([10, 232, 64])\n",
      "torch.Size([10, 232, 232]) torch.Size([10, 232, 64])\n",
      "torch.Size([10, 78, 78]) torch.Size([10, 78, 64])\n",
      "torch.Size([10, 78, 78]) torch.Size([10, 78, 64])\n",
      "torch.Size([10, 78, 78]) torch.Size([10, 78, 64])\n",
      "torch.Size([10, 78, 78]) torch.Size([10, 78, 64])\n",
      "torch.Size([10, 78, 78]) torch.Size([10, 78, 64])\n",
      "torch.Size([10, 78, 78]) torch.Size([10, 78, 64])\n"
     ]
    },
    {
     "name": "stderr",
     "output_type": "stream",
     "text": [
      "EP_train:17:  57%|| 12/21 [00:00<00:00, 111.79it/s]"
     ]
    },
    {
     "name": "stdout",
     "output_type": "stream",
     "text": [
      "torch.Size([10, 54, 54]) torch.Size([10, 54, 64])\n",
      "torch.Size([10, 54, 54]) torch.Size([10, 54, 64])\n",
      "torch.Size([10, 54, 54]) torch.Size([10, 54, 64])\n",
      "torch.Size([10, 54, 54]) torch.Size([10, 54, 64])\n",
      "torch.Size([10, 54, 54]) torch.Size([10, 54, 64])\n",
      "torch.Size([10, 54, 54]) torch.Size([10, 54, 64])\n",
      "torch.Size([10, 31, 31]) torch.Size([10, 31, 64])\n",
      "torch.Size([10, 31, 31]) torch.Size([10, 31, 64])\n",
      "torch.Size([10, 31, 31]) torch.Size([10, 31, 64])\n",
      "torch.Size([10, 176, 176]) torch.Size([10, 176, 64])\n",
      "torch.Size([10, 176, 176]) torch.Size([10, 176, 64])\n",
      "torch.Size([10, 176, 176]) torch.Size([10, 176, 64])\n",
      "{'epoch': 17, 'iter': 15, 'loss:': 1.0961434841156006}\n",
      "torch.Size([10, 53, 53]) torch.Size([10, 53, 64])\n",
      "torch.Size([10, 53, 53]) torch.Size([10, 53, 64])\n",
      "torch.Size([10, 53, 53]) torch.Size([10, 53, 64])\n",
      "torch.Size([10, 53, 53]) torch.Size([10, 53, 64])\n",
      "torch.Size([10, 53, 53]) torch.Size([10, 53, 64])\n",
      "torch.Size([10, 53, 53]) torch.Size([10, 53, 64])\n",
      "torch.Size([10, 60, 60]) torch.Size([10, 60, 64])\n",
      "torch.Size([10, 60, 60]) torch.Size([10, 60, 64])\n",
      "torch.Size([10, 60, 60]) torch.Size([10, 60, 64])\n",
      "torch.Size([10, 60, 60]) torch.Size([10, 60, 64])\n",
      "torch.Size([10, 60, 60]) torch.Size([10, 60, 64])\n",
      "torch.Size([10, 60, 60]) torch.Size([10, 60, 64])\n",
      "torch.Size([10, 11, 11]) torch.Size([10, 11, 64])\n",
      "torch.Size([10, 11, 11]) torch.Size([10, 11, 64])\n",
      "torch.Size([10, 11, 11]) torch.Size([10, 11, 64])\n",
      "torch.Size([10, 11, 11]) torch.Size([10, 11, 64])\n",
      "torch.Size([10, 11, 11]) torch.Size([10, 11, 64])\n",
      "torch.Size([10, 11, 11]) torch.Size([10, 11, 64])\n",
      "torch.Size([10, 178, 178]) torch.Size([10, 178, 64])\n",
      "torch.Size([10, 178, 178]) torch.Size([10, 178, 64])\n",
      "torch.Size([10, 178, 178]) torch.Size([10, 178, 64])\n",
      "torch.Size([10, 178, 178]) torch.Size([10, 178, 64])\n",
      "torch.Size([10, 178, 178]) torch.Size([10, 178, 64])\n",
      "torch.Size([10, 178, 178]) torch.Size([10, 178, 64])\n",
      "torch.Size([1, 5, 5]) torch.Size([10, 5, 64])\n",
      "torch.Size([1, 5, 5]) torch.Size([10, 5, 64])\n",
      "torch.Size([1, 5, 5]) torch.Size([10, 5, 64])\n",
      "torch.Size([1, 4, 4]) torch.Size([10, 4, 64])\n",
      "torch.Size([1, 4, 4]) torch.Size([10, 4, 64])\n",
      "torch.Size([1, 4, 4]) torch.Size([10, 4, 64])\n"
     ]
    },
    {
     "name": "stderr",
     "output_type": "stream",
     "text": [
      "EP_train:17: 100%|| 21/21 [00:00<00:00, 100.72it/s]\n"
     ]
    },
    {
     "name": "stdout",
     "output_type": "stream",
     "text": [
      "{'epoch': 17, 'iter': 20, 'loss:': 3.9188456535339355}\n",
      "EP:17 Model Saved on: output/parameter.model.ep17\n"
     ]
    },
    {
     "name": "stderr",
     "output_type": "stream",
     "text": [
      "EP_train:18:   0%|| 0/21 [00:00<?, ?it/s]"
     ]
    },
    {
     "name": "stdout",
     "output_type": "stream",
     "text": [
      "torch.Size([10, 33, 33]) torch.Size([10, 33, 64])\n",
      "torch.Size([10, 33, 33]) torch.Size([10, 33, 64])\n",
      "torch.Size([10, 33, 33]) torch.Size([10, 33, 64])\n",
      "torch.Size([10, 33, 33]) torch.Size([10, 33, 64])\n",
      "torch.Size([10, 33, 33]) torch.Size([10, 33, 64])\n",
      "torch.Size([10, 33, 33]) torch.Size([10, 33, 64])\n",
      "{'epoch': 18, 'iter': 0, 'loss:': 0.6308407187461853}\n",
      "torch.Size([10, 67, 67]) torch.Size([10, 67, 64])\n",
      "torch.Size([10, 67, 67]) torch.Size([10, 67, 64])\n",
      "torch.Size([10, 67, 67]) torch.Size([10, 67, 64])\n",
      "torch.Size([10, 176, 176]) torch.Size([10, 176, 64])\n",
      "torch.Size([10, 176, 176]) torch.Size([10, 176, 64])\n",
      "torch.Size([10, 176, 176]) torch.Size([10, 176, 64])\n",
      "torch.Size([10, 54, 54]) torch.Size([10, 54, 64])\n",
      "torch.Size([10, 54, 54]) torch.Size([10, 54, 64])\n",
      "torch.Size([10, 54, 54]) torch.Size([10, 54, 64])\n",
      "torch.Size([10, 54, 54]) torch.Size([10, 54, 64])\n",
      "torch.Size([10, 54, 54]) torch.Size([10, 54, 64])\n",
      "torch.Size([10, 54, 54]) torch.Size([10, 54, 64])\n",
      "torch.Size([10, 32, 32]) torch.Size([10, 32, 64])\n",
      "torch.Size([10, 32, 32]) torch.Size([10, 32, 64])\n",
      "torch.Size([10, 32, 32]) torch.Size([10, 32, 64])\n",
      "torch.Size([10, 69, 69]) torch.Size([10, 69, 64])\n",
      "torch.Size([10, 69, 69]) torch.Size([10, 69, 64])\n",
      "torch.Size([10, 69, 69]) torch.Size([10, 69, 64])\n",
      "torch.Size([10, 196, 196]) torch.Size([10, 196, 64])\n",
      "torch.Size([10, 196, 196]) torch.Size([10, 196, 64])\n",
      "torch.Size([10, 196, 196]) torch.Size([10, 196, 64])\n",
      "torch.Size([10, 196, 196]) torch.Size([10, 196, 64])\n",
      "torch.Size([10, 196, 196]) torch.Size([10, 196, 64])\n",
      "torch.Size([10, 196, 196]) torch.Size([10, 196, 64])\n",
      "torch.Size([10, 20, 20]) torch.Size([10, 20, 64])\n",
      "torch.Size([10, 20, 20]) torch.Size([10, 20, 64])\n",
      "torch.Size([10, 20, 20]) torch.Size([10, 20, 64])\n",
      "torch.Size([10, 20, 20]) torch.Size([10, 20, 64])\n",
      "torch.Size([10, 20, 20]) torch.Size([10, 20, 64])\n",
      "torch.Size([10, 20, 20]) torch.Size([10, 20, 64])\n"
     ]
    },
    {
     "name": "stderr",
     "output_type": "stream",
     "text": [
      "EP_train:18:   0%|| 0/21 [00:00<?, ?it/s]"
     ]
    },
    {
     "name": "stdout",
     "output_type": "stream",
     "text": [
      "{'epoch': 18, 'iter': 5, 'loss:': 1.1044470071792603}\n",
      "torch.Size([10, 479, 479]) torch.Size([10, 479, 64])\n",
      "torch.Size([10, 479, 479]) torch.Size([10, 479, 64])\n",
      "torch.Size([10, 479, 479]) torch.Size([10, 479, 64])\n",
      "torch.Size([10, 479, 479]) torch.Size([10, 479, 64])\n",
      "torch.Size([10, 479, 479]) torch.Size([10, 479, 64])\n",
      "torch.Size([10, 479, 479]) torch.Size([10, 479, 64])\n"
     ]
    },
    {
     "name": "stderr",
     "output_type": "stream",
     "text": [
      "EP_train:18:  38%|| 8/21 [00:00<00:00, 74.25it/s]"
     ]
    },
    {
     "name": "stdout",
     "output_type": "stream",
     "text": [
      "torch.Size([10, 162, 162]) torch.Size([10, 162, 64])\n",
      "torch.Size([10, 162, 162]) torch.Size([10, 162, 64])\n",
      "torch.Size([10, 162, 162]) torch.Size([10, 162, 64])\n",
      "torch.Size([10, 162, 162]) torch.Size([10, 162, 64])\n",
      "torch.Size([10, 162, 162]) torch.Size([10, 162, 64])\n",
      "torch.Size([10, 162, 162]) torch.Size([10, 162, 64])\n",
      "torch.Size([10, 113, 113]) torch.Size([10, 113, 64])\n",
      "torch.Size([10, 113, 113]) torch.Size([10, 113, 64])\n",
      "torch.Size([10, 113, 113]) torch.Size([10, 113, 64])\n",
      "torch.Size([10, 113, 113]) torch.Size([10, 113, 64])\n",
      "torch.Size([10, 113, 113]) torch.Size([10, 113, 64])\n",
      "torch.Size([10, 113, 113]) torch.Size([10, 113, 64])\n",
      "torch.Size([10, 43, 43]) torch.Size([10, 43, 64])\n",
      "torch.Size([10, 43, 43]) torch.Size([10, 43, 64])\n",
      "torch.Size([10, 43, 43]) torch.Size([10, 43, 64])\n",
      "torch.Size([10, 43, 43]) torch.Size([10, 43, 64])\n",
      "torch.Size([10, 43, 43]) torch.Size([10, 43, 64])\n",
      "torch.Size([10, 43, 43]) torch.Size([10, 43, 64])\n"
     ]
    },
    {
     "name": "stderr",
     "output_type": "stream",
     "text": [
      "EP_train:18:  38%|| 8/21 [00:00<00:00, 74.25it/s]"
     ]
    },
    {
     "name": "stdout",
     "output_type": "stream",
     "text": [
      "torch.Size([10, 67, 67]) torch.Size([10, 67, 64])\n",
      "torch.Size([10, 67, 67]) torch.Size([10, 67, 64])\n",
      "torch.Size([10, 67, 67]) torch.Size([10, 67, 64])\n",
      "torch.Size([10, 67, 67]) torch.Size([10, 67, 64])\n",
      "torch.Size([10, 67, 67]) torch.Size([10, 67, 64])\n",
      "torch.Size([10, 67, 67]) torch.Size([10, 67, 64])\n",
      "{'epoch': 18, 'iter': 10, 'loss:': 0.21110478043556213}\n",
      "torch.Size([10, 15, 15]) torch.Size([10, 15, 64])\n",
      "torch.Size([10, 15, 15]) torch.Size([10, 15, 64])\n",
      "torch.Size([10, 15, 15]) torch.Size([10, 15, 64])\n",
      "torch.Size([10, 176, 176]) torch.Size([10, 176, 64])\n",
      "torch.Size([10, 176, 176]) torch.Size([10, 176, 64])\n",
      "torch.Size([10, 176, 176]) torch.Size([10, 176, 64])\n",
      "torch.Size([10, 232, 232]) torch.Size([10, 232, 64])\n",
      "torch.Size([10, 232, 232]) torch.Size([10, 232, 64])\n",
      "torch.Size([10, 232, 232]) torch.Size([10, 232, 64])\n",
      "torch.Size([10, 232, 232]) torch.Size([10, 232, 64])\n",
      "torch.Size([10, 232, 232]) torch.Size([10, 232, 64])\n",
      "torch.Size([10, 232, 232]) torch.Size([10, 232, 64])\n",
      "torch.Size([10, 78, 78]) torch.Size([10, 78, 64])\n",
      "torch.Size([10, 78, 78]) torch.Size([10, 78, 64])\n",
      "torch.Size([10, 78, 78]) torch.Size([10, 78, 64])\n",
      "torch.Size([10, 78, 78]) torch.Size([10, 78, 64])\n",
      "torch.Size([10, 78, 78]) torch.Size([10, 78, 64])\n",
      "torch.Size([10, 78, 78]) torch.Size([10, 78, 64])\n",
      "torch.Size([10, 54, 54]) torch.Size([10, 54, 64])\n",
      "torch.Size([10, 54, 54]) torch.Size([10, 54, 64])\n",
      "torch.Size([10, 54, 54]) torch.Size([10, 54, 64])\n",
      "torch.Size([10, 54, 54]) torch.Size([10, 54, 64])\n",
      "torch.Size([10, 54, 54]) torch.Size([10, 54, 64])\n",
      "torch.Size([10, 54, 54]) torch.Size([10, 54, 64])\n",
      "torch.Size([10, 31, 31]) torch.Size([10, 31, 64])\n",
      "torch.Size([10, 31, 31]) torch.Size([10, 31, 64])\n",
      "torch.Size([10, 31, 31]) torch.Size([10, 31, 64])\n",
      "torch.Size([10, 176, 176]) torch.Size([10, 176, 64])\n",
      "torch.Size([10, 176, 176]) torch.Size([10, 176, 64])\n",
      "torch.Size([10, 176, 176]) torch.Size([10, 176, 64])\n"
     ]
    },
    {
     "name": "stderr",
     "output_type": "stream",
     "text": [
      "EP_train:18:  81%|| 17/21 [00:00<00:00, 82.04it/s]"
     ]
    },
    {
     "name": "stdout",
     "output_type": "stream",
     "text": [
      "{'epoch': 18, 'iter': 15, 'loss:': 1.0709433555603027}\n",
      "torch.Size([10, 53, 53]) torch.Size([10, 53, 64])\n",
      "torch.Size([10, 53, 53]) torch.Size([10, 53, 64])\n",
      "torch.Size([10, 53, 53]) torch.Size([10, 53, 64])\n",
      "torch.Size([10, 53, 53]) torch.Size([10, 53, 64])\n",
      "torch.Size([10, 53, 53]) torch.Size([10, 53, 64])\n",
      "torch.Size([10, 53, 53]) torch.Size([10, 53, 64])\n",
      "torch.Size([10, 60, 60]) torch.Size([10, 60, 64])\n",
      "torch.Size([10, 60, 60]) torch.Size([10, 60, 64])\n",
      "torch.Size([10, 60, 60]) torch.Size([10, 60, 64])\n",
      "torch.Size([10, 60, 60]) torch.Size([10, 60, 64])\n",
      "torch.Size([10, 60, 60]) torch.Size([10, 60, 64])\n",
      "torch.Size([10, 60, 60]) torch.Size([10, 60, 64])\n"
     ]
    },
    {
     "name": "stderr",
     "output_type": "stream",
     "text": [
      "EP_train:18: 100%|| 21/21 [00:00<00:00, 89.86it/s]\n"
     ]
    },
    {
     "name": "stdout",
     "output_type": "stream",
     "text": [
      "torch.Size([10, 11, 11]) torch.Size([10, 11, 64])\n",
      "torch.Size([10, 11, 11]) torch.Size([10, 11, 64])\n",
      "torch.Size([10, 11, 11]) torch.Size([10, 11, 64])\n",
      "torch.Size([10, 11, 11]) torch.Size([10, 11, 64])\n",
      "torch.Size([10, 11, 11]) torch.Size([10, 11, 64])\n",
      "torch.Size([10, 11, 11]) torch.Size([10, 11, 64])\n",
      "torch.Size([10, 178, 178]) torch.Size([10, 178, 64])\n",
      "torch.Size([10, 178, 178]) torch.Size([10, 178, 64])\n",
      "torch.Size([10, 178, 178]) torch.Size([10, 178, 64])\n",
      "torch.Size([10, 178, 178]) torch.Size([10, 178, 64])\n",
      "torch.Size([10, 178, 178]) torch.Size([10, 178, 64])\n",
      "torch.Size([10, 178, 178]) torch.Size([10, 178, 64])\n",
      "torch.Size([1, 5, 5]) torch.Size([10, 5, 64])\n",
      "torch.Size([1, 5, 5]) torch.Size([10, 5, 64])\n",
      "torch.Size([1, 5, 5]) torch.Size([10, 5, 64])\n",
      "torch.Size([1, 4, 4]) torch.Size([10, 4, 64])\n",
      "torch.Size([1, 4, 4]) torch.Size([10, 4, 64])\n",
      "torch.Size([1, 4, 4]) torch.Size([10, 4, 64])\n",
      "{'epoch': 18, 'iter': 20, 'loss:': 3.9126477241516113}\n",
      "EP:18 Model Saved on: output/parameter.model.ep18\n"
     ]
    },
    {
     "name": "stderr",
     "output_type": "stream",
     "text": [
      "EP_train:19:   0%|| 0/21 [00:00<?, ?it/s]"
     ]
    },
    {
     "name": "stdout",
     "output_type": "stream",
     "text": [
      "torch.Size([10, 33, 33]) torch.Size([10, 33, 64])\n",
      "torch.Size([10, 33, 33]) torch.Size([10, 33, 64])\n",
      "torch.Size([10, 33, 33]) torch.Size([10, 33, 64])\n",
      "torch.Size([10, 33, 33]) torch.Size([10, 33, 64])\n",
      "torch.Size([10, 33, 33]) torch.Size([10, 33, 64])\n",
      "torch.Size([10, 33, 33]) torch.Size([10, 33, 64])\n",
      "{'epoch': 19, 'iter': 0, 'loss:': 0.657976508140564}\n",
      "torch.Size([10, 67, 67]) torch.Size([10, 67, 64])\n",
      "torch.Size([10, 67, 67]) torch.Size([10, 67, 64])\n",
      "torch.Size([10, 67, 67]) torch.Size([10, 67, 64])\n",
      "torch.Size([10, 176, 176]) torch.Size([10, 176, 64])\n",
      "torch.Size([10, 176, 176]) torch.Size([10, 176, 64])\n",
      "torch.Size([10, 176, 176]) torch.Size([10, 176, 64])\n",
      "torch.Size([10, 54, 54]) torch.Size([10, 54, 64])\n",
      "torch.Size([10, 54, 54]) torch.Size([10, 54, 64])\n",
      "torch.Size([10, 54, 54]) torch.Size([10, 54, 64])\n",
      "torch.Size([10, 54, 54]) torch.Size([10, 54, 64])\n",
      "torch.Size([10, 54, 54]) torch.Size([10, 54, 64])\n",
      "torch.Size([10, 54, 54]) torch.Size([10, 54, 64])\n",
      "torch.Size([10, 32, 32]) torch.Size([10, 32, 64])\n",
      "torch.Size([10, 32, 32]) torch.Size([10, 32, 64])\n",
      "torch.Size([10, 32, 32]) torch.Size([10, 32, 64])\n",
      "torch.Size([10, 69, 69]) torch.Size([10, 69, 64])\n",
      "torch.Size([10, 69, 69]) torch.Size([10, 69, 64])\n",
      "torch.Size([10, 69, 69]) torch.Size([10, 69, 64])\n",
      "torch.Size([10, 196, 196]) torch.Size([10, 196, 64])\n",
      "torch.Size([10, 196, 196]) torch.Size([10, 196, 64])\n",
      "torch.Size([10, 196, 196]) torch.Size([10, 196, 64])\n",
      "torch.Size([10, 196, 196]) torch.Size([10, 196, 64])\n",
      "torch.Size([10, 196, 196]) torch.Size([10, 196, 64])\n",
      "torch.Size([10, 196, 196]) torch.Size([10, 196, 64])\n"
     ]
    },
    {
     "name": "stderr",
     "output_type": "stream",
     "text": [
      "EP_train:19:   0%|| 0/21 [00:00<?, ?it/s]"
     ]
    },
    {
     "name": "stdout",
     "output_type": "stream",
     "text": [
      "torch.Size([10, 20, 20]) torch.Size([10, 20, 64])\n",
      "torch.Size([10, 20, 20]) torch.Size([10, 20, 64])\n",
      "torch.Size([10, 20, 20]) torch.Size([10, 20, 64])\n",
      "torch.Size([10, 20, 20]) torch.Size([10, 20, 64])\n",
      "torch.Size([10, 20, 20]) torch.Size([10, 20, 64])\n",
      "torch.Size([10, 20, 20]) torch.Size([10, 20, 64])\n",
      "{'epoch': 19, 'iter': 5, 'loss:': 1.1017072200775146}\n",
      "torch.Size([10, 479, 479]) torch.Size([10, 479, 64])\n",
      "torch.Size([10, 479, 479]) torch.Size([10, 479, 64])\n",
      "torch.Size([10, 479, 479]) torch.Size([10, 479, 64])\n",
      "torch.Size([10, 479, 479]) torch.Size([10, 479, 64])\n",
      "torch.Size([10, 479, 479]) torch.Size([10, 479, 64])\n",
      "torch.Size([10, 479, 479]) torch.Size([10, 479, 64])\n",
      "torch.Size([10, 162, 162]) torch.Size([10, 162, 64])\n",
      "torch.Size([10, 162, 162]) torch.Size([10, 162, 64])\n",
      "torch.Size([10, 162, 162]) torch.Size([10, 162, 64])\n",
      "torch.Size([10, 162, 162]) torch.Size([10, 162, 64])\n",
      "torch.Size([10, 162, 162]) torch.Size([10, 162, 64])\n",
      "torch.Size([10, 162, 162]) torch.Size([10, 162, 64])\n"
     ]
    },
    {
     "name": "stderr",
     "output_type": "stream",
     "text": [
      "EP_train:19:   0%|| 0/21 [00:00<?, ?it/s]"
     ]
    },
    {
     "name": "stdout",
     "output_type": "stream",
     "text": [
      "torch.Size([10, 113, 113]) torch.Size([10, 113, 64])\n",
      "torch.Size([10, 113, 113]) torch.Size([10, 113, 64])\n",
      "torch.Size([10, 113, 113]) torch.Size([10, 113, 64])\n",
      "torch.Size([10, 113, 113]) torch.Size([10, 113, 64])\n",
      "torch.Size([10, 113, 113]) torch.Size([10, 113, 64])\n",
      "torch.Size([10, 113, 113]) torch.Size([10, 113, 64])\n",
      "torch.Size([10, 43, 43]) torch.Size([10, 43, 64])\n",
      "torch.Size([10, 43, 43]) torch.Size([10, 43, 64])\n",
      "torch.Size([10, 43, 43]) torch.Size([10, 43, 64])\n",
      "torch.Size([10, 43, 43]) torch.Size([10, 43, 64])\n",
      "torch.Size([10, 43, 43]) torch.Size([10, 43, 64])\n",
      "torch.Size([10, 43, 43]) torch.Size([10, 43, 64])\n",
      "torch.Size([10, 67, 67]) torch.Size([10, 67, 64])\n",
      "torch.Size([10, 67, 67]) torch.Size([10, 67, 64])\n",
      "torch.Size([10, 67, 67]) torch.Size([10, 67, 64])\n",
      "torch.Size([10, 67, 67]) torch.Size([10, 67, 64])\n",
      "torch.Size([10, 67, 67]) torch.Size([10, 67, 64])\n",
      "torch.Size([10, 67, 67]) torch.Size([10, 67, 64])\n",
      "{'epoch': 19, 'iter': 10, 'loss:': 0.1963176429271698}\n",
      "torch.Size([10, 15, 15]) torch.Size([10, 15, 64])\n",
      "torch.Size([10, 15, 15]) torch.Size([10, 15, 64])\n",
      "torch.Size([10, 15, 15]) torch.Size([10, 15, 64])\n",
      "torch.Size([10, 176, 176]) torch.Size([10, 176, 64])\n",
      "torch.Size([10, 176, 176]) torch.Size([10, 176, 64])\n",
      "torch.Size([10, 176, 176]) torch.Size([10, 176, 64])\n",
      "torch.Size([10, 232, 232]) torch.Size([10, 232, 64])\n",
      "torch.Size([10, 232, 232]) torch.Size([10, 232, 64])\n",
      "torch.Size([10, 232, 232]) torch.Size([10, 232, 64])\n",
      "torch.Size([10, 232, 232]) torch.Size([10, 232, 64])\n",
      "torch.Size([10, 232, 232]) torch.Size([10, 232, 64])\n",
      "torch.Size([10, 232, 232]) torch.Size([10, 232, 64])\n"
     ]
    },
    {
     "name": "stderr",
     "output_type": "stream",
     "text": [
      "EP_train:19:  62%|| 13/21 [00:00<00:00, 127.82it/s]"
     ]
    },
    {
     "name": "stdout",
     "output_type": "stream",
     "text": [
      "torch.Size([10, 78, 78]) torch.Size([10, 78, 64])\n",
      "torch.Size([10, 78, 78]) torch.Size([10, 78, 64])\n",
      "torch.Size([10, 78, 78]) torch.Size([10, 78, 64])\n",
      "torch.Size([10, 78, 78]) torch.Size([10, 78, 64])\n",
      "torch.Size([10, 78, 78]) torch.Size([10, 78, 64])\n",
      "torch.Size([10, 78, 78]) torch.Size([10, 78, 64])\n",
      "torch.Size([10, 54, 54]) torch.Size([10, 54, 64])\n",
      "torch.Size([10, 54, 54]) torch.Size([10, 54, 64])\n",
      "torch.Size([10, 54, 54]) torch.Size([10, 54, 64])\n",
      "torch.Size([10, 54, 54]) torch.Size([10, 54, 64])\n",
      "torch.Size([10, 54, 54]) torch.Size([10, 54, 64])\n",
      "torch.Size([10, 54, 54]) torch.Size([10, 54, 64])\n",
      "torch.Size([10, 31, 31]) torch.Size([10, 31, 64])\n",
      "torch.Size([10, 31, 31]) torch.Size([10, 31, 64])\n",
      "torch.Size([10, 31, 31]) torch.Size([10, 31, 64])\n",
      "torch.Size([10, 176, 176]) torch.Size([10, 176, 64])\n",
      "torch.Size([10, 176, 176]) torch.Size([10, 176, 64])\n",
      "torch.Size([10, 176, 176]) torch.Size([10, 176, 64])\n",
      "{'epoch': 19, 'iter': 15, 'loss:': 1.0466725826263428}\n",
      "torch.Size([10, 53, 53]) torch.Size([10, 53, 64])\n",
      "torch.Size([10, 53, 53]) torch.Size([10, 53, 64])\n",
      "torch.Size([10, 53, 53]) torch.Size([10, 53, 64])\n",
      "torch.Size([10, 53, 53]) torch.Size([10, 53, 64])\n",
      "torch.Size([10, 53, 53]) torch.Size([10, 53, 64])\n",
      "torch.Size([10, 53, 53]) torch.Size([10, 53, 64])\n",
      "torch.Size([10, 60, 60]) torch.Size([10, 60, 64])\n",
      "torch.Size([10, 60, 60]) torch.Size([10, 60, 64])\n",
      "torch.Size([10, 60, 60]) torch.Size([10, 60, 64])\n",
      "torch.Size([10, 60, 60]) torch.Size([10, 60, 64])\n",
      "torch.Size([10, 60, 60]) torch.Size([10, 60, 64])\n",
      "torch.Size([10, 60, 60]) torch.Size([10, 60, 64])\n",
      "torch.Size([10, 11, 11]) torch.Size([10, 11, 64])\n",
      "torch.Size([10, 11, 11]) torch.Size([10, 11, 64])\n",
      "torch.Size([10, 11, 11]) torch.Size([10, 11, 64])\n",
      "torch.Size([10, 11, 11]) torch.Size([10, 11, 64])\n",
      "torch.Size([10, 11, 11]) torch.Size([10, 11, 64])\n",
      "torch.Size([10, 11, 11]) torch.Size([10, 11, 64])\n",
      "torch.Size([10, 178, 178]) torch.Size([10, 178, 64])\n",
      "torch.Size([10, 178, 178]) torch.Size([10, 178, 64])\n",
      "torch.Size([10, 178, 178]) torch.Size([10, 178, 64])\n",
      "torch.Size([10, 178, 178]) torch.Size([10, 178, 64])\n",
      "torch.Size([10, 178, 178]) torch.Size([10, 178, 64])\n",
      "torch.Size([10, 178, 178]) torch.Size([10, 178, 64])\n",
      "torch.Size([1, 5, 5]) torch.Size([10, 5, 64])\n",
      "torch.Size([1, 5, 5]) torch.Size([10, 5, 64])\n",
      "torch.Size([1, 5, 5]) torch.Size([10, 5, 64])\n",
      "torch.Size([1, 4, 4]) torch.Size([10, 4, 64])\n",
      "torch.Size([1, 4, 4]) torch.Size([10, 4, 64])\n",
      "torch.Size([1, 4, 4]) torch.Size([10, 4, 64])\n"
     ]
    },
    {
     "name": "stderr",
     "output_type": "stream",
     "text": [
      "EP_train:19: 100%|| 21/21 [00:00<00:00, 125.46it/s]\n"
     ]
    },
    {
     "name": "stdout",
     "output_type": "stream",
     "text": [
      "{'epoch': 19, 'iter': 20, 'loss:': 3.905670166015625}\n",
      "EP:19 Model Saved on: output/parameter.model.ep19\n"
     ]
    }
   ],
   "execution_count": 10
  }
 ],
 "metadata": {
  "kernelspec": {
   "display_name": "Python 3",
   "language": "python",
   "name": "python3"
  },
  "language_info": {
   "codemirror_mode": {
    "name": "ipython",
    "version": 2
   },
   "file_extension": ".py",
   "mimetype": "text/x-python",
   "name": "python",
   "nbconvert_exporter": "python",
   "pygments_lexer": "ipython2",
   "version": "2.7.6"
  }
 },
 "nbformat": 4,
 "nbformat_minor": 5
}
