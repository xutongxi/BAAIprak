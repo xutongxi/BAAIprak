{
 "cells": [
  {
   "metadata": {
    "ExecuteTime": {
     "end_time": "2024-06-20T22:15:35.784662Z",
     "start_time": "2024-06-20T22:15:35.074296Z"
    }
   },
   "cell_type": "code",
   "source": [
    "import model\n",
    "import dataset\n",
    "import trainner"
   ],
   "id": "6d3cd0ad572e7e74",
   "outputs": [],
   "execution_count": 1
  },
  {
   "metadata": {
    "ExecuteTime": {
     "end_time": "2024-06-20T22:15:35.787927Z",
     "start_time": "2024-06-20T22:15:35.785629Z"
    }
   },
   "cell_type": "code",
   "source": [
    "import torch\n",
    "import torch.nn as nn\n",
    "import torch.nn.functional as F\n",
    "from torch.autograd import Variable\n",
    "from torch.utils.data import Dataset, DataLoader"
   ],
   "id": "a1a52b271ff56da8",
   "outputs": [],
   "execution_count": 2
  },
  {
   "metadata": {
    "ExecuteTime": {
     "end_time": "2024-06-20T22:15:35.792165Z",
     "start_time": "2024-06-20T22:15:35.788607Z"
    }
   },
   "cell_type": "code",
   "source": [
    "\n",
    "spread_times = 3\n",
    "embedded_depth = 2  # at least 1\n",
    "vector_size = 8\n",
    "embedding_size = 64\n",
    "batch_size = 10"
   ],
   "id": "ad8e5949841ced4c",
   "outputs": [],
   "execution_count": 3
  },
  {
   "metadata": {
    "ExecuteTime": {
     "end_time": "2024-06-20T22:15:35.795629Z",
     "start_time": "2024-06-20T22:15:35.793050Z"
    }
   },
   "cell_type": "code",
   "source": [
    "train_dataset = \"data/training\"\n",
    "test_dataset = None\n",
    "output_path = \"parameter/\""
   ],
   "id": "33b6a082569cd6ff",
   "outputs": [],
   "execution_count": 4
  },
  {
   "metadata": {
    "ExecuteTime": {
     "end_time": "2024-06-20T22:15:35.799447Z",
     "start_time": "2024-06-20T22:15:35.796573Z"
    }
   },
   "cell_type": "code",
   "source": "data = dataset.GraphDataset(train_dataset)",
   "id": "72427de269da7ea7",
   "outputs": [],
   "execution_count": 5
  },
  {
   "metadata": {
    "ExecuteTime": {
     "end_time": "2024-06-20T22:15:35.803082Z",
     "start_time": "2024-06-20T22:15:35.800246Z"
    }
   },
   "cell_type": "code",
   "source": [
    "print(\"Creating Dataset\")\n",
    "train_dataset = dataset.GraphDataset(train_dataset)\n",
    "test_dataset = dataset.GraphDataset(test_dataset) if test_dataset is not None else None"
   ],
   "id": "f57ebbeee6db7f72",
   "outputs": [
    {
     "name": "stdout",
     "output_type": "stream",
     "text": [
      "Creating Dataset\n"
     ]
    }
   ],
   "execution_count": 6
  },
  {
   "metadata": {
    "ExecuteTime": {
     "end_time": "2024-06-20T22:15:35.806210Z",
     "start_time": "2024-06-20T22:15:35.803940Z"
    }
   },
   "cell_type": "code",
   "source": [
    "print(\"Creating Dataloader\")\n",
    "train_data_loader = DataLoader(train_dataset, batch_size=batch_size, num_workers=0, collate_fn=dataset.custom_collate_fn)\n",
    "test_data_loader = DataLoader(test_dataset, batch_size=batch_size, num_workers=10, collate_fn=dataset.custom_collate_fn, shuffle=True) \\\n",
    "    if test_dataset is not None else None"
   ],
   "id": "b482e350a94f096a",
   "outputs": [
    {
     "name": "stdout",
     "output_type": "stream",
     "text": [
      "Creating Dataloader\n"
     ]
    }
   ],
   "execution_count": 7
  },
  {
   "metadata": {
    "ExecuteTime": {
     "end_time": "2024-06-20T22:15:35.811363Z",
     "start_time": "2024-06-20T22:15:35.806690Z"
    }
   },
   "cell_type": "code",
   "source": [
    "print(\"Building model\")\n",
    "model = model.GraphEmbeddingNetwork(spread_times, embedded_depth, vector_size, embedding_size)"
   ],
   "id": "e41364645e30dcd5",
   "outputs": [
    {
     "name": "stdout",
     "output_type": "stream",
     "text": [
      "Building model\n"
     ]
    }
   ],
   "execution_count": 8
  },
  {
   "metadata": {
    "ExecuteTime": {
     "end_time": "2024-06-20T22:15:36.175686Z",
     "start_time": "2024-06-20T22:15:35.811911Z"
    }
   },
   "cell_type": "code",
   "source": [
    "print(\"Creating Trainer\")\n",
    "train_model = trainner.Trainer(model, train_data_loader, test_data_loader)"
   ],
   "id": "600fe69f29ed53e1",
   "outputs": [
    {
     "name": "stdout",
     "output_type": "stream",
     "text": [
      "Creating Trainer\n",
      "CUDA available: False\n"
     ]
    },
    {
     "name": "stderr",
     "output_type": "stream",
     "text": [
      "/home/tongxixu/anaconda3/envs/myenv/lib/python3.12/site-packages/torch/cuda/__init__.py:118: UserWarning: CUDA initialization: CUDA unknown error - this may be due to an incorrectly set up environment, e.g. changing env variable CUDA_VISIBLE_DEVICES after program start. Setting the available devices to be zero. (Triggered internally at /opt/conda/conda-bld/pytorch_1716905969118/work/c10/cuda/CUDAFunctions.cpp:108.)\n",
      "  return torch._C._cuda_getDeviceCount() > 0\n"
     ]
    },
    {
     "name": "stdout",
     "output_type": "stream",
     "text": [
      "Total Parameters: 13056\n"
     ]
    }
   ],
   "execution_count": 9
  },
  {
   "metadata": {
    "ExecuteTime": {
     "end_time": "2024-06-20T22:15:36.703342Z",
     "start_time": "2024-06-20T22:15:36.176772Z"
    }
   },
   "cell_type": "code",
   "source": [
    "print(\"Training Start\")\n",
    "for epoch in range(20):\n",
    "    train_model.train(epoch, batch_size)\n",
    "    train_model.save(epoch, output_path)"
   ],
   "id": "38c053ee98e4e07c",
   "outputs": [
    {
     "name": "stdout",
     "output_type": "stream",
     "text": [
      "Training Start\n"
     ]
    },
    {
     "name": "stderr",
     "output_type": "stream",
     "text": [
      "EP_train:0:  38%|| 8/21 [00:00<00:00, 73.42it/s]"
     ]
    },
    {
     "name": "stdout",
     "output_type": "stream",
     "text": [
      "[33, 33]\n",
      "[33, 8]\n",
      "[33, 33]\n",
      "[33, 8]\n",
      "<class 'dict_values'>\n",
      "torch.Size([10, 33, 33]) torch.Size([10, 33, 64])\n",
      "torch.Size([10, 33, 33]) torch.Size([10, 33, 64])\n",
      "torch.Size([10, 33, 33]) torch.Size([10, 33, 64])\n",
      "torch.Size([10, 33, 33]) torch.Size([10, 33, 64])\n",
      "torch.Size([10, 33, 33]) torch.Size([10, 33, 64])\n",
      "torch.Size([10, 33, 33]) torch.Size([10, 33, 64])\n",
      "[67, 67]\n",
      "[67, 8]\n",
      "[176, 176]\n",
      "[176, 8]\n",
      "<class 'dict_values'>\n",
      "torch.Size([10, 67, 67]) torch.Size([10, 67, 64])\n",
      "torch.Size([10, 67, 67]) torch.Size([10, 67, 64])\n",
      "torch.Size([10, 67, 67]) torch.Size([10, 67, 64])\n",
      "torch.Size([10, 176, 176]) torch.Size([10, 176, 64])\n",
      "torch.Size([10, 176, 176]) torch.Size([10, 176, 64])\n",
      "torch.Size([10, 176, 176]) torch.Size([10, 176, 64])\n",
      "[54, 54]\n",
      "[54, 8]\n",
      "[54, 54]\n",
      "[54, 8]\n",
      "<class 'dict_values'>\n",
      "torch.Size([10, 54, 54]) torch.Size([10, 54, 64])\n",
      "torch.Size([10, 54, 54]) torch.Size([10, 54, 64])\n",
      "torch.Size([10, 54, 54]) torch.Size([10, 54, 64])\n",
      "torch.Size([10, 54, 54]) torch.Size([10, 54, 64])\n",
      "torch.Size([10, 54, 54]) torch.Size([10, 54, 64])\n",
      "torch.Size([10, 54, 54]) torch.Size([10, 54, 64])\n",
      "[32, 32]\n",
      "[32, 8]\n",
      "[69, 69]\n",
      "[69, 8]\n",
      "<class 'dict_values'>\n",
      "torch.Size([10, 32, 32]) torch.Size([10, 32, 64])\n",
      "torch.Size([10, 32, 32]) torch.Size([10, 32, 64])\n",
      "torch.Size([10, 32, 32]) torch.Size([10, 32, 64])\n",
      "torch.Size([10, 69, 69]) torch.Size([10, 69, 64])\n",
      "torch.Size([10, 69, 69]) torch.Size([10, 69, 64])\n",
      "torch.Size([10, 69, 69]) torch.Size([10, 69, 64])\n",
      "[196, 196]\n",
      "[196, 8]\n",
      "[196, 196]\n",
      "[196, 8]\n",
      "<class 'dict_values'>\n",
      "torch.Size([10, 196, 196]) torch.Size([10, 196, 64])\n",
      "torch.Size([10, 196, 196]) torch.Size([10, 196, 64])\n",
      "torch.Size([10, 196, 196]) torch.Size([10, 196, 64])\n",
      "torch.Size([10, 196, 196]) torch.Size([10, 196, 64])\n",
      "torch.Size([10, 196, 196]) torch.Size([10, 196, 64])\n",
      "torch.Size([10, 196, 196]) torch.Size([10, 196, 64])\n",
      "[20, 20]\n",
      "[20, 8]\n",
      "[20, 20]\n",
      "[20, 8]\n",
      "<class 'dict_values'>\n",
      "torch.Size([10, 20, 20]) torch.Size([10, 20, 64])\n",
      "torch.Size([10, 20, 20]) torch.Size([10, 20, 64])\n",
      "torch.Size([10, 20, 20]) torch.Size([10, 20, 64])\n",
      "torch.Size([10, 20, 20]) torch.Size([10, 20, 64])\n",
      "torch.Size([10, 20, 20]) torch.Size([10, 20, 64])\n",
      "torch.Size([10, 20, 20]) torch.Size([10, 20, 64])\n",
      "[479, 479]\n",
      "[479, 8]\n",
      "[479, 479]\n",
      "[479, 8]\n",
      "<class 'dict_values'>\n",
      "torch.Size([10, 479, 479]) torch.Size([10, 479, 64])\n",
      "torch.Size([10, 479, 479]) torch.Size([10, 479, 64])\n",
      "torch.Size([10, 479, 479]) torch.Size([10, 479, 64])\n",
      "torch.Size([10, 479, 479]) torch.Size([10, 479, 64])\n",
      "torch.Size([10, 479, 479]) torch.Size([10, 479, 64])\n",
      "torch.Size([10, 479, 479]) torch.Size([10, 479, 64])\n",
      "[162, 162]\n",
      "[162, 8]\n",
      "[162, 162]\n",
      "[162, 8]\n",
      "<class 'dict_values'>\n",
      "torch.Size([10, 162, 162]) torch.Size([10, 162, 64])\n",
      "torch.Size([10, 162, 162]) torch.Size([10, 162, 64])\n",
      "torch.Size([10, 162, 162]) torch.Size([10, 162, 64])\n",
      "torch.Size([10, 162, 162]) torch.Size([10, 162, 64])\n",
      "torch.Size([10, 162, 162]) torch.Size([10, 162, 64])\n",
      "torch.Size([10, 162, 162]) torch.Size([10, 162, 64])\n",
      "[113, 113]\n",
      "[113, 8]\n",
      "[113, 113]\n",
      "[113, 8]\n",
      "<class 'dict_values'>\n",
      "torch.Size([10, 113, 113]) torch.Size([10, 113, 64])\n",
      "torch.Size([10, 113, 113]) torch.Size([10, 113, 64])\n",
      "torch.Size([10, 113, 113]) torch.Size([10, 113, 64])\n",
      "torch.Size([10, 113, 113]) torch.Size([10, 113, 64])\n",
      "torch.Size([10, 113, 113]) torch.Size([10, 113, 64])\n",
      "torch.Size([10, 113, 113]) torch.Size([10, 113, 64])\n",
      "[43, 43]\n",
      "[43, 8]\n",
      "[43, 43]\n",
      "[43, 8]\n",
      "<class 'dict_values'>\n",
      "torch.Size([10, 43, 43]) torch.Size([10, 43, 64])\n",
      "torch.Size([10, 43, 43]) torch.Size([10, 43, 64])\n",
      "torch.Size([10, 43, 43]) torch.Size([10, 43, 64])\n",
      "torch.Size([10, 43, 43]) torch.Size([10, 43, 64])\n",
      "torch.Size([10, 43, 43]) torch.Size([10, 43, 64])\n",
      "torch.Size([10, 43, 43]) torch.Size([10, 43, 64])\n",
      "[67, 67]\n",
      "[67, 8]\n",
      "[67, 67]\n",
      "[67, 8]\n",
      "<class 'dict_values'>\n",
      "torch.Size([10, 67, 67]) torch.Size([10, 67, 64])\n",
      "torch.Size([10, 67, 67]) torch.Size([10, 67, 64])\n",
      "torch.Size([10, 67, 67]) torch.Size([10, 67, 64])\n",
      "torch.Size([10, 67, 67]) torch.Size([10, 67, 64])\n",
      "torch.Size([10, 67, 67]) torch.Size([10, 67, 64])\n",
      "torch.Size([10, 67, 67]) torch.Size([10, 67, 64])\n",
      "[15, 15]\n",
      "[15, 8]\n",
      "[176, 176]\n",
      "[176, 8]\n",
      "<class 'dict_values'>\n",
      "torch.Size([10, 15, 15]) torch.Size([10, 15, 64])\n",
      "torch.Size([10, 15, 15]) torch.Size([10, 15, 64])\n",
      "torch.Size([10, 15, 15]) torch.Size([10, 15, 64])\n",
      "torch.Size([10, 176, 176]) torch.Size([10, 176, 64])\n",
      "torch.Size([10, 176, 176]) torch.Size([10, 176, 64])\n",
      "torch.Size([10, 176, 176]) torch.Size([10, 176, 64])\n",
      "[232, 232]\n",
      "[232, 8]\n",
      "[232, 232]\n",
      "[232, 8]\n",
      "<class 'dict_values'>\n",
      "torch.Size([10, 232, 232]) torch.Size([10, 232, 64])\n",
      "torch.Size([10, 232, 232]) torch.Size([10, 232, 64])\n",
      "torch.Size([10, 232, 232]) torch.Size([10, 232, 64])\n",
      "torch.Size([10, 232, 232]) torch.Size([10, 232, 64])\n",
      "torch.Size([10, 232, 232]) torch.Size([10, 232, 64])\n",
      "torch.Size([10, 232, 232]) torch.Size([10, 232, 64])\n",
      "[78, 78]\n",
      "[78, 8]\n",
      "[78, 78]\n",
      "[78, 8]\n",
      "<class 'dict_values'>\n",
      "torch.Size([10, 78, 78]) torch.Size([10, 78, 64])\n",
      "torch.Size([10, 78, 78]) torch.Size([10, 78, 64])\n",
      "torch.Size([10, 78, 78]) torch.Size([10, 78, 64])\n",
      "torch.Size([10, 78, 78]) torch.Size([10, 78, 64])\n",
      "torch.Size([10, 78, 78]) torch.Size([10, 78, 64])\n",
      "torch.Size([10, 78, 78]) torch.Size([10, 78, 64])\n",
      "[54, 54]\n",
      "[54, 8]\n",
      "[54, 54]\n",
      "[54, 8]\n",
      "<class 'dict_values'>\n",
      "torch.Size([10, 54, 54]) torch.Size([10, 54, 64])\n",
      "torch.Size([10, 54, 54]) torch.Size([10, 54, 64])\n",
      "torch.Size([10, 54, 54]) torch.Size([10, 54, 64])\n",
      "torch.Size([10, 54, 54]) torch.Size([10, 54, 64])\n",
      "torch.Size([10, 54, 54]) torch.Size([10, 54, 64])\n",
      "torch.Size([10, 54, 54]) torch.Size([10, 54, 64])\n",
      "[31, 31]\n",
      "[31, 8]\n",
      "[176, 176]\n",
      "[176, 8]\n",
      "<class 'dict_values'>\n",
      "torch.Size([10, 31, 31]) torch.Size([10, 31, 64])\n",
      "torch.Size([10, 31, 31]) torch.Size([10, 31, 64])\n",
      "torch.Size([10, 31, 31]) torch.Size([10, 31, 64])\n",
      "torch.Size([10, 176, 176]) torch.Size([10, 176, 64])\n",
      "torch.Size([10, 176, 176]) torch.Size([10, 176, 64])\n",
      "torch.Size([10, 176, 176]) torch.Size([10, 176, 64])\n",
      "[53, 53]\n",
      "[53, 8]\n",
      "[53, 53]\n",
      "[53, 8]\n",
      "<class 'dict_values'>\n",
      "torch.Size([10, 53, 53]) torch.Size([10, 53, 64])\n",
      "torch.Size([10, 53, 53]) torch.Size([10, 53, 64])\n",
      "torch.Size([10, 53, 53]) torch.Size([10, 53, 64])\n",
      "torch.Size([10, 53, 53]) torch.Size([10, 53, 64])\n",
      "torch.Size([10, 53, 53]) torch.Size([10, 53, 64])\n"
     ]
    },
    {
     "name": "stderr",
     "output_type": "stream",
     "text": [
      "EP_train:0: 100%|| 21/21 [00:00<00:00, 86.15it/s]\n"
     ]
    },
    {
     "name": "stdout",
     "output_type": "stream",
     "text": [
      "torch.Size([10, 53, 53]) torch.Size([10, 53, 64])\n",
      "[60, 60]\n",
      "[60, 8]\n",
      "[60, 60]\n",
      "[60, 8]\n",
      "<class 'dict_values'>\n",
      "torch.Size([10, 60, 60]) torch.Size([10, 60, 64])\n",
      "torch.Size([10, 60, 60]) torch.Size([10, 60, 64])\n",
      "torch.Size([10, 60, 60]) torch.Size([10, 60, 64])\n",
      "torch.Size([10, 60, 60]) torch.Size([10, 60, 64])\n",
      "torch.Size([10, 60, 60]) torch.Size([10, 60, 64])\n",
      "torch.Size([10, 60, 60]) torch.Size([10, 60, 64])\n",
      "[11, 11]\n",
      "[11, 8]\n",
      "[11, 11]\n",
      "[11, 8]\n",
      "<class 'dict_values'>\n",
      "torch.Size([10, 11, 11]) torch.Size([10, 11, 64])\n",
      "torch.Size([10, 11, 11]) torch.Size([10, 11, 64])\n",
      "torch.Size([10, 11, 11]) torch.Size([10, 11, 64])\n",
      "torch.Size([10, 11, 11]) torch.Size([10, 11, 64])\n",
      "torch.Size([10, 11, 11]) torch.Size([10, 11, 64])\n",
      "torch.Size([10, 11, 11]) torch.Size([10, 11, 64])\n",
      "[178, 178]\n",
      "[178, 8]\n",
      "[178, 178]\n",
      "[178, 8]\n",
      "<class 'dict_values'>\n",
      "torch.Size([10, 178, 178]) torch.Size([10, 178, 64])\n",
      "torch.Size([10, 178, 178]) torch.Size([10, 178, 64])\n",
      "torch.Size([10, 178, 178]) torch.Size([10, 178, 64])\n",
      "torch.Size([10, 178, 178]) torch.Size([10, 178, 64])\n",
      "torch.Size([10, 178, 178]) torch.Size([10, 178, 64])\n",
      "torch.Size([10, 178, 178]) torch.Size([10, 178, 64])\n",
      "[5, 5]\n",
      "[5, 8]\n",
      "[4, 4]\n",
      "[4, 8]\n",
      "<class 'dict_values'>\n",
      "torch.Size([1, 5, 5]) torch.Size([10, 5, 64])\n",
      "torch.Size([1, 5, 5]) torch.Size([10, 5, 64])\n",
      "torch.Size([1, 5, 5]) torch.Size([10, 5, 64])\n",
      "torch.Size([1, 4, 4]) torch.Size([10, 4, 64])\n",
      "torch.Size([1, 4, 4]) torch.Size([10, 4, 64])\n",
      "torch.Size([1, 4, 4]) torch.Size([10, 4, 64])\n"
     ]
    },
    {
     "ename": "RuntimeError",
     "evalue": "[enforce fail at inline_container.cc:633] . invalid file name: parameter/.ep0",
     "output_type": "error",
     "traceback": [
      "\u001B[0;31m---------------------------------------------------------------------------\u001B[0m",
      "\u001B[0;31mRuntimeError\u001B[0m                              Traceback (most recent call last)",
      "Cell \u001B[0;32mIn[10], line 4\u001B[0m\n\u001B[1;32m      2\u001B[0m \u001B[38;5;28;01mfor\u001B[39;00m epoch \u001B[38;5;129;01min\u001B[39;00m \u001B[38;5;28mrange\u001B[39m(\u001B[38;5;241m20\u001B[39m):\n\u001B[1;32m      3\u001B[0m     train_model\u001B[38;5;241m.\u001B[39mtrain(epoch, batch_size)\n\u001B[0;32m----> 4\u001B[0m     train_model\u001B[38;5;241m.\u001B[39msave(epoch, output_path)\n",
      "File \u001B[0;32m~/PycharmProjects/prakProject/gitfile/BAAIprak/trainner.py:69\u001B[0m, in \u001B[0;36mTrainer.save\u001B[0;34m(self, epoch, file_path)\u001B[0m\n\u001B[1;32m     61\u001B[0m \u001B[38;5;250m\u001B[39m\u001B[38;5;124;03m\"\"\"\u001B[39;00m\n\u001B[1;32m     62\u001B[0m \u001B[38;5;124;03mSaving the current model on file_path\u001B[39;00m\n\u001B[1;32m     63\u001B[0m \n\u001B[0;32m   (...)\u001B[0m\n\u001B[1;32m     66\u001B[0m \u001B[38;5;124;03m:return: final_output_path\u001B[39;00m\n\u001B[1;32m     67\u001B[0m \u001B[38;5;124;03m\"\"\"\u001B[39;00m\n\u001B[1;32m     68\u001B[0m output_path \u001B[38;5;241m=\u001B[39m file_path \u001B[38;5;241m+\u001B[39m \u001B[38;5;124m\"\u001B[39m\u001B[38;5;124m.ep\u001B[39m\u001B[38;5;132;01m%d\u001B[39;00m\u001B[38;5;124m\"\u001B[39m \u001B[38;5;241m%\u001B[39m epoch\n\u001B[0;32m---> 69\u001B[0m torch\u001B[38;5;241m.\u001B[39msave(\u001B[38;5;28mself\u001B[39m\u001B[38;5;241m.\u001B[39mmodel\u001B[38;5;241m.\u001B[39mcpu(), output_path)\n\u001B[1;32m     70\u001B[0m \u001B[38;5;28mself\u001B[39m\u001B[38;5;241m.\u001B[39mmodel\u001B[38;5;241m.\u001B[39mto(\u001B[38;5;28mself\u001B[39m\u001B[38;5;241m.\u001B[39mdevice)\n\u001B[1;32m     71\u001B[0m \u001B[38;5;28mprint\u001B[39m(\u001B[38;5;124m\"\u001B[39m\u001B[38;5;124mEP:\u001B[39m\u001B[38;5;132;01m%d\u001B[39;00m\u001B[38;5;124m Model Saved on:\u001B[39m\u001B[38;5;124m\"\u001B[39m \u001B[38;5;241m%\u001B[39m epoch, output_path)\n",
      "File \u001B[0;32m~/anaconda3/envs/myenv/lib/python3.12/site-packages/torch/serialization.py:627\u001B[0m, in \u001B[0;36msave\u001B[0;34m(obj, f, pickle_module, pickle_protocol, _use_new_zipfile_serialization, _disable_byteorder_record)\u001B[0m\n\u001B[1;32m    624\u001B[0m _check_save_filelike(f)\n\u001B[1;32m    626\u001B[0m \u001B[38;5;28;01mif\u001B[39;00m _use_new_zipfile_serialization:\n\u001B[0;32m--> 627\u001B[0m     \u001B[38;5;28;01mwith\u001B[39;00m _open_zipfile_writer(f) \u001B[38;5;28;01mas\u001B[39;00m opened_zipfile:\n\u001B[1;32m    628\u001B[0m         _save(obj, opened_zipfile, pickle_module, pickle_protocol, _disable_byteorder_record)\n\u001B[1;32m    629\u001B[0m         \u001B[38;5;28;01mreturn\u001B[39;00m\n",
      "File \u001B[0;32m~/anaconda3/envs/myenv/lib/python3.12/site-packages/torch/serialization.py:501\u001B[0m, in \u001B[0;36m_open_zipfile_writer\u001B[0;34m(name_or_buffer)\u001B[0m\n\u001B[1;32m    499\u001B[0m \u001B[38;5;28;01melse\u001B[39;00m:\n\u001B[1;32m    500\u001B[0m     container \u001B[38;5;241m=\u001B[39m _open_zipfile_writer_buffer\n\u001B[0;32m--> 501\u001B[0m \u001B[38;5;28;01mreturn\u001B[39;00m container(name_or_buffer)\n",
      "File \u001B[0;32m~/anaconda3/envs/myenv/lib/python3.12/site-packages/torch/serialization.py:472\u001B[0m, in \u001B[0;36m_open_zipfile_writer_file.__init__\u001B[0;34m(self, name)\u001B[0m\n\u001B[1;32m    470\u001B[0m     \u001B[38;5;28msuper\u001B[39m()\u001B[38;5;241m.\u001B[39m\u001B[38;5;21m__init__\u001B[39m(torch\u001B[38;5;241m.\u001B[39m_C\u001B[38;5;241m.\u001B[39mPyTorchFileWriter(\u001B[38;5;28mself\u001B[39m\u001B[38;5;241m.\u001B[39mfile_stream))\n\u001B[1;32m    471\u001B[0m \u001B[38;5;28;01melse\u001B[39;00m:\n\u001B[0;32m--> 472\u001B[0m     \u001B[38;5;28msuper\u001B[39m()\u001B[38;5;241m.\u001B[39m\u001B[38;5;21m__init__\u001B[39m(torch\u001B[38;5;241m.\u001B[39m_C\u001B[38;5;241m.\u001B[39mPyTorchFileWriter(\u001B[38;5;28mself\u001B[39m\u001B[38;5;241m.\u001B[39mname))\n",
      "\u001B[0;31mRuntimeError\u001B[0m: [enforce fail at inline_container.cc:633] . invalid file name: parameter/.ep0"
     ]
    }
   ],
   "execution_count": 10
  }
 ],
 "metadata": {
  "kernelspec": {
   "display_name": "Python 3",
   "language": "python",
   "name": "python3"
  },
  "language_info": {
   "codemirror_mode": {
    "name": "ipython",
    "version": 2
   },
   "file_extension": ".py",
   "mimetype": "text/x-python",
   "name": "python",
   "nbconvert_exporter": "python",
   "pygments_lexer": "ipython2",
   "version": "2.7.6"
  }
 },
 "nbformat": 4,
 "nbformat_minor": 5
}
