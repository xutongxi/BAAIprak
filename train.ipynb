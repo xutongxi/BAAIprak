{
 "cells": [
  {
   "metadata": {
    "ExecuteTime": {
     "end_time": "2024-06-24T09:34:29.066027Z",
     "start_time": "2024-06-24T09:34:28.143159Z"
    }
   },
   "cell_type": "code",
   "source": [
    "import model\n",
    "import dataset\n",
    "import trainner"
   ],
   "id": "6d3cd0ad572e7e74",
   "outputs": [],
   "execution_count": 1
  },
  {
   "metadata": {
    "ExecuteTime": {
     "end_time": "2024-06-24T09:34:29.069655Z",
     "start_time": "2024-06-24T09:34:29.067176Z"
    }
   },
   "cell_type": "code",
   "source": [
    "import torch\n",
    "import torch.nn as nn\n",
    "import torch.nn.functional as F\n",
    "from torch.autograd import Variable\n",
    "from torch.utils.data import Dataset, DataLoader"
   ],
   "id": "a1a52b271ff56da8",
   "outputs": [],
   "execution_count": 2
  },
  {
   "metadata": {
    "ExecuteTime": {
     "end_time": "2024-06-24T09:34:29.074582Z",
     "start_time": "2024-06-24T09:34:29.070233Z"
    }
   },
   "cell_type": "code",
   "source": [
    "\n",
    "spread_times = 3\n",
    "embedded_depth = 2  # at least 1\n",
    "vector_size = 8\n",
    "embedding_size = 64\n",
    "batch_size = 10"
   ],
   "id": "ad8e5949841ced4c",
   "outputs": [],
   "execution_count": 3
  },
  {
   "metadata": {
    "ExecuteTime": {
     "end_time": "2024-06-24T09:34:29.077730Z",
     "start_time": "2024-06-24T09:34:29.075089Z"
    }
   },
   "cell_type": "code",
   "source": [
    "train_dataset = \"data/training\"\n",
    "test_dataset = None\n",
    "output_path = \"output/parameter.model\""
   ],
   "id": "33b6a082569cd6ff",
   "outputs": [],
   "execution_count": 4
  },
  {
   "metadata": {
    "ExecuteTime": {
     "end_time": "2024-06-24T09:34:29.081388Z",
     "start_time": "2024-06-24T09:34:29.078486Z"
    }
   },
   "cell_type": "code",
   "source": "data = dataset.GraphDataset(train_dataset)",
   "id": "72427de269da7ea7",
   "outputs": [],
   "execution_count": 5
  },
  {
   "metadata": {
    "ExecuteTime": {
     "end_time": "2024-06-24T09:34:29.084826Z",
     "start_time": "2024-06-24T09:34:29.082067Z"
    }
   },
   "cell_type": "code",
   "source": [
    "print(\"Creating Dataset\")\n",
    "train_dataset = dataset.GraphDataset(train_dataset)\n",
    "test_dataset = dataset.GraphDataset(test_dataset) if test_dataset is not None else None"
   ],
   "id": "f57ebbeee6db7f72",
   "outputs": [
    {
     "name": "stdout",
     "output_type": "stream",
     "text": [
      "Creating Dataset\n"
     ]
    }
   ],
   "execution_count": 6
  },
  {
   "metadata": {
    "ExecuteTime": {
     "end_time": "2024-06-24T09:34:29.088157Z",
     "start_time": "2024-06-24T09:34:29.085578Z"
    }
   },
   "cell_type": "code",
   "source": [
    "print(\"Creating Dataloader\")\n",
    "train_data_loader = DataLoader(train_dataset, batch_size=batch_size, num_workers=0, collate_fn=dataset.custom_collate_fn)\n",
    "test_data_loader = DataLoader(test_dataset, batch_size=batch_size, num_workers=10, collate_fn=dataset.custom_collate_fn, shuffle=True) \\\n",
    "    if test_dataset is not None else None"
   ],
   "id": "b482e350a94f096a",
   "outputs": [
    {
     "name": "stdout",
     "output_type": "stream",
     "text": [
      "Creating Dataloader\n"
     ]
    }
   ],
   "execution_count": 7
  },
  {
   "metadata": {
    "ExecuteTime": {
     "end_time": "2024-06-24T09:34:29.094260Z",
     "start_time": "2024-06-24T09:34:29.088838Z"
    }
   },
   "cell_type": "code",
   "source": [
    "print(\"Building model\")\n",
    "model = model.GraphEmbeddingNetwork(spread_times, embedded_depth, vector_size, embedding_size)"
   ],
   "id": "e41364645e30dcd5",
   "outputs": [
    {
     "name": "stdout",
     "output_type": "stream",
     "text": [
      "Building model\n"
     ]
    }
   ],
   "execution_count": 8
  },
  {
   "metadata": {
    "ExecuteTime": {
     "end_time": "2024-06-24T09:34:31.143301Z",
     "start_time": "2024-06-24T09:34:29.095229Z"
    }
   },
   "cell_type": "code",
   "source": [
    "print(\"Creating Trainer\")\n",
    "train_model = trainner.Trainer(model, train_data_loader, test_data_loader)"
   ],
   "id": "600fe69f29ed53e1",
   "outputs": [
    {
     "name": "stdout",
     "output_type": "stream",
     "text": [
      "Creating Trainer\n",
      "CUDA available: True\n",
      "Total Parameters: 13056\n"
     ]
    }
   ],
   "execution_count": 9
  },
  {
   "metadata": {
    "ExecuteTime": {
     "end_time": "2024-06-24T09:34:35.482835Z",
     "start_time": "2024-06-24T09:34:31.143868Z"
    }
   },
   "cell_type": "code",
   "source": [
    "print(\"Training Start\")\n",
    "for epoch in range(20):\n",
    "    train_model.train(epoch, batch_size)\n",
    "    train_model.save(epoch, output_path)"
   ],
   "id": "38c053ee98e4e07c",
   "outputs": [
    {
     "name": "stdout",
     "output_type": "stream",
     "text": [
      "Training Start\n"
     ]
    },
    {
     "name": "stderr",
     "output_type": "stream",
     "text": [
      "EP_train:0:   0%|| 0/21 [00:00<?, ?it/s]"
     ]
    },
    {
     "name": "stdout",
     "output_type": "stream",
     "text": [
      "torch.Size([10, 33, 33]) torch.Size([10, 33, 64])\n",
      "torch.Size([10, 33, 33]) torch.Size([10, 33, 64])\n",
      "torch.Size([10, 33, 33]) torch.Size([10, 33, 64])\n",
      "torch.Size([10, 33, 33]) torch.Size([10, 33, 64])\n",
      "torch.Size([10, 33, 33]) torch.Size([10, 33, 64])\n",
      "torch.Size([10, 33, 33]) torch.Size([10, 33, 64])\n"
     ]
    },
    {
     "name": "stderr",
     "output_type": "stream",
     "text": [
      "EP_train:0:  33%|| 7/21 [00:00<00:00, 18.91it/s]"
     ]
    },
    {
     "name": "stdout",
     "output_type": "stream",
     "text": [
      "{'epoch': 0, 'iter': 0, 'loss:': 1.7241367101669312}\n",
      "torch.Size([10, 67, 67]) torch.Size([10, 67, 64])\n",
      "torch.Size([10, 67, 67]) torch.Size([10, 67, 64])\n",
      "torch.Size([10, 67, 67]) torch.Size([10, 67, 64])\n",
      "torch.Size([10, 176, 176]) torch.Size([10, 176, 64])\n",
      "torch.Size([10, 176, 176]) torch.Size([10, 176, 64])\n",
      "torch.Size([10, 176, 176]) torch.Size([10, 176, 64])\n",
      "torch.Size([10, 54, 54]) torch.Size([10, 54, 64])\n",
      "torch.Size([10, 54, 54]) torch.Size([10, 54, 64])\n",
      "torch.Size([10, 54, 54]) torch.Size([10, 54, 64])\n",
      "torch.Size([10, 54, 54]) torch.Size([10, 54, 64])\n",
      "torch.Size([10, 54, 54]) torch.Size([10, 54, 64])\n",
      "torch.Size([10, 54, 54]) torch.Size([10, 54, 64])\n",
      "torch.Size([10, 32, 32]) torch.Size([10, 32, 64])\n",
      "torch.Size([10, 32, 32]) torch.Size([10, 32, 64])\n",
      "torch.Size([10, 32, 32]) torch.Size([10, 32, 64])\n",
      "torch.Size([10, 69, 69]) torch.Size([10, 69, 64])\n",
      "torch.Size([10, 69, 69]) torch.Size([10, 69, 64])\n",
      "torch.Size([10, 69, 69]) torch.Size([10, 69, 64])\n",
      "torch.Size([10, 196, 196]) torch.Size([10, 196, 64])\n",
      "torch.Size([10, 196, 196]) torch.Size([10, 196, 64])\n",
      "torch.Size([10, 196, 196]) torch.Size([10, 196, 64])\n",
      "torch.Size([10, 196, 196]) torch.Size([10, 196, 64])\n",
      "torch.Size([10, 196, 196]) torch.Size([10, 196, 64])\n",
      "torch.Size([10, 196, 196]) torch.Size([10, 196, 64])\n",
      "torch.Size([10, 20, 20]) torch.Size([10, 20, 64])\n",
      "torch.Size([10, 20, 20]) torch.Size([10, 20, 64])\n",
      "torch.Size([10, 20, 20]) torch.Size([10, 20, 64])\n",
      "torch.Size([10, 20, 20]) torch.Size([10, 20, 64])\n",
      "torch.Size([10, 20, 20]) torch.Size([10, 20, 64])\n",
      "torch.Size([10, 20, 20]) torch.Size([10, 20, 64])\n",
      "{'epoch': 0, 'iter': 5, 'loss:': 1.0839043855667114}\n",
      "torch.Size([10, 479, 479]) torch.Size([10, 479, 64])\n",
      "torch.Size([10, 479, 479]) torch.Size([10, 479, 64])\n",
      "torch.Size([10, 479, 479]) torch.Size([10, 479, 64])\n",
      "torch.Size([10, 479, 479]) torch.Size([10, 479, 64])\n",
      "torch.Size([10, 479, 479]) torch.Size([10, 479, 64])\n",
      "torch.Size([10, 479, 479]) torch.Size([10, 479, 64])\n",
      "torch.Size([10, 162, 162]) torch.Size([10, 162, 64])\n",
      "torch.Size([10, 162, 162]) torch.Size([10, 162, 64])\n",
      "torch.Size([10, 162, 162]) torch.Size([10, 162, 64])\n",
      "torch.Size([10, 162, 162]) torch.Size([10, 162, 64])\n",
      "torch.Size([10, 162, 162]) torch.Size([10, 162, 64])\n",
      "torch.Size([10, 162, 162]) torch.Size([10, 162, 64])\n",
      "torch.Size([10, 113, 113]) torch.Size([10, 113, 64])\n",
      "torch.Size([10, 113, 113]) torch.Size([10, 113, 64])\n",
      "torch.Size([10, 113, 113]) torch.Size([10, 113, 64])\n",
      "torch.Size([10, 113, 113]) torch.Size([10, 113, 64])\n",
      "torch.Size([10, 113, 113]) torch.Size([10, 113, 64])\n",
      "torch.Size([10, 113, 113]) torch.Size([10, 113, 64])\n",
      "torch.Size([10, 43, 43]) torch.Size([10, 43, 64])\n",
      "torch.Size([10, 43, 43]) torch.Size([10, 43, 64])\n",
      "torch.Size([10, 43, 43]) torch.Size([10, 43, 64])\n",
      "torch.Size([10, 43, 43]) torch.Size([10, 43, 64])\n",
      "torch.Size([10, 43, 43]) torch.Size([10, 43, 64])\n",
      "torch.Size([10, 43, 43]) torch.Size([10, 43, 64])\n",
      "torch.Size([10, 67, 67]) torch.Size([10, 67, 64])\n",
      "torch.Size([10, 67, 67]) torch.Size([10, 67, 64])\n",
      "torch.Size([10, 67, 67]) torch.Size([10, 67, 64])\n",
      "torch.Size([10, 67, 67]) torch.Size([10, 67, 64])\n",
      "torch.Size([10, 67, 67]) torch.Size([10, 67, 64])\n",
      "torch.Size([10, 67, 67]) torch.Size([10, 67, 64])\n",
      "{'epoch': 0, 'iter': 10, 'loss:': 1.470318078994751}\n",
      "torch.Size([10, 15, 15]) torch.Size([10, 15, 64])\n",
      "torch.Size([10, 15, 15]) torch.Size([10, 15, 64])\n",
      "torch.Size([10, 15, 15]) torch.Size([10, 15, 64])\n",
      "torch.Size([10, 176, 176]) torch.Size([10, 176, 64])\n",
      "torch.Size([10, 176, 176]) torch.Size([10, 176, 64])\n",
      "torch.Size([10, 176, 176]) torch.Size([10, 176, 64])\n",
      "torch.Size([10, 232, 232]) torch.Size([10, 232, 64])\n",
      "torch.Size([10, 232, 232]) torch.Size([10, 232, 64])\n",
      "torch.Size([10, 232, 232]) torch.Size([10, 232, 64])\n",
      "torch.Size([10, 232, 232]) torch.Size([10, 232, 64])\n",
      "torch.Size([10, 232, 232]) torch.Size([10, 232, 64])\n",
      "torch.Size([10, 232, 232]) torch.Size([10, 232, 64])\n",
      "torch.Size([10, 78, 78]) torch.Size([10, 78, 64])\n",
      "torch.Size([10, 78, 78]) torch.Size([10, 78, 64])\n",
      "torch.Size([10, 78, 78]) torch.Size([10, 78, 64])\n",
      "torch.Size([10, 78, 78]) torch.Size([10, 78, 64])\n",
      "torch.Size([10, 78, 78]) torch.Size([10, 78, 64])\n",
      "torch.Size([10, 78, 78]) torch.Size([10, 78, 64])\n"
     ]
    },
    {
     "name": "stderr",
     "output_type": "stream",
     "text": [
      "EP_train:0: 100%|| 21/21 [00:00<00:00, 34.01it/s]\n"
     ]
    },
    {
     "name": "stdout",
     "output_type": "stream",
     "text": [
      "torch.Size([10, 54, 54]) torch.Size([10, 54, 64])\n",
      "torch.Size([10, 54, 54]) torch.Size([10, 54, 64])\n",
      "torch.Size([10, 54, 54]) torch.Size([10, 54, 64])\n",
      "torch.Size([10, 54, 54]) torch.Size([10, 54, 64])\n",
      "torch.Size([10, 54, 54]) torch.Size([10, 54, 64])\n",
      "torch.Size([10, 54, 54]) torch.Size([10, 54, 64])\n",
      "torch.Size([10, 31, 31]) torch.Size([10, 31, 64])\n",
      "torch.Size([10, 31, 31]) torch.Size([10, 31, 64])\n",
      "torch.Size([10, 31, 31]) torch.Size([10, 31, 64])\n",
      "torch.Size([10, 176, 176]) torch.Size([10, 176, 64])\n",
      "torch.Size([10, 176, 176]) torch.Size([10, 176, 64])\n",
      "torch.Size([10, 176, 176]) torch.Size([10, 176, 64])\n",
      "{'epoch': 0, 'iter': 15, 'loss:': 2.026254653930664}\n",
      "torch.Size([10, 53, 53]) torch.Size([10, 53, 64])\n",
      "torch.Size([10, 53, 53]) torch.Size([10, 53, 64])\n",
      "torch.Size([10, 53, 53]) torch.Size([10, 53, 64])\n",
      "torch.Size([10, 53, 53]) torch.Size([10, 53, 64])\n",
      "torch.Size([10, 53, 53]) torch.Size([10, 53, 64])\n",
      "torch.Size([10, 53, 53]) torch.Size([10, 53, 64])\n",
      "torch.Size([10, 60, 60]) torch.Size([10, 60, 64])\n",
      "torch.Size([10, 60, 60]) torch.Size([10, 60, 64])\n",
      "torch.Size([10, 60, 60]) torch.Size([10, 60, 64])\n",
      "torch.Size([10, 60, 60]) torch.Size([10, 60, 64])\n",
      "torch.Size([10, 60, 60]) torch.Size([10, 60, 64])\n",
      "torch.Size([10, 60, 60]) torch.Size([10, 60, 64])\n",
      "torch.Size([10, 11, 11]) torch.Size([10, 11, 64])\n",
      "torch.Size([10, 11, 11]) torch.Size([10, 11, 64])\n",
      "torch.Size([10, 11, 11]) torch.Size([10, 11, 64])\n",
      "torch.Size([10, 11, 11]) torch.Size([10, 11, 64])\n",
      "torch.Size([10, 11, 11]) torch.Size([10, 11, 64])\n",
      "torch.Size([10, 11, 11]) torch.Size([10, 11, 64])\n",
      "torch.Size([10, 178, 178]) torch.Size([10, 178, 64])\n",
      "torch.Size([10, 178, 178]) torch.Size([10, 178, 64])\n",
      "torch.Size([10, 178, 178]) torch.Size([10, 178, 64])\n",
      "torch.Size([10, 178, 178]) torch.Size([10, 178, 64])\n",
      "torch.Size([10, 178, 178]) torch.Size([10, 178, 64])\n",
      "torch.Size([10, 178, 178]) torch.Size([10, 178, 64])\n",
      "torch.Size([1, 5, 5]) torch.Size([10, 5, 64])\n",
      "torch.Size([1, 5, 5]) torch.Size([10, 5, 64])\n",
      "torch.Size([1, 5, 5]) torch.Size([10, 5, 64])\n",
      "torch.Size([1, 4, 4]) torch.Size([10, 4, 64])\n",
      "torch.Size([1, 4, 4]) torch.Size([10, 4, 64])\n",
      "torch.Size([1, 4, 4]) torch.Size([10, 4, 64])\n",
      "{'epoch': 0, 'iter': 20, 'loss:': 3.9450244903564453}\n",
      "EP:0 Model Saved on: output/parameter.model.ep0\n"
     ]
    },
    {
     "name": "stderr",
     "output_type": "stream",
     "text": [
      "EP_train:1:  48%|| 10/21 [00:00<00:00, 92.99it/s]"
     ]
    },
    {
     "name": "stdout",
     "output_type": "stream",
     "text": [
      "torch.Size([10, 33, 33]) torch.Size([10, 33, 64])\n",
      "torch.Size([10, 33, 33]) torch.Size([10, 33, 64])\n",
      "torch.Size([10, 33, 33]) torch.Size([10, 33, 64])\n",
      "torch.Size([10, 33, 33]) torch.Size([10, 33, 64])\n",
      "torch.Size([10, 33, 33]) torch.Size([10, 33, 64])\n",
      "torch.Size([10, 33, 33]) torch.Size([10, 33, 64])\n",
      "{'epoch': 1, 'iter': 0, 'loss:': 1.6328667402267456}\n",
      "torch.Size([10, 67, 67]) torch.Size([10, 67, 64])\n",
      "torch.Size([10, 67, 67]) torch.Size([10, 67, 64])\n",
      "torch.Size([10, 67, 67]) torch.Size([10, 67, 64])\n",
      "torch.Size([10, 176, 176]) torch.Size([10, 176, 64])\n",
      "torch.Size([10, 176, 176]) torch.Size([10, 176, 64])\n",
      "torch.Size([10, 176, 176]) torch.Size([10, 176, 64])\n",
      "torch.Size([10, 54, 54]) torch.Size([10, 54, 64])\n",
      "torch.Size([10, 54, 54]) torch.Size([10, 54, 64])\n",
      "torch.Size([10, 54, 54]) torch.Size([10, 54, 64])\n",
      "torch.Size([10, 54, 54]) torch.Size([10, 54, 64])\n",
      "torch.Size([10, 54, 54]) torch.Size([10, 54, 64])\n",
      "torch.Size([10, 54, 54]) torch.Size([10, 54, 64])\n",
      "torch.Size([10, 32, 32]) torch.Size([10, 32, 64])\n",
      "torch.Size([10, 32, 32]) torch.Size([10, 32, 64])\n",
      "torch.Size([10, 32, 32]) torch.Size([10, 32, 64])\n",
      "torch.Size([10, 69, 69]) torch.Size([10, 69, 64])\n",
      "torch.Size([10, 69, 69]) torch.Size([10, 69, 64])\n",
      "torch.Size([10, 69, 69]) torch.Size([10, 69, 64])\n",
      "torch.Size([10, 196, 196]) torch.Size([10, 196, 64])\n",
      "torch.Size([10, 196, 196]) torch.Size([10, 196, 64])\n",
      "torch.Size([10, 196, 196]) torch.Size([10, 196, 64])\n",
      "torch.Size([10, 196, 196]) torch.Size([10, 196, 64])\n",
      "torch.Size([10, 196, 196]) torch.Size([10, 196, 64])\n",
      "torch.Size([10, 196, 196]) torch.Size([10, 196, 64])\n",
      "torch.Size([10, 20, 20]) torch.Size([10, 20, 64])\n",
      "torch.Size([10, 20, 20]) torch.Size([10, 20, 64])\n",
      "torch.Size([10, 20, 20]) torch.Size([10, 20, 64])\n",
      "torch.Size([10, 20, 20]) torch.Size([10, 20, 64])\n",
      "torch.Size([10, 20, 20]) torch.Size([10, 20, 64])\n",
      "torch.Size([10, 20, 20]) torch.Size([10, 20, 64])\n",
      "{'epoch': 1, 'iter': 5, 'loss:': 1.0529247522354126}\n",
      "torch.Size([10, 479, 479]) torch.Size([10, 479, 64])\n",
      "torch.Size([10, 479, 479]) torch.Size([10, 479, 64])\n",
      "torch.Size([10, 479, 479]) torch.Size([10, 479, 64])\n",
      "torch.Size([10, 479, 479]) torch.Size([10, 479, 64])\n",
      "torch.Size([10, 479, 479]) torch.Size([10, 479, 64])\n",
      "torch.Size([10, 479, 479]) torch.Size([10, 479, 64])\n",
      "torch.Size([10, 162, 162]) torch.Size([10, 162, 64])\n",
      "torch.Size([10, 162, 162]) torch.Size([10, 162, 64])\n",
      "torch.Size([10, 162, 162]) torch.Size([10, 162, 64])\n",
      "torch.Size([10, 162, 162]) torch.Size([10, 162, 64])\n",
      "torch.Size([10, 162, 162]) torch.Size([10, 162, 64])\n",
      "torch.Size([10, 162, 162]) torch.Size([10, 162, 64])\n",
      "torch.Size([10, 113, 113]) torch.Size([10, 113, 64])\n",
      "torch.Size([10, 113, 113]) torch.Size([10, 113, 64])\n",
      "torch.Size([10, 113, 113]) torch.Size([10, 113, 64])\n",
      "torch.Size([10, 113, 113]) torch.Size([10, 113, 64])\n",
      "torch.Size([10, 113, 113]) torch.Size([10, 113, 64])\n",
      "torch.Size([10, 113, 113]) torch.Size([10, 113, 64])\n",
      "torch.Size([10, 43, 43]) torch.Size([10, 43, 64])\n",
      "torch.Size([10, 43, 43]) torch.Size([10, 43, 64])\n",
      "torch.Size([10, 43, 43]) torch.Size([10, 43, 64])\n",
      "torch.Size([10, 43, 43]) torch.Size([10, 43, 64])\n",
      "torch.Size([10, 43, 43]) torch.Size([10, 43, 64])\n",
      "torch.Size([10, 43, 43]) torch.Size([10, 43, 64])\n",
      "torch.Size([10, 67, 67]) torch.Size([10, 67, 64])\n",
      "torch.Size([10, 67, 67]) torch.Size([10, 67, 64])\n",
      "torch.Size([10, 67, 67]) torch.Size([10, 67, 64])\n",
      "torch.Size([10, 67, 67]) torch.Size([10, 67, 64])\n",
      "torch.Size([10, 67, 67]) torch.Size([10, 67, 64])\n",
      "torch.Size([10, 67, 67]) torch.Size([10, 67, 64])\n",
      "{'epoch': 1, 'iter': 10, 'loss:': 1.4279630184173584}\n",
      "torch.Size([10, 15, 15]) torch.Size([10, 15, 64])\n",
      "torch.Size([10, 15, 15]) torch.Size([10, 15, 64])\n",
      "torch.Size([10, 15, 15]) torch.Size([10, 15, 64])\n",
      "torch.Size([10, 176, 176]) torch.Size([10, 176, 64])\n",
      "torch.Size([10, 176, 176]) torch.Size([10, 176, 64])\n",
      "torch.Size([10, 176, 176]) torch.Size([10, 176, 64])\n",
      "torch.Size([10, 232, 232]) torch.Size([10, 232, 64])\n",
      "torch.Size([10, 232, 232]) torch.Size([10, 232, 64])\n",
      "torch.Size([10, 232, 232]) torch.Size([10, 232, 64])\n",
      "torch.Size([10, 232, 232]) torch.Size([10, 232, 64])\n",
      "torch.Size([10, 232, 232]) torch.Size([10, 232, 64])\n",
      "torch.Size([10, 232, 232]) torch.Size([10, 232, 64])\n",
      "torch.Size([10, 78, 78]) torch.Size([10, 78, 64])\n"
     ]
    },
    {
     "name": "stderr",
     "output_type": "stream",
     "text": [
      "EP_train:1: 100%|| 21/21 [00:00<00:00, 105.54it/s]\n"
     ]
    },
    {
     "name": "stdout",
     "output_type": "stream",
     "text": [
      "torch.Size([10, 78, 78]) torch.Size([10, 78, 64])\n",
      "torch.Size([10, 78, 78]) torch.Size([10, 78, 64])\n",
      "torch.Size([10, 78, 78]) torch.Size([10, 78, 64])\n",
      "torch.Size([10, 78, 78]) torch.Size([10, 78, 64])\n",
      "torch.Size([10, 78, 78]) torch.Size([10, 78, 64])\n",
      "torch.Size([10, 54, 54]) torch.Size([10, 54, 64])\n",
      "torch.Size([10, 54, 54]) torch.Size([10, 54, 64])\n",
      "torch.Size([10, 54, 54]) torch.Size([10, 54, 64])\n",
      "torch.Size([10, 54, 54]) torch.Size([10, 54, 64])\n",
      "torch.Size([10, 54, 54]) torch.Size([10, 54, 64])\n",
      "torch.Size([10, 54, 54]) torch.Size([10, 54, 64])\n",
      "torch.Size([10, 31, 31]) torch.Size([10, 31, 64])\n",
      "torch.Size([10, 31, 31]) torch.Size([10, 31, 64])\n",
      "torch.Size([10, 31, 31]) torch.Size([10, 31, 64])\n",
      "torch.Size([10, 176, 176]) torch.Size([10, 176, 64])\n",
      "torch.Size([10, 176, 176]) torch.Size([10, 176, 64])\n",
      "torch.Size([10, 176, 176]) torch.Size([10, 176, 64])\n",
      "{'epoch': 1, 'iter': 15, 'loss:': 1.97952139377594}\n",
      "torch.Size([10, 53, 53]) torch.Size([10, 53, 64])\n",
      "torch.Size([10, 53, 53]) torch.Size([10, 53, 64])\n",
      "torch.Size([10, 53, 53]) torch.Size([10, 53, 64])\n",
      "torch.Size([10, 53, 53]) torch.Size([10, 53, 64])\n",
      "torch.Size([10, 53, 53]) torch.Size([10, 53, 64])\n",
      "torch.Size([10, 53, 53]) torch.Size([10, 53, 64])\n",
      "torch.Size([10, 60, 60]) torch.Size([10, 60, 64])\n",
      "torch.Size([10, 60, 60]) torch.Size([10, 60, 64])\n",
      "torch.Size([10, 60, 60]) torch.Size([10, 60, 64])\n",
      "torch.Size([10, 60, 60]) torch.Size([10, 60, 64])\n",
      "torch.Size([10, 60, 60]) torch.Size([10, 60, 64])\n",
      "torch.Size([10, 60, 60]) torch.Size([10, 60, 64])\n",
      "torch.Size([10, 11, 11]) torch.Size([10, 11, 64])\n",
      "torch.Size([10, 11, 11]) torch.Size([10, 11, 64])\n",
      "torch.Size([10, 11, 11]) torch.Size([10, 11, 64])\n",
      "torch.Size([10, 11, 11]) torch.Size([10, 11, 64])\n",
      "torch.Size([10, 11, 11]) torch.Size([10, 11, 64])\n",
      "torch.Size([10, 11, 11]) torch.Size([10, 11, 64])\n",
      "torch.Size([10, 178, 178]) torch.Size([10, 178, 64])\n",
      "torch.Size([10, 178, 178]) torch.Size([10, 178, 64])\n",
      "torch.Size([10, 178, 178]) torch.Size([10, 178, 64])\n",
      "torch.Size([10, 178, 178]) torch.Size([10, 178, 64])\n",
      "torch.Size([10, 178, 178]) torch.Size([10, 178, 64])\n",
      "torch.Size([10, 178, 178]) torch.Size([10, 178, 64])\n",
      "torch.Size([1, 5, 5]) torch.Size([10, 5, 64])\n",
      "torch.Size([1, 5, 5]) torch.Size([10, 5, 64])\n",
      "torch.Size([1, 5, 5]) torch.Size([10, 5, 64])\n",
      "torch.Size([1, 4, 4]) torch.Size([10, 4, 64])\n",
      "torch.Size([1, 4, 4]) torch.Size([10, 4, 64])\n",
      "torch.Size([1, 4, 4]) torch.Size([10, 4, 64])\n",
      "{'epoch': 1, 'iter': 20, 'loss:': 3.937593936920166}\n",
      "EP:1 Model Saved on: output/parameter.model.ep1\n"
     ]
    },
    {
     "name": "stderr",
     "output_type": "stream",
     "text": [
      "EP_train:2:  71%|| 15/21 [00:00<00:00, 140.61it/s]"
     ]
    },
    {
     "name": "stdout",
     "output_type": "stream",
     "text": [
      "torch.Size([10, 33, 33]) torch.Size([10, 33, 64])\n",
      "torch.Size([10, 33, 33]) torch.Size([10, 33, 64])\n",
      "torch.Size([10, 33, 33]) torch.Size([10, 33, 64])\n",
      "torch.Size([10, 33, 33]) torch.Size([10, 33, 64])\n",
      "torch.Size([10, 33, 33]) torch.Size([10, 33, 64])\n",
      "torch.Size([10, 33, 33]) torch.Size([10, 33, 64])\n",
      "{'epoch': 2, 'iter': 0, 'loss:': 1.5234296321868896}\n",
      "torch.Size([10, 67, 67]) torch.Size([10, 67, 64])\n",
      "torch.Size([10, 67, 67]) torch.Size([10, 67, 64])\n",
      "torch.Size([10, 67, 67]) torch.Size([10, 67, 64])\n",
      "torch.Size([10, 176, 176]) torch.Size([10, 176, 64])\n",
      "torch.Size([10, 176, 176]) torch.Size([10, 176, 64])\n",
      "torch.Size([10, 176, 176]) torch.Size([10, 176, 64])\n",
      "torch.Size([10, 54, 54]) torch.Size([10, 54, 64])\n",
      "torch.Size([10, 54, 54]) torch.Size([10, 54, 64])\n",
      "torch.Size([10, 54, 54]) torch.Size([10, 54, 64])\n",
      "torch.Size([10, 54, 54]) torch.Size([10, 54, 64])\n",
      "torch.Size([10, 54, 54]) torch.Size([10, 54, 64])\n",
      "torch.Size([10, 54, 54]) torch.Size([10, 54, 64])\n",
      "torch.Size([10, 32, 32]) torch.Size([10, 32, 64])\n",
      "torch.Size([10, 32, 32]) torch.Size([10, 32, 64])\n",
      "torch.Size([10, 32, 32]) torch.Size([10, 32, 64])\n",
      "torch.Size([10, 69, 69]) torch.Size([10, 69, 64])\n",
      "torch.Size([10, 69, 69]) torch.Size([10, 69, 64])\n",
      "torch.Size([10, 69, 69]) torch.Size([10, 69, 64])\n",
      "torch.Size([10, 196, 196]) torch.Size([10, 196, 64])\n",
      "torch.Size([10, 196, 196]) torch.Size([10, 196, 64])\n",
      "torch.Size([10, 196, 196]) torch.Size([10, 196, 64])\n",
      "torch.Size([10, 196, 196]) torch.Size([10, 196, 64])\n",
      "torch.Size([10, 196, 196]) torch.Size([10, 196, 64])\n",
      "torch.Size([10, 196, 196]) torch.Size([10, 196, 64])\n",
      "torch.Size([10, 20, 20]) torch.Size([10, 20, 64])\n",
      "torch.Size([10, 20, 20]) torch.Size([10, 20, 64])\n",
      "torch.Size([10, 20, 20]) torch.Size([10, 20, 64])\n",
      "torch.Size([10, 20, 20]) torch.Size([10, 20, 64])\n",
      "torch.Size([10, 20, 20]) torch.Size([10, 20, 64])\n",
      "torch.Size([10, 20, 20]) torch.Size([10, 20, 64])\n",
      "{'epoch': 2, 'iter': 5, 'loss:': 1.018078327178955}\n",
      "torch.Size([10, 479, 479]) torch.Size([10, 479, 64])\n",
      "torch.Size([10, 479, 479]) torch.Size([10, 479, 64])\n",
      "torch.Size([10, 479, 479]) torch.Size([10, 479, 64])\n",
      "torch.Size([10, 479, 479]) torch.Size([10, 479, 64])\n",
      "torch.Size([10, 479, 479]) torch.Size([10, 479, 64])\n",
      "torch.Size([10, 479, 479]) torch.Size([10, 479, 64])\n",
      "torch.Size([10, 162, 162]) torch.Size([10, 162, 64])\n",
      "torch.Size([10, 162, 162]) torch.Size([10, 162, 64])\n",
      "torch.Size([10, 162, 162]) torch.Size([10, 162, 64])\n",
      "torch.Size([10, 162, 162]) torch.Size([10, 162, 64])\n",
      "torch.Size([10, 162, 162]) torch.Size([10, 162, 64])\n",
      "torch.Size([10, 162, 162]) torch.Size([10, 162, 64])\n",
      "torch.Size([10, 113, 113]) torch.Size([10, 113, 64])\n",
      "torch.Size([10, 113, 113]) torch.Size([10, 113, 64])\n",
      "torch.Size([10, 113, 113]) torch.Size([10, 113, 64])\n",
      "torch.Size([10, 113, 113]) torch.Size([10, 113, 64])\n",
      "torch.Size([10, 113, 113]) torch.Size([10, 113, 64])\n",
      "torch.Size([10, 113, 113]) torch.Size([10, 113, 64])\n",
      "torch.Size([10, 43, 43]) torch.Size([10, 43, 64])\n",
      "torch.Size([10, 43, 43]) torch.Size([10, 43, 64])\n",
      "torch.Size([10, 43, 43]) torch.Size([10, 43, 64])\n",
      "torch.Size([10, 43, 43]) torch.Size([10, 43, 64])\n",
      "torch.Size([10, 43, 43]) torch.Size([10, 43, 64])\n",
      "torch.Size([10, 43, 43]) torch.Size([10, 43, 64])\n",
      "torch.Size([10, 67, 67]) torch.Size([10, 67, 64])\n",
      "torch.Size([10, 67, 67]) torch.Size([10, 67, 64])\n",
      "torch.Size([10, 67, 67]) torch.Size([10, 67, 64])\n",
      "torch.Size([10, 67, 67]) torch.Size([10, 67, 64])\n",
      "torch.Size([10, 67, 67]) torch.Size([10, 67, 64])\n",
      "torch.Size([10, 67, 67]) torch.Size([10, 67, 64])\n",
      "{'epoch': 2, 'iter': 10, 'loss:': 1.3717241287231445}\n",
      "torch.Size([10, 15, 15]) torch.Size([10, 15, 64])\n",
      "torch.Size([10, 15, 15]) torch.Size([10, 15, 64])\n",
      "torch.Size([10, 15, 15]) torch.Size([10, 15, 64])\n",
      "torch.Size([10, 176, 176]) torch.Size([10, 176, 64])\n",
      "torch.Size([10, 176, 176]) torch.Size([10, 176, 64])\n",
      "torch.Size([10, 176, 176]) torch.Size([10, 176, 64])\n",
      "torch.Size([10, 232, 232]) torch.Size([10, 232, 64])\n",
      "torch.Size([10, 232, 232]) torch.Size([10, 232, 64])\n",
      "torch.Size([10, 232, 232]) torch.Size([10, 232, 64])\n",
      "torch.Size([10, 232, 232]) torch.Size([10, 232, 64])\n",
      "torch.Size([10, 232, 232]) torch.Size([10, 232, 64])\n",
      "torch.Size([10, 232, 232]) torch.Size([10, 232, 64])\n",
      "torch.Size([10, 78, 78]) torch.Size([10, 78, 64])\n",
      "torch.Size([10, 78, 78]) torch.Size([10, 78, 64])\n",
      "torch.Size([10, 78, 78]) torch.Size([10, 78, 64])\n",
      "torch.Size([10, 78, 78]) torch.Size([10, 78, 64])\n",
      "torch.Size([10, 78, 78]) torch.Size([10, 78, 64])\n",
      "torch.Size([10, 78, 78]) torch.Size([10, 78, 64])\n",
      "torch.Size([10, 54, 54]) torch.Size([10, 54, 64])\n",
      "torch.Size([10, 54, 54]) torch.Size([10, 54, 64])\n",
      "torch.Size([10, 54, 54]) torch.Size([10, 54, 64])\n",
      "torch.Size([10, 54, 54]) torch.Size([10, 54, 64])\n",
      "torch.Size([10, 54, 54]) torch.Size([10, 54, 64])\n",
      "torch.Size([10, 54, 54]) torch.Size([10, 54, 64])\n",
      "torch.Size([10, 31, 31]) torch.Size([10, 31, 64])\n",
      "torch.Size([10, 31, 31]) torch.Size([10, 31, 64])\n",
      "torch.Size([10, 31, 31]) torch.Size([10, 31, 64])\n",
      "torch.Size([10, 176, 176]) torch.Size([10, 176, 64])\n",
      "torch.Size([10, 176, 176]) torch.Size([10, 176, 64])\n",
      "torch.Size([10, 176, 176]) torch.Size([10, 176, 64])\n",
      "{'epoch': 2, 'iter': 15, 'loss:': 1.9375156164169312}\n",
      "torch.Size([10, 53, 53]) torch.Size([10, 53, 64])\n",
      "torch.Size([10, 53, 53]) torch.Size([10, 53, 64])\n",
      "torch.Size([10, 53, 53]) torch.Size([10, 53, 64])\n",
      "torch.Size([10, 53, 53]) torch.Size([10, 53, 64])\n",
      "torch.Size([10, 53, 53]) torch.Size([10, 53, 64])\n",
      "torch.Size([10, 53, 53]) torch.Size([10, 53, 64])\n",
      "torch.Size([10, 60, 60]) torch.Size([10, 60, 64])\n",
      "torch.Size([10, 60, 60]) torch.Size([10, 60, 64])\n",
      "torch.Size([10, 60, 60]) torch.Size([10, 60, 64])\n",
      "torch.Size([10, 60, 60]) torch.Size([10, 60, 64])\n",
      "torch.Size([10, 60, 60]) torch.Size([10, 60, 64])\n",
      "torch.Size([10, 60, 60]) torch.Size([10, 60, 64])\n",
      "torch.Size([10, 11, 11]) torch.Size([10, 11, 64])\n",
      "torch.Size([10, 11, 11]) torch.Size([10, 11, 64])\n",
      "torch.Size([10, 11, 11]) torch.Size([10, 11, 64])\n",
      "torch.Size([10, 11, 11]) torch.Size([10, 11, 64])\n",
      "torch.Size([10, 11, 11]) torch.Size([10, 11, 64])\n",
      "torch.Size([10, 11, 11]) torch.Size([10, 11, 64])\n"
     ]
    },
    {
     "name": "stderr",
     "output_type": "stream",
     "text": [
      "EP_train:2: 100%|| 21/21 [00:00<00:00, 145.65it/s]\n"
     ]
    },
    {
     "name": "stdout",
     "output_type": "stream",
     "text": [
      "torch.Size([10, 178, 178]) torch.Size([10, 178, 64])\n",
      "torch.Size([10, 178, 178]) torch.Size([10, 178, 64])\n",
      "torch.Size([10, 178, 178]) torch.Size([10, 178, 64])\n",
      "torch.Size([10, 178, 178]) torch.Size([10, 178, 64])\n",
      "torch.Size([10, 178, 178]) torch.Size([10, 178, 64])\n",
      "torch.Size([10, 178, 178]) torch.Size([10, 178, 64])\n",
      "torch.Size([1, 5, 5]) torch.Size([10, 5, 64])\n",
      "torch.Size([1, 5, 5]) torch.Size([10, 5, 64])\n",
      "torch.Size([1, 5, 5]) torch.Size([10, 5, 64])\n",
      "torch.Size([1, 4, 4]) torch.Size([10, 4, 64])\n",
      "torch.Size([1, 4, 4]) torch.Size([10, 4, 64])\n",
      "torch.Size([1, 4, 4]) torch.Size([10, 4, 64])\n",
      "{'epoch': 2, 'iter': 20, 'loss:': 3.9282448291778564}\n",
      "EP:2 Model Saved on: output/parameter.model.ep2\n"
     ]
    },
    {
     "name": "stderr",
     "output_type": "stream",
     "text": [
      "EP_train:3:   0%|| 0/21 [00:00<?, ?it/s]"
     ]
    },
    {
     "name": "stdout",
     "output_type": "stream",
     "text": [
      "torch.Size([10, 33, 33]) torch.Size([10, 33, 64])\n",
      "torch.Size([10, 33, 33]) torch.Size([10, 33, 64])\n",
      "torch.Size([10, 33, 33]) torch.Size([10, 33, 64])\n",
      "torch.Size([10, 33, 33]) torch.Size([10, 33, 64])\n",
      "torch.Size([10, 33, 33]) torch.Size([10, 33, 64])\n",
      "torch.Size([10, 33, 33]) torch.Size([10, 33, 64])\n",
      "{'epoch': 3, 'iter': 0, 'loss:': 1.3947504758834839}\n",
      "torch.Size([10, 67, 67]) torch.Size([10, 67, 64])\n",
      "torch.Size([10, 67, 67]) torch.Size([10, 67, 64])\n",
      "torch.Size([10, 67, 67]) torch.Size([10, 67, 64])\n",
      "torch.Size([10, 176, 176]) torch.Size([10, 176, 64])\n",
      "torch.Size([10, 176, 176]) torch.Size([10, 176, 64])\n",
      "torch.Size([10, 176, 176]) torch.Size([10, 176, 64])\n",
      "torch.Size([10, 54, 54]) torch.Size([10, 54, 64])\n",
      "torch.Size([10, 54, 54]) torch.Size([10, 54, 64])\n",
      "torch.Size([10, 54, 54]) torch.Size([10, 54, 64])\n",
      "torch.Size([10, 54, 54]) torch.Size([10, 54, 64])\n",
      "torch.Size([10, 54, 54]) torch.Size([10, 54, 64])\n",
      "torch.Size([10, 54, 54]) torch.Size([10, 54, 64])\n",
      "torch.Size([10, 32, 32]) torch.Size([10, 32, 64])\n",
      "torch.Size([10, 32, 32]) torch.Size([10, 32, 64])\n",
      "torch.Size([10, 32, 32]) torch.Size([10, 32, 64])\n",
      "torch.Size([10, 69, 69]) torch.Size([10, 69, 64])\n",
      "torch.Size([10, 69, 69]) torch.Size([10, 69, 64])\n",
      "torch.Size([10, 69, 69]) torch.Size([10, 69, 64])\n",
      "torch.Size([10, 196, 196]) torch.Size([10, 196, 64])\n",
      "torch.Size([10, 196, 196]) torch.Size([10, 196, 64])\n",
      "torch.Size([10, 196, 196]) torch.Size([10, 196, 64])\n",
      "torch.Size([10, 196, 196]) torch.Size([10, 196, 64])\n",
      "torch.Size([10, 196, 196]) torch.Size([10, 196, 64])\n",
      "torch.Size([10, 196, 196]) torch.Size([10, 196, 64])\n"
     ]
    },
    {
     "name": "stderr",
     "output_type": "stream",
     "text": [
      "EP_train:3:  48%|| 10/21 [00:00<00:00, 99.76it/s]"
     ]
    },
    {
     "name": "stdout",
     "output_type": "stream",
     "text": [
      "torch.Size([10, 20, 20]) torch.Size([10, 20, 64])\n",
      "torch.Size([10, 20, 20]) torch.Size([10, 20, 64])\n",
      "torch.Size([10, 20, 20]) torch.Size([10, 20, 64])\n",
      "torch.Size([10, 20, 20]) torch.Size([10, 20, 64])\n",
      "torch.Size([10, 20, 20]) torch.Size([10, 20, 64])\n",
      "torch.Size([10, 20, 20]) torch.Size([10, 20, 64])\n",
      "{'epoch': 3, 'iter': 5, 'loss:': 0.9828300476074219}\n",
      "torch.Size([10, 479, 479]) torch.Size([10, 479, 64])\n",
      "torch.Size([10, 479, 479]) torch.Size([10, 479, 64])\n",
      "torch.Size([10, 479, 479]) torch.Size([10, 479, 64])\n",
      "torch.Size([10, 479, 479]) torch.Size([10, 479, 64])\n",
      "torch.Size([10, 479, 479]) torch.Size([10, 479, 64])\n",
      "torch.Size([10, 479, 479]) torch.Size([10, 479, 64])\n",
      "torch.Size([10, 162, 162]) torch.Size([10, 162, 64])\n",
      "torch.Size([10, 162, 162]) torch.Size([10, 162, 64])\n",
      "torch.Size([10, 162, 162]) torch.Size([10, 162, 64])\n",
      "torch.Size([10, 162, 162]) torch.Size([10, 162, 64])\n",
      "torch.Size([10, 162, 162]) torch.Size([10, 162, 64])\n",
      "torch.Size([10, 162, 162]) torch.Size([10, 162, 64])\n",
      "torch.Size([10, 113, 113]) torch.Size([10, 113, 64])\n",
      "torch.Size([10, 113, 113]) torch.Size([10, 113, 64])\n",
      "torch.Size([10, 113, 113]) torch.Size([10, 113, 64])\n",
      "torch.Size([10, 113, 113]) torch.Size([10, 113, 64])\n",
      "torch.Size([10, 113, 113]) torch.Size([10, 113, 64])\n",
      "torch.Size([10, 113, 113]) torch.Size([10, 113, 64])\n",
      "torch.Size([10, 43, 43]) torch.Size([10, 43, 64])\n",
      "torch.Size([10, 43, 43]) torch.Size([10, 43, 64])\n",
      "torch.Size([10, 43, 43]) torch.Size([10, 43, 64])\n",
      "torch.Size([10, 43, 43]) torch.Size([10, 43, 64])\n",
      "torch.Size([10, 43, 43]) torch.Size([10, 43, 64])\n",
      "torch.Size([10, 43, 43]) torch.Size([10, 43, 64])\n",
      "torch.Size([10, 67, 67]) torch.Size([10, 67, 64])\n",
      "torch.Size([10, 67, 67]) torch.Size([10, 67, 64])\n",
      "torch.Size([10, 67, 67]) torch.Size([10, 67, 64])\n",
      "torch.Size([10, 67, 67]) torch.Size([10, 67, 64])\n",
      "torch.Size([10, 67, 67]) torch.Size([10, 67, 64])\n",
      "torch.Size([10, 67, 67]) torch.Size([10, 67, 64])\n",
      "{'epoch': 3, 'iter': 10, 'loss:': 1.2953214645385742}\n",
      "torch.Size([10, 15, 15]) torch.Size([10, 15, 64])\n",
      "torch.Size([10, 15, 15]) torch.Size([10, 15, 64])\n",
      "torch.Size([10, 15, 15]) torch.Size([10, 15, 64])\n",
      "torch.Size([10, 176, 176]) torch.Size([10, 176, 64])\n",
      "torch.Size([10, 176, 176]) torch.Size([10, 176, 64])\n",
      "torch.Size([10, 176, 176]) torch.Size([10, 176, 64])\n",
      "torch.Size([10, 232, 232]) torch.Size([10, 232, 64])\n",
      "torch.Size([10, 232, 232]) torch.Size([10, 232, 64])\n",
      "torch.Size([10, 232, 232]) torch.Size([10, 232, 64])\n",
      "torch.Size([10, 232, 232]) torch.Size([10, 232, 64])\n",
      "torch.Size([10, 232, 232]) torch.Size([10, 232, 64])\n",
      "torch.Size([10, 232, 232]) torch.Size([10, 232, 64])\n",
      "torch.Size([10, 78, 78]) torch.Size([10, 78, 64])\n",
      "torch.Size([10, 78, 78]) torch.Size([10, 78, 64])\n",
      "torch.Size([10, 78, 78]) torch.Size([10, 78, 64])\n",
      "torch.Size([10, 78, 78]) torch.Size([10, 78, 64])\n",
      "torch.Size([10, 78, 78]) torch.Size([10, 78, 64])\n",
      "torch.Size([10, 78, 78]) torch.Size([10, 78, 64])\n",
      "torch.Size([10, 54, 54]) torch.Size([10, 54, 64])\n",
      "torch.Size([10, 54, 54]) torch.Size([10, 54, 64])\n",
      "torch.Size([10, 54, 54]) torch.Size([10, 54, 64])\n",
      "torch.Size([10, 54, 54]) torch.Size([10, 54, 64])\n",
      "torch.Size([10, 54, 54]) torch.Size([10, 54, 64])\n",
      "torch.Size([10, 54, 54]) torch.Size([10, 54, 64])\n",
      "torch.Size([10, 31, 31]) torch.Size([10, 31, 64])\n",
      "torch.Size([10, 31, 31]) torch.Size([10, 31, 64])\n",
      "torch.Size([10, 31, 31]) torch.Size([10, 31, 64])\n",
      "torch.Size([10, 176, 176]) torch.Size([10, 176, 64])\n",
      "torch.Size([10, 176, 176]) torch.Size([10, 176, 64])\n",
      "torch.Size([10, 176, 176]) torch.Size([10, 176, 64])\n",
      "{'epoch': 3, 'iter': 15, 'loss:': 1.9005674123764038}\n",
      "torch.Size([10, 53, 53]) torch.Size([10, 53, 64])\n",
      "torch.Size([10, 53, 53]) torch.Size([10, 53, 64])\n",
      "torch.Size([10, 53, 53]) torch.Size([10, 53, 64])\n",
      "torch.Size([10, 53, 53]) torch.Size([10, 53, 64])\n",
      "torch.Size([10, 53, 53]) torch.Size([10, 53, 64])\n",
      "torch.Size([10, 53, 53]) torch.Size([10, 53, 64])\n",
      "torch.Size([10, 60, 60]) torch.Size([10, 60, 64])\n",
      "torch.Size([10, 60, 60]) torch.Size([10, 60, 64])\n",
      "torch.Size([10, 60, 60]) torch.Size([10, 60, 64])\n",
      "torch.Size([10, 60, 60]) torch.Size([10, 60, 64])\n",
      "torch.Size([10, 60, 60]) torch.Size([10, 60, 64])\n",
      "torch.Size([10, 60, 60]) torch.Size([10, 60, 64])\n",
      "torch.Size([10, 11, 11]) torch.Size([10, 11, 64])\n",
      "torch.Size([10, 11, 11]) torch.Size([10, 11, 64])\n",
      "torch.Size([10, 11, 11]) torch.Size([10, 11, 64])\n",
      "torch.Size([10, 11, 11]) torch.Size([10, 11, 64])\n",
      "torch.Size([10, 11, 11]) torch.Size([10, 11, 64])\n",
      "torch.Size([10, 11, 11]) torch.Size([10, 11, 64])\n",
      "torch.Size([10, 178, 178]) torch.Size([10, 178, 64])\n"
     ]
    },
    {
     "name": "stderr",
     "output_type": "stream",
     "text": [
      "EP_train:3: 100%|| 21/21 [00:00<00:00, 103.15it/s]"
     ]
    },
    {
     "name": "stdout",
     "output_type": "stream",
     "text": [
      "torch.Size([10, 178, 178]) torch.Size([10, 178, 64])\n",
      "torch.Size([10, 178, 178]) torch.Size([10, 178, 64])\n",
      "torch.Size([10, 178, 178]) torch.Size([10, 178, 64])\n",
      "torch.Size([10, 178, 178]) torch.Size([10, 178, 64])\n",
      "torch.Size([10, 178, 178]) torch.Size([10, 178, 64])\n",
      "torch.Size([1, 5, 5]) torch.Size([10, 5, 64])\n",
      "torch.Size([1, 5, 5]) torch.Size([10, 5, 64])\n",
      "torch.Size([1, 5, 5]) torch.Size([10, 5, 64])\n",
      "torch.Size([1, 4, 4]) torch.Size([10, 4, 64])\n",
      "torch.Size([1, 4, 4]) torch.Size([10, 4, 64])\n",
      "torch.Size([1, 4, 4]) torch.Size([10, 4, 64])\n",
      "{'epoch': 3, 'iter': 20, 'loss:': 3.918903350830078}\n"
     ]
    },
    {
     "name": "stderr",
     "output_type": "stream",
     "text": [
      "EP_train:3: 100%|| 21/21 [00:00<00:00, 102.47it/s]\n"
     ]
    },
    {
     "name": "stdout",
     "output_type": "stream",
     "text": [
      "EP:3 Model Saved on: output/parameter.model.ep3\n"
     ]
    },
    {
     "name": "stderr",
     "output_type": "stream",
     "text": [
      "EP_train:4:   0%|| 0/21 [00:00<?, ?it/s]"
     ]
    },
    {
     "name": "stdout",
     "output_type": "stream",
     "text": [
      "torch.Size([10, 33, 33]) torch.Size([10, 33, 64])\n",
      "torch.Size([10, 33, 33]) torch.Size([10, 33, 64])\n",
      "torch.Size([10, 33, 33]) torch.Size([10, 33, 64])\n",
      "torch.Size([10, 33, 33]) torch.Size([10, 33, 64])\n",
      "torch.Size([10, 33, 33]) torch.Size([10, 33, 64])\n",
      "torch.Size([10, 33, 33]) torch.Size([10, 33, 64])\n",
      "{'epoch': 4, 'iter': 0, 'loss:': 1.2564458847045898}\n",
      "torch.Size([10, 67, 67]) torch.Size([10, 67, 64])\n",
      "torch.Size([10, 67, 67]) torch.Size([10, 67, 64])\n",
      "torch.Size([10, 67, 67]) torch.Size([10, 67, 64])\n",
      "torch.Size([10, 176, 176]) torch.Size([10, 176, 64])\n",
      "torch.Size([10, 176, 176]) torch.Size([10, 176, 64])\n",
      "torch.Size([10, 176, 176]) torch.Size([10, 176, 64])\n",
      "torch.Size([10, 54, 54]) torch.Size([10, 54, 64])\n",
      "torch.Size([10, 54, 54]) torch.Size([10, 54, 64])\n",
      "torch.Size([10, 54, 54]) torch.Size([10, 54, 64])\n",
      "torch.Size([10, 54, 54]) torch.Size([10, 54, 64])\n",
      "torch.Size([10, 54, 54]) torch.Size([10, 54, 64])\n",
      "torch.Size([10, 54, 54]) torch.Size([10, 54, 64])\n",
      "torch.Size([10, 32, 32]) torch.Size([10, 32, 64])\n",
      "torch.Size([10, 32, 32]) torch.Size([10, 32, 64])\n",
      "torch.Size([10, 32, 32]) torch.Size([10, 32, 64])\n",
      "torch.Size([10, 69, 69]) torch.Size([10, 69, 64])\n",
      "torch.Size([10, 69, 69]) torch.Size([10, 69, 64])\n",
      "torch.Size([10, 69, 69]) torch.Size([10, 69, 64])\n",
      "torch.Size([10, 196, 196]) torch.Size([10, 196, 64])\n",
      "torch.Size([10, 196, 196]) torch.Size([10, 196, 64])\n",
      "torch.Size([10, 196, 196]) torch.Size([10, 196, 64])\n",
      "torch.Size([10, 196, 196]) torch.Size([10, 196, 64])\n",
      "torch.Size([10, 196, 196]) torch.Size([10, 196, 64])\n",
      "torch.Size([10, 196, 196]) torch.Size([10, 196, 64])\n"
     ]
    },
    {
     "name": "stderr",
     "output_type": "stream",
     "text": [
      "EP_train:4:  52%|| 11/21 [00:00<00:00, 108.75it/s]"
     ]
    },
    {
     "name": "stdout",
     "output_type": "stream",
     "text": [
      "torch.Size([10, 20, 20]) torch.Size([10, 20, 64])\n",
      "torch.Size([10, 20, 20]) torch.Size([10, 20, 64])\n",
      "torch.Size([10, 20, 20]) torch.Size([10, 20, 64])\n",
      "torch.Size([10, 20, 20]) torch.Size([10, 20, 64])\n",
      "torch.Size([10, 20, 20]) torch.Size([10, 20, 64])\n",
      "torch.Size([10, 20, 20]) torch.Size([10, 20, 64])\n",
      "{'epoch': 4, 'iter': 5, 'loss:': 0.9503534436225891}\n",
      "torch.Size([10, 479, 479]) torch.Size([10, 479, 64])\n",
      "torch.Size([10, 479, 479]) torch.Size([10, 479, 64])\n",
      "torch.Size([10, 479, 479]) torch.Size([10, 479, 64])\n",
      "torch.Size([10, 479, 479]) torch.Size([10, 479, 64])\n",
      "torch.Size([10, 479, 479]) torch.Size([10, 479, 64])\n",
      "torch.Size([10, 479, 479]) torch.Size([10, 479, 64])\n",
      "torch.Size([10, 162, 162]) torch.Size([10, 162, 64])\n",
      "torch.Size([10, 162, 162]) torch.Size([10, 162, 64])\n",
      "torch.Size([10, 162, 162]) torch.Size([10, 162, 64])\n",
      "torch.Size([10, 162, 162]) torch.Size([10, 162, 64])\n",
      "torch.Size([10, 162, 162]) torch.Size([10, 162, 64])\n",
      "torch.Size([10, 162, 162]) torch.Size([10, 162, 64])\n",
      "torch.Size([10, 113, 113]) torch.Size([10, 113, 64])\n",
      "torch.Size([10, 113, 113]) torch.Size([10, 113, 64])\n",
      "torch.Size([10, 113, 113]) torch.Size([10, 113, 64])\n",
      "torch.Size([10, 113, 113]) torch.Size([10, 113, 64])\n",
      "torch.Size([10, 113, 113]) torch.Size([10, 113, 64])\n",
      "torch.Size([10, 113, 113]) torch.Size([10, 113, 64])\n",
      "torch.Size([10, 43, 43]) torch.Size([10, 43, 64])\n",
      "torch.Size([10, 43, 43]) torch.Size([10, 43, 64])\n",
      "torch.Size([10, 43, 43]) torch.Size([10, 43, 64])\n",
      "torch.Size([10, 43, 43]) torch.Size([10, 43, 64])\n",
      "torch.Size([10, 43, 43]) torch.Size([10, 43, 64])\n",
      "torch.Size([10, 43, 43]) torch.Size([10, 43, 64])\n",
      "torch.Size([10, 67, 67]) torch.Size([10, 67, 64])\n",
      "torch.Size([10, 67, 67]) torch.Size([10, 67, 64])\n",
      "torch.Size([10, 67, 67]) torch.Size([10, 67, 64])\n",
      "torch.Size([10, 67, 67]) torch.Size([10, 67, 64])\n",
      "torch.Size([10, 67, 67]) torch.Size([10, 67, 64])\n",
      "torch.Size([10, 67, 67]) torch.Size([10, 67, 64])\n",
      "{'epoch': 4, 'iter': 10, 'loss:': 1.1923167705535889}\n",
      "torch.Size([10, 15, 15]) torch.Size([10, 15, 64])\n",
      "torch.Size([10, 15, 15]) torch.Size([10, 15, 64])\n",
      "torch.Size([10, 15, 15]) torch.Size([10, 15, 64])\n",
      "torch.Size([10, 176, 176]) torch.Size([10, 176, 64])\n",
      "torch.Size([10, 176, 176]) torch.Size([10, 176, 64])\n",
      "torch.Size([10, 176, 176]) torch.Size([10, 176, 64])\n",
      "torch.Size([10, 232, 232]) torch.Size([10, 232, 64])\n",
      "torch.Size([10, 232, 232]) torch.Size([10, 232, 64])\n",
      "torch.Size([10, 232, 232]) torch.Size([10, 232, 64])\n",
      "torch.Size([10, 232, 232]) torch.Size([10, 232, 64])\n",
      "torch.Size([10, 232, 232]) torch.Size([10, 232, 64])\n",
      "torch.Size([10, 232, 232]) torch.Size([10, 232, 64])\n",
      "torch.Size([10, 78, 78]) torch.Size([10, 78, 64])\n",
      "torch.Size([10, 78, 78]) torch.Size([10, 78, 64])\n",
      "torch.Size([10, 78, 78]) torch.Size([10, 78, 64])\n",
      "torch.Size([10, 78, 78]) torch.Size([10, 78, 64])\n",
      "torch.Size([10, 78, 78]) torch.Size([10, 78, 64])\n",
      "torch.Size([10, 78, 78]) torch.Size([10, 78, 64])\n",
      "torch.Size([10, 54, 54]) torch.Size([10, 54, 64])\n",
      "torch.Size([10, 54, 54]) torch.Size([10, 54, 64])\n",
      "torch.Size([10, 54, 54]) torch.Size([10, 54, 64])\n",
      "torch.Size([10, 54, 54]) torch.Size([10, 54, 64])\n",
      "torch.Size([10, 54, 54]) torch.Size([10, 54, 64])\n",
      "torch.Size([10, 54, 54]) torch.Size([10, 54, 64])\n",
      "torch.Size([10, 31, 31]) torch.Size([10, 31, 64])\n",
      "torch.Size([10, 31, 31]) torch.Size([10, 31, 64])\n",
      "torch.Size([10, 31, 31]) torch.Size([10, 31, 64])\n",
      "torch.Size([10, 176, 176]) torch.Size([10, 176, 64])\n",
      "torch.Size([10, 176, 176]) torch.Size([10, 176, 64])\n",
      "torch.Size([10, 176, 176]) torch.Size([10, 176, 64])\n",
      "{'epoch': 4, 'iter': 15, 'loss:': 1.8655036687850952}\n",
      "torch.Size([10, 53, 53]) torch.Size([10, 53, 64])\n",
      "torch.Size([10, 53, 53]) torch.Size([10, 53, 64])\n",
      "torch.Size([10, 53, 53]) torch.Size([10, 53, 64])\n",
      "torch.Size([10, 53, 53]) torch.Size([10, 53, 64])\n",
      "torch.Size([10, 53, 53]) torch.Size([10, 53, 64])\n",
      "torch.Size([10, 53, 53]) torch.Size([10, 53, 64])\n",
      "torch.Size([10, 60, 60]) torch.Size([10, 60, 64])\n",
      "torch.Size([10, 60, 60]) torch.Size([10, 60, 64])\n",
      "torch.Size([10, 60, 60]) torch.Size([10, 60, 64])\n",
      "torch.Size([10, 60, 60]) torch.Size([10, 60, 64])\n",
      "torch.Size([10, 60, 60]) torch.Size([10, 60, 64])\n",
      "torch.Size([10, 60, 60]) torch.Size([10, 60, 64])\n",
      "torch.Size([10, 11, 11]) torch.Size([10, 11, 64])\n",
      "torch.Size([10, 11, 11]) torch.Size([10, 11, 64])\n",
      "torch.Size([10, 11, 11]) torch.Size([10, 11, 64])\n",
      "torch.Size([10, 11, 11]) torch.Size([10, 11, 64])\n",
      "torch.Size([10, 11, 11]) torch.Size([10, 11, 64])\n",
      "torch.Size([10, 11, 11]) torch.Size([10, 11, 64])\n",
      "torch.Size([10, 178, 178]) torch.Size([10, 178, 64])\n",
      "torch.Size([10, 178, 178]) torch.Size([10, 178, 64])\n",
      "torch.Size([10, 178, 178]) torch.Size([10, 178, 64])\n",
      "torch.Size([10, 178, 178]) torch.Size([10, 178, 64])\n",
      "torch.Size([10, 178, 178]) torch.Size([10, 178, 64])\n",
      "torch.Size([10, 178, 178]) torch.Size([10, 178, 64])\n",
      "torch.Size([1, 5, 5]) torch.Size([10, 5, 64])\n",
      "torch.Size([1, 5, 5]) torch.Size([10, 5, 64])\n",
      "torch.Size([1, 5, 5]) torch.Size([10, 5, 64])\n",
      "torch.Size([1, 4, 4]) torch.Size([10, 4, 64])\n",
      "torch.Size([1, 4, 4]) torch.Size([10, 4, 64])\n",
      "torch.Size([1, 4, 4]) torch.Size([10, 4, 64])\n"
     ]
    },
    {
     "name": "stderr",
     "output_type": "stream",
     "text": [
      "EP_train:4: 100%|| 21/21 [00:00<00:00, 113.64it/s]\n"
     ]
    },
    {
     "name": "stdout",
     "output_type": "stream",
     "text": [
      "{'epoch': 4, 'iter': 20, 'loss:': 3.9106597900390625}\n",
      "EP:4 Model Saved on: output/parameter.model.ep4\n"
     ]
    },
    {
     "name": "stderr",
     "output_type": "stream",
     "text": [
      "EP_train:5:   0%|| 0/21 [00:00<?, ?it/s]"
     ]
    },
    {
     "name": "stdout",
     "output_type": "stream",
     "text": [
      "torch.Size([10, 33, 33]) torch.Size([10, 33, 64])\n",
      "torch.Size([10, 33, 33]) torch.Size([10, 33, 64])\n",
      "torch.Size([10, 33, 33]) torch.Size([10, 33, 64])\n",
      "torch.Size([10, 33, 33]) torch.Size([10, 33, 64])\n",
      "torch.Size([10, 33, 33]) torch.Size([10, 33, 64])\n",
      "torch.Size([10, 33, 33]) torch.Size([10, 33, 64])\n",
      "{'epoch': 5, 'iter': 0, 'loss:': 1.1165412664413452}\n",
      "torch.Size([10, 67, 67]) torch.Size([10, 67, 64])\n",
      "torch.Size([10, 67, 67]) torch.Size([10, 67, 64])\n",
      "torch.Size([10, 67, 67]) torch.Size([10, 67, 64])\n",
      "torch.Size([10, 176, 176]) torch.Size([10, 176, 64])\n",
      "torch.Size([10, 176, 176]) torch.Size([10, 176, 64])\n",
      "torch.Size([10, 176, 176]) torch.Size([10, 176, 64])\n"
     ]
    },
    {
     "name": "stderr",
     "output_type": "stream",
     "text": [
      "EP_train:5:   0%|| 0/21 [00:00<?, ?it/s]"
     ]
    },
    {
     "name": "stdout",
     "output_type": "stream",
     "text": [
      "torch.Size([10, 54, 54]) torch.Size([10, 54, 64])\n",
      "torch.Size([10, 54, 54]) torch.Size([10, 54, 64])\n",
      "torch.Size([10, 54, 54]) torch.Size([10, 54, 64])\n",
      "torch.Size([10, 54, 54]) torch.Size([10, 54, 64])\n",
      "torch.Size([10, 54, 54]) torch.Size([10, 54, 64])\n",
      "torch.Size([10, 54, 54]) torch.Size([10, 54, 64])\n",
      "torch.Size([10, 32, 32]) torch.Size([10, 32, 64])\n",
      "torch.Size([10, 32, 32]) torch.Size([10, 32, 64])\n",
      "torch.Size([10, 32, 32]) torch.Size([10, 32, 64])\n",
      "torch.Size([10, 69, 69]) torch.Size([10, 69, 64])\n",
      "torch.Size([10, 69, 69]) torch.Size([10, 69, 64])\n",
      "torch.Size([10, 69, 69]) torch.Size([10, 69, 64])\n",
      "torch.Size([10, 196, 196]) torch.Size([10, 196, 64])\n",
      "torch.Size([10, 196, 196]) torch.Size([10, 196, 64])\n",
      "torch.Size([10, 196, 196]) torch.Size([10, 196, 64])\n",
      "torch.Size([10, 196, 196]) torch.Size([10, 196, 64])\n",
      "torch.Size([10, 196, 196]) torch.Size([10, 196, 64])\n",
      "torch.Size([10, 196, 196]) torch.Size([10, 196, 64])\n",
      "torch.Size([10, 20, 20]) torch.Size([10, 20, 64])\n",
      "torch.Size([10, 20, 20]) torch.Size([10, 20, 64])\n",
      "torch.Size([10, 20, 20]) torch.Size([10, 20, 64])\n",
      "torch.Size([10, 20, 20]) torch.Size([10, 20, 64])\n",
      "torch.Size([10, 20, 20]) torch.Size([10, 20, 64])\n",
      "torch.Size([10, 20, 20]) torch.Size([10, 20, 64])\n",
      "{'epoch': 5, 'iter': 5, 'loss:': 0.9226816296577454}\n",
      "torch.Size([10, 479, 479]) torch.Size([10, 479, 64])\n",
      "torch.Size([10, 479, 479]) torch.Size([10, 479, 64])\n",
      "torch.Size([10, 479, 479]) torch.Size([10, 479, 64])\n",
      "torch.Size([10, 479, 479]) torch.Size([10, 479, 64])\n",
      "torch.Size([10, 479, 479]) torch.Size([10, 479, 64])\n",
      "torch.Size([10, 479, 479]) torch.Size([10, 479, 64])\n",
      "torch.Size([10, 162, 162]) torch.Size([10, 162, 64])\n",
      "torch.Size([10, 162, 162]) torch.Size([10, 162, 64])\n",
      "torch.Size([10, 162, 162]) torch.Size([10, 162, 64])\n",
      "torch.Size([10, 162, 162]) torch.Size([10, 162, 64])\n",
      "torch.Size([10, 162, 162]) torch.Size([10, 162, 64])\n",
      "torch.Size([10, 162, 162]) torch.Size([10, 162, 64])\n"
     ]
    },
    {
     "name": "stderr",
     "output_type": "stream",
     "text": [
      "EP_train:5: 100%|| 21/21 [00:00<00:00, 122.70it/s]\n"
     ]
    },
    {
     "name": "stdout",
     "output_type": "stream",
     "text": [
      "torch.Size([10, 113, 113]) torch.Size([10, 113, 64])\n",
      "torch.Size([10, 113, 113]) torch.Size([10, 113, 64])\n",
      "torch.Size([10, 113, 113]) torch.Size([10, 113, 64])\n",
      "torch.Size([10, 113, 113]) torch.Size([10, 113, 64])\n",
      "torch.Size([10, 113, 113]) torch.Size([10, 113, 64])\n",
      "torch.Size([10, 113, 113]) torch.Size([10, 113, 64])\n",
      "torch.Size([10, 43, 43]) torch.Size([10, 43, 64])\n",
      "torch.Size([10, 43, 43]) torch.Size([10, 43, 64])\n",
      "torch.Size([10, 43, 43]) torch.Size([10, 43, 64])\n",
      "torch.Size([10, 43, 43]) torch.Size([10, 43, 64])\n",
      "torch.Size([10, 43, 43]) torch.Size([10, 43, 64])\n",
      "torch.Size([10, 43, 43]) torch.Size([10, 43, 64])\n",
      "torch.Size([10, 67, 67]) torch.Size([10, 67, 64])\n",
      "torch.Size([10, 67, 67]) torch.Size([10, 67, 64])\n",
      "torch.Size([10, 67, 67]) torch.Size([10, 67, 64])\n",
      "torch.Size([10, 67, 67]) torch.Size([10, 67, 64])\n",
      "torch.Size([10, 67, 67]) torch.Size([10, 67, 64])\n",
      "torch.Size([10, 67, 67]) torch.Size([10, 67, 64])\n",
      "{'epoch': 5, 'iter': 10, 'loss:': 1.0594276189804077}\n",
      "torch.Size([10, 15, 15]) torch.Size([10, 15, 64])\n",
      "torch.Size([10, 15, 15]) torch.Size([10, 15, 64])\n",
      "torch.Size([10, 15, 15]) torch.Size([10, 15, 64])\n",
      "torch.Size([10, 176, 176]) torch.Size([10, 176, 64])\n",
      "torch.Size([10, 176, 176]) torch.Size([10, 176, 64])\n",
      "torch.Size([10, 176, 176]) torch.Size([10, 176, 64])\n",
      "torch.Size([10, 232, 232]) torch.Size([10, 232, 64])\n",
      "torch.Size([10, 232, 232]) torch.Size([10, 232, 64])\n",
      "torch.Size([10, 232, 232]) torch.Size([10, 232, 64])\n",
      "torch.Size([10, 232, 232]) torch.Size([10, 232, 64])\n",
      "torch.Size([10, 232, 232]) torch.Size([10, 232, 64])\n",
      "torch.Size([10, 232, 232]) torch.Size([10, 232, 64])\n",
      "torch.Size([10, 78, 78]) torch.Size([10, 78, 64])\n",
      "torch.Size([10, 78, 78]) torch.Size([10, 78, 64])\n",
      "torch.Size([10, 78, 78]) torch.Size([10, 78, 64])\n",
      "torch.Size([10, 78, 78]) torch.Size([10, 78, 64])\n",
      "torch.Size([10, 78, 78]) torch.Size([10, 78, 64])\n",
      "torch.Size([10, 78, 78]) torch.Size([10, 78, 64])\n",
      "torch.Size([10, 54, 54]) torch.Size([10, 54, 64])\n",
      "torch.Size([10, 54, 54]) torch.Size([10, 54, 64])\n",
      "torch.Size([10, 54, 54]) torch.Size([10, 54, 64])\n",
      "torch.Size([10, 54, 54]) torch.Size([10, 54, 64])\n",
      "torch.Size([10, 54, 54]) torch.Size([10, 54, 64])\n",
      "torch.Size([10, 54, 54]) torch.Size([10, 54, 64])\n",
      "torch.Size([10, 31, 31]) torch.Size([10, 31, 64])\n",
      "torch.Size([10, 31, 31]) torch.Size([10, 31, 64])\n",
      "torch.Size([10, 31, 31]) torch.Size([10, 31, 64])\n",
      "torch.Size([10, 176, 176]) torch.Size([10, 176, 64])\n",
      "torch.Size([10, 176, 176]) torch.Size([10, 176, 64])\n",
      "torch.Size([10, 176, 176]) torch.Size([10, 176, 64])\n",
      "{'epoch': 5, 'iter': 15, 'loss:': 1.8257137537002563}\n",
      "torch.Size([10, 53, 53]) torch.Size([10, 53, 64])\n",
      "torch.Size([10, 53, 53]) torch.Size([10, 53, 64])\n",
      "torch.Size([10, 53, 53]) torch.Size([10, 53, 64])\n",
      "torch.Size([10, 53, 53]) torch.Size([10, 53, 64])\n",
      "torch.Size([10, 53, 53]) torch.Size([10, 53, 64])\n",
      "torch.Size([10, 53, 53]) torch.Size([10, 53, 64])\n",
      "torch.Size([10, 60, 60]) torch.Size([10, 60, 64])\n",
      "torch.Size([10, 60, 60]) torch.Size([10, 60, 64])\n",
      "torch.Size([10, 60, 60]) torch.Size([10, 60, 64])\n",
      "torch.Size([10, 60, 60]) torch.Size([10, 60, 64])\n",
      "torch.Size([10, 60, 60]) torch.Size([10, 60, 64])\n",
      "torch.Size([10, 60, 60]) torch.Size([10, 60, 64])\n",
      "torch.Size([10, 11, 11]) torch.Size([10, 11, 64])\n",
      "torch.Size([10, 11, 11]) torch.Size([10, 11, 64])\n",
      "torch.Size([10, 11, 11]) torch.Size([10, 11, 64])\n",
      "torch.Size([10, 11, 11]) torch.Size([10, 11, 64])\n",
      "torch.Size([10, 11, 11]) torch.Size([10, 11, 64])\n",
      "torch.Size([10, 11, 11]) torch.Size([10, 11, 64])\n",
      "torch.Size([10, 178, 178]) torch.Size([10, 178, 64])\n",
      "torch.Size([10, 178, 178]) torch.Size([10, 178, 64])\n",
      "torch.Size([10, 178, 178]) torch.Size([10, 178, 64])\n",
      "torch.Size([10, 178, 178]) torch.Size([10, 178, 64])\n",
      "torch.Size([10, 178, 178]) torch.Size([10, 178, 64])\n",
      "torch.Size([10, 178, 178]) torch.Size([10, 178, 64])\n",
      "torch.Size([1, 5, 5]) torch.Size([10, 5, 64])\n",
      "torch.Size([1, 5, 5]) torch.Size([10, 5, 64])\n",
      "torch.Size([1, 5, 5]) torch.Size([10, 5, 64])\n",
      "torch.Size([1, 4, 4]) torch.Size([10, 4, 64])\n",
      "torch.Size([1, 4, 4]) torch.Size([10, 4, 64])\n",
      "torch.Size([1, 4, 4]) torch.Size([10, 4, 64])\n",
      "{'epoch': 5, 'iter': 20, 'loss:': 3.9046828746795654}\n",
      "EP:5 Model Saved on: output/parameter.model.ep5\n"
     ]
    },
    {
     "name": "stderr",
     "output_type": "stream",
     "text": [
      "EP_train:6:   0%|| 0/21 [00:00<?, ?it/s]"
     ]
    },
    {
     "name": "stdout",
     "output_type": "stream",
     "text": [
      "torch.Size([10, 33, 33]) torch.Size([10, 33, 64])\n",
      "torch.Size([10, 33, 33]) torch.Size([10, 33, 64])\n",
      "torch.Size([10, 33, 33]) torch.Size([10, 33, 64])\n",
      "torch.Size([10, 33, 33]) torch.Size([10, 33, 64])\n",
      "torch.Size([10, 33, 33]) torch.Size([10, 33, 64])\n",
      "torch.Size([10, 33, 33]) torch.Size([10, 33, 64])\n",
      "{'epoch': 6, 'iter': 0, 'loss:': 0.9820807576179504}\n",
      "torch.Size([10, 67, 67]) torch.Size([10, 67, 64])\n",
      "torch.Size([10, 67, 67]) torch.Size([10, 67, 64])\n",
      "torch.Size([10, 67, 67]) torch.Size([10, 67, 64])\n",
      "torch.Size([10, 176, 176]) torch.Size([10, 176, 64])\n",
      "torch.Size([10, 176, 176]) torch.Size([10, 176, 64])\n",
      "torch.Size([10, 176, 176]) torch.Size([10, 176, 64])\n",
      "torch.Size([10, 54, 54]) torch.Size([10, 54, 64])\n",
      "torch.Size([10, 54, 54]) torch.Size([10, 54, 64])\n",
      "torch.Size([10, 54, 54]) torch.Size([10, 54, 64])\n",
      "torch.Size([10, 54, 54]) torch.Size([10, 54, 64])\n",
      "torch.Size([10, 54, 54]) torch.Size([10, 54, 64])\n",
      "torch.Size([10, 54, 54]) torch.Size([10, 54, 64])\n",
      "torch.Size([10, 32, 32]) torch.Size([10, 32, 64])\n",
      "torch.Size([10, 32, 32]) torch.Size([10, 32, 64])\n",
      "torch.Size([10, 32, 32]) torch.Size([10, 32, 64])\n",
      "torch.Size([10, 69, 69]) torch.Size([10, 69, 64])\n",
      "torch.Size([10, 69, 69]) torch.Size([10, 69, 64])\n",
      "torch.Size([10, 69, 69]) torch.Size([10, 69, 64])\n",
      "torch.Size([10, 196, 196]) torch.Size([10, 196, 64])\n",
      "torch.Size([10, 196, 196]) torch.Size([10, 196, 64])\n",
      "torch.Size([10, 196, 196]) torch.Size([10, 196, 64])\n",
      "torch.Size([10, 196, 196]) torch.Size([10, 196, 64])\n",
      "torch.Size([10, 196, 196]) torch.Size([10, 196, 64])\n",
      "torch.Size([10, 196, 196]) torch.Size([10, 196, 64])\n"
     ]
    },
    {
     "name": "stderr",
     "output_type": "stream",
     "text": [
      "EP_train:6:   0%|| 0/21 [00:00<?, ?it/s]"
     ]
    },
    {
     "name": "stdout",
     "output_type": "stream",
     "text": [
      "torch.Size([10, 20, 20]) torch.Size([10, 20, 64])\n",
      "torch.Size([10, 20, 20]) torch.Size([10, 20, 64])\n",
      "torch.Size([10, 20, 20]) torch.Size([10, 20, 64])\n",
      "torch.Size([10, 20, 20]) torch.Size([10, 20, 64])\n",
      "torch.Size([10, 20, 20]) torch.Size([10, 20, 64])\n",
      "torch.Size([10, 20, 20]) torch.Size([10, 20, 64])\n",
      "{'epoch': 6, 'iter': 5, 'loss:': 0.898777186870575}\n"
     ]
    },
    {
     "name": "stderr",
     "output_type": "stream",
     "text": [
      "EP_train:6:   0%|| 0/21 [00:00<?, ?it/s]"
     ]
    },
    {
     "name": "stdout",
     "output_type": "stream",
     "text": [
      "torch.Size([10, 479, 479]) torch.Size([10, 479, 64])\n",
      "torch.Size([10, 479, 479]) torch.Size([10, 479, 64])\n",
      "torch.Size([10, 479, 479]) torch.Size([10, 479, 64])\n",
      "torch.Size([10, 479, 479]) torch.Size([10, 479, 64])\n",
      "torch.Size([10, 479, 479]) torch.Size([10, 479, 64])\n",
      "torch.Size([10, 479, 479]) torch.Size([10, 479, 64])\n",
      "torch.Size([10, 162, 162]) torch.Size([10, 162, 64])\n",
      "torch.Size([10, 162, 162]) torch.Size([10, 162, 64])\n",
      "torch.Size([10, 162, 162]) torch.Size([10, 162, 64])\n",
      "torch.Size([10, 162, 162]) torch.Size([10, 162, 64])\n",
      "torch.Size([10, 162, 162]) torch.Size([10, 162, 64])\n",
      "torch.Size([10, 162, 162]) torch.Size([10, 162, 64])\n",
      "torch.Size([10, 113, 113]) torch.Size([10, 113, 64])\n",
      "torch.Size([10, 113, 113]) torch.Size([10, 113, 64])\n",
      "torch.Size([10, 113, 113]) torch.Size([10, 113, 64])\n",
      "torch.Size([10, 113, 113]) torch.Size([10, 113, 64])\n",
      "torch.Size([10, 113, 113]) torch.Size([10, 113, 64])\n",
      "torch.Size([10, 113, 113]) torch.Size([10, 113, 64])\n",
      "torch.Size([10, 43, 43]) torch.Size([10, 43, 64])\n",
      "torch.Size([10, 43, 43]) torch.Size([10, 43, 64])\n",
      "torch.Size([10, 43, 43]) torch.Size([10, 43, 64])\n",
      "torch.Size([10, 43, 43]) torch.Size([10, 43, 64])\n",
      "torch.Size([10, 43, 43]) torch.Size([10, 43, 64])\n",
      "torch.Size([10, 43, 43]) torch.Size([10, 43, 64])\n",
      "torch.Size([10, 67, 67]) torch.Size([10, 67, 64])\n",
      "torch.Size([10, 67, 67]) torch.Size([10, 67, 64])\n",
      "torch.Size([10, 67, 67]) torch.Size([10, 67, 64])\n",
      "torch.Size([10, 67, 67]) torch.Size([10, 67, 64])\n",
      "torch.Size([10, 67, 67]) torch.Size([10, 67, 64])\n",
      "torch.Size([10, 67, 67]) torch.Size([10, 67, 64])\n",
      "{'epoch': 6, 'iter': 10, 'loss:': 0.8987146615982056}\n",
      "torch.Size([10, 15, 15]) torch.Size([10, 15, 64])\n",
      "torch.Size([10, 15, 15]) torch.Size([10, 15, 64])\n",
      "torch.Size([10, 15, 15]) torch.Size([10, 15, 64])\n",
      "torch.Size([10, 176, 176]) torch.Size([10, 176, 64])\n",
      "torch.Size([10, 176, 176]) torch.Size([10, 176, 64])\n",
      "torch.Size([10, 176, 176]) torch.Size([10, 176, 64])\n"
     ]
    },
    {
     "name": "stderr",
     "output_type": "stream",
     "text": [
      "EP_train:6: 100%|| 21/21 [00:00<00:00, 134.83it/s]\n"
     ]
    },
    {
     "name": "stdout",
     "output_type": "stream",
     "text": [
      "torch.Size([10, 232, 232]) torch.Size([10, 232, 64])\n",
      "torch.Size([10, 232, 232]) torch.Size([10, 232, 64])\n",
      "torch.Size([10, 232, 232]) torch.Size([10, 232, 64])\n",
      "torch.Size([10, 232, 232]) torch.Size([10, 232, 64])\n",
      "torch.Size([10, 232, 232]) torch.Size([10, 232, 64])\n",
      "torch.Size([10, 232, 232]) torch.Size([10, 232, 64])\n",
      "torch.Size([10, 78, 78]) torch.Size([10, 78, 64])\n",
      "torch.Size([10, 78, 78]) torch.Size([10, 78, 64])\n",
      "torch.Size([10, 78, 78]) torch.Size([10, 78, 64])\n",
      "torch.Size([10, 78, 78]) torch.Size([10, 78, 64])\n",
      "torch.Size([10, 78, 78]) torch.Size([10, 78, 64])\n",
      "torch.Size([10, 78, 78]) torch.Size([10, 78, 64])\n",
      "torch.Size([10, 54, 54]) torch.Size([10, 54, 64])\n",
      "torch.Size([10, 54, 54]) torch.Size([10, 54, 64])\n",
      "torch.Size([10, 54, 54]) torch.Size([10, 54, 64])\n",
      "torch.Size([10, 54, 54]) torch.Size([10, 54, 64])\n",
      "torch.Size([10, 54, 54]) torch.Size([10, 54, 64])\n",
      "torch.Size([10, 54, 54]) torch.Size([10, 54, 64])\n",
      "torch.Size([10, 31, 31]) torch.Size([10, 31, 64])\n",
      "torch.Size([10, 31, 31]) torch.Size([10, 31, 64])\n",
      "torch.Size([10, 31, 31]) torch.Size([10, 31, 64])\n",
      "torch.Size([10, 176, 176]) torch.Size([10, 176, 64])\n",
      "torch.Size([10, 176, 176]) torch.Size([10, 176, 64])\n",
      "torch.Size([10, 176, 176]) torch.Size([10, 176, 64])\n",
      "{'epoch': 6, 'iter': 15, 'loss:': 1.7755714654922485}\n",
      "torch.Size([10, 53, 53]) torch.Size([10, 53, 64])\n",
      "torch.Size([10, 53, 53]) torch.Size([10, 53, 64])\n",
      "torch.Size([10, 53, 53]) torch.Size([10, 53, 64])\n",
      "torch.Size([10, 53, 53]) torch.Size([10, 53, 64])\n",
      "torch.Size([10, 53, 53]) torch.Size([10, 53, 64])\n",
      "torch.Size([10, 53, 53]) torch.Size([10, 53, 64])\n",
      "torch.Size([10, 60, 60]) torch.Size([10, 60, 64])\n",
      "torch.Size([10, 60, 60]) torch.Size([10, 60, 64])\n",
      "torch.Size([10, 60, 60]) torch.Size([10, 60, 64])\n",
      "torch.Size([10, 60, 60]) torch.Size([10, 60, 64])\n",
      "torch.Size([10, 60, 60]) torch.Size([10, 60, 64])\n",
      "torch.Size([10, 60, 60]) torch.Size([10, 60, 64])\n",
      "torch.Size([10, 11, 11]) torch.Size([10, 11, 64])\n",
      "torch.Size([10, 11, 11]) torch.Size([10, 11, 64])\n",
      "torch.Size([10, 11, 11]) torch.Size([10, 11, 64])\n",
      "torch.Size([10, 11, 11]) torch.Size([10, 11, 64])\n",
      "torch.Size([10, 11, 11]) torch.Size([10, 11, 64])\n",
      "torch.Size([10, 11, 11]) torch.Size([10, 11, 64])\n",
      "torch.Size([10, 178, 178]) torch.Size([10, 178, 64])\n",
      "torch.Size([10, 178, 178]) torch.Size([10, 178, 64])\n",
      "torch.Size([10, 178, 178]) torch.Size([10, 178, 64])\n",
      "torch.Size([10, 178, 178]) torch.Size([10, 178, 64])\n",
      "torch.Size([10, 178, 178]) torch.Size([10, 178, 64])\n",
      "torch.Size([10, 178, 178]) torch.Size([10, 178, 64])\n",
      "torch.Size([1, 5, 5]) torch.Size([10, 5, 64])\n",
      "torch.Size([1, 5, 5]) torch.Size([10, 5, 64])\n",
      "torch.Size([1, 5, 5]) torch.Size([10, 5, 64])\n",
      "torch.Size([1, 4, 4]) torch.Size([10, 4, 64])\n",
      "torch.Size([1, 4, 4]) torch.Size([10, 4, 64])\n",
      "torch.Size([1, 4, 4]) torch.Size([10, 4, 64])\n",
      "{'epoch': 6, 'iter': 20, 'loss:': 3.899956464767456}\n",
      "EP:6 Model Saved on: output/parameter.model.ep6\n"
     ]
    },
    {
     "name": "stderr",
     "output_type": "stream",
     "text": [
      "EP_train:7:   0%|| 0/21 [00:00<?, ?it/s]"
     ]
    },
    {
     "name": "stdout",
     "output_type": "stream",
     "text": [
      "torch.Size([10, 33, 33]) torch.Size([10, 33, 64])\n",
      "torch.Size([10, 33, 33]) torch.Size([10, 33, 64])\n",
      "torch.Size([10, 33, 33]) torch.Size([10, 33, 64])\n",
      "torch.Size([10, 33, 33]) torch.Size([10, 33, 64])\n",
      "torch.Size([10, 33, 33]) torch.Size([10, 33, 64])\n",
      "torch.Size([10, 33, 33]) torch.Size([10, 33, 64])\n",
      "{'epoch': 7, 'iter': 0, 'loss:': 0.856876015663147}\n",
      "torch.Size([10, 67, 67]) torch.Size([10, 67, 64])\n",
      "torch.Size([10, 67, 67]) torch.Size([10, 67, 64])\n",
      "torch.Size([10, 67, 67]) torch.Size([10, 67, 64])\n",
      "torch.Size([10, 176, 176]) torch.Size([10, 176, 64])\n",
      "torch.Size([10, 176, 176]) torch.Size([10, 176, 64])\n",
      "torch.Size([10, 176, 176]) torch.Size([10, 176, 64])\n",
      "torch.Size([10, 54, 54]) torch.Size([10, 54, 64])\n",
      "torch.Size([10, 54, 54]) torch.Size([10, 54, 64])\n",
      "torch.Size([10, 54, 54]) torch.Size([10, 54, 64])\n",
      "torch.Size([10, 54, 54]) torch.Size([10, 54, 64])\n",
      "torch.Size([10, 54, 54]) torch.Size([10, 54, 64])\n",
      "torch.Size([10, 54, 54]) torch.Size([10, 54, 64])\n",
      "torch.Size([10, 32, 32]) torch.Size([10, 32, 64])\n",
      "torch.Size([10, 32, 32]) torch.Size([10, 32, 64])\n",
      "torch.Size([10, 32, 32]) torch.Size([10, 32, 64])\n",
      "torch.Size([10, 69, 69]) torch.Size([10, 69, 64])\n",
      "torch.Size([10, 69, 69]) torch.Size([10, 69, 64])\n",
      "torch.Size([10, 69, 69]) torch.Size([10, 69, 64])\n",
      "torch.Size([10, 196, 196]) torch.Size([10, 196, 64])\n",
      "torch.Size([10, 196, 196]) torch.Size([10, 196, 64])\n",
      "torch.Size([10, 196, 196]) torch.Size([10, 196, 64])\n",
      "torch.Size([10, 196, 196]) torch.Size([10, 196, 64])\n",
      "torch.Size([10, 196, 196]) torch.Size([10, 196, 64])\n",
      "torch.Size([10, 196, 196]) torch.Size([10, 196, 64])\n",
      "torch.Size([10, 20, 20]) torch.Size([10, 20, 64])\n",
      "torch.Size([10, 20, 20]) torch.Size([10, 20, 64])\n",
      "torch.Size([10, 20, 20]) torch.Size([10, 20, 64])\n",
      "torch.Size([10, 20, 20]) torch.Size([10, 20, 64])\n",
      "torch.Size([10, 20, 20]) torch.Size([10, 20, 64])\n",
      "torch.Size([10, 20, 20]) torch.Size([10, 20, 64])\n"
     ]
    },
    {
     "name": "stderr",
     "output_type": "stream",
     "text": [
      "EP_train:7:   0%|| 0/21 [00:00<?, ?it/s]"
     ]
    },
    {
     "name": "stdout",
     "output_type": "stream",
     "text": [
      "{'epoch': 7, 'iter': 5, 'loss:': 0.8778250813484192}\n",
      "torch.Size([10, 479, 479]) torch.Size([10, 479, 64])\n",
      "torch.Size([10, 479, 479]) torch.Size([10, 479, 64])\n",
      "torch.Size([10, 479, 479]) torch.Size([10, 479, 64])\n",
      "torch.Size([10, 479, 479]) torch.Size([10, 479, 64])\n",
      "torch.Size([10, 479, 479]) torch.Size([10, 479, 64])\n",
      "torch.Size([10, 479, 479]) torch.Size([10, 479, 64])\n",
      "torch.Size([10, 162, 162]) torch.Size([10, 162, 64])\n",
      "torch.Size([10, 162, 162]) torch.Size([10, 162, 64])\n",
      "torch.Size([10, 162, 162]) torch.Size([10, 162, 64])\n",
      "torch.Size([10, 162, 162]) torch.Size([10, 162, 64])\n",
      "torch.Size([10, 162, 162]) torch.Size([10, 162, 64])\n",
      "torch.Size([10, 162, 162]) torch.Size([10, 162, 64])\n",
      "torch.Size([10, 113, 113]) torch.Size([10, 113, 64])\n",
      "torch.Size([10, 113, 113]) torch.Size([10, 113, 64])\n",
      "torch.Size([10, 113, 113]) torch.Size([10, 113, 64])\n",
      "torch.Size([10, 113, 113]) torch.Size([10, 113, 64])\n",
      "torch.Size([10, 113, 113]) torch.Size([10, 113, 64])\n",
      "torch.Size([10, 113, 113]) torch.Size([10, 113, 64])\n"
     ]
    },
    {
     "name": "stderr",
     "output_type": "stream",
     "text": [
      "EP_train:7:  52%|| 11/21 [00:00<00:00, 100.28it/s]"
     ]
    },
    {
     "name": "stdout",
     "output_type": "stream",
     "text": [
      "torch.Size([10, 43, 43]) torch.Size([10, 43, 64])\n",
      "torch.Size([10, 43, 43]) torch.Size([10, 43, 64])\n",
      "torch.Size([10, 43, 43]) torch.Size([10, 43, 64])\n",
      "torch.Size([10, 43, 43]) torch.Size([10, 43, 64])\n",
      "torch.Size([10, 43, 43]) torch.Size([10, 43, 64])\n",
      "torch.Size([10, 43, 43]) torch.Size([10, 43, 64])\n",
      "torch.Size([10, 67, 67]) torch.Size([10, 67, 64])\n",
      "torch.Size([10, 67, 67]) torch.Size([10, 67, 64])\n",
      "torch.Size([10, 67, 67]) torch.Size([10, 67, 64])\n",
      "torch.Size([10, 67, 67]) torch.Size([10, 67, 64])\n",
      "torch.Size([10, 67, 67]) torch.Size([10, 67, 64])\n",
      "torch.Size([10, 67, 67]) torch.Size([10, 67, 64])\n",
      "{'epoch': 7, 'iter': 10, 'loss:': 0.7274414300918579}\n",
      "torch.Size([10, 15, 15]) torch.Size([10, 15, 64])\n",
      "torch.Size([10, 15, 15]) torch.Size([10, 15, 64])\n",
      "torch.Size([10, 15, 15]) torch.Size([10, 15, 64])\n",
      "torch.Size([10, 176, 176]) torch.Size([10, 176, 64])\n",
      "torch.Size([10, 176, 176]) torch.Size([10, 176, 64])\n",
      "torch.Size([10, 176, 176]) torch.Size([10, 176, 64])\n",
      "torch.Size([10, 232, 232]) torch.Size([10, 232, 64])\n",
      "torch.Size([10, 232, 232]) torch.Size([10, 232, 64])\n",
      "torch.Size([10, 232, 232]) torch.Size([10, 232, 64])\n",
      "torch.Size([10, 232, 232]) torch.Size([10, 232, 64])\n",
      "torch.Size([10, 232, 232]) torch.Size([10, 232, 64])\n",
      "torch.Size([10, 232, 232]) torch.Size([10, 232, 64])\n",
      "torch.Size([10, 78, 78]) torch.Size([10, 78, 64])\n",
      "torch.Size([10, 78, 78]) torch.Size([10, 78, 64])\n",
      "torch.Size([10, 78, 78]) torch.Size([10, 78, 64])\n",
      "torch.Size([10, 78, 78]) torch.Size([10, 78, 64])\n",
      "torch.Size([10, 78, 78]) torch.Size([10, 78, 64])\n",
      "torch.Size([10, 78, 78]) torch.Size([10, 78, 64])\n"
     ]
    },
    {
     "name": "stderr",
     "output_type": "stream",
     "text": [
      "EP_train:7: 100%|| 21/21 [00:00<00:00, 104.84it/s]"
     ]
    },
    {
     "name": "stdout",
     "output_type": "stream",
     "text": [
      "torch.Size([10, 54, 54]) torch.Size([10, 54, 64])\n",
      "torch.Size([10, 54, 54]) torch.Size([10, 54, 64])\n",
      "torch.Size([10, 54, 54]) torch.Size([10, 54, 64])\n",
      "torch.Size([10, 54, 54]) torch.Size([10, 54, 64])\n",
      "torch.Size([10, 54, 54]) torch.Size([10, 54, 64])\n",
      "torch.Size([10, 54, 54]) torch.Size([10, 54, 64])\n",
      "torch.Size([10, 31, 31]) torch.Size([10, 31, 64])\n",
      "torch.Size([10, 31, 31]) torch.Size([10, 31, 64])\n",
      "torch.Size([10, 31, 31]) torch.Size([10, 31, 64])\n",
      "torch.Size([10, 176, 176]) torch.Size([10, 176, 64])\n",
      "torch.Size([10, 176, 176]) torch.Size([10, 176, 64])\n",
      "torch.Size([10, 176, 176]) torch.Size([10, 176, 64])\n",
      "{'epoch': 7, 'iter': 15, 'loss:': 1.7090606689453125}\n",
      "torch.Size([10, 53, 53]) torch.Size([10, 53, 64])\n",
      "torch.Size([10, 53, 53]) torch.Size([10, 53, 64])\n",
      "torch.Size([10, 53, 53]) torch.Size([10, 53, 64])\n",
      "torch.Size([10, 53, 53]) torch.Size([10, 53, 64])\n",
      "torch.Size([10, 53, 53]) torch.Size([10, 53, 64])\n",
      "torch.Size([10, 53, 53]) torch.Size([10, 53, 64])\n",
      "torch.Size([10, 60, 60]) torch.Size([10, 60, 64])\n",
      "torch.Size([10, 60, 60]) torch.Size([10, 60, 64])\n",
      "torch.Size([10, 60, 60]) torch.Size([10, 60, 64])\n",
      "torch.Size([10, 60, 60]) torch.Size([10, 60, 64])\n",
      "torch.Size([10, 60, 60]) torch.Size([10, 60, 64])\n",
      "torch.Size([10, 60, 60]) torch.Size([10, 60, 64])\n",
      "torch.Size([10, 11, 11]) torch.Size([10, 11, 64])\n",
      "torch.Size([10, 11, 11]) torch.Size([10, 11, 64])\n",
      "torch.Size([10, 11, 11]) torch.Size([10, 11, 64])\n",
      "torch.Size([10, 11, 11]) torch.Size([10, 11, 64])\n",
      "torch.Size([10, 11, 11]) torch.Size([10, 11, 64])\n",
      "torch.Size([10, 11, 11]) torch.Size([10, 11, 64])\n",
      "torch.Size([10, 178, 178]) torch.Size([10, 178, 64])\n",
      "torch.Size([10, 178, 178]) torch.Size([10, 178, 64])\n",
      "torch.Size([10, 178, 178]) torch.Size([10, 178, 64])\n",
      "torch.Size([10, 178, 178]) torch.Size([10, 178, 64])\n",
      "torch.Size([10, 178, 178]) torch.Size([10, 178, 64])\n",
      "torch.Size([10, 178, 178]) torch.Size([10, 178, 64])\n",
      "torch.Size([1, 5, 5]) torch.Size([10, 5, 64])\n",
      "torch.Size([1, 5, 5]) torch.Size([10, 5, 64])\n",
      "torch.Size([1, 5, 5]) torch.Size([10, 5, 64])\n",
      "torch.Size([1, 4, 4]) torch.Size([10, 4, 64])\n",
      "torch.Size([1, 4, 4]) torch.Size([10, 4, 64])\n",
      "torch.Size([1, 4, 4]) torch.Size([10, 4, 64])\n",
      "{'epoch': 7, 'iter': 20, 'loss:': 3.89591908454895}\n"
     ]
    },
    {
     "name": "stderr",
     "output_type": "stream",
     "text": [
      "\n"
     ]
    },
    {
     "name": "stdout",
     "output_type": "stream",
     "text": [
      "EP:7 Model Saved on: output/parameter.model.ep7\n"
     ]
    },
    {
     "name": "stderr",
     "output_type": "stream",
     "text": [
      "EP_train:8:   0%|| 0/21 [00:00<?, ?it/s]"
     ]
    },
    {
     "name": "stdout",
     "output_type": "stream",
     "text": [
      "torch.Size([10, 33, 33]) torch.Size([10, 33, 64])\n",
      "torch.Size([10, 33, 33]) torch.Size([10, 33, 64])\n",
      "torch.Size([10, 33, 33]) torch.Size([10, 33, 64])\n",
      "torch.Size([10, 33, 33]) torch.Size([10, 33, 64])\n",
      "torch.Size([10, 33, 33]) torch.Size([10, 33, 64])\n",
      "torch.Size([10, 33, 33]) torch.Size([10, 33, 64])\n",
      "{'epoch': 8, 'iter': 0, 'loss:': 0.7462332844734192}\n",
      "torch.Size([10, 67, 67]) torch.Size([10, 67, 64])\n",
      "torch.Size([10, 67, 67]) torch.Size([10, 67, 64])\n",
      "torch.Size([10, 67, 67]) torch.Size([10, 67, 64])\n",
      "torch.Size([10, 176, 176]) torch.Size([10, 176, 64])\n",
      "torch.Size([10, 176, 176]) torch.Size([10, 176, 64])\n",
      "torch.Size([10, 176, 176]) torch.Size([10, 176, 64])\n",
      "torch.Size([10, 54, 54]) torch.Size([10, 54, 64])\n",
      "torch.Size([10, 54, 54]) torch.Size([10, 54, 64])\n",
      "torch.Size([10, 54, 54]) torch.Size([10, 54, 64])\n",
      "torch.Size([10, 54, 54]) torch.Size([10, 54, 64])\n",
      "torch.Size([10, 54, 54]) torch.Size([10, 54, 64])\n",
      "torch.Size([10, 54, 54]) torch.Size([10, 54, 64])\n",
      "torch.Size([10, 32, 32]) torch.Size([10, 32, 64])\n",
      "torch.Size([10, 32, 32]) torch.Size([10, 32, 64])\n",
      "torch.Size([10, 32, 32]) torch.Size([10, 32, 64])\n",
      "torch.Size([10, 69, 69]) torch.Size([10, 69, 64])\n",
      "torch.Size([10, 69, 69]) torch.Size([10, 69, 64])\n",
      "torch.Size([10, 69, 69]) torch.Size([10, 69, 64])\n",
      "torch.Size([10, 196, 196]) torch.Size([10, 196, 64])\n",
      "torch.Size([10, 196, 196]) torch.Size([10, 196, 64])\n",
      "torch.Size([10, 196, 196]) torch.Size([10, 196, 64])\n",
      "torch.Size([10, 196, 196]) torch.Size([10, 196, 64])\n",
      "torch.Size([10, 196, 196]) torch.Size([10, 196, 64])\n",
      "torch.Size([10, 196, 196]) torch.Size([10, 196, 64])\n",
      "torch.Size([10, 20, 20]) torch.Size([10, 20, 64])\n",
      "torch.Size([10, 20, 20]) torch.Size([10, 20, 64])\n",
      "torch.Size([10, 20, 20]) torch.Size([10, 20, 64])\n",
      "torch.Size([10, 20, 20]) torch.Size([10, 20, 64])\n",
      "torch.Size([10, 20, 20]) torch.Size([10, 20, 64])\n",
      "torch.Size([10, 20, 20]) torch.Size([10, 20, 64])\n"
     ]
    },
    {
     "name": "stderr",
     "output_type": "stream",
     "text": [
      "EP_train:8:   0%|| 0/21 [00:00<?, ?it/s]"
     ]
    },
    {
     "name": "stdout",
     "output_type": "stream",
     "text": [
      "{'epoch': 8, 'iter': 5, 'loss:': 0.8606789708137512}\n",
      "torch.Size([10, 479, 479]) torch.Size([10, 479, 64])\n",
      "torch.Size([10, 479, 479]) torch.Size([10, 479, 64])\n",
      "torch.Size([10, 479, 479]) torch.Size([10, 479, 64])\n",
      "torch.Size([10, 479, 479]) torch.Size([10, 479, 64])\n",
      "torch.Size([10, 479, 479]) torch.Size([10, 479, 64])\n",
      "torch.Size([10, 479, 479]) torch.Size([10, 479, 64])\n",
      "torch.Size([10, 162, 162]) torch.Size([10, 162, 64])\n",
      "torch.Size([10, 162, 162]) torch.Size([10, 162, 64])\n",
      "torch.Size([10, 162, 162]) torch.Size([10, 162, 64])\n",
      "torch.Size([10, 162, 162]) torch.Size([10, 162, 64])\n",
      "torch.Size([10, 162, 162]) torch.Size([10, 162, 64])\n",
      "torch.Size([10, 162, 162]) torch.Size([10, 162, 64])\n",
      "torch.Size([10, 113, 113]) torch.Size([10, 113, 64])\n",
      "torch.Size([10, 113, 113]) torch.Size([10, 113, 64])\n",
      "torch.Size([10, 113, 113]) torch.Size([10, 113, 64])\n",
      "torch.Size([10, 113, 113]) torch.Size([10, 113, 64])\n",
      "torch.Size([10, 113, 113]) torch.Size([10, 113, 64])\n",
      "torch.Size([10, 113, 113]) torch.Size([10, 113, 64])\n",
      "torch.Size([10, 43, 43]) torch.Size([10, 43, 64])\n",
      "torch.Size([10, 43, 43]) torch.Size([10, 43, 64])\n",
      "torch.Size([10, 43, 43]) torch.Size([10, 43, 64])\n",
      "torch.Size([10, 43, 43]) torch.Size([10, 43, 64])\n",
      "torch.Size([10, 43, 43]) torch.Size([10, 43, 64])\n"
     ]
    },
    {
     "name": "stderr",
     "output_type": "stream",
     "text": [
      "EP_train:8:  57%|| 12/21 [00:00<00:00, 109.96it/s]"
     ]
    },
    {
     "name": "stdout",
     "output_type": "stream",
     "text": [
      "torch.Size([10, 43, 43]) torch.Size([10, 43, 64])\n",
      "torch.Size([10, 67, 67]) torch.Size([10, 67, 64])\n",
      "torch.Size([10, 67, 67]) torch.Size([10, 67, 64])\n",
      "torch.Size([10, 67, 67]) torch.Size([10, 67, 64])\n",
      "torch.Size([10, 67, 67]) torch.Size([10, 67, 64])\n",
      "torch.Size([10, 67, 67]) torch.Size([10, 67, 64])\n",
      "torch.Size([10, 67, 67]) torch.Size([10, 67, 64])\n",
      "{'epoch': 8, 'iter': 10, 'loss:': 0.5754579901695251}\n",
      "torch.Size([10, 15, 15]) torch.Size([10, 15, 64])\n",
      "torch.Size([10, 15, 15]) torch.Size([10, 15, 64])\n",
      "torch.Size([10, 15, 15]) torch.Size([10, 15, 64])\n",
      "torch.Size([10, 176, 176]) torch.Size([10, 176, 64])\n",
      "torch.Size([10, 176, 176]) torch.Size([10, 176, 64])\n",
      "torch.Size([10, 176, 176]) torch.Size([10, 176, 64])\n",
      "torch.Size([10, 232, 232]) torch.Size([10, 232, 64])\n",
      "torch.Size([10, 232, 232]) torch.Size([10, 232, 64])\n",
      "torch.Size([10, 232, 232]) torch.Size([10, 232, 64])\n",
      "torch.Size([10, 232, 232]) torch.Size([10, 232, 64])\n",
      "torch.Size([10, 232, 232]) torch.Size([10, 232, 64])\n",
      "torch.Size([10, 232, 232]) torch.Size([10, 232, 64])\n",
      "torch.Size([10, 78, 78]) torch.Size([10, 78, 64])\n",
      "torch.Size([10, 78, 78]) torch.Size([10, 78, 64])\n",
      "torch.Size([10, 78, 78]) torch.Size([10, 78, 64])\n",
      "torch.Size([10, 78, 78]) torch.Size([10, 78, 64])\n",
      "torch.Size([10, 78, 78]) torch.Size([10, 78, 64])\n",
      "torch.Size([10, 78, 78]) torch.Size([10, 78, 64])\n",
      "torch.Size([10, 54, 54]) torch.Size([10, 54, 64])\n",
      "torch.Size([10, 54, 54]) torch.Size([10, 54, 64])\n",
      "torch.Size([10, 54, 54]) torch.Size([10, 54, 64])\n",
      "torch.Size([10, 54, 54]) torch.Size([10, 54, 64])\n",
      "torch.Size([10, 54, 54]) torch.Size([10, 54, 64])\n",
      "torch.Size([10, 54, 54]) torch.Size([10, 54, 64])\n"
     ]
    },
    {
     "name": "stderr",
     "output_type": "stream",
     "text": [
      "EP_train:8: 100%|| 21/21 [00:00<00:00, 110.53it/s]\n"
     ]
    },
    {
     "name": "stdout",
     "output_type": "stream",
     "text": [
      "torch.Size([10, 31, 31]) torch.Size([10, 31, 64])\n",
      "torch.Size([10, 31, 31]) torch.Size([10, 31, 64])\n",
      "torch.Size([10, 31, 31]) torch.Size([10, 31, 64])\n",
      "torch.Size([10, 176, 176]) torch.Size([10, 176, 64])\n",
      "torch.Size([10, 176, 176]) torch.Size([10, 176, 64])\n",
      "torch.Size([10, 176, 176]) torch.Size([10, 176, 64])\n",
      "{'epoch': 8, 'iter': 15, 'loss:': 1.626927375793457}\n",
      "torch.Size([10, 53, 53]) torch.Size([10, 53, 64])\n",
      "torch.Size([10, 53, 53]) torch.Size([10, 53, 64])\n",
      "torch.Size([10, 53, 53]) torch.Size([10, 53, 64])\n",
      "torch.Size([10, 53, 53]) torch.Size([10, 53, 64])\n",
      "torch.Size([10, 53, 53]) torch.Size([10, 53, 64])\n",
      "torch.Size([10, 53, 53]) torch.Size([10, 53, 64])\n",
      "torch.Size([10, 60, 60]) torch.Size([10, 60, 64])\n",
      "torch.Size([10, 60, 60]) torch.Size([10, 60, 64])\n",
      "torch.Size([10, 60, 60]) torch.Size([10, 60, 64])\n",
      "torch.Size([10, 60, 60]) torch.Size([10, 60, 64])\n",
      "torch.Size([10, 60, 60]) torch.Size([10, 60, 64])\n",
      "torch.Size([10, 60, 60]) torch.Size([10, 60, 64])\n",
      "torch.Size([10, 11, 11]) torch.Size([10, 11, 64])\n",
      "torch.Size([10, 11, 11]) torch.Size([10, 11, 64])\n",
      "torch.Size([10, 11, 11]) torch.Size([10, 11, 64])\n",
      "torch.Size([10, 11, 11]) torch.Size([10, 11, 64])\n",
      "torch.Size([10, 11, 11]) torch.Size([10, 11, 64])\n",
      "torch.Size([10, 11, 11]) torch.Size([10, 11, 64])\n",
      "torch.Size([10, 178, 178]) torch.Size([10, 178, 64])\n",
      "torch.Size([10, 178, 178]) torch.Size([10, 178, 64])\n",
      "torch.Size([10, 178, 178]) torch.Size([10, 178, 64])\n",
      "torch.Size([10, 178, 178]) torch.Size([10, 178, 64])\n",
      "torch.Size([10, 178, 178]) torch.Size([10, 178, 64])\n",
      "torch.Size([10, 178, 178]) torch.Size([10, 178, 64])\n",
      "torch.Size([1, 5, 5]) torch.Size([10, 5, 64])\n",
      "torch.Size([1, 5, 5]) torch.Size([10, 5, 64])\n",
      "torch.Size([1, 5, 5]) torch.Size([10, 5, 64])\n",
      "torch.Size([1, 4, 4]) torch.Size([10, 4, 64])\n",
      "torch.Size([1, 4, 4]) torch.Size([10, 4, 64])\n",
      "torch.Size([1, 4, 4]) torch.Size([10, 4, 64])\n",
      "{'epoch': 8, 'iter': 20, 'loss:': 3.8929436206817627}\n",
      "EP:8 Model Saved on: output/parameter.model.ep8\n"
     ]
    },
    {
     "name": "stderr",
     "output_type": "stream",
     "text": [
      "EP_train:9:   0%|| 0/21 [00:00<?, ?it/s]"
     ]
    },
    {
     "name": "stdout",
     "output_type": "stream",
     "text": [
      "torch.Size([10, 33, 33]) torch.Size([10, 33, 64])\n",
      "torch.Size([10, 33, 33]) torch.Size([10, 33, 64])\n",
      "torch.Size([10, 33, 33]) torch.Size([10, 33, 64])\n",
      "torch.Size([10, 33, 33]) torch.Size([10, 33, 64])\n",
      "torch.Size([10, 33, 33]) torch.Size([10, 33, 64])\n",
      "torch.Size([10, 33, 33]) torch.Size([10, 33, 64])\n"
     ]
    },
    {
     "name": "stderr",
     "output_type": "stream",
     "text": [
      "EP_train:9:   0%|| 0/21 [00:00<?, ?it/s]"
     ]
    },
    {
     "name": "stdout",
     "output_type": "stream",
     "text": [
      "{'epoch': 9, 'iter': 0, 'loss:': 0.6536321640014648}\n",
      "torch.Size([10, 67, 67]) torch.Size([10, 67, 64])\n",
      "torch.Size([10, 67, 67]) torch.Size([10, 67, 64])\n",
      "torch.Size([10, 67, 67]) torch.Size([10, 67, 64])\n",
      "torch.Size([10, 176, 176]) torch.Size([10, 176, 64])\n",
      "torch.Size([10, 176, 176]) torch.Size([10, 176, 64])\n",
      "torch.Size([10, 176, 176]) torch.Size([10, 176, 64])\n"
     ]
    },
    {
     "name": "stderr",
     "output_type": "stream",
     "text": [
      "EP_train:9:   0%|| 0/21 [00:00<?, ?it/s]"
     ]
    },
    {
     "name": "stdout",
     "output_type": "stream",
     "text": [
      "torch.Size([10, 54, 54]) torch.Size([10, 54, 64])\n",
      "torch.Size([10, 54, 54]) torch.Size([10, 54, 64])\n",
      "torch.Size([10, 54, 54]) torch.Size([10, 54, 64])\n",
      "torch.Size([10, 54, 54]) torch.Size([10, 54, 64])\n",
      "torch.Size([10, 54, 54]) torch.Size([10, 54, 64])\n",
      "torch.Size([10, 54, 54]) torch.Size([10, 54, 64])\n",
      "torch.Size([10, 32, 32]) torch.Size([10, 32, 64])\n",
      "torch.Size([10, 32, 32]) torch.Size([10, 32, 64])\n",
      "torch.Size([10, 32, 32]) torch.Size([10, 32, 64])\n",
      "torch.Size([10, 69, 69]) torch.Size([10, 69, 64])\n",
      "torch.Size([10, 69, 69]) torch.Size([10, 69, 64])\n",
      "torch.Size([10, 69, 69]) torch.Size([10, 69, 64])\n",
      "torch.Size([10, 196, 196]) torch.Size([10, 196, 64])\n",
      "torch.Size([10, 196, 196]) torch.Size([10, 196, 64])\n",
      "torch.Size([10, 196, 196]) torch.Size([10, 196, 64])\n",
      "torch.Size([10, 196, 196]) torch.Size([10, 196, 64])\n",
      "torch.Size([10, 196, 196]) torch.Size([10, 196, 64])\n",
      "torch.Size([10, 196, 196]) torch.Size([10, 196, 64])\n",
      "torch.Size([10, 20, 20]) torch.Size([10, 20, 64])\n",
      "torch.Size([10, 20, 20]) torch.Size([10, 20, 64])\n",
      "torch.Size([10, 20, 20]) torch.Size([10, 20, 64])\n",
      "torch.Size([10, 20, 20]) torch.Size([10, 20, 64])\n",
      "torch.Size([10, 20, 20]) torch.Size([10, 20, 64])\n",
      "torch.Size([10, 20, 20]) torch.Size([10, 20, 64])\n",
      "{'epoch': 9, 'iter': 5, 'loss:': 0.8517575263977051}\n",
      "torch.Size([10, 479, 479]) torch.Size([10, 479, 64])\n",
      "torch.Size([10, 479, 479]) torch.Size([10, 479, 64])\n",
      "torch.Size([10, 479, 479]) torch.Size([10, 479, 64])\n",
      "torch.Size([10, 479, 479]) torch.Size([10, 479, 64])\n",
      "torch.Size([10, 479, 479]) torch.Size([10, 479, 64])\n",
      "torch.Size([10, 479, 479]) torch.Size([10, 479, 64])\n",
      "torch.Size([10, 162, 162]) torch.Size([10, 162, 64])\n",
      "torch.Size([10, 162, 162]) torch.Size([10, 162, 64])\n",
      "torch.Size([10, 162, 162]) torch.Size([10, 162, 64])\n",
      "torch.Size([10, 162, 162]) torch.Size([10, 162, 64])\n",
      "torch.Size([10, 162, 162]) torch.Size([10, 162, 64])\n",
      "torch.Size([10, 162, 162]) torch.Size([10, 162, 64])\n",
      "torch.Size([10, 113, 113]) torch.Size([10, 113, 64])\n",
      "torch.Size([10, 113, 113]) torch.Size([10, 113, 64])\n",
      "torch.Size([10, 113, 113]) torch.Size([10, 113, 64])\n",
      "torch.Size([10, 113, 113]) torch.Size([10, 113, 64])\n",
      "torch.Size([10, 113, 113]) torch.Size([10, 113, 64])\n",
      "torch.Size([10, 113, 113]) torch.Size([10, 113, 64])\n"
     ]
    },
    {
     "name": "stderr",
     "output_type": "stream",
     "text": [
      "EP_train:9:  48%|| 10/21 [00:00<00:00, 94.04it/s]"
     ]
    },
    {
     "name": "stdout",
     "output_type": "stream",
     "text": [
      "torch.Size([10, 43, 43]) torch.Size([10, 43, 64])\n",
      "torch.Size([10, 43, 43]) torch.Size([10, 43, 64])\n",
      "torch.Size([10, 43, 43]) torch.Size([10, 43, 64])\n",
      "torch.Size([10, 43, 43]) torch.Size([10, 43, 64])\n",
      "torch.Size([10, 43, 43]) torch.Size([10, 43, 64])\n",
      "torch.Size([10, 43, 43]) torch.Size([10, 43, 64])\n",
      "torch.Size([10, 67, 67]) torch.Size([10, 67, 64])\n",
      "torch.Size([10, 67, 67]) torch.Size([10, 67, 64])\n",
      "torch.Size([10, 67, 67]) torch.Size([10, 67, 64])\n",
      "torch.Size([10, 67, 67]) torch.Size([10, 67, 64])\n",
      "torch.Size([10, 67, 67]) torch.Size([10, 67, 64])\n",
      "torch.Size([10, 67, 67]) torch.Size([10, 67, 64])\n",
      "{'epoch': 9, 'iter': 10, 'loss:': 0.46631136536598206}\n",
      "torch.Size([10, 15, 15]) torch.Size([10, 15, 64])\n",
      "torch.Size([10, 15, 15]) torch.Size([10, 15, 64])\n",
      "torch.Size([10, 15, 15]) torch.Size([10, 15, 64])\n",
      "torch.Size([10, 176, 176]) torch.Size([10, 176, 64])\n",
      "torch.Size([10, 176, 176]) torch.Size([10, 176, 64])\n",
      "torch.Size([10, 176, 176]) torch.Size([10, 176, 64])\n",
      "torch.Size([10, 232, 232]) torch.Size([10, 232, 64])\n",
      "torch.Size([10, 232, 232]) torch.Size([10, 232, 64])\n",
      "torch.Size([10, 232, 232]) torch.Size([10, 232, 64])\n",
      "torch.Size([10, 232, 232]) torch.Size([10, 232, 64])\n",
      "torch.Size([10, 232, 232]) torch.Size([10, 232, 64])\n",
      "torch.Size([10, 232, 232]) torch.Size([10, 232, 64])\n",
      "torch.Size([10, 78, 78]) torch.Size([10, 78, 64])\n",
      "torch.Size([10, 78, 78]) torch.Size([10, 78, 64])\n",
      "torch.Size([10, 78, 78]) torch.Size([10, 78, 64])\n",
      "torch.Size([10, 78, 78]) torch.Size([10, 78, 64])\n",
      "torch.Size([10, 78, 78]) torch.Size([10, 78, 64])\n",
      "torch.Size([10, 78, 78]) torch.Size([10, 78, 64])\n",
      "torch.Size([10, 54, 54]) torch.Size([10, 54, 64])\n"
     ]
    },
    {
     "name": "stderr",
     "output_type": "stream",
     "text": [
      "EP_train:9:  48%|| 10/21 [00:00<00:00, 94.04it/s]"
     ]
    },
    {
     "name": "stdout",
     "output_type": "stream",
     "text": [
      "torch.Size([10, 54, 54]) torch.Size([10, 54, 64])\n",
      "torch.Size([10, 54, 54]) torch.Size([10, 54, 64])\n",
      "torch.Size([10, 54, 54]) torch.Size([10, 54, 64])\n",
      "torch.Size([10, 54, 54]) torch.Size([10, 54, 64])\n",
      "torch.Size([10, 54, 54]) torch.Size([10, 54, 64])\n",
      "torch.Size([10, 31, 31]) torch.Size([10, 31, 64])\n",
      "torch.Size([10, 31, 31]) torch.Size([10, 31, 64])\n",
      "torch.Size([10, 31, 31]) torch.Size([10, 31, 64])\n",
      "torch.Size([10, 176, 176]) torch.Size([10, 176, 64])\n",
      "torch.Size([10, 176, 176]) torch.Size([10, 176, 64])\n",
      "torch.Size([10, 176, 176]) torch.Size([10, 176, 64])\n",
      "{'epoch': 9, 'iter': 15, 'loss:': 1.535706639289856}\n",
      "torch.Size([10, 53, 53]) torch.Size([10, 53, 64])\n",
      "torch.Size([10, 53, 53]) torch.Size([10, 53, 64])\n",
      "torch.Size([10, 53, 53]) torch.Size([10, 53, 64])\n",
      "torch.Size([10, 53, 53]) torch.Size([10, 53, 64])\n",
      "torch.Size([10, 53, 53]) torch.Size([10, 53, 64])\n",
      "torch.Size([10, 53, 53]) torch.Size([10, 53, 64])\n",
      "torch.Size([10, 60, 60]) torch.Size([10, 60, 64])\n",
      "torch.Size([10, 60, 60]) torch.Size([10, 60, 64])\n",
      "torch.Size([10, 60, 60]) torch.Size([10, 60, 64])\n",
      "torch.Size([10, 60, 60]) torch.Size([10, 60, 64])\n",
      "torch.Size([10, 60, 60]) torch.Size([10, 60, 64])\n",
      "torch.Size([10, 60, 60]) torch.Size([10, 60, 64])\n",
      "torch.Size([10, 11, 11]) torch.Size([10, 11, 64])\n",
      "torch.Size([10, 11, 11]) torch.Size([10, 11, 64])\n",
      "torch.Size([10, 11, 11]) torch.Size([10, 11, 64])\n",
      "torch.Size([10, 11, 11]) torch.Size([10, 11, 64])\n",
      "torch.Size([10, 11, 11]) torch.Size([10, 11, 64])\n",
      "torch.Size([10, 11, 11]) torch.Size([10, 11, 64])\n",
      "torch.Size([10, 178, 178]) torch.Size([10, 178, 64])\n",
      "torch.Size([10, 178, 178]) torch.Size([10, 178, 64])\n",
      "torch.Size([10, 178, 178]) torch.Size([10, 178, 64])\n",
      "torch.Size([10, 178, 178]) torch.Size([10, 178, 64])\n",
      "torch.Size([10, 178, 178]) torch.Size([10, 178, 64])\n",
      "torch.Size([10, 178, 178]) torch.Size([10, 178, 64])\n",
      "torch.Size([1, 5, 5]) torch.Size([10, 5, 64])\n",
      "torch.Size([1, 5, 5]) torch.Size([10, 5, 64])\n",
      "torch.Size([1, 5, 5]) torch.Size([10, 5, 64])\n",
      "torch.Size([1, 4, 4]) torch.Size([10, 4, 64])\n"
     ]
    },
    {
     "name": "stderr",
     "output_type": "stream",
     "text": [
      "EP_train:9: 100%|| 21/21 [00:00<00:00, 98.20it/s]\n"
     ]
    },
    {
     "name": "stdout",
     "output_type": "stream",
     "text": [
      "torch.Size([1, 4, 4]) torch.Size([10, 4, 64])\n",
      "torch.Size([1, 4, 4]) torch.Size([10, 4, 64])\n",
      "{'epoch': 9, 'iter': 20, 'loss:': 3.8902881145477295}\n",
      "EP:9 Model Saved on: output/parameter.model.ep9\n"
     ]
    },
    {
     "name": "stderr",
     "output_type": "stream",
     "text": [
      "EP_train:10:   0%|| 0/21 [00:00<?, ?it/s]"
     ]
    },
    {
     "name": "stdout",
     "output_type": "stream",
     "text": [
      "torch.Size([10, 33, 33]) torch.Size([10, 33, 64])\n",
      "torch.Size([10, 33, 33]) torch.Size([10, 33, 64])\n",
      "torch.Size([10, 33, 33]) torch.Size([10, 33, 64])\n",
      "torch.Size([10, 33, 33]) torch.Size([10, 33, 64])\n",
      "torch.Size([10, 33, 33]) torch.Size([10, 33, 64])\n",
      "torch.Size([10, 33, 33]) torch.Size([10, 33, 64])\n",
      "{'epoch': 10, 'iter': 0, 'loss:': 0.5818434357643127}\n",
      "torch.Size([10, 67, 67]) torch.Size([10, 67, 64])\n",
      "torch.Size([10, 67, 67]) torch.Size([10, 67, 64])\n",
      "torch.Size([10, 67, 67]) torch.Size([10, 67, 64])\n",
      "torch.Size([10, 176, 176]) torch.Size([10, 176, 64])\n",
      "torch.Size([10, 176, 176]) torch.Size([10, 176, 64])\n",
      "torch.Size([10, 176, 176]) torch.Size([10, 176, 64])\n",
      "torch.Size([10, 54, 54]) torch.Size([10, 54, 64])\n",
      "torch.Size([10, 54, 54]) torch.Size([10, 54, 64])\n",
      "torch.Size([10, 54, 54]) torch.Size([10, 54, 64])\n",
      "torch.Size([10, 54, 54]) torch.Size([10, 54, 64])\n",
      "torch.Size([10, 54, 54]) torch.Size([10, 54, 64])\n",
      "torch.Size([10, 54, 54]) torch.Size([10, 54, 64])\n",
      "torch.Size([10, 32, 32]) torch.Size([10, 32, 64])\n",
      "torch.Size([10, 32, 32]) torch.Size([10, 32, 64])\n",
      "torch.Size([10, 32, 32]) torch.Size([10, 32, 64])\n",
      "torch.Size([10, 69, 69]) torch.Size([10, 69, 64])\n",
      "torch.Size([10, 69, 69]) torch.Size([10, 69, 64])\n",
      "torch.Size([10, 69, 69]) torch.Size([10, 69, 64])\n",
      "torch.Size([10, 196, 196]) torch.Size([10, 196, 64])\n",
      "torch.Size([10, 196, 196]) torch.Size([10, 196, 64])\n",
      "torch.Size([10, 196, 196]) torch.Size([10, 196, 64])\n",
      "torch.Size([10, 196, 196]) torch.Size([10, 196, 64])\n",
      "torch.Size([10, 196, 196]) torch.Size([10, 196, 64])\n",
      "torch.Size([10, 196, 196]) torch.Size([10, 196, 64])\n"
     ]
    },
    {
     "name": "stderr",
     "output_type": "stream",
     "text": [
      "EP_train:10:   0%|| 0/21 [00:00<?, ?it/s]"
     ]
    },
    {
     "name": "stdout",
     "output_type": "stream",
     "text": [
      "torch.Size([10, 20, 20]) torch.Size([10, 20, 64])\n",
      "torch.Size([10, 20, 20]) torch.Size([10, 20, 64])\n",
      "torch.Size([10, 20, 20]) torch.Size([10, 20, 64])\n",
      "torch.Size([10, 20, 20]) torch.Size([10, 20, 64])\n",
      "torch.Size([10, 20, 20]) torch.Size([10, 20, 64])\n",
      "torch.Size([10, 20, 20]) torch.Size([10, 20, 64])\n",
      "{'epoch': 10, 'iter': 5, 'loss:': 0.8587214350700378}\n",
      "torch.Size([10, 479, 479]) torch.Size([10, 479, 64])\n",
      "torch.Size([10, 479, 479]) torch.Size([10, 479, 64])\n",
      "torch.Size([10, 479, 479]) torch.Size([10, 479, 64])\n",
      "torch.Size([10, 479, 479]) torch.Size([10, 479, 64])\n",
      "torch.Size([10, 479, 479]) torch.Size([10, 479, 64])\n",
      "torch.Size([10, 479, 479]) torch.Size([10, 479, 64])\n",
      "torch.Size([10, 162, 162]) torch.Size([10, 162, 64])\n",
      "torch.Size([10, 162, 162]) torch.Size([10, 162, 64])\n",
      "torch.Size([10, 162, 162]) torch.Size([10, 162, 64])\n",
      "torch.Size([10, 162, 162]) torch.Size([10, 162, 64])\n",
      "torch.Size([10, 162, 162]) torch.Size([10, 162, 64])\n",
      "torch.Size([10, 162, 162]) torch.Size([10, 162, 64])\n"
     ]
    },
    {
     "name": "stderr",
     "output_type": "stream",
     "text": [
      "EP_train:10:  48%|| 10/21 [00:00<00:00, 99.31it/s]"
     ]
    },
    {
     "name": "stdout",
     "output_type": "stream",
     "text": [
      "torch.Size([10, 113, 113]) torch.Size([10, 113, 64])\n",
      "torch.Size([10, 113, 113]) torch.Size([10, 113, 64])\n",
      "torch.Size([10, 113, 113]) torch.Size([10, 113, 64])\n",
      "torch.Size([10, 113, 113]) torch.Size([10, 113, 64])\n",
      "torch.Size([10, 113, 113]) torch.Size([10, 113, 64])\n",
      "torch.Size([10, 113, 113]) torch.Size([10, 113, 64])\n",
      "torch.Size([10, 43, 43]) torch.Size([10, 43, 64])\n",
      "torch.Size([10, 43, 43]) torch.Size([10, 43, 64])\n",
      "torch.Size([10, 43, 43]) torch.Size([10, 43, 64])\n",
      "torch.Size([10, 43, 43]) torch.Size([10, 43, 64])\n",
      "torch.Size([10, 43, 43]) torch.Size([10, 43, 64])\n",
      "torch.Size([10, 43, 43]) torch.Size([10, 43, 64])\n",
      "torch.Size([10, 67, 67]) torch.Size([10, 67, 64])\n",
      "torch.Size([10, 67, 67]) torch.Size([10, 67, 64])\n",
      "torch.Size([10, 67, 67]) torch.Size([10, 67, 64])\n",
      "torch.Size([10, 67, 67]) torch.Size([10, 67, 64])\n",
      "torch.Size([10, 67, 67]) torch.Size([10, 67, 64])\n",
      "torch.Size([10, 67, 67]) torch.Size([10, 67, 64])\n",
      "{'epoch': 10, 'iter': 10, 'loss:': 0.39727047085762024}\n",
      "torch.Size([10, 15, 15]) torch.Size([10, 15, 64])\n",
      "torch.Size([10, 15, 15]) torch.Size([10, 15, 64])\n",
      "torch.Size([10, 15, 15]) torch.Size([10, 15, 64])\n",
      "torch.Size([10, 176, 176]) torch.Size([10, 176, 64])\n",
      "torch.Size([10, 176, 176]) torch.Size([10, 176, 64])\n",
      "torch.Size([10, 176, 176]) torch.Size([10, 176, 64])\n",
      "torch.Size([10, 232, 232]) torch.Size([10, 232, 64])\n",
      "torch.Size([10, 232, 232]) torch.Size([10, 232, 64])\n",
      "torch.Size([10, 232, 232]) torch.Size([10, 232, 64])\n",
      "torch.Size([10, 232, 232]) torch.Size([10, 232, 64])\n",
      "torch.Size([10, 232, 232]) torch.Size([10, 232, 64])\n",
      "torch.Size([10, 232, 232]) torch.Size([10, 232, 64])\n",
      "torch.Size([10, 78, 78]) torch.Size([10, 78, 64])\n",
      "torch.Size([10, 78, 78]) torch.Size([10, 78, 64])\n",
      "torch.Size([10, 78, 78]) torch.Size([10, 78, 64])\n",
      "torch.Size([10, 78, 78]) torch.Size([10, 78, 64])\n",
      "torch.Size([10, 78, 78]) torch.Size([10, 78, 64])\n",
      "torch.Size([10, 78, 78]) torch.Size([10, 78, 64])\n"
     ]
    },
    {
     "name": "stderr",
     "output_type": "stream",
     "text": [
      "EP_train:10:  48%|| 10/21 [00:00<00:00, 99.31it/s]"
     ]
    },
    {
     "name": "stdout",
     "output_type": "stream",
     "text": [
      "torch.Size([10, 54, 54]) torch.Size([10, 54, 64])\n",
      "torch.Size([10, 54, 54]) torch.Size([10, 54, 64])\n",
      "torch.Size([10, 54, 54]) torch.Size([10, 54, 64])\n",
      "torch.Size([10, 54, 54]) torch.Size([10, 54, 64])\n",
      "torch.Size([10, 54, 54]) torch.Size([10, 54, 64])\n",
      "torch.Size([10, 54, 54]) torch.Size([10, 54, 64])\n",
      "torch.Size([10, 31, 31]) torch.Size([10, 31, 64])\n",
      "torch.Size([10, 31, 31]) torch.Size([10, 31, 64])\n",
      "torch.Size([10, 31, 31]) torch.Size([10, 31, 64])\n",
      "torch.Size([10, 176, 176]) torch.Size([10, 176, 64])\n",
      "torch.Size([10, 176, 176]) torch.Size([10, 176, 64])\n",
      "torch.Size([10, 176, 176]) torch.Size([10, 176, 64])\n",
      "{'epoch': 10, 'iter': 15, 'loss:': 1.4395806789398193}\n",
      "torch.Size([10, 53, 53]) torch.Size([10, 53, 64])\n",
      "torch.Size([10, 53, 53]) torch.Size([10, 53, 64])\n",
      "torch.Size([10, 53, 53]) torch.Size([10, 53, 64])\n",
      "torch.Size([10, 53, 53]) torch.Size([10, 53, 64])\n",
      "torch.Size([10, 53, 53]) torch.Size([10, 53, 64])\n",
      "torch.Size([10, 53, 53]) torch.Size([10, 53, 64])\n",
      "torch.Size([10, 60, 60]) torch.Size([10, 60, 64])\n",
      "torch.Size([10, 60, 60]) torch.Size([10, 60, 64])\n",
      "torch.Size([10, 60, 60]) torch.Size([10, 60, 64])\n",
      "torch.Size([10, 60, 60]) torch.Size([10, 60, 64])\n",
      "torch.Size([10, 60, 60]) torch.Size([10, 60, 64])\n",
      "torch.Size([10, 60, 60]) torch.Size([10, 60, 64])\n",
      "torch.Size([10, 11, 11]) torch.Size([10, 11, 64])\n",
      "torch.Size([10, 11, 11]) torch.Size([10, 11, 64])\n",
      "torch.Size([10, 11, 11]) torch.Size([10, 11, 64])\n",
      "torch.Size([10, 11, 11]) torch.Size([10, 11, 64])\n",
      "torch.Size([10, 11, 11]) torch.Size([10, 11, 64])\n",
      "torch.Size([10, 11, 11]) torch.Size([10, 11, 64])\n",
      "torch.Size([10, 178, 178]) torch.Size([10, 178, 64])\n",
      "torch.Size([10, 178, 178]) torch.Size([10, 178, 64])\n",
      "torch.Size([10, 178, 178]) torch.Size([10, 178, 64])\n",
      "torch.Size([10, 178, 178]) torch.Size([10, 178, 64])\n",
      "torch.Size([10, 178, 178]) torch.Size([10, 178, 64])\n",
      "torch.Size([10, 178, 178]) torch.Size([10, 178, 64])\n"
     ]
    },
    {
     "name": "stderr",
     "output_type": "stream",
     "text": [
      "EP_train:10: 100%|| 21/21 [00:00<00:00, 105.93it/s]\n"
     ]
    },
    {
     "name": "stdout",
     "output_type": "stream",
     "text": [
      "torch.Size([1, 5, 5]) torch.Size([10, 5, 64])\n",
      "torch.Size([1, 5, 5]) torch.Size([10, 5, 64])\n",
      "torch.Size([1, 5, 5]) torch.Size([10, 5, 64])\n",
      "torch.Size([1, 4, 4]) torch.Size([10, 4, 64])\n",
      "torch.Size([1, 4, 4]) torch.Size([10, 4, 64])\n",
      "torch.Size([1, 4, 4]) torch.Size([10, 4, 64])\n",
      "{'epoch': 10, 'iter': 20, 'loss:': 3.886939764022827}\n",
      "EP:10 Model Saved on: output/parameter.model.ep10\n"
     ]
    },
    {
     "name": "stderr",
     "output_type": "stream",
     "text": [
      "EP_train:11:   0%|| 0/21 [00:00<?, ?it/s]"
     ]
    },
    {
     "name": "stdout",
     "output_type": "stream",
     "text": [
      "torch.Size([10, 33, 33]) torch.Size([10, 33, 64])\n",
      "torch.Size([10, 33, 33]) torch.Size([10, 33, 64])\n",
      "torch.Size([10, 33, 33]) torch.Size([10, 33, 64])\n",
      "torch.Size([10, 33, 33]) torch.Size([10, 33, 64])\n",
      "torch.Size([10, 33, 33]) torch.Size([10, 33, 64])\n",
      "torch.Size([10, 33, 33]) torch.Size([10, 33, 64])\n",
      "{'epoch': 11, 'iter': 0, 'loss:': 0.5320432186126709}\n",
      "torch.Size([10, 67, 67]) torch.Size([10, 67, 64])\n",
      "torch.Size([10, 67, 67]) torch.Size([10, 67, 64])\n",
      "torch.Size([10, 67, 67]) torch.Size([10, 67, 64])\n",
      "torch.Size([10, 176, 176]) torch.Size([10, 176, 64])\n",
      "torch.Size([10, 176, 176]) torch.Size([10, 176, 64])\n",
      "torch.Size([10, 176, 176]) torch.Size([10, 176, 64])\n",
      "torch.Size([10, 54, 54]) torch.Size([10, 54, 64])\n",
      "torch.Size([10, 54, 54]) torch.Size([10, 54, 64])\n",
      "torch.Size([10, 54, 54]) torch.Size([10, 54, 64])\n",
      "torch.Size([10, 54, 54]) torch.Size([10, 54, 64])\n",
      "torch.Size([10, 54, 54]) torch.Size([10, 54, 64])\n",
      "torch.Size([10, 54, 54]) torch.Size([10, 54, 64])\n",
      "torch.Size([10, 32, 32]) torch.Size([10, 32, 64])\n",
      "torch.Size([10, 32, 32]) torch.Size([10, 32, 64])\n",
      "torch.Size([10, 32, 32]) torch.Size([10, 32, 64])\n",
      "torch.Size([10, 69, 69]) torch.Size([10, 69, 64])\n",
      "torch.Size([10, 69, 69]) torch.Size([10, 69, 64])\n",
      "torch.Size([10, 69, 69]) torch.Size([10, 69, 64])\n",
      "torch.Size([10, 196, 196]) torch.Size([10, 196, 64])\n",
      "torch.Size([10, 196, 196]) torch.Size([10, 196, 64])\n",
      "torch.Size([10, 196, 196]) torch.Size([10, 196, 64])\n",
      "torch.Size([10, 196, 196]) torch.Size([10, 196, 64])\n"
     ]
    },
    {
     "name": "stderr",
     "output_type": "stream",
     "text": [
      "EP_train:11:   0%|| 0/21 [00:00<?, ?it/s]"
     ]
    },
    {
     "name": "stdout",
     "output_type": "stream",
     "text": [
      "torch.Size([10, 196, 196]) torch.Size([10, 196, 64])\n",
      "torch.Size([10, 196, 196]) torch.Size([10, 196, 64])\n",
      "torch.Size([10, 20, 20]) torch.Size([10, 20, 64])\n",
      "torch.Size([10, 20, 20]) torch.Size([10, 20, 64])\n",
      "torch.Size([10, 20, 20]) torch.Size([10, 20, 64])\n",
      "torch.Size([10, 20, 20]) torch.Size([10, 20, 64])\n",
      "torch.Size([10, 20, 20]) torch.Size([10, 20, 64])\n",
      "torch.Size([10, 20, 20]) torch.Size([10, 20, 64])\n",
      "{'epoch': 11, 'iter': 5, 'loss:': 0.8848288655281067}\n",
      "torch.Size([10, 479, 479]) torch.Size([10, 479, 64])\n",
      "torch.Size([10, 479, 479]) torch.Size([10, 479, 64])\n",
      "torch.Size([10, 479, 479]) torch.Size([10, 479, 64])\n",
      "torch.Size([10, 479, 479]) torch.Size([10, 479, 64])\n",
      "torch.Size([10, 479, 479]) torch.Size([10, 479, 64])\n",
      "torch.Size([10, 479, 479]) torch.Size([10, 479, 64])\n"
     ]
    },
    {
     "name": "stderr",
     "output_type": "stream",
     "text": [
      "EP_train:11:  43%|| 9/21 [00:00<00:00, 89.52it/s]"
     ]
    },
    {
     "name": "stdout",
     "output_type": "stream",
     "text": [
      "torch.Size([10, 162, 162]) torch.Size([10, 162, 64])\n",
      "torch.Size([10, 162, 162]) torch.Size([10, 162, 64])\n",
      "torch.Size([10, 162, 162]) torch.Size([10, 162, 64])\n",
      "torch.Size([10, 162, 162]) torch.Size([10, 162, 64])\n",
      "torch.Size([10, 162, 162]) torch.Size([10, 162, 64])\n",
      "torch.Size([10, 162, 162]) torch.Size([10, 162, 64])\n",
      "torch.Size([10, 113, 113]) torch.Size([10, 113, 64])\n",
      "torch.Size([10, 113, 113]) torch.Size([10, 113, 64])\n",
      "torch.Size([10, 113, 113]) torch.Size([10, 113, 64])\n",
      "torch.Size([10, 113, 113]) torch.Size([10, 113, 64])\n",
      "torch.Size([10, 113, 113]) torch.Size([10, 113, 64])\n",
      "torch.Size([10, 113, 113]) torch.Size([10, 113, 64])\n",
      "torch.Size([10, 43, 43]) torch.Size([10, 43, 64])\n",
      "torch.Size([10, 43, 43]) torch.Size([10, 43, 64])\n",
      "torch.Size([10, 43, 43]) torch.Size([10, 43, 64])\n",
      "torch.Size([10, 43, 43]) torch.Size([10, 43, 64])\n",
      "torch.Size([10, 43, 43]) torch.Size([10, 43, 64])\n",
      "torch.Size([10, 43, 43]) torch.Size([10, 43, 64])\n",
      "torch.Size([10, 67, 67]) torch.Size([10, 67, 64])\n",
      "torch.Size([10, 67, 67]) torch.Size([10, 67, 64])\n",
      "torch.Size([10, 67, 67]) torch.Size([10, 67, 64])\n",
      "torch.Size([10, 67, 67]) torch.Size([10, 67, 64])\n",
      "torch.Size([10, 67, 67]) torch.Size([10, 67, 64])\n",
      "torch.Size([10, 67, 67]) torch.Size([10, 67, 64])\n",
      "{'epoch': 11, 'iter': 10, 'loss:': 0.3520113229751587}\n",
      "torch.Size([10, 15, 15]) torch.Size([10, 15, 64])\n",
      "torch.Size([10, 15, 15]) torch.Size([10, 15, 64])\n",
      "torch.Size([10, 15, 15]) torch.Size([10, 15, 64])\n",
      "torch.Size([10, 176, 176]) torch.Size([10, 176, 64])\n",
      "torch.Size([10, 176, 176]) torch.Size([10, 176, 64])\n",
      "torch.Size([10, 176, 176]) torch.Size([10, 176, 64])\n",
      "torch.Size([10, 232, 232]) torch.Size([10, 232, 64])\n",
      "torch.Size([10, 232, 232]) torch.Size([10, 232, 64])\n",
      "torch.Size([10, 232, 232]) torch.Size([10, 232, 64])\n",
      "torch.Size([10, 232, 232]) torch.Size([10, 232, 64])\n",
      "torch.Size([10, 232, 232]) torch.Size([10, 232, 64])\n",
      "torch.Size([10, 232, 232]) torch.Size([10, 232, 64])\n",
      "torch.Size([10, 78, 78]) torch.Size([10, 78, 64])\n",
      "torch.Size([10, 78, 78]) torch.Size([10, 78, 64])\n",
      "torch.Size([10, 78, 78]) torch.Size([10, 78, 64])\n",
      "torch.Size([10, 78, 78]) torch.Size([10, 78, 64])\n",
      "torch.Size([10, 78, 78]) torch.Size([10, 78, 64])\n",
      "torch.Size([10, 78, 78]) torch.Size([10, 78, 64])\n"
     ]
    },
    {
     "name": "stderr",
     "output_type": "stream",
     "text": [
      "EP_train:11: 100%|| 21/21 [00:00<00:00, 116.07it/s]\n"
     ]
    },
    {
     "name": "stdout",
     "output_type": "stream",
     "text": [
      "torch.Size([10, 54, 54]) torch.Size([10, 54, 64])\n",
      "torch.Size([10, 54, 54]) torch.Size([10, 54, 64])\n",
      "torch.Size([10, 54, 54]) torch.Size([10, 54, 64])\n",
      "torch.Size([10, 54, 54]) torch.Size([10, 54, 64])\n",
      "torch.Size([10, 54, 54]) torch.Size([10, 54, 64])\n",
      "torch.Size([10, 54, 54]) torch.Size([10, 54, 64])\n",
      "torch.Size([10, 31, 31]) torch.Size([10, 31, 64])\n",
      "torch.Size([10, 31, 31]) torch.Size([10, 31, 64])\n",
      "torch.Size([10, 31, 31]) torch.Size([10, 31, 64])\n",
      "torch.Size([10, 176, 176]) torch.Size([10, 176, 64])\n",
      "torch.Size([10, 176, 176]) torch.Size([10, 176, 64])\n",
      "torch.Size([10, 176, 176]) torch.Size([10, 176, 64])\n",
      "{'epoch': 11, 'iter': 15, 'loss:': 1.3404120206832886}\n",
      "torch.Size([10, 53, 53]) torch.Size([10, 53, 64])\n",
      "torch.Size([10, 53, 53]) torch.Size([10, 53, 64])\n",
      "torch.Size([10, 53, 53]) torch.Size([10, 53, 64])\n",
      "torch.Size([10, 53, 53]) torch.Size([10, 53, 64])\n",
      "torch.Size([10, 53, 53]) torch.Size([10, 53, 64])\n",
      "torch.Size([10, 53, 53]) torch.Size([10, 53, 64])\n",
      "torch.Size([10, 60, 60]) torch.Size([10, 60, 64])\n",
      "torch.Size([10, 60, 60]) torch.Size([10, 60, 64])\n",
      "torch.Size([10, 60, 60]) torch.Size([10, 60, 64])\n",
      "torch.Size([10, 60, 60]) torch.Size([10, 60, 64])\n",
      "torch.Size([10, 60, 60]) torch.Size([10, 60, 64])\n",
      "torch.Size([10, 60, 60]) torch.Size([10, 60, 64])\n",
      "torch.Size([10, 11, 11]) torch.Size([10, 11, 64])\n",
      "torch.Size([10, 11, 11]) torch.Size([10, 11, 64])\n",
      "torch.Size([10, 11, 11]) torch.Size([10, 11, 64])\n",
      "torch.Size([10, 11, 11]) torch.Size([10, 11, 64])\n",
      "torch.Size([10, 11, 11]) torch.Size([10, 11, 64])\n",
      "torch.Size([10, 11, 11]) torch.Size([10, 11, 64])\n",
      "torch.Size([10, 178, 178]) torch.Size([10, 178, 64])\n",
      "torch.Size([10, 178, 178]) torch.Size([10, 178, 64])\n",
      "torch.Size([10, 178, 178]) torch.Size([10, 178, 64])\n",
      "torch.Size([10, 178, 178]) torch.Size([10, 178, 64])\n",
      "torch.Size([10, 178, 178]) torch.Size([10, 178, 64])\n",
      "torch.Size([10, 178, 178]) torch.Size([10, 178, 64])\n",
      "torch.Size([1, 5, 5]) torch.Size([10, 5, 64])\n",
      "torch.Size([1, 5, 5]) torch.Size([10, 5, 64])\n",
      "torch.Size([1, 5, 5]) torch.Size([10, 5, 64])\n",
      "torch.Size([1, 4, 4]) torch.Size([10, 4, 64])\n",
      "torch.Size([1, 4, 4]) torch.Size([10, 4, 64])\n",
      "torch.Size([1, 4, 4]) torch.Size([10, 4, 64])\n",
      "{'epoch': 11, 'iter': 20, 'loss:': 3.8825478553771973}\n",
      "EP:11 Model Saved on: output/parameter.model.ep11\n"
     ]
    },
    {
     "name": "stderr",
     "output_type": "stream",
     "text": [
      "EP_train:12:   0%|| 0/21 [00:00<?, ?it/s]"
     ]
    },
    {
     "name": "stdout",
     "output_type": "stream",
     "text": [
      "torch.Size([10, 33, 33]) torch.Size([10, 33, 64])\n",
      "torch.Size([10, 33, 33]) torch.Size([10, 33, 64])\n",
      "torch.Size([10, 33, 33]) torch.Size([10, 33, 64])\n",
      "torch.Size([10, 33, 33]) torch.Size([10, 33, 64])\n"
     ]
    },
    {
     "name": "stderr",
     "output_type": "stream",
     "text": [
      "EP_train:12:   0%|| 0/21 [00:00<?, ?it/s]"
     ]
    },
    {
     "name": "stdout",
     "output_type": "stream",
     "text": [
      "torch.Size([10, 33, 33]) torch.Size([10, 33, 64])\n",
      "torch.Size([10, 33, 33]) torch.Size([10, 33, 64])\n",
      "{'epoch': 12, 'iter': 0, 'loss:': 0.5033685564994812}\n",
      "torch.Size([10, 67, 67]) torch.Size([10, 67, 64])\n",
      "torch.Size([10, 67, 67]) torch.Size([10, 67, 64])\n",
      "torch.Size([10, 67, 67]) torch.Size([10, 67, 64])\n",
      "torch.Size([10, 176, 176]) torch.Size([10, 176, 64])\n",
      "torch.Size([10, 176, 176]) torch.Size([10, 176, 64])\n",
      "torch.Size([10, 176, 176]) torch.Size([10, 176, 64])\n"
     ]
    },
    {
     "name": "stderr",
     "output_type": "stream",
     "text": [
      "EP_train:12:   0%|| 0/21 [00:00<?, ?it/s]"
     ]
    },
    {
     "name": "stdout",
     "output_type": "stream",
     "text": [
      "torch.Size([10, 54, 54]) torch.Size([10, 54, 64])\n",
      "torch.Size([10, 54, 54]) torch.Size([10, 54, 64])\n",
      "torch.Size([10, 54, 54]) torch.Size([10, 54, 64])\n",
      "torch.Size([10, 54, 54]) torch.Size([10, 54, 64])\n",
      "torch.Size([10, 54, 54]) torch.Size([10, 54, 64])\n",
      "torch.Size([10, 54, 54]) torch.Size([10, 54, 64])\n",
      "torch.Size([10, 32, 32]) torch.Size([10, 32, 64])\n",
      "torch.Size([10, 32, 32]) torch.Size([10, 32, 64])\n",
      "torch.Size([10, 32, 32]) torch.Size([10, 32, 64])\n",
      "torch.Size([10, 69, 69]) torch.Size([10, 69, 64])\n",
      "torch.Size([10, 69, 69]) torch.Size([10, 69, 64])\n",
      "torch.Size([10, 69, 69]) torch.Size([10, 69, 64])\n",
      "torch.Size([10, 196, 196]) torch.Size([10, 196, 64])\n",
      "torch.Size([10, 196, 196]) torch.Size([10, 196, 64])\n",
      "torch.Size([10, 196, 196]) torch.Size([10, 196, 64])\n",
      "torch.Size([10, 196, 196]) torch.Size([10, 196, 64])\n",
      "torch.Size([10, 196, 196]) torch.Size([10, 196, 64])\n",
      "torch.Size([10, 196, 196]) torch.Size([10, 196, 64])\n",
      "torch.Size([10, 20, 20]) torch.Size([10, 20, 64])\n",
      "torch.Size([10, 20, 20]) torch.Size([10, 20, 64])\n",
      "torch.Size([10, 20, 20]) torch.Size([10, 20, 64])\n",
      "torch.Size([10, 20, 20]) torch.Size([10, 20, 64])\n",
      "torch.Size([10, 20, 20]) torch.Size([10, 20, 64])\n",
      "torch.Size([10, 20, 20]) torch.Size([10, 20, 64])\n",
      "{'epoch': 12, 'iter': 5, 'loss:': 0.9207606315612793}\n",
      "torch.Size([10, 479, 479]) torch.Size([10, 479, 64])\n",
      "torch.Size([10, 479, 479]) torch.Size([10, 479, 64])\n",
      "torch.Size([10, 479, 479]) torch.Size([10, 479, 64])\n",
      "torch.Size([10, 479, 479]) torch.Size([10, 479, 64])\n",
      "torch.Size([10, 479, 479]) torch.Size([10, 479, 64])\n",
      "torch.Size([10, 479, 479]) torch.Size([10, 479, 64])\n",
      "torch.Size([10, 162, 162]) torch.Size([10, 162, 64])\n",
      "torch.Size([10, 162, 162]) torch.Size([10, 162, 64])\n",
      "torch.Size([10, 162, 162]) torch.Size([10, 162, 64])\n",
      "torch.Size([10, 162, 162]) torch.Size([10, 162, 64])\n",
      "torch.Size([10, 162, 162]) torch.Size([10, 162, 64])\n",
      "torch.Size([10, 162, 162]) torch.Size([10, 162, 64])\n",
      "torch.Size([10, 113, 113]) torch.Size([10, 113, 64])\n",
      "torch.Size([10, 113, 113]) torch.Size([10, 113, 64])\n",
      "torch.Size([10, 113, 113]) torch.Size([10, 113, 64])\n",
      "torch.Size([10, 113, 113]) torch.Size([10, 113, 64])\n",
      "torch.Size([10, 113, 113]) torch.Size([10, 113, 64])\n",
      "torch.Size([10, 113, 113]) torch.Size([10, 113, 64])\n"
     ]
    },
    {
     "name": "stderr",
     "output_type": "stream",
     "text": [
      "EP_train:12:  48%|| 10/21 [00:00<00:00, 98.48it/s]"
     ]
    },
    {
     "name": "stdout",
     "output_type": "stream",
     "text": [
      "torch.Size([10, 43, 43]) torch.Size([10, 43, 64])\n",
      "torch.Size([10, 43, 43]) torch.Size([10, 43, 64])\n",
      "torch.Size([10, 43, 43]) torch.Size([10, 43, 64])\n",
      "torch.Size([10, 43, 43]) torch.Size([10, 43, 64])\n",
      "torch.Size([10, 43, 43]) torch.Size([10, 43, 64])\n",
      "torch.Size([10, 43, 43]) torch.Size([10, 43, 64])\n"
     ]
    },
    {
     "name": "stderr",
     "output_type": "stream",
     "text": [
      "EP_train:12:  48%|| 10/21 [00:00<00:00, 98.48it/s]"
     ]
    },
    {
     "name": "stdout",
     "output_type": "stream",
     "text": [
      "torch.Size([10, 67, 67]) torch.Size([10, 67, 64])\n",
      "torch.Size([10, 67, 67]) torch.Size([10, 67, 64])\n",
      "torch.Size([10, 67, 67]) torch.Size([10, 67, 64])\n",
      "torch.Size([10, 67, 67]) torch.Size([10, 67, 64])\n",
      "torch.Size([10, 67, 67]) torch.Size([10, 67, 64])\n",
      "torch.Size([10, 67, 67]) torch.Size([10, 67, 64])\n",
      "{'epoch': 12, 'iter': 10, 'loss:': 0.31585073471069336}\n",
      "torch.Size([10, 15, 15]) torch.Size([10, 15, 64])\n",
      "torch.Size([10, 15, 15]) torch.Size([10, 15, 64])\n",
      "torch.Size([10, 15, 15]) torch.Size([10, 15, 64])\n",
      "torch.Size([10, 176, 176]) torch.Size([10, 176, 64])\n",
      "torch.Size([10, 176, 176]) torch.Size([10, 176, 64])\n",
      "torch.Size([10, 176, 176]) torch.Size([10, 176, 64])\n",
      "torch.Size([10, 232, 232]) torch.Size([10, 232, 64])\n",
      "torch.Size([10, 232, 232]) torch.Size([10, 232, 64])\n",
      "torch.Size([10, 232, 232]) torch.Size([10, 232, 64])\n",
      "torch.Size([10, 232, 232]) torch.Size([10, 232, 64])\n",
      "torch.Size([10, 232, 232]) torch.Size([10, 232, 64])\n",
      "torch.Size([10, 232, 232]) torch.Size([10, 232, 64])\n",
      "torch.Size([10, 78, 78]) torch.Size([10, 78, 64])\n",
      "torch.Size([10, 78, 78]) torch.Size([10, 78, 64])\n",
      "torch.Size([10, 78, 78]) torch.Size([10, 78, 64])\n",
      "torch.Size([10, 78, 78]) torch.Size([10, 78, 64])\n",
      "torch.Size([10, 78, 78]) torch.Size([10, 78, 64])\n",
      "torch.Size([10, 78, 78]) torch.Size([10, 78, 64])\n",
      "torch.Size([10, 54, 54]) torch.Size([10, 54, 64])\n",
      "torch.Size([10, 54, 54]) torch.Size([10, 54, 64])\n",
      "torch.Size([10, 54, 54]) torch.Size([10, 54, 64])\n",
      "torch.Size([10, 54, 54]) torch.Size([10, 54, 64])\n",
      "torch.Size([10, 54, 54]) torch.Size([10, 54, 64])\n",
      "torch.Size([10, 54, 54]) torch.Size([10, 54, 64])\n",
      "torch.Size([10, 31, 31]) torch.Size([10, 31, 64])\n",
      "torch.Size([10, 31, 31]) torch.Size([10, 31, 64])\n",
      "torch.Size([10, 31, 31]) torch.Size([10, 31, 64])\n",
      "torch.Size([10, 176, 176]) torch.Size([10, 176, 64])\n",
      "torch.Size([10, 176, 176]) torch.Size([10, 176, 64])\n",
      "torch.Size([10, 176, 176]) torch.Size([10, 176, 64])\n"
     ]
    },
    {
     "name": "stderr",
     "output_type": "stream",
     "text": [
      "EP_train:12: 100%|| 21/21 [00:00<00:00, 102.44it/s]"
     ]
    },
    {
     "name": "stdout",
     "output_type": "stream",
     "text": [
      "{'epoch': 12, 'iter': 15, 'loss:': 1.245050072669983}\n",
      "torch.Size([10, 53, 53]) torch.Size([10, 53, 64])\n",
      "torch.Size([10, 53, 53]) torch.Size([10, 53, 64])\n",
      "torch.Size([10, 53, 53]) torch.Size([10, 53, 64])\n",
      "torch.Size([10, 53, 53]) torch.Size([10, 53, 64])\n",
      "torch.Size([10, 53, 53]) torch.Size([10, 53, 64])\n",
      "torch.Size([10, 53, 53]) torch.Size([10, 53, 64])\n",
      "torch.Size([10, 60, 60]) torch.Size([10, 60, 64])\n",
      "torch.Size([10, 60, 60]) torch.Size([10, 60, 64])\n",
      "torch.Size([10, 60, 60]) torch.Size([10, 60, 64])\n",
      "torch.Size([10, 60, 60]) torch.Size([10, 60, 64])\n",
      "torch.Size([10, 60, 60]) torch.Size([10, 60, 64])\n",
      "torch.Size([10, 60, 60]) torch.Size([10, 60, 64])\n",
      "torch.Size([10, 11, 11]) torch.Size([10, 11, 64])\n",
      "torch.Size([10, 11, 11]) torch.Size([10, 11, 64])\n",
      "torch.Size([10, 11, 11]) torch.Size([10, 11, 64])\n",
      "torch.Size([10, 11, 11]) torch.Size([10, 11, 64])\n",
      "torch.Size([10, 11, 11]) torch.Size([10, 11, 64])\n",
      "torch.Size([10, 11, 11]) torch.Size([10, 11, 64])\n",
      "torch.Size([10, 178, 178]) torch.Size([10, 178, 64])\n",
      "torch.Size([10, 178, 178]) torch.Size([10, 178, 64])\n",
      "torch.Size([10, 178, 178]) torch.Size([10, 178, 64])\n",
      "torch.Size([10, 178, 178]) torch.Size([10, 178, 64])\n",
      "torch.Size([10, 178, 178]) torch.Size([10, 178, 64])\n",
      "torch.Size([10, 178, 178]) torch.Size([10, 178, 64])\n",
      "torch.Size([1, 5, 5]) torch.Size([10, 5, 64])\n",
      "torch.Size([1, 5, 5]) torch.Size([10, 5, 64])\n",
      "torch.Size([1, 5, 5]) torch.Size([10, 5, 64])\n",
      "torch.Size([1, 4, 4]) torch.Size([10, 4, 64])\n",
      "torch.Size([1, 4, 4]) torch.Size([10, 4, 64])\n",
      "torch.Size([1, 4, 4]) torch.Size([10, 4, 64])\n",
      "{'epoch': 12, 'iter': 20, 'loss:': 3.8770248889923096}\n"
     ]
    },
    {
     "name": "stderr",
     "output_type": "stream",
     "text": [
      "\n"
     ]
    },
    {
     "name": "stdout",
     "output_type": "stream",
     "text": [
      "EP:12 Model Saved on: output/parameter.model.ep12\n"
     ]
    },
    {
     "name": "stderr",
     "output_type": "stream",
     "text": [
      "EP_train:13:   0%|| 0/21 [00:00<?, ?it/s]"
     ]
    },
    {
     "name": "stdout",
     "output_type": "stream",
     "text": [
      "torch.Size([10, 33, 33]) torch.Size([10, 33, 64])\n",
      "torch.Size([10, 33, 33]) torch.Size([10, 33, 64])\n",
      "torch.Size([10, 33, 33]) torch.Size([10, 33, 64])\n",
      "torch.Size([10, 33, 33]) torch.Size([10, 33, 64])\n",
      "torch.Size([10, 33, 33]) torch.Size([10, 33, 64])\n",
      "torch.Size([10, 33, 33]) torch.Size([10, 33, 64])\n",
      "{'epoch': 13, 'iter': 0, 'loss:': 0.495530903339386}\n",
      "torch.Size([10, 67, 67]) torch.Size([10, 67, 64])\n",
      "torch.Size([10, 67, 67]) torch.Size([10, 67, 64])\n",
      "torch.Size([10, 67, 67]) torch.Size([10, 67, 64])\n",
      "torch.Size([10, 176, 176]) torch.Size([10, 176, 64])\n",
      "torch.Size([10, 176, 176]) torch.Size([10, 176, 64])\n",
      "torch.Size([10, 176, 176]) torch.Size([10, 176, 64])\n"
     ]
    },
    {
     "name": "stderr",
     "output_type": "stream",
     "text": [
      "EP_train:13:   0%|| 0/21 [00:00<?, ?it/s]"
     ]
    },
    {
     "name": "stdout",
     "output_type": "stream",
     "text": [
      "torch.Size([10, 54, 54]) torch.Size([10, 54, 64])\n",
      "torch.Size([10, 54, 54]) torch.Size([10, 54, 64])\n",
      "torch.Size([10, 54, 54]) torch.Size([10, 54, 64])\n",
      "torch.Size([10, 54, 54]) torch.Size([10, 54, 64])\n",
      "torch.Size([10, 54, 54]) torch.Size([10, 54, 64])\n",
      "torch.Size([10, 54, 54]) torch.Size([10, 54, 64])\n",
      "torch.Size([10, 32, 32]) torch.Size([10, 32, 64])\n",
      "torch.Size([10, 32, 32]) torch.Size([10, 32, 64])\n",
      "torch.Size([10, 32, 32]) torch.Size([10, 32, 64])\n",
      "torch.Size([10, 69, 69]) torch.Size([10, 69, 64])\n",
      "torch.Size([10, 69, 69]) torch.Size([10, 69, 64])\n",
      "torch.Size([10, 69, 69]) torch.Size([10, 69, 64])\n",
      "torch.Size([10, 196, 196]) torch.Size([10, 196, 64])\n",
      "torch.Size([10, 196, 196]) torch.Size([10, 196, 64])\n",
      "torch.Size([10, 196, 196]) torch.Size([10, 196, 64])\n",
      "torch.Size([10, 196, 196]) torch.Size([10, 196, 64])\n",
      "torch.Size([10, 196, 196]) torch.Size([10, 196, 64])\n",
      "torch.Size([10, 196, 196]) torch.Size([10, 196, 64])\n",
      "torch.Size([10, 20, 20]) torch.Size([10, 20, 64])\n",
      "torch.Size([10, 20, 20]) torch.Size([10, 20, 64])\n",
      "torch.Size([10, 20, 20]) torch.Size([10, 20, 64])\n",
      "torch.Size([10, 20, 20]) torch.Size([10, 20, 64])\n",
      "torch.Size([10, 20, 20]) torch.Size([10, 20, 64])\n",
      "torch.Size([10, 20, 20]) torch.Size([10, 20, 64])\n",
      "{'epoch': 13, 'iter': 5, 'loss:': 0.9525430798530579}\n",
      "torch.Size([10, 479, 479]) torch.Size([10, 479, 64])\n",
      "torch.Size([10, 479, 479]) torch.Size([10, 479, 64])\n",
      "torch.Size([10, 479, 479]) torch.Size([10, 479, 64])\n",
      "torch.Size([10, 479, 479]) torch.Size([10, 479, 64])\n",
      "torch.Size([10, 479, 479]) torch.Size([10, 479, 64])\n",
      "torch.Size([10, 479, 479]) torch.Size([10, 479, 64])\n",
      "torch.Size([10, 162, 162]) torch.Size([10, 162, 64])\n",
      "torch.Size([10, 162, 162]) torch.Size([10, 162, 64])\n",
      "torch.Size([10, 162, 162]) torch.Size([10, 162, 64])\n",
      "torch.Size([10, 162, 162]) torch.Size([10, 162, 64])\n",
      "torch.Size([10, 162, 162]) torch.Size([10, 162, 64])\n",
      "torch.Size([10, 162, 162]) torch.Size([10, 162, 64])\n",
      "torch.Size([10, 113, 113]) torch.Size([10, 113, 64])\n",
      "torch.Size([10, 113, 113]) torch.Size([10, 113, 64])\n",
      "torch.Size([10, 113, 113]) torch.Size([10, 113, 64])\n",
      "torch.Size([10, 113, 113]) torch.Size([10, 113, 64])\n",
      "torch.Size([10, 113, 113]) torch.Size([10, 113, 64])\n",
      "torch.Size([10, 113, 113]) torch.Size([10, 113, 64])\n",
      "torch.Size([10, 43, 43]) torch.Size([10, 43, 64])\n",
      "torch.Size([10, 43, 43]) torch.Size([10, 43, 64])\n",
      "torch.Size([10, 43, 43]) torch.Size([10, 43, 64])\n",
      "torch.Size([10, 43, 43]) torch.Size([10, 43, 64])\n",
      "torch.Size([10, 43, 43]) torch.Size([10, 43, 64])\n",
      "torch.Size([10, 43, 43]) torch.Size([10, 43, 64])\n"
     ]
    },
    {
     "name": "stderr",
     "output_type": "stream",
     "text": [
      "EP_train:13:   0%|| 0/21 [00:00<?, ?it/s]"
     ]
    },
    {
     "name": "stdout",
     "output_type": "stream",
     "text": [
      "torch.Size([10, 67, 67]) torch.Size([10, 67, 64])\n",
      "torch.Size([10, 67, 67]) torch.Size([10, 67, 64])\n",
      "torch.Size([10, 67, 67]) torch.Size([10, 67, 64])\n",
      "torch.Size([10, 67, 67]) torch.Size([10, 67, 64])\n",
      "torch.Size([10, 67, 67]) torch.Size([10, 67, 64])\n",
      "torch.Size([10, 67, 67]) torch.Size([10, 67, 64])\n",
      "{'epoch': 13, 'iter': 10, 'loss:': 0.28179097175598145}\n"
     ]
    },
    {
     "name": "stderr",
     "output_type": "stream",
     "text": [
      "EP_train:13:  57%|| 12/21 [00:00<00:00, 112.57it/s]"
     ]
    },
    {
     "name": "stdout",
     "output_type": "stream",
     "text": [
      "torch.Size([10, 15, 15]) torch.Size([10, 15, 64])\n",
      "torch.Size([10, 15, 15]) torch.Size([10, 15, 64])\n",
      "torch.Size([10, 15, 15]) torch.Size([10, 15, 64])\n",
      "torch.Size([10, 176, 176]) torch.Size([10, 176, 64])\n",
      "torch.Size([10, 176, 176]) torch.Size([10, 176, 64])\n",
      "torch.Size([10, 176, 176]) torch.Size([10, 176, 64])\n",
      "torch.Size([10, 232, 232]) torch.Size([10, 232, 64])\n",
      "torch.Size([10, 232, 232]) torch.Size([10, 232, 64])\n",
      "torch.Size([10, 232, 232]) torch.Size([10, 232, 64])\n",
      "torch.Size([10, 232, 232]) torch.Size([10, 232, 64])\n",
      "torch.Size([10, 232, 232]) torch.Size([10, 232, 64])\n",
      "torch.Size([10, 232, 232]) torch.Size([10, 232, 64])\n",
      "torch.Size([10, 78, 78]) torch.Size([10, 78, 64])\n",
      "torch.Size([10, 78, 78]) torch.Size([10, 78, 64])\n",
      "torch.Size([10, 78, 78]) torch.Size([10, 78, 64])\n",
      "torch.Size([10, 78, 78]) torch.Size([10, 78, 64])\n",
      "torch.Size([10, 78, 78]) torch.Size([10, 78, 64])\n",
      "torch.Size([10, 78, 78]) torch.Size([10, 78, 64])\n",
      "torch.Size([10, 54, 54]) torch.Size([10, 54, 64])\n",
      "torch.Size([10, 54, 54]) torch.Size([10, 54, 64])\n",
      "torch.Size([10, 54, 54]) torch.Size([10, 54, 64])\n",
      "torch.Size([10, 54, 54]) torch.Size([10, 54, 64])\n",
      "torch.Size([10, 54, 54]) torch.Size([10, 54, 64])\n",
      "torch.Size([10, 54, 54]) torch.Size([10, 54, 64])\n",
      "torch.Size([10, 31, 31]) torch.Size([10, 31, 64])\n",
      "torch.Size([10, 31, 31]) torch.Size([10, 31, 64])\n",
      "torch.Size([10, 31, 31]) torch.Size([10, 31, 64])\n",
      "torch.Size([10, 176, 176]) torch.Size([10, 176, 64])\n",
      "torch.Size([10, 176, 176]) torch.Size([10, 176, 64])\n",
      "torch.Size([10, 176, 176]) torch.Size([10, 176, 64])\n",
      "{'epoch': 13, 'iter': 15, 'loss:': 1.1664766073226929}\n",
      "torch.Size([10, 53, 53]) torch.Size([10, 53, 64])\n",
      "torch.Size([10, 53, 53]) torch.Size([10, 53, 64])\n",
      "torch.Size([10, 53, 53]) torch.Size([10, 53, 64])\n",
      "torch.Size([10, 53, 53]) torch.Size([10, 53, 64])\n",
      "torch.Size([10, 53, 53]) torch.Size([10, 53, 64])\n",
      "torch.Size([10, 53, 53]) torch.Size([10, 53, 64])\n"
     ]
    },
    {
     "name": "stderr",
     "output_type": "stream",
     "text": [
      "EP_train:13: 100%|| 21/21 [00:00<00:00, 111.78it/s]\n"
     ]
    },
    {
     "name": "stdout",
     "output_type": "stream",
     "text": [
      "torch.Size([10, 60, 60]) torch.Size([10, 60, 64])\n",
      "torch.Size([10, 60, 60]) torch.Size([10, 60, 64])\n",
      "torch.Size([10, 60, 60]) torch.Size([10, 60, 64])\n",
      "torch.Size([10, 60, 60]) torch.Size([10, 60, 64])\n",
      "torch.Size([10, 60, 60]) torch.Size([10, 60, 64])\n",
      "torch.Size([10, 60, 60]) torch.Size([10, 60, 64])\n",
      "torch.Size([10, 11, 11]) torch.Size([10, 11, 64])\n",
      "torch.Size([10, 11, 11]) torch.Size([10, 11, 64])\n",
      "torch.Size([10, 11, 11]) torch.Size([10, 11, 64])\n",
      "torch.Size([10, 11, 11]) torch.Size([10, 11, 64])\n",
      "torch.Size([10, 11, 11]) torch.Size([10, 11, 64])\n",
      "torch.Size([10, 11, 11]) torch.Size([10, 11, 64])\n",
      "torch.Size([10, 178, 178]) torch.Size([10, 178, 64])\n",
      "torch.Size([10, 178, 178]) torch.Size([10, 178, 64])\n",
      "torch.Size([10, 178, 178]) torch.Size([10, 178, 64])\n",
      "torch.Size([10, 178, 178]) torch.Size([10, 178, 64])\n",
      "torch.Size([10, 178, 178]) torch.Size([10, 178, 64])\n",
      "torch.Size([10, 178, 178]) torch.Size([10, 178, 64])\n",
      "torch.Size([1, 5, 5]) torch.Size([10, 5, 64])\n",
      "torch.Size([1, 5, 5]) torch.Size([10, 5, 64])\n",
      "torch.Size([1, 5, 5]) torch.Size([10, 5, 64])\n",
      "torch.Size([1, 4, 4]) torch.Size([10, 4, 64])\n",
      "torch.Size([1, 4, 4]) torch.Size([10, 4, 64])\n",
      "torch.Size([1, 4, 4]) torch.Size([10, 4, 64])\n",
      "{'epoch': 13, 'iter': 20, 'loss:': 3.8706154823303223}\n",
      "EP:13 Model Saved on: output/parameter.model.ep13\n"
     ]
    },
    {
     "name": "stderr",
     "output_type": "stream",
     "text": [
      "EP_train:14:   0%|| 0/21 [00:00<?, ?it/s]"
     ]
    },
    {
     "name": "stdout",
     "output_type": "stream",
     "text": [
      "torch.Size([10, 33, 33]) torch.Size([10, 33, 64])\n",
      "torch.Size([10, 33, 33]) torch.Size([10, 33, 64])\n",
      "torch.Size([10, 33, 33]) torch.Size([10, 33, 64])\n",
      "torch.Size([10, 33, 33]) torch.Size([10, 33, 64])\n",
      "torch.Size([10, 33, 33]) torch.Size([10, 33, 64])\n",
      "torch.Size([10, 33, 33]) torch.Size([10, 33, 64])\n",
      "{'epoch': 14, 'iter': 0, 'loss:': 0.5056200623512268}\n",
      "torch.Size([10, 67, 67]) torch.Size([10, 67, 64])\n",
      "torch.Size([10, 67, 67]) torch.Size([10, 67, 64])\n",
      "torch.Size([10, 67, 67]) torch.Size([10, 67, 64])\n",
      "torch.Size([10, 176, 176]) torch.Size([10, 176, 64])\n",
      "torch.Size([10, 176, 176]) torch.Size([10, 176, 64])\n",
      "torch.Size([10, 176, 176]) torch.Size([10, 176, 64])\n",
      "torch.Size([10, 54, 54]) torch.Size([10, 54, 64])\n",
      "torch.Size([10, 54, 54]) torch.Size([10, 54, 64])\n",
      "torch.Size([10, 54, 54]) torch.Size([10, 54, 64])\n",
      "torch.Size([10, 54, 54]) torch.Size([10, 54, 64])\n",
      "torch.Size([10, 54, 54]) torch.Size([10, 54, 64])\n",
      "torch.Size([10, 54, 54]) torch.Size([10, 54, 64])\n"
     ]
    },
    {
     "name": "stderr",
     "output_type": "stream",
     "text": [
      "EP_train:14:   0%|| 0/21 [00:00<?, ?it/s]"
     ]
    },
    {
     "name": "stdout",
     "output_type": "stream",
     "text": [
      "torch.Size([10, 32, 32]) torch.Size([10, 32, 64])\n",
      "torch.Size([10, 32, 32]) torch.Size([10, 32, 64])\n",
      "torch.Size([10, 32, 32]) torch.Size([10, 32, 64])\n",
      "torch.Size([10, 69, 69]) torch.Size([10, 69, 64])\n",
      "torch.Size([10, 69, 69]) torch.Size([10, 69, 64])\n",
      "torch.Size([10, 69, 69]) torch.Size([10, 69, 64])\n",
      "torch.Size([10, 196, 196]) torch.Size([10, 196, 64])\n",
      "torch.Size([10, 196, 196]) torch.Size([10, 196, 64])\n",
      "torch.Size([10, 196, 196]) torch.Size([10, 196, 64])\n",
      "torch.Size([10, 196, 196]) torch.Size([10, 196, 64])\n",
      "torch.Size([10, 196, 196]) torch.Size([10, 196, 64])\n",
      "torch.Size([10, 196, 196]) torch.Size([10, 196, 64])\n",
      "torch.Size([10, 20, 20]) torch.Size([10, 20, 64])\n",
      "torch.Size([10, 20, 20]) torch.Size([10, 20, 64])\n",
      "torch.Size([10, 20, 20]) torch.Size([10, 20, 64])\n",
      "torch.Size([10, 20, 20]) torch.Size([10, 20, 64])\n",
      "torch.Size([10, 20, 20]) torch.Size([10, 20, 64])\n",
      "torch.Size([10, 20, 20]) torch.Size([10, 20, 64])\n",
      "{'epoch': 14, 'iter': 5, 'loss:': 0.9747509956359863}\n",
      "torch.Size([10, 479, 479]) torch.Size([10, 479, 64])\n",
      "torch.Size([10, 479, 479]) torch.Size([10, 479, 64])\n",
      "torch.Size([10, 479, 479]) torch.Size([10, 479, 64])\n",
      "torch.Size([10, 479, 479]) torch.Size([10, 479, 64])\n",
      "torch.Size([10, 479, 479]) torch.Size([10, 479, 64])\n",
      "torch.Size([10, 479, 479]) torch.Size([10, 479, 64])\n",
      "torch.Size([10, 162, 162]) torch.Size([10, 162, 64])\n",
      "torch.Size([10, 162, 162]) torch.Size([10, 162, 64])\n",
      "torch.Size([10, 162, 162]) torch.Size([10, 162, 64])\n",
      "torch.Size([10, 162, 162]) torch.Size([10, 162, 64])\n",
      "torch.Size([10, 162, 162]) torch.Size([10, 162, 64])\n",
      "torch.Size([10, 162, 162]) torch.Size([10, 162, 64])\n"
     ]
    },
    {
     "name": "stderr",
     "output_type": "stream",
     "text": [
      "EP_train:14:   0%|| 0/21 [00:00<?, ?it/s]"
     ]
    },
    {
     "name": "stdout",
     "output_type": "stream",
     "text": [
      "torch.Size([10, 113, 113]) torch.Size([10, 113, 64])\n",
      "torch.Size([10, 113, 113]) torch.Size([10, 113, 64])\n",
      "torch.Size([10, 113, 113]) torch.Size([10, 113, 64])\n",
      "torch.Size([10, 113, 113]) torch.Size([10, 113, 64])\n",
      "torch.Size([10, 113, 113]) torch.Size([10, 113, 64])\n",
      "torch.Size([10, 113, 113]) torch.Size([10, 113, 64])\n",
      "torch.Size([10, 43, 43]) torch.Size([10, 43, 64])\n",
      "torch.Size([10, 43, 43]) torch.Size([10, 43, 64])\n",
      "torch.Size([10, 43, 43]) torch.Size([10, 43, 64])\n",
      "torch.Size([10, 43, 43]) torch.Size([10, 43, 64])\n",
      "torch.Size([10, 43, 43]) torch.Size([10, 43, 64])\n",
      "torch.Size([10, 43, 43]) torch.Size([10, 43, 64])\n",
      "torch.Size([10, 67, 67]) torch.Size([10, 67, 64])\n",
      "torch.Size([10, 67, 67]) torch.Size([10, 67, 64])\n",
      "torch.Size([10, 67, 67]) torch.Size([10, 67, 64])\n",
      "torch.Size([10, 67, 67]) torch.Size([10, 67, 64])\n",
      "torch.Size([10, 67, 67]) torch.Size([10, 67, 64])\n",
      "torch.Size([10, 67, 67]) torch.Size([10, 67, 64])\n",
      "{'epoch': 14, 'iter': 10, 'loss:': 0.2470763474702835}\n"
     ]
    },
    {
     "name": "stderr",
     "output_type": "stream",
     "text": [
      "EP_train:14:  57%|| 12/21 [00:00<00:00, 109.18it/s]"
     ]
    },
    {
     "name": "stdout",
     "output_type": "stream",
     "text": [
      "torch.Size([10, 15, 15]) torch.Size([10, 15, 64])\n",
      "torch.Size([10, 15, 15]) torch.Size([10, 15, 64])\n",
      "torch.Size([10, 15, 15]) torch.Size([10, 15, 64])\n",
      "torch.Size([10, 176, 176]) torch.Size([10, 176, 64])\n",
      "torch.Size([10, 176, 176]) torch.Size([10, 176, 64])\n",
      "torch.Size([10, 176, 176]) torch.Size([10, 176, 64])\n"
     ]
    },
    {
     "name": "stderr",
     "output_type": "stream",
     "text": [
      "EP_train:14:  57%|| 12/21 [00:00<00:00, 109.18it/s]"
     ]
    },
    {
     "name": "stdout",
     "output_type": "stream",
     "text": [
      "torch.Size([10, 232, 232]) torch.Size([10, 232, 64])\n",
      "torch.Size([10, 232, 232]) torch.Size([10, 232, 64])\n",
      "torch.Size([10, 232, 232]) torch.Size([10, 232, 64])\n",
      "torch.Size([10, 232, 232]) torch.Size([10, 232, 64])\n",
      "torch.Size([10, 232, 232]) torch.Size([10, 232, 64])\n",
      "torch.Size([10, 232, 232]) torch.Size([10, 232, 64])\n",
      "torch.Size([10, 78, 78]) torch.Size([10, 78, 64])\n",
      "torch.Size([10, 78, 78]) torch.Size([10, 78, 64])\n",
      "torch.Size([10, 78, 78]) torch.Size([10, 78, 64])\n",
      "torch.Size([10, 78, 78]) torch.Size([10, 78, 64])\n",
      "torch.Size([10, 78, 78]) torch.Size([10, 78, 64])\n",
      "torch.Size([10, 78, 78]) torch.Size([10, 78, 64])\n",
      "torch.Size([10, 54, 54]) torch.Size([10, 54, 64])\n",
      "torch.Size([10, 54, 54]) torch.Size([10, 54, 64])\n",
      "torch.Size([10, 54, 54]) torch.Size([10, 54, 64])\n",
      "torch.Size([10, 54, 54]) torch.Size([10, 54, 64])\n",
      "torch.Size([10, 54, 54]) torch.Size([10, 54, 64])\n",
      "torch.Size([10, 54, 54]) torch.Size([10, 54, 64])\n",
      "torch.Size([10, 31, 31]) torch.Size([10, 31, 64])\n",
      "torch.Size([10, 31, 31]) torch.Size([10, 31, 64])\n",
      "torch.Size([10, 31, 31]) torch.Size([10, 31, 64])\n",
      "torch.Size([10, 176, 176]) torch.Size([10, 176, 64])\n",
      "torch.Size([10, 176, 176]) torch.Size([10, 176, 64])\n",
      "torch.Size([10, 176, 176]) torch.Size([10, 176, 64])\n",
      "{'epoch': 14, 'iter': 15, 'loss:': 1.1098555326461792}\n",
      "torch.Size([10, 53, 53]) torch.Size([10, 53, 64])\n",
      "torch.Size([10, 53, 53]) torch.Size([10, 53, 64])\n",
      "torch.Size([10, 53, 53]) torch.Size([10, 53, 64])\n",
      "torch.Size([10, 53, 53]) torch.Size([10, 53, 64])\n",
      "torch.Size([10, 53, 53]) torch.Size([10, 53, 64])\n",
      "torch.Size([10, 53, 53]) torch.Size([10, 53, 64])\n",
      "torch.Size([10, 60, 60]) torch.Size([10, 60, 64])\n",
      "torch.Size([10, 60, 60]) torch.Size([10, 60, 64])\n",
      "torch.Size([10, 60, 60]) torch.Size([10, 60, 64])\n",
      "torch.Size([10, 60, 60]) torch.Size([10, 60, 64])\n",
      "torch.Size([10, 60, 60]) torch.Size([10, 60, 64])\n",
      "torch.Size([10, 60, 60]) torch.Size([10, 60, 64])\n",
      "torch.Size([10, 11, 11]) torch.Size([10, 11, 64])\n",
      "torch.Size([10, 11, 11]) torch.Size([10, 11, 64])\n",
      "torch.Size([10, 11, 11]) torch.Size([10, 11, 64])\n",
      "torch.Size([10, 11, 11]) torch.Size([10, 11, 64])\n",
      "torch.Size([10, 11, 11]) torch.Size([10, 11, 64])\n",
      "torch.Size([10, 11, 11]) torch.Size([10, 11, 64])\n"
     ]
    },
    {
     "name": "stderr",
     "output_type": "stream",
     "text": [
      "EP_train:14: 100%|| 21/21 [00:00<00:00, 111.49it/s]\n"
     ]
    },
    {
     "name": "stdout",
     "output_type": "stream",
     "text": [
      "torch.Size([10, 178, 178]) torch.Size([10, 178, 64])\n",
      "torch.Size([10, 178, 178]) torch.Size([10, 178, 64])\n",
      "torch.Size([10, 178, 178]) torch.Size([10, 178, 64])\n",
      "torch.Size([10, 178, 178]) torch.Size([10, 178, 64])\n",
      "torch.Size([10, 178, 178]) torch.Size([10, 178, 64])\n",
      "torch.Size([10, 178, 178]) torch.Size([10, 178, 64])\n",
      "torch.Size([1, 5, 5]) torch.Size([10, 5, 64])\n",
      "torch.Size([1, 5, 5]) torch.Size([10, 5, 64])\n",
      "torch.Size([1, 5, 5]) torch.Size([10, 5, 64])\n",
      "torch.Size([1, 4, 4]) torch.Size([10, 4, 64])\n",
      "torch.Size([1, 4, 4]) torch.Size([10, 4, 64])\n",
      "torch.Size([1, 4, 4]) torch.Size([10, 4, 64])\n",
      "{'epoch': 14, 'iter': 20, 'loss:': 3.8632545471191406}\n",
      "EP:14 Model Saved on: output/parameter.model.ep14\n"
     ]
    },
    {
     "name": "stderr",
     "output_type": "stream",
     "text": [
      "EP_train:15:   0%|| 0/21 [00:00<?, ?it/s]"
     ]
    },
    {
     "name": "stdout",
     "output_type": "stream",
     "text": [
      "torch.Size([10, 33, 33]) torch.Size([10, 33, 64])\n",
      "torch.Size([10, 33, 33]) torch.Size([10, 33, 64])\n",
      "torch.Size([10, 33, 33]) torch.Size([10, 33, 64])\n",
      "torch.Size([10, 33, 33]) torch.Size([10, 33, 64])\n",
      "torch.Size([10, 33, 33]) torch.Size([10, 33, 64])\n",
      "torch.Size([10, 33, 33]) torch.Size([10, 33, 64])\n",
      "{'epoch': 15, 'iter': 0, 'loss:': 0.5342513918876648}\n",
      "torch.Size([10, 67, 67]) torch.Size([10, 67, 64])\n",
      "torch.Size([10, 67, 67]) torch.Size([10, 67, 64])\n",
      "torch.Size([10, 67, 67]) torch.Size([10, 67, 64])\n",
      "torch.Size([10, 176, 176]) torch.Size([10, 176, 64])\n",
      "torch.Size([10, 176, 176]) torch.Size([10, 176, 64])\n",
      "torch.Size([10, 176, 176]) torch.Size([10, 176, 64])\n",
      "torch.Size([10, 54, 54]) torch.Size([10, 54, 64])\n",
      "torch.Size([10, 54, 54]) torch.Size([10, 54, 64])\n",
      "torch.Size([10, 54, 54]) torch.Size([10, 54, 64])\n",
      "torch.Size([10, 54, 54]) torch.Size([10, 54, 64])\n",
      "torch.Size([10, 54, 54]) torch.Size([10, 54, 64])\n",
      "torch.Size([10, 54, 54]) torch.Size([10, 54, 64])\n",
      "torch.Size([10, 32, 32]) torch.Size([10, 32, 64])\n",
      "torch.Size([10, 32, 32]) torch.Size([10, 32, 64])\n",
      "torch.Size([10, 32, 32]) torch.Size([10, 32, 64])\n",
      "torch.Size([10, 69, 69]) torch.Size([10, 69, 64])\n",
      "torch.Size([10, 69, 69]) torch.Size([10, 69, 64])\n",
      "torch.Size([10, 69, 69]) torch.Size([10, 69, 64])\n"
     ]
    },
    {
     "name": "stderr",
     "output_type": "stream",
     "text": [
      "EP_train:15:   0%|| 0/21 [00:00<?, ?it/s]"
     ]
    },
    {
     "name": "stdout",
     "output_type": "stream",
     "text": [
      "torch.Size([10, 196, 196]) torch.Size([10, 196, 64])\n",
      "torch.Size([10, 196, 196]) torch.Size([10, 196, 64])\n",
      "torch.Size([10, 196, 196]) torch.Size([10, 196, 64])\n",
      "torch.Size([10, 196, 196]) torch.Size([10, 196, 64])\n",
      "torch.Size([10, 196, 196]) torch.Size([10, 196, 64])\n",
      "torch.Size([10, 196, 196]) torch.Size([10, 196, 64])\n",
      "torch.Size([10, 20, 20]) torch.Size([10, 20, 64])\n",
      "torch.Size([10, 20, 20]) torch.Size([10, 20, 64])\n",
      "torch.Size([10, 20, 20]) torch.Size([10, 20, 64])\n",
      "torch.Size([10, 20, 20]) torch.Size([10, 20, 64])\n",
      "torch.Size([10, 20, 20]) torch.Size([10, 20, 64])\n",
      "torch.Size([10, 20, 20]) torch.Size([10, 20, 64])\n",
      "{'epoch': 15, 'iter': 5, 'loss:': 0.9926273226737976}\n",
      "torch.Size([10, 479, 479]) torch.Size([10, 479, 64])\n",
      "torch.Size([10, 479, 479]) torch.Size([10, 479, 64])\n",
      "torch.Size([10, 479, 479]) torch.Size([10, 479, 64])\n",
      "torch.Size([10, 479, 479]) torch.Size([10, 479, 64])\n",
      "torch.Size([10, 479, 479]) torch.Size([10, 479, 64])\n",
      "torch.Size([10, 479, 479]) torch.Size([10, 479, 64])\n",
      "torch.Size([10, 162, 162]) torch.Size([10, 162, 64])\n",
      "torch.Size([10, 162, 162]) torch.Size([10, 162, 64])\n",
      "torch.Size([10, 162, 162]) torch.Size([10, 162, 64])\n",
      "torch.Size([10, 162, 162]) torch.Size([10, 162, 64])\n",
      "torch.Size([10, 162, 162]) torch.Size([10, 162, 64])\n",
      "torch.Size([10, 162, 162]) torch.Size([10, 162, 64])\n"
     ]
    },
    {
     "name": "stderr",
     "output_type": "stream",
     "text": [
      "EP_train:15:  48%|| 10/21 [00:00<00:00, 95.83it/s]"
     ]
    },
    {
     "name": "stdout",
     "output_type": "stream",
     "text": [
      "torch.Size([10, 113, 113]) torch.Size([10, 113, 64])\n",
      "torch.Size([10, 113, 113]) torch.Size([10, 113, 64])\n",
      "torch.Size([10, 113, 113]) torch.Size([10, 113, 64])\n",
      "torch.Size([10, 113, 113]) torch.Size([10, 113, 64])\n",
      "torch.Size([10, 113, 113]) torch.Size([10, 113, 64])\n",
      "torch.Size([10, 113, 113]) torch.Size([10, 113, 64])\n",
      "torch.Size([10, 43, 43]) torch.Size([10, 43, 64])\n",
      "torch.Size([10, 43, 43]) torch.Size([10, 43, 64])\n",
      "torch.Size([10, 43, 43]) torch.Size([10, 43, 64])\n",
      "torch.Size([10, 43, 43]) torch.Size([10, 43, 64])\n",
      "torch.Size([10, 43, 43]) torch.Size([10, 43, 64])\n",
      "torch.Size([10, 43, 43]) torch.Size([10, 43, 64])\n",
      "torch.Size([10, 67, 67]) torch.Size([10, 67, 64])\n",
      "torch.Size([10, 67, 67]) torch.Size([10, 67, 64])\n",
      "torch.Size([10, 67, 67]) torch.Size([10, 67, 64])\n",
      "torch.Size([10, 67, 67]) torch.Size([10, 67, 64])\n",
      "torch.Size([10, 67, 67]) torch.Size([10, 67, 64])\n",
      "torch.Size([10, 67, 67]) torch.Size([10, 67, 64])\n"
     ]
    },
    {
     "name": "stderr",
     "output_type": "stream",
     "text": [
      "EP_train:15:  48%|| 10/21 [00:00<00:00, 95.83it/s]"
     ]
    },
    {
     "name": "stdout",
     "output_type": "stream",
     "text": [
      "{'epoch': 15, 'iter': 10, 'loss:': 0.20686165988445282}\n",
      "torch.Size([10, 15, 15]) torch.Size([10, 15, 64])\n",
      "torch.Size([10, 15, 15]) torch.Size([10, 15, 64])\n",
      "torch.Size([10, 15, 15]) torch.Size([10, 15, 64])\n",
      "torch.Size([10, 176, 176]) torch.Size([10, 176, 64])\n",
      "torch.Size([10, 176, 176]) torch.Size([10, 176, 64])\n",
      "torch.Size([10, 176, 176]) torch.Size([10, 176, 64])\n"
     ]
    },
    {
     "name": "stderr",
     "output_type": "stream",
     "text": [
      "EP_train:15:  48%|| 10/21 [00:00<00:00, 95.83it/s]"
     ]
    },
    {
     "name": "stdout",
     "output_type": "stream",
     "text": [
      "torch.Size([10, 232, 232]) torch.Size([10, 232, 64])\n",
      "torch.Size([10, 232, 232]) torch.Size([10, 232, 64])\n",
      "torch.Size([10, 232, 232]) torch.Size([10, 232, 64])\n",
      "torch.Size([10, 232, 232]) torch.Size([10, 232, 64])\n",
      "torch.Size([10, 232, 232]) torch.Size([10, 232, 64])\n",
      "torch.Size([10, 232, 232]) torch.Size([10, 232, 64])\n",
      "torch.Size([10, 78, 78]) torch.Size([10, 78, 64])\n",
      "torch.Size([10, 78, 78]) torch.Size([10, 78, 64])\n",
      "torch.Size([10, 78, 78]) torch.Size([10, 78, 64])\n",
      "torch.Size([10, 78, 78]) torch.Size([10, 78, 64])\n",
      "torch.Size([10, 78, 78]) torch.Size([10, 78, 64])\n",
      "torch.Size([10, 78, 78]) torch.Size([10, 78, 64])\n",
      "torch.Size([10, 54, 54]) torch.Size([10, 54, 64])\n",
      "torch.Size([10, 54, 54]) torch.Size([10, 54, 64])\n",
      "torch.Size([10, 54, 54]) torch.Size([10, 54, 64])\n",
      "torch.Size([10, 54, 54]) torch.Size([10, 54, 64])\n",
      "torch.Size([10, 54, 54]) torch.Size([10, 54, 64])\n",
      "torch.Size([10, 54, 54]) torch.Size([10, 54, 64])\n",
      "torch.Size([10, 31, 31]) torch.Size([10, 31, 64])\n",
      "torch.Size([10, 31, 31]) torch.Size([10, 31, 64])\n",
      "torch.Size([10, 31, 31]) torch.Size([10, 31, 64])\n",
      "torch.Size([10, 176, 176]) torch.Size([10, 176, 64])\n",
      "torch.Size([10, 176, 176]) torch.Size([10, 176, 64])\n",
      "torch.Size([10, 176, 176]) torch.Size([10, 176, 64])\n",
      "{'epoch': 15, 'iter': 15, 'loss:': 1.0712987184524536}\n",
      "torch.Size([10, 53, 53]) torch.Size([10, 53, 64])\n",
      "torch.Size([10, 53, 53]) torch.Size([10, 53, 64])\n",
      "torch.Size([10, 53, 53]) torch.Size([10, 53, 64])\n",
      "torch.Size([10, 53, 53]) torch.Size([10, 53, 64])\n",
      "torch.Size([10, 53, 53]) torch.Size([10, 53, 64])\n",
      "torch.Size([10, 53, 53]) torch.Size([10, 53, 64])\n",
      "torch.Size([10, 60, 60]) torch.Size([10, 60, 64])\n",
      "torch.Size([10, 60, 60]) torch.Size([10, 60, 64])\n",
      "torch.Size([10, 60, 60]) torch.Size([10, 60, 64])\n",
      "torch.Size([10, 60, 60]) torch.Size([10, 60, 64])\n",
      "torch.Size([10, 60, 60]) torch.Size([10, 60, 64])\n",
      "torch.Size([10, 60, 60]) torch.Size([10, 60, 64])\n",
      "torch.Size([10, 11, 11]) torch.Size([10, 11, 64])\n",
      "torch.Size([10, 11, 11]) torch.Size([10, 11, 64])\n",
      "torch.Size([10, 11, 11]) torch.Size([10, 11, 64])\n",
      "torch.Size([10, 11, 11]) torch.Size([10, 11, 64])\n",
      "torch.Size([10, 11, 11]) torch.Size([10, 11, 64])\n",
      "torch.Size([10, 11, 11]) torch.Size([10, 11, 64])\n",
      "torch.Size([10, 178, 178]) torch.Size([10, 178, 64])\n",
      "torch.Size([10, 178, 178]) torch.Size([10, 178, 64])\n",
      "torch.Size([10, 178, 178]) torch.Size([10, 178, 64])\n",
      "torch.Size([10, 178, 178]) torch.Size([10, 178, 64])\n",
      "torch.Size([10, 178, 178]) torch.Size([10, 178, 64])\n",
      "torch.Size([10, 178, 178]) torch.Size([10, 178, 64])\n",
      "torch.Size([1, 5, 5]) torch.Size([10, 5, 64])\n",
      "torch.Size([1, 5, 5]) torch.Size([10, 5, 64])\n",
      "torch.Size([1, 5, 5]) torch.Size([10, 5, 64])\n",
      "torch.Size([1, 4, 4]) torch.Size([10, 4, 64])\n",
      "torch.Size([1, 4, 4]) torch.Size([10, 4, 64])\n",
      "torch.Size([1, 4, 4]) torch.Size([10, 4, 64])\n"
     ]
    },
    {
     "name": "stderr",
     "output_type": "stream",
     "text": [
      "EP_train:15: 100%|| 21/21 [00:00<00:00, 101.44it/s]\n"
     ]
    },
    {
     "name": "stdout",
     "output_type": "stream",
     "text": [
      "{'epoch': 15, 'iter': 20, 'loss:': 3.854022979736328}\n",
      "EP:15 Model Saved on: output/parameter.model.ep15\n"
     ]
    },
    {
     "name": "stderr",
     "output_type": "stream",
     "text": [
      "EP_train:16:   0%|| 0/21 [00:00<?, ?it/s]"
     ]
    },
    {
     "name": "stdout",
     "output_type": "stream",
     "text": [
      "torch.Size([10, 33, 33]) torch.Size([10, 33, 64])\n",
      "torch.Size([10, 33, 33]) torch.Size([10, 33, 64])\n",
      "torch.Size([10, 33, 33]) torch.Size([10, 33, 64])\n",
      "torch.Size([10, 33, 33]) torch.Size([10, 33, 64])\n",
      "torch.Size([10, 33, 33]) torch.Size([10, 33, 64])\n",
      "torch.Size([10, 33, 33]) torch.Size([10, 33, 64])\n",
      "{'epoch': 16, 'iter': 0, 'loss:': 0.5971388220787048}\n",
      "torch.Size([10, 67, 67]) torch.Size([10, 67, 64])\n",
      "torch.Size([10, 67, 67]) torch.Size([10, 67, 64])\n",
      "torch.Size([10, 67, 67]) torch.Size([10, 67, 64])\n",
      "torch.Size([10, 176, 176]) torch.Size([10, 176, 64])\n",
      "torch.Size([10, 176, 176]) torch.Size([10, 176, 64])\n",
      "torch.Size([10, 176, 176]) torch.Size([10, 176, 64])\n",
      "torch.Size([10, 54, 54]) torch.Size([10, 54, 64])\n",
      "torch.Size([10, 54, 54]) torch.Size([10, 54, 64])\n",
      "torch.Size([10, 54, 54]) torch.Size([10, 54, 64])\n",
      "torch.Size([10, 54, 54]) torch.Size([10, 54, 64])\n",
      "torch.Size([10, 54, 54]) torch.Size([10, 54, 64])\n",
      "torch.Size([10, 54, 54]) torch.Size([10, 54, 64])\n",
      "torch.Size([10, 32, 32]) torch.Size([10, 32, 64])\n",
      "torch.Size([10, 32, 32]) torch.Size([10, 32, 64])\n",
      "torch.Size([10, 32, 32]) torch.Size([10, 32, 64])\n",
      "torch.Size([10, 69, 69]) torch.Size([10, 69, 64])\n",
      "torch.Size([10, 69, 69]) torch.Size([10, 69, 64])\n",
      "torch.Size([10, 69, 69]) torch.Size([10, 69, 64])\n",
      "torch.Size([10, 196, 196]) torch.Size([10, 196, 64])\n"
     ]
    },
    {
     "name": "stderr",
     "output_type": "stream",
     "text": [
      "EP_train:16:   0%|| 0/21 [00:00<?, ?it/s]"
     ]
    },
    {
     "name": "stdout",
     "output_type": "stream",
     "text": [
      "torch.Size([10, 196, 196]) torch.Size([10, 196, 64])\n",
      "torch.Size([10, 196, 196]) torch.Size([10, 196, 64])\n",
      "torch.Size([10, 196, 196]) torch.Size([10, 196, 64])\n",
      "torch.Size([10, 196, 196]) torch.Size([10, 196, 64])\n",
      "torch.Size([10, 196, 196]) torch.Size([10, 196, 64])\n",
      "torch.Size([10, 20, 20]) torch.Size([10, 20, 64])\n",
      "torch.Size([10, 20, 20]) torch.Size([10, 20, 64])\n",
      "torch.Size([10, 20, 20]) torch.Size([10, 20, 64])\n",
      "torch.Size([10, 20, 20]) torch.Size([10, 20, 64])\n",
      "torch.Size([10, 20, 20]) torch.Size([10, 20, 64])\n",
      "torch.Size([10, 20, 20]) torch.Size([10, 20, 64])\n",
      "{'epoch': 16, 'iter': 5, 'loss:': 1.0105584859848022}\n",
      "torch.Size([10, 479, 479]) torch.Size([10, 479, 64])\n",
      "torch.Size([10, 479, 479]) torch.Size([10, 479, 64])\n",
      "torch.Size([10, 479, 479]) torch.Size([10, 479, 64])\n",
      "torch.Size([10, 479, 479]) torch.Size([10, 479, 64])\n",
      "torch.Size([10, 479, 479]) torch.Size([10, 479, 64])\n",
      "torch.Size([10, 479, 479]) torch.Size([10, 479, 64])\n",
      "torch.Size([10, 162, 162]) torch.Size([10, 162, 64])\n",
      "torch.Size([10, 162, 162]) torch.Size([10, 162, 64])\n",
      "torch.Size([10, 162, 162]) torch.Size([10, 162, 64])\n",
      "torch.Size([10, 162, 162]) torch.Size([10, 162, 64])\n",
      "torch.Size([10, 162, 162]) torch.Size([10, 162, 64])\n",
      "torch.Size([10, 162, 162]) torch.Size([10, 162, 64])\n"
     ]
    },
    {
     "name": "stderr",
     "output_type": "stream",
     "text": [
      "EP_train:16:   0%|| 0/21 [00:00<?, ?it/s]"
     ]
    },
    {
     "name": "stdout",
     "output_type": "stream",
     "text": [
      "torch.Size([10, 113, 113]) torch.Size([10, 113, 64])\n",
      "torch.Size([10, 113, 113]) torch.Size([10, 113, 64])\n",
      "torch.Size([10, 113, 113]) torch.Size([10, 113, 64])\n",
      "torch.Size([10, 113, 113]) torch.Size([10, 113, 64])\n",
      "torch.Size([10, 113, 113]) torch.Size([10, 113, 64])\n",
      "torch.Size([10, 113, 113]) torch.Size([10, 113, 64])\n",
      "torch.Size([10, 43, 43]) torch.Size([10, 43, 64])\n",
      "torch.Size([10, 43, 43]) torch.Size([10, 43, 64])\n",
      "torch.Size([10, 43, 43]) torch.Size([10, 43, 64])\n",
      "torch.Size([10, 43, 43]) torch.Size([10, 43, 64])\n",
      "torch.Size([10, 43, 43]) torch.Size([10, 43, 64])\n",
      "torch.Size([10, 43, 43]) torch.Size([10, 43, 64])\n",
      "torch.Size([10, 67, 67]) torch.Size([10, 67, 64])\n",
      "torch.Size([10, 67, 67]) torch.Size([10, 67, 64])\n",
      "torch.Size([10, 67, 67]) torch.Size([10, 67, 64])\n",
      "torch.Size([10, 67, 67]) torch.Size([10, 67, 64])\n",
      "torch.Size([10, 67, 67]) torch.Size([10, 67, 64])\n",
      "torch.Size([10, 67, 67]) torch.Size([10, 67, 64])\n",
      "{'epoch': 16, 'iter': 10, 'loss:': 0.1560235321521759}\n",
      "torch.Size([10, 15, 15]) torch.Size([10, 15, 64])\n",
      "torch.Size([10, 15, 15]) torch.Size([10, 15, 64])\n",
      "torch.Size([10, 15, 15]) torch.Size([10, 15, 64])\n",
      "torch.Size([10, 176, 176]) torch.Size([10, 176, 64])\n",
      "torch.Size([10, 176, 176]) torch.Size([10, 176, 64])\n"
     ]
    },
    {
     "name": "stderr",
     "output_type": "stream",
     "text": [
      "EP_train:16:  57%|| 12/21 [00:00<00:00, 111.78it/s]"
     ]
    },
    {
     "name": "stdout",
     "output_type": "stream",
     "text": [
      "torch.Size([10, 176, 176]) torch.Size([10, 176, 64])\n",
      "torch.Size([10, 232, 232]) torch.Size([10, 232, 64])\n",
      "torch.Size([10, 232, 232]) torch.Size([10, 232, 64])\n",
      "torch.Size([10, 232, 232]) torch.Size([10, 232, 64])\n",
      "torch.Size([10, 232, 232]) torch.Size([10, 232, 64])\n",
      "torch.Size([10, 232, 232]) torch.Size([10, 232, 64])\n",
      "torch.Size([10, 232, 232]) torch.Size([10, 232, 64])\n",
      "torch.Size([10, 78, 78]) torch.Size([10, 78, 64])\n",
      "torch.Size([10, 78, 78]) torch.Size([10, 78, 64])\n",
      "torch.Size([10, 78, 78]) torch.Size([10, 78, 64])\n",
      "torch.Size([10, 78, 78]) torch.Size([10, 78, 64])\n",
      "torch.Size([10, 78, 78]) torch.Size([10, 78, 64])\n",
      "torch.Size([10, 78, 78]) torch.Size([10, 78, 64])\n"
     ]
    },
    {
     "name": "stderr",
     "output_type": "stream",
     "text": [
      "EP_train:16:  57%|| 12/21 [00:00<00:00, 111.78it/s]"
     ]
    },
    {
     "name": "stdout",
     "output_type": "stream",
     "text": [
      "torch.Size([10, 54, 54]) torch.Size([10, 54, 64])\n",
      "torch.Size([10, 54, 54]) torch.Size([10, 54, 64])\n",
      "torch.Size([10, 54, 54]) torch.Size([10, 54, 64])\n",
      "torch.Size([10, 54, 54]) torch.Size([10, 54, 64])\n",
      "torch.Size([10, 54, 54]) torch.Size([10, 54, 64])\n",
      "torch.Size([10, 54, 54]) torch.Size([10, 54, 64])\n",
      "torch.Size([10, 31, 31]) torch.Size([10, 31, 64])\n",
      "torch.Size([10, 31, 31]) torch.Size([10, 31, 64])\n",
      "torch.Size([10, 31, 31]) torch.Size([10, 31, 64])\n",
      "torch.Size([10, 176, 176]) torch.Size([10, 176, 64])\n",
      "torch.Size([10, 176, 176]) torch.Size([10, 176, 64])\n",
      "torch.Size([10, 176, 176]) torch.Size([10, 176, 64])\n",
      "{'epoch': 16, 'iter': 15, 'loss:': 1.0481064319610596}\n",
      "torch.Size([10, 53, 53]) torch.Size([10, 53, 64])\n",
      "torch.Size([10, 53, 53]) torch.Size([10, 53, 64])\n",
      "torch.Size([10, 53, 53]) torch.Size([10, 53, 64])\n",
      "torch.Size([10, 53, 53]) torch.Size([10, 53, 64])\n",
      "torch.Size([10, 53, 53]) torch.Size([10, 53, 64])\n",
      "torch.Size([10, 53, 53]) torch.Size([10, 53, 64])\n",
      "torch.Size([10, 60, 60]) torch.Size([10, 60, 64])\n",
      "torch.Size([10, 60, 60]) torch.Size([10, 60, 64])\n",
      "torch.Size([10, 60, 60]) torch.Size([10, 60, 64])\n",
      "torch.Size([10, 60, 60]) torch.Size([10, 60, 64])\n",
      "torch.Size([10, 60, 60]) torch.Size([10, 60, 64])\n",
      "torch.Size([10, 60, 60]) torch.Size([10, 60, 64])\n",
      "torch.Size([10, 11, 11]) torch.Size([10, 11, 64])\n",
      "torch.Size([10, 11, 11]) torch.Size([10, 11, 64])\n",
      "torch.Size([10, 11, 11]) torch.Size([10, 11, 64])\n",
      "torch.Size([10, 11, 11]) torch.Size([10, 11, 64])\n",
      "torch.Size([10, 11, 11]) torch.Size([10, 11, 64])\n",
      "torch.Size([10, 11, 11]) torch.Size([10, 11, 64])\n"
     ]
    },
    {
     "name": "stderr",
     "output_type": "stream",
     "text": [
      "EP_train:16: 100%|| 21/21 [00:00<00:00, 113.97it/s]\n"
     ]
    },
    {
     "name": "stdout",
     "output_type": "stream",
     "text": [
      "torch.Size([10, 178, 178]) torch.Size([10, 178, 64])\n",
      "torch.Size([10, 178, 178]) torch.Size([10, 178, 64])\n",
      "torch.Size([10, 178, 178]) torch.Size([10, 178, 64])\n",
      "torch.Size([10, 178, 178]) torch.Size([10, 178, 64])\n",
      "torch.Size([10, 178, 178]) torch.Size([10, 178, 64])\n",
      "torch.Size([10, 178, 178]) torch.Size([10, 178, 64])\n",
      "torch.Size([1, 5, 5]) torch.Size([10, 5, 64])\n",
      "torch.Size([1, 5, 5]) torch.Size([10, 5, 64])\n",
      "torch.Size([1, 5, 5]) torch.Size([10, 5, 64])\n",
      "torch.Size([1, 4, 4]) torch.Size([10, 4, 64])\n",
      "torch.Size([1, 4, 4]) torch.Size([10, 4, 64])\n",
      "torch.Size([1, 4, 4]) torch.Size([10, 4, 64])\n",
      "{'epoch': 16, 'iter': 20, 'loss:': 3.8445160388946533}\n",
      "EP:16 Model Saved on: output/parameter.model.ep16\n"
     ]
    },
    {
     "name": "stderr",
     "output_type": "stream",
     "text": [
      "EP_train:17:   0%|| 0/21 [00:00<?, ?it/s]"
     ]
    },
    {
     "name": "stdout",
     "output_type": "stream",
     "text": [
      "torch.Size([10, 33, 33]) torch.Size([10, 33, 64])\n",
      "torch.Size([10, 33, 33]) torch.Size([10, 33, 64])\n",
      "torch.Size([10, 33, 33]) torch.Size([10, 33, 64])\n",
      "torch.Size([10, 33, 33]) torch.Size([10, 33, 64])\n",
      "torch.Size([10, 33, 33]) torch.Size([10, 33, 64])\n",
      "torch.Size([10, 33, 33]) torch.Size([10, 33, 64])\n",
      "{'epoch': 17, 'iter': 0, 'loss:': 0.7038289308547974}\n",
      "torch.Size([10, 67, 67]) torch.Size([10, 67, 64])\n",
      "torch.Size([10, 67, 67]) torch.Size([10, 67, 64])\n",
      "torch.Size([10, 67, 67]) torch.Size([10, 67, 64])\n",
      "torch.Size([10, 176, 176]) torch.Size([10, 176, 64])\n",
      "torch.Size([10, 176, 176]) torch.Size([10, 176, 64])\n",
      "torch.Size([10, 176, 176]) torch.Size([10, 176, 64])\n",
      "torch.Size([10, 54, 54]) torch.Size([10, 54, 64])\n",
      "torch.Size([10, 54, 54]) torch.Size([10, 54, 64])\n",
      "torch.Size([10, 54, 54]) torch.Size([10, 54, 64])\n",
      "torch.Size([10, 54, 54]) torch.Size([10, 54, 64])\n",
      "torch.Size([10, 54, 54]) torch.Size([10, 54, 64])\n",
      "torch.Size([10, 54, 54]) torch.Size([10, 54, 64])\n",
      "torch.Size([10, 32, 32]) torch.Size([10, 32, 64])\n",
      "torch.Size([10, 32, 32]) torch.Size([10, 32, 64])\n",
      "torch.Size([10, 32, 32]) torch.Size([10, 32, 64])\n",
      "torch.Size([10, 69, 69]) torch.Size([10, 69, 64])\n",
      "torch.Size([10, 69, 69]) torch.Size([10, 69, 64])\n",
      "torch.Size([10, 69, 69]) torch.Size([10, 69, 64])\n",
      "torch.Size([10, 196, 196]) torch.Size([10, 196, 64])\n",
      "torch.Size([10, 196, 196]) torch.Size([10, 196, 64])\n",
      "torch.Size([10, 196, 196]) torch.Size([10, 196, 64])\n",
      "torch.Size([10, 196, 196]) torch.Size([10, 196, 64])\n",
      "torch.Size([10, 196, 196]) torch.Size([10, 196, 64])\n",
      "torch.Size([10, 196, 196]) torch.Size([10, 196, 64])\n"
     ]
    },
    {
     "name": "stderr",
     "output_type": "stream",
     "text": [
      "EP_train:17:   0%|| 0/21 [00:00<?, ?it/s]"
     ]
    },
    {
     "name": "stdout",
     "output_type": "stream",
     "text": [
      "torch.Size([10, 20, 20]) torch.Size([10, 20, 64])\n",
      "torch.Size([10, 20, 20]) torch.Size([10, 20, 64])\n",
      "torch.Size([10, 20, 20]) torch.Size([10, 20, 64])\n",
      "torch.Size([10, 20, 20]) torch.Size([10, 20, 64])\n",
      "torch.Size([10, 20, 20]) torch.Size([10, 20, 64])\n",
      "torch.Size([10, 20, 20]) torch.Size([10, 20, 64])\n",
      "{'epoch': 17, 'iter': 5, 'loss:': 1.0259250402450562}\n",
      "torch.Size([10, 479, 479]) torch.Size([10, 479, 64])\n",
      "torch.Size([10, 479, 479]) torch.Size([10, 479, 64])\n",
      "torch.Size([10, 479, 479]) torch.Size([10, 479, 64])\n",
      "torch.Size([10, 479, 479]) torch.Size([10, 479, 64])\n",
      "torch.Size([10, 479, 479]) torch.Size([10, 479, 64])\n",
      "torch.Size([10, 479, 479]) torch.Size([10, 479, 64])\n",
      "torch.Size([10, 162, 162]) torch.Size([10, 162, 64])\n",
      "torch.Size([10, 162, 162]) torch.Size([10, 162, 64])\n",
      "torch.Size([10, 162, 162]) torch.Size([10, 162, 64])\n",
      "torch.Size([10, 162, 162]) torch.Size([10, 162, 64])\n",
      "torch.Size([10, 162, 162]) torch.Size([10, 162, 64])\n",
      "torch.Size([10, 162, 162]) torch.Size([10, 162, 64])\n",
      "torch.Size([10, 113, 113]) torch.Size([10, 113, 64])\n",
      "torch.Size([10, 113, 113]) torch.Size([10, 113, 64])\n",
      "torch.Size([10, 113, 113]) torch.Size([10, 113, 64])\n"
     ]
    },
    {
     "name": "stderr",
     "output_type": "stream",
     "text": [
      "EP_train:17:  48%|| 10/21 [00:00<00:00, 92.22it/s]"
     ]
    },
    {
     "name": "stdout",
     "output_type": "stream",
     "text": [
      "torch.Size([10, 113, 113]) torch.Size([10, 113, 64])\n",
      "torch.Size([10, 113, 113]) torch.Size([10, 113, 64])\n",
      "torch.Size([10, 113, 113]) torch.Size([10, 113, 64])\n",
      "torch.Size([10, 43, 43]) torch.Size([10, 43, 64])\n",
      "torch.Size([10, 43, 43]) torch.Size([10, 43, 64])\n",
      "torch.Size([10, 43, 43]) torch.Size([10, 43, 64])\n",
      "torch.Size([10, 43, 43]) torch.Size([10, 43, 64])\n",
      "torch.Size([10, 43, 43]) torch.Size([10, 43, 64])\n",
      "torch.Size([10, 43, 43]) torch.Size([10, 43, 64])\n",
      "torch.Size([10, 67, 67]) torch.Size([10, 67, 64])\n",
      "torch.Size([10, 67, 67]) torch.Size([10, 67, 64])\n",
      "torch.Size([10, 67, 67]) torch.Size([10, 67, 64])\n",
      "torch.Size([10, 67, 67]) torch.Size([10, 67, 64])\n",
      "torch.Size([10, 67, 67]) torch.Size([10, 67, 64])\n",
      "torch.Size([10, 67, 67]) torch.Size([10, 67, 64])\n"
     ]
    },
    {
     "name": "stderr",
     "output_type": "stream",
     "text": [
      "EP_train:17:  48%|| 10/21 [00:00<00:00, 92.22it/s]"
     ]
    },
    {
     "name": "stdout",
     "output_type": "stream",
     "text": [
      "{'epoch': 17, 'iter': 10, 'loss:': 0.1034102812409401}\n",
      "torch.Size([10, 15, 15]) torch.Size([10, 15, 64])\n",
      "torch.Size([10, 15, 15]) torch.Size([10, 15, 64])\n",
      "torch.Size([10, 15, 15]) torch.Size([10, 15, 64])\n",
      "torch.Size([10, 176, 176]) torch.Size([10, 176, 64])\n",
      "torch.Size([10, 176, 176]) torch.Size([10, 176, 64])\n",
      "torch.Size([10, 176, 176]) torch.Size([10, 176, 64])\n",
      "torch.Size([10, 232, 232]) torch.Size([10, 232, 64])\n",
      "torch.Size([10, 232, 232]) torch.Size([10, 232, 64])\n",
      "torch.Size([10, 232, 232]) torch.Size([10, 232, 64])\n",
      "torch.Size([10, 232, 232]) torch.Size([10, 232, 64])\n",
      "torch.Size([10, 232, 232]) torch.Size([10, 232, 64])\n",
      "torch.Size([10, 232, 232]) torch.Size([10, 232, 64])\n"
     ]
    },
    {
     "name": "stderr",
     "output_type": "stream",
     "text": [
      "EP_train:17:  48%|| 10/21 [00:00<00:00, 92.22it/s]"
     ]
    },
    {
     "name": "stdout",
     "output_type": "stream",
     "text": [
      "torch.Size([10, 78, 78]) torch.Size([10, 78, 64])\n",
      "torch.Size([10, 78, 78]) torch.Size([10, 78, 64])\n",
      "torch.Size([10, 78, 78]) torch.Size([10, 78, 64])\n",
      "torch.Size([10, 78, 78]) torch.Size([10, 78, 64])\n",
      "torch.Size([10, 78, 78]) torch.Size([10, 78, 64])\n",
      "torch.Size([10, 78, 78]) torch.Size([10, 78, 64])\n",
      "torch.Size([10, 54, 54]) torch.Size([10, 54, 64])\n",
      "torch.Size([10, 54, 54]) torch.Size([10, 54, 64])\n",
      "torch.Size([10, 54, 54]) torch.Size([10, 54, 64])\n",
      "torch.Size([10, 54, 54]) torch.Size([10, 54, 64])\n",
      "torch.Size([10, 54, 54]) torch.Size([10, 54, 64])\n",
      "torch.Size([10, 54, 54]) torch.Size([10, 54, 64])\n",
      "torch.Size([10, 31, 31]) torch.Size([10, 31, 64])\n",
      "torch.Size([10, 31, 31]) torch.Size([10, 31, 64])\n",
      "torch.Size([10, 31, 31]) torch.Size([10, 31, 64])\n",
      "torch.Size([10, 176, 176]) torch.Size([10, 176, 64])\n",
      "torch.Size([10, 176, 176]) torch.Size([10, 176, 64])\n",
      "torch.Size([10, 176, 176]) torch.Size([10, 176, 64])\n",
      "{'epoch': 17, 'iter': 15, 'loss:': 1.038936972618103}\n",
      "torch.Size([10, 53, 53]) torch.Size([10, 53, 64])\n",
      "torch.Size([10, 53, 53]) torch.Size([10, 53, 64])\n",
      "torch.Size([10, 53, 53]) torch.Size([10, 53, 64])\n",
      "torch.Size([10, 53, 53]) torch.Size([10, 53, 64])\n",
      "torch.Size([10, 53, 53]) torch.Size([10, 53, 64])\n",
      "torch.Size([10, 53, 53]) torch.Size([10, 53, 64])\n",
      "torch.Size([10, 60, 60]) torch.Size([10, 60, 64])\n",
      "torch.Size([10, 60, 60]) torch.Size([10, 60, 64])\n",
      "torch.Size([10, 60, 60]) torch.Size([10, 60, 64])\n",
      "torch.Size([10, 60, 60]) torch.Size([10, 60, 64])\n",
      "torch.Size([10, 60, 60]) torch.Size([10, 60, 64])\n",
      "torch.Size([10, 60, 60]) torch.Size([10, 60, 64])\n",
      "torch.Size([10, 11, 11]) torch.Size([10, 11, 64])\n",
      "torch.Size([10, 11, 11]) torch.Size([10, 11, 64])\n",
      "torch.Size([10, 11, 11]) torch.Size([10, 11, 64])\n",
      "torch.Size([10, 11, 11]) torch.Size([10, 11, 64])\n",
      "torch.Size([10, 11, 11]) torch.Size([10, 11, 64])\n",
      "torch.Size([10, 11, 11]) torch.Size([10, 11, 64])\n"
     ]
    },
    {
     "name": "stderr",
     "output_type": "stream",
     "text": [
      "EP_train:17: 100%|| 21/21 [00:00<00:00, 95.43it/s]"
     ]
    },
    {
     "name": "stdout",
     "output_type": "stream",
     "text": [
      "torch.Size([10, 178, 178]) torch.Size([10, 178, 64])\n",
      "torch.Size([10, 178, 178]) torch.Size([10, 178, 64])\n",
      "torch.Size([10, 178, 178]) torch.Size([10, 178, 64])\n",
      "torch.Size([10, 178, 178]) torch.Size([10, 178, 64])\n",
      "torch.Size([10, 178, 178]) torch.Size([10, 178, 64])\n",
      "torch.Size([10, 178, 178]) torch.Size([10, 178, 64])\n",
      "torch.Size([1, 5, 5]) torch.Size([10, 5, 64])\n",
      "torch.Size([1, 5, 5]) torch.Size([10, 5, 64])\n",
      "torch.Size([1, 5, 5]) torch.Size([10, 5, 64])\n",
      "torch.Size([1, 4, 4]) torch.Size([10, 4, 64])\n",
      "torch.Size([1, 4, 4]) torch.Size([10, 4, 64])\n",
      "torch.Size([1, 4, 4]) torch.Size([10, 4, 64])\n",
      "{'epoch': 17, 'iter': 20, 'loss:': 3.8352653980255127}\n"
     ]
    },
    {
     "name": "stderr",
     "output_type": "stream",
     "text": [
      "\n"
     ]
    },
    {
     "name": "stdout",
     "output_type": "stream",
     "text": [
      "EP:17 Model Saved on: output/parameter.model.ep17\n"
     ]
    },
    {
     "name": "stderr",
     "output_type": "stream",
     "text": [
      "EP_train:18:   0%|| 0/21 [00:00<?, ?it/s]"
     ]
    },
    {
     "name": "stdout",
     "output_type": "stream",
     "text": [
      "torch.Size([10, 33, 33]) torch.Size([10, 33, 64])\n",
      "torch.Size([10, 33, 33]) torch.Size([10, 33, 64])\n",
      "torch.Size([10, 33, 33]) torch.Size([10, 33, 64])\n",
      "torch.Size([10, 33, 33]) torch.Size([10, 33, 64])\n",
      "torch.Size([10, 33, 33]) torch.Size([10, 33, 64])\n",
      "torch.Size([10, 33, 33]) torch.Size([10, 33, 64])\n",
      "{'epoch': 18, 'iter': 0, 'loss:': 0.8244218230247498}\n",
      "torch.Size([10, 67, 67]) torch.Size([10, 67, 64])\n",
      "torch.Size([10, 67, 67]) torch.Size([10, 67, 64])\n",
      "torch.Size([10, 67, 67]) torch.Size([10, 67, 64])\n",
      "torch.Size([10, 176, 176]) torch.Size([10, 176, 64])\n",
      "torch.Size([10, 176, 176]) torch.Size([10, 176, 64])\n",
      "torch.Size([10, 176, 176]) torch.Size([10, 176, 64])\n",
      "torch.Size([10, 54, 54]) torch.Size([10, 54, 64])\n",
      "torch.Size([10, 54, 54]) torch.Size([10, 54, 64])\n",
      "torch.Size([10, 54, 54]) torch.Size([10, 54, 64])\n",
      "torch.Size([10, 54, 54]) torch.Size([10, 54, 64])\n",
      "torch.Size([10, 54, 54]) torch.Size([10, 54, 64])\n",
      "torch.Size([10, 54, 54]) torch.Size([10, 54, 64])\n",
      "torch.Size([10, 32, 32]) torch.Size([10, 32, 64])\n"
     ]
    },
    {
     "name": "stderr",
     "output_type": "stream",
     "text": [
      "EP_train:18:   0%|| 0/21 [00:00<?, ?it/s]"
     ]
    },
    {
     "name": "stdout",
     "output_type": "stream",
     "text": [
      "torch.Size([10, 32, 32]) torch.Size([10, 32, 64])\n",
      "torch.Size([10, 32, 32]) torch.Size([10, 32, 64])\n",
      "torch.Size([10, 69, 69]) torch.Size([10, 69, 64])\n",
      "torch.Size([10, 69, 69]) torch.Size([10, 69, 64])\n",
      "torch.Size([10, 69, 69]) torch.Size([10, 69, 64])\n",
      "torch.Size([10, 196, 196]) torch.Size([10, 196, 64])\n",
      "torch.Size([10, 196, 196]) torch.Size([10, 196, 64])\n",
      "torch.Size([10, 196, 196]) torch.Size([10, 196, 64])\n",
      "torch.Size([10, 196, 196]) torch.Size([10, 196, 64])\n",
      "torch.Size([10, 196, 196]) torch.Size([10, 196, 64])\n",
      "torch.Size([10, 196, 196]) torch.Size([10, 196, 64])\n",
      "torch.Size([10, 20, 20]) torch.Size([10, 20, 64])\n",
      "torch.Size([10, 20, 20]) torch.Size([10, 20, 64])\n",
      "torch.Size([10, 20, 20]) torch.Size([10, 20, 64])\n",
      "torch.Size([10, 20, 20]) torch.Size([10, 20, 64])\n",
      "torch.Size([10, 20, 20]) torch.Size([10, 20, 64])\n",
      "torch.Size([10, 20, 20]) torch.Size([10, 20, 64])\n",
      "{'epoch': 18, 'iter': 5, 'loss:': 1.031759262084961}\n",
      "torch.Size([10, 479, 479]) torch.Size([10, 479, 64])\n",
      "torch.Size([10, 479, 479]) torch.Size([10, 479, 64])\n",
      "torch.Size([10, 479, 479]) torch.Size([10, 479, 64])\n",
      "torch.Size([10, 479, 479]) torch.Size([10, 479, 64])\n",
      "torch.Size([10, 479, 479]) torch.Size([10, 479, 64])\n",
      "torch.Size([10, 479, 479]) torch.Size([10, 479, 64])\n",
      "torch.Size([10, 162, 162]) torch.Size([10, 162, 64])\n",
      "torch.Size([10, 162, 162]) torch.Size([10, 162, 64])\n",
      "torch.Size([10, 162, 162]) torch.Size([10, 162, 64])\n",
      "torch.Size([10, 162, 162]) torch.Size([10, 162, 64])\n",
      "torch.Size([10, 162, 162]) torch.Size([10, 162, 64])\n",
      "torch.Size([10, 162, 162]) torch.Size([10, 162, 64])\n",
      "torch.Size([10, 113, 113]) torch.Size([10, 113, 64])\n",
      "torch.Size([10, 113, 113]) torch.Size([10, 113, 64])\n",
      "torch.Size([10, 113, 113]) torch.Size([10, 113, 64])\n",
      "torch.Size([10, 113, 113]) torch.Size([10, 113, 64])\n",
      "torch.Size([10, 113, 113]) torch.Size([10, 113, 64])\n",
      "torch.Size([10, 113, 113]) torch.Size([10, 113, 64])\n",
      "torch.Size([10, 43, 43]) torch.Size([10, 43, 64])\n",
      "torch.Size([10, 43, 43]) torch.Size([10, 43, 64])\n",
      "torch.Size([10, 43, 43]) torch.Size([10, 43, 64])\n",
      "torch.Size([10, 43, 43]) torch.Size([10, 43, 64])\n",
      "torch.Size([10, 43, 43]) torch.Size([10, 43, 64])\n",
      "torch.Size([10, 43, 43]) torch.Size([10, 43, 64])\n"
     ]
    },
    {
     "name": "stderr",
     "output_type": "stream",
     "text": [
      "EP_train:18:  52%|| 11/21 [00:00<00:00, 103.39it/s]"
     ]
    },
    {
     "name": "stdout",
     "output_type": "stream",
     "text": [
      "torch.Size([10, 67, 67]) torch.Size([10, 67, 64])\n",
      "torch.Size([10, 67, 67]) torch.Size([10, 67, 64])\n",
      "torch.Size([10, 67, 67]) torch.Size([10, 67, 64])\n",
      "torch.Size([10, 67, 67]) torch.Size([10, 67, 64])\n",
      "torch.Size([10, 67, 67]) torch.Size([10, 67, 64])\n",
      "torch.Size([10, 67, 67]) torch.Size([10, 67, 64])\n",
      "{'epoch': 18, 'iter': 10, 'loss:': 0.06647353619337082}\n",
      "torch.Size([10, 15, 15]) torch.Size([10, 15, 64])\n",
      "torch.Size([10, 15, 15]) torch.Size([10, 15, 64])\n",
      "torch.Size([10, 15, 15]) torch.Size([10, 15, 64])\n",
      "torch.Size([10, 176, 176]) torch.Size([10, 176, 64])\n",
      "torch.Size([10, 176, 176]) torch.Size([10, 176, 64])\n",
      "torch.Size([10, 176, 176]) torch.Size([10, 176, 64])\n",
      "torch.Size([10, 232, 232]) torch.Size([10, 232, 64])\n",
      "torch.Size([10, 232, 232]) torch.Size([10, 232, 64])\n",
      "torch.Size([10, 232, 232]) torch.Size([10, 232, 64])\n",
      "torch.Size([10, 232, 232]) torch.Size([10, 232, 64])\n",
      "torch.Size([10, 232, 232]) torch.Size([10, 232, 64])\n",
      "torch.Size([10, 232, 232]) torch.Size([10, 232, 64])\n"
     ]
    },
    {
     "name": "stderr",
     "output_type": "stream",
     "text": [
      "EP_train:18:  52%|| 11/21 [00:00<00:00, 103.39it/s]"
     ]
    },
    {
     "name": "stdout",
     "output_type": "stream",
     "text": [
      "torch.Size([10, 78, 78]) torch.Size([10, 78, 64])\n",
      "torch.Size([10, 78, 78]) torch.Size([10, 78, 64])\n",
      "torch.Size([10, 78, 78]) torch.Size([10, 78, 64])\n",
      "torch.Size([10, 78, 78]) torch.Size([10, 78, 64])\n",
      "torch.Size([10, 78, 78]) torch.Size([10, 78, 64])\n",
      "torch.Size([10, 78, 78]) torch.Size([10, 78, 64])\n",
      "torch.Size([10, 54, 54]) torch.Size([10, 54, 64])\n",
      "torch.Size([10, 54, 54]) torch.Size([10, 54, 64])\n",
      "torch.Size([10, 54, 54]) torch.Size([10, 54, 64])\n",
      "torch.Size([10, 54, 54]) torch.Size([10, 54, 64])\n",
      "torch.Size([10, 54, 54]) torch.Size([10, 54, 64])\n",
      "torch.Size([10, 54, 54]) torch.Size([10, 54, 64])\n",
      "torch.Size([10, 31, 31]) torch.Size([10, 31, 64])\n",
      "torch.Size([10, 31, 31]) torch.Size([10, 31, 64])\n",
      "torch.Size([10, 31, 31]) torch.Size([10, 31, 64])\n",
      "torch.Size([10, 176, 176]) torch.Size([10, 176, 64])\n",
      "torch.Size([10, 176, 176]) torch.Size([10, 176, 64])\n",
      "torch.Size([10, 176, 176]) torch.Size([10, 176, 64])\n",
      "{'epoch': 18, 'iter': 15, 'loss:': 1.0389502048492432}\n",
      "torch.Size([10, 53, 53]) torch.Size([10, 53, 64])\n",
      "torch.Size([10, 53, 53]) torch.Size([10, 53, 64])\n",
      "torch.Size([10, 53, 53]) torch.Size([10, 53, 64])\n",
      "torch.Size([10, 53, 53]) torch.Size([10, 53, 64])\n",
      "torch.Size([10, 53, 53]) torch.Size([10, 53, 64])\n",
      "torch.Size([10, 53, 53]) torch.Size([10, 53, 64])\n",
      "torch.Size([10, 60, 60]) torch.Size([10, 60, 64])\n",
      "torch.Size([10, 60, 60]) torch.Size([10, 60, 64])\n",
      "torch.Size([10, 60, 60]) torch.Size([10, 60, 64])\n",
      "torch.Size([10, 60, 60]) torch.Size([10, 60, 64])\n",
      "torch.Size([10, 60, 60]) torch.Size([10, 60, 64])\n",
      "torch.Size([10, 60, 60]) torch.Size([10, 60, 64])\n",
      "torch.Size([10, 11, 11]) torch.Size([10, 11, 64])\n",
      "torch.Size([10, 11, 11]) torch.Size([10, 11, 64])\n",
      "torch.Size([10, 11, 11]) torch.Size([10, 11, 64])\n",
      "torch.Size([10, 11, 11]) torch.Size([10, 11, 64])\n",
      "torch.Size([10, 11, 11]) torch.Size([10, 11, 64])\n",
      "torch.Size([10, 11, 11]) torch.Size([10, 11, 64])\n",
      "torch.Size([10, 178, 178]) torch.Size([10, 178, 64])\n",
      "torch.Size([10, 178, 178]) torch.Size([10, 178, 64])\n",
      "torch.Size([10, 178, 178]) torch.Size([10, 178, 64])\n",
      "torch.Size([10, 178, 178]) torch.Size([10, 178, 64])\n",
      "torch.Size([10, 178, 178]) torch.Size([10, 178, 64])\n",
      "torch.Size([10, 178, 178]) torch.Size([10, 178, 64])\n",
      "torch.Size([1, 5, 5]) torch.Size([10, 5, 64])\n",
      "torch.Size([1, 5, 5]) torch.Size([10, 5, 64])\n",
      "torch.Size([1, 5, 5]) torch.Size([10, 5, 64])\n",
      "torch.Size([1, 4, 4]) torch.Size([10, 4, 64])\n",
      "torch.Size([1, 4, 4]) torch.Size([10, 4, 64])\n",
      "torch.Size([1, 4, 4]) torch.Size([10, 4, 64])\n"
     ]
    },
    {
     "name": "stderr",
     "output_type": "stream",
     "text": [
      "EP_train:18: 100%|| 21/21 [00:00<00:00, 107.07it/s]\n"
     ]
    },
    {
     "name": "stdout",
     "output_type": "stream",
     "text": [
      "{'epoch': 18, 'iter': 20, 'loss:': 3.825515031814575}\n",
      "EP:18 Model Saved on: output/parameter.model.ep18\n"
     ]
    },
    {
     "name": "stderr",
     "output_type": "stream",
     "text": [
      "EP_train:19:   0%|| 0/21 [00:00<?, ?it/s]"
     ]
    },
    {
     "name": "stdout",
     "output_type": "stream",
     "text": [
      "torch.Size([10, 33, 33]) torch.Size([10, 33, 64])\n",
      "torch.Size([10, 33, 33]) torch.Size([10, 33, 64])\n",
      "torch.Size([10, 33, 33]) torch.Size([10, 33, 64])\n",
      "torch.Size([10, 33, 33]) torch.Size([10, 33, 64])\n",
      "torch.Size([10, 33, 33]) torch.Size([10, 33, 64])\n",
      "torch.Size([10, 33, 33]) torch.Size([10, 33, 64])\n"
     ]
    },
    {
     "name": "stderr",
     "output_type": "stream",
     "text": [
      "EP_train:19:   0%|| 0/21 [00:00<?, ?it/s]"
     ]
    },
    {
     "name": "stdout",
     "output_type": "stream",
     "text": [
      "{'epoch': 19, 'iter': 0, 'loss:': 0.9125778079032898}\n",
      "torch.Size([10, 67, 67]) torch.Size([10, 67, 64])\n",
      "torch.Size([10, 67, 67]) torch.Size([10, 67, 64])\n",
      "torch.Size([10, 67, 67]) torch.Size([10, 67, 64])\n",
      "torch.Size([10, 176, 176]) torch.Size([10, 176, 64])\n",
      "torch.Size([10, 176, 176]) torch.Size([10, 176, 64])\n",
      "torch.Size([10, 176, 176]) torch.Size([10, 176, 64])\n",
      "torch.Size([10, 54, 54]) torch.Size([10, 54, 64])\n",
      "torch.Size([10, 54, 54]) torch.Size([10, 54, 64])\n",
      "torch.Size([10, 54, 54]) torch.Size([10, 54, 64])\n",
      "torch.Size([10, 54, 54]) torch.Size([10, 54, 64])\n",
      "torch.Size([10, 54, 54]) torch.Size([10, 54, 64])\n",
      "torch.Size([10, 54, 54]) torch.Size([10, 54, 64])\n",
      "torch.Size([10, 32, 32]) torch.Size([10, 32, 64])\n",
      "torch.Size([10, 32, 32]) torch.Size([10, 32, 64])\n",
      "torch.Size([10, 32, 32]) torch.Size([10, 32, 64])\n",
      "torch.Size([10, 69, 69]) torch.Size([10, 69, 64])\n",
      "torch.Size([10, 69, 69]) torch.Size([10, 69, 64])\n",
      "torch.Size([10, 69, 69]) torch.Size([10, 69, 64])\n"
     ]
    },
    {
     "name": "stderr",
     "output_type": "stream",
     "text": [
      "EP_train:19:   0%|| 0/21 [00:00<?, ?it/s]"
     ]
    },
    {
     "name": "stdout",
     "output_type": "stream",
     "text": [
      "torch.Size([10, 196, 196]) torch.Size([10, 196, 64])\n",
      "torch.Size([10, 196, 196]) torch.Size([10, 196, 64])\n",
      "torch.Size([10, 196, 196]) torch.Size([10, 196, 64])\n",
      "torch.Size([10, 196, 196]) torch.Size([10, 196, 64])\n",
      "torch.Size([10, 196, 196]) torch.Size([10, 196, 64])\n",
      "torch.Size([10, 196, 196]) torch.Size([10, 196, 64])\n",
      "torch.Size([10, 20, 20]) torch.Size([10, 20, 64])\n",
      "torch.Size([10, 20, 20]) torch.Size([10, 20, 64])\n",
      "torch.Size([10, 20, 20]) torch.Size([10, 20, 64])\n",
      "torch.Size([10, 20, 20]) torch.Size([10, 20, 64])\n",
      "torch.Size([10, 20, 20]) torch.Size([10, 20, 64])\n",
      "torch.Size([10, 20, 20]) torch.Size([10, 20, 64])\n",
      "{'epoch': 19, 'iter': 5, 'loss:': 1.0284168720245361}\n",
      "torch.Size([10, 479, 479]) torch.Size([10, 479, 64])\n",
      "torch.Size([10, 479, 479]) torch.Size([10, 479, 64])\n",
      "torch.Size([10, 479, 479]) torch.Size([10, 479, 64])\n",
      "torch.Size([10, 479, 479]) torch.Size([10, 479, 64])\n",
      "torch.Size([10, 479, 479]) torch.Size([10, 479, 64])\n",
      "torch.Size([10, 479, 479]) torch.Size([10, 479, 64])\n",
      "torch.Size([10, 162, 162]) torch.Size([10, 162, 64])\n",
      "torch.Size([10, 162, 162]) torch.Size([10, 162, 64])\n",
      "torch.Size([10, 162, 162]) torch.Size([10, 162, 64])\n",
      "torch.Size([10, 162, 162]) torch.Size([10, 162, 64])\n",
      "torch.Size([10, 162, 162]) torch.Size([10, 162, 64])\n",
      "torch.Size([10, 162, 162]) torch.Size([10, 162, 64])\n",
      "torch.Size([10, 113, 113]) torch.Size([10, 113, 64])\n",
      "torch.Size([10, 113, 113]) torch.Size([10, 113, 64])\n",
      "torch.Size([10, 113, 113]) torch.Size([10, 113, 64])\n",
      "torch.Size([10, 113, 113]) torch.Size([10, 113, 64])\n",
      "torch.Size([10, 113, 113]) torch.Size([10, 113, 64])\n",
      "torch.Size([10, 113, 113]) torch.Size([10, 113, 64])\n",
      "torch.Size([10, 43, 43]) torch.Size([10, 43, 64])\n",
      "torch.Size([10, 43, 43]) torch.Size([10, 43, 64])\n",
      "torch.Size([10, 43, 43]) torch.Size([10, 43, 64])\n",
      "torch.Size([10, 43, 43]) torch.Size([10, 43, 64])\n",
      "torch.Size([10, 43, 43]) torch.Size([10, 43, 64])\n",
      "torch.Size([10, 43, 43]) torch.Size([10, 43, 64])\n",
      "torch.Size([10, 67, 67]) torch.Size([10, 67, 64])\n",
      "torch.Size([10, 67, 67]) torch.Size([10, 67, 64])\n",
      "torch.Size([10, 67, 67]) torch.Size([10, 67, 64])\n",
      "torch.Size([10, 67, 67]) torch.Size([10, 67, 64])\n",
      "torch.Size([10, 67, 67]) torch.Size([10, 67, 64])\n",
      "torch.Size([10, 67, 67]) torch.Size([10, 67, 64])\n"
     ]
    },
    {
     "name": "stderr",
     "output_type": "stream",
     "text": [
      "EP_train:19:  57%|| 12/21 [00:00<00:00, 109.40it/s]"
     ]
    },
    {
     "name": "stdout",
     "output_type": "stream",
     "text": [
      "{'epoch': 19, 'iter': 10, 'loss:': 0.04611080139875412}\n",
      "torch.Size([10, 15, 15]) torch.Size([10, 15, 64])\n",
      "torch.Size([10, 15, 15]) torch.Size([10, 15, 64])\n",
      "torch.Size([10, 15, 15]) torch.Size([10, 15, 64])\n",
      "torch.Size([10, 176, 176]) torch.Size([10, 176, 64])\n",
      "torch.Size([10, 176, 176]) torch.Size([10, 176, 64])\n",
      "torch.Size([10, 176, 176]) torch.Size([10, 176, 64])\n",
      "torch.Size([10, 232, 232]) torch.Size([10, 232, 64])\n",
      "torch.Size([10, 232, 232]) torch.Size([10, 232, 64])\n",
      "torch.Size([10, 232, 232]) torch.Size([10, 232, 64])\n",
      "torch.Size([10, 232, 232]) torch.Size([10, 232, 64])\n",
      "torch.Size([10, 232, 232]) torch.Size([10, 232, 64])\n",
      "torch.Size([10, 232, 232]) torch.Size([10, 232, 64])\n",
      "torch.Size([10, 78, 78]) torch.Size([10, 78, 64])\n",
      "torch.Size([10, 78, 78]) torch.Size([10, 78, 64])\n",
      "torch.Size([10, 78, 78]) torch.Size([10, 78, 64])\n",
      "torch.Size([10, 78, 78]) torch.Size([10, 78, 64])\n",
      "torch.Size([10, 78, 78]) torch.Size([10, 78, 64])\n",
      "torch.Size([10, 78, 78]) torch.Size([10, 78, 64])\n"
     ]
    },
    {
     "name": "stderr",
     "output_type": "stream",
     "text": [
      "EP_train:19:  57%|| 12/21 [00:00<00:00, 109.40it/s]"
     ]
    },
    {
     "name": "stdout",
     "output_type": "stream",
     "text": [
      "torch.Size([10, 54, 54]) torch.Size([10, 54, 64])\n",
      "torch.Size([10, 54, 54]) torch.Size([10, 54, 64])\n",
      "torch.Size([10, 54, 54]) torch.Size([10, 54, 64])\n",
      "torch.Size([10, 54, 54]) torch.Size([10, 54, 64])\n",
      "torch.Size([10, 54, 54]) torch.Size([10, 54, 64])\n",
      "torch.Size([10, 54, 54]) torch.Size([10, 54, 64])\n",
      "torch.Size([10, 31, 31]) torch.Size([10, 31, 64])\n",
      "torch.Size([10, 31, 31]) torch.Size([10, 31, 64])\n",
      "torch.Size([10, 31, 31]) torch.Size([10, 31, 64])\n",
      "torch.Size([10, 176, 176]) torch.Size([10, 176, 64])\n",
      "torch.Size([10, 176, 176]) torch.Size([10, 176, 64])\n",
      "torch.Size([10, 176, 176]) torch.Size([10, 176, 64])\n",
      "{'epoch': 19, 'iter': 15, 'loss:': 1.0471943616867065}\n",
      "torch.Size([10, 53, 53]) torch.Size([10, 53, 64])\n",
      "torch.Size([10, 53, 53]) torch.Size([10, 53, 64])\n",
      "torch.Size([10, 53, 53]) torch.Size([10, 53, 64])\n",
      "torch.Size([10, 53, 53]) torch.Size([10, 53, 64])\n",
      "torch.Size([10, 53, 53]) torch.Size([10, 53, 64])\n",
      "torch.Size([10, 53, 53]) torch.Size([10, 53, 64])\n",
      "torch.Size([10, 60, 60]) torch.Size([10, 60, 64])\n",
      "torch.Size([10, 60, 60]) torch.Size([10, 60, 64])\n",
      "torch.Size([10, 60, 60]) torch.Size([10, 60, 64])\n",
      "torch.Size([10, 60, 60]) torch.Size([10, 60, 64])\n",
      "torch.Size([10, 60, 60]) torch.Size([10, 60, 64])\n",
      "torch.Size([10, 60, 60]) torch.Size([10, 60, 64])\n",
      "torch.Size([10, 11, 11]) torch.Size([10, 11, 64])\n",
      "torch.Size([10, 11, 11]) torch.Size([10, 11, 64])\n",
      "torch.Size([10, 11, 11]) torch.Size([10, 11, 64])\n",
      "torch.Size([10, 11, 11]) torch.Size([10, 11, 64])\n",
      "torch.Size([10, 11, 11]) torch.Size([10, 11, 64])\n",
      "torch.Size([10, 11, 11]) torch.Size([10, 11, 64])\n",
      "torch.Size([10, 178, 178]) torch.Size([10, 178, 64])\n",
      "torch.Size([10, 178, 178]) torch.Size([10, 178, 64])\n",
      "torch.Size([10, 178, 178]) torch.Size([10, 178, 64])\n",
      "torch.Size([10, 178, 178]) torch.Size([10, 178, 64])\n",
      "torch.Size([10, 178, 178]) torch.Size([10, 178, 64])\n",
      "torch.Size([10, 178, 178]) torch.Size([10, 178, 64])\n",
      "torch.Size([1, 5, 5]) torch.Size([10, 5, 64])\n",
      "torch.Size([1, 5, 5]) torch.Size([10, 5, 64])\n",
      "torch.Size([1, 5, 5]) torch.Size([10, 5, 64])\n",
      "torch.Size([1, 4, 4]) torch.Size([10, 4, 64])\n",
      "torch.Size([1, 4, 4]) torch.Size([10, 4, 64])\n",
      "torch.Size([1, 4, 4]) torch.Size([10, 4, 64])\n"
     ]
    },
    {
     "name": "stderr",
     "output_type": "stream",
     "text": [
      "EP_train:19: 100%|| 21/21 [00:00<00:00, 100.12it/s]\n"
     ]
    },
    {
     "name": "stdout",
     "output_type": "stream",
     "text": [
      "{'epoch': 19, 'iter': 20, 'loss:': 3.8148796558380127}\n",
      "EP:19 Model Saved on: output/parameter.model.ep19\n"
     ]
    }
   ],
   "execution_count": 10
  }
 ],
 "metadata": {
  "kernelspec": {
   "display_name": "Python 3",
   "language": "python",
   "name": "python3"
  },
  "language_info": {
   "codemirror_mode": {
    "name": "ipython",
    "version": 2
   },
   "file_extension": ".py",
   "mimetype": "text/x-python",
   "name": "python",
   "nbconvert_exporter": "python",
   "pygments_lexer": "ipython2",
   "version": "2.7.6"
  }
 },
 "nbformat": 4,
 "nbformat_minor": 5
}
