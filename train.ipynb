{
 "cells": [
  {
   "metadata": {
    "ExecuteTime": {
     "end_time": "2024-06-20T15:53:01.091465Z",
     "start_time": "2024-06-20T15:53:00.370165Z"
    }
   },
   "cell_type": "code",
   "source": [
    "import model\n",
    "import dataset\n",
    "import trainner"
   ],
   "id": "6d3cd0ad572e7e74",
   "outputs": [],
   "execution_count": 1
  },
  {
   "metadata": {
    "ExecuteTime": {
     "end_time": "2024-06-20T15:53:02.794227Z",
     "start_time": "2024-06-20T15:53:02.791424Z"
    }
   },
   "cell_type": "code",
   "source": [
    "import torch\n",
    "import torch.nn as nn\n",
    "import torch.nn.functional as F\n",
    "from torch.autograd import Variable\n",
    "from torch.utils.data import Dataset, DataLoader"
   ],
   "id": "a1a52b271ff56da8",
   "outputs": [],
   "execution_count": 2
  },
  {
   "metadata": {
    "ExecuteTime": {
     "end_time": "2024-06-20T15:53:03.561719Z",
     "start_time": "2024-06-20T15:53:03.559556Z"
    }
   },
   "cell_type": "code",
   "source": [
    "\n",
    "spread_times = 3\n",
    "embedded_depth = 2  # at least 1\n",
    "vector_size = 8\n",
    "embedding_size = 64\n"
   ],
   "id": "ad8e5949841ced4c",
   "outputs": [],
   "execution_count": 3
  },
  {
   "metadata": {
    "ExecuteTime": {
     "end_time": "2024-06-20T15:53:04.348369Z",
     "start_time": "2024-06-20T15:53:04.345384Z"
    }
   },
   "cell_type": "code",
   "source": [
    "train_dataset = \"data/training\"\n",
    "test_dataset = None\n",
    "output_path = \"parameter/\""
   ],
   "id": "33b6a082569cd6ff",
   "outputs": [],
   "execution_count": 4
  },
  {
   "metadata": {
    "ExecuteTime": {
     "end_time": "2024-06-20T15:53:06.112281Z",
     "start_time": "2024-06-20T15:53:06.108984Z"
    }
   },
   "cell_type": "code",
   "source": "data = dataset.GraphDataset(train_dataset)",
   "id": "72427de269da7ea7",
   "outputs": [],
   "execution_count": 5
  },
  {
   "metadata": {
    "ExecuteTime": {
     "end_time": "2024-06-20T15:53:06.979699Z",
     "start_time": "2024-06-20T15:53:06.975799Z"
    }
   },
   "cell_type": "code",
   "source": [
    "print(\"Creating Dataset\")\n",
    "train_dataset = dataset.GraphDataset(train_dataset)\n",
    "test_dataset = dataset.GraphDataset(test_dataset) if test_dataset is not None else None"
   ],
   "id": "f57ebbeee6db7f72",
   "outputs": [
    {
     "name": "stdout",
     "output_type": "stream",
     "text": [
      "Creating Dataset\n"
     ]
    }
   ],
   "execution_count": 6
  },
  {
   "metadata": {
    "ExecuteTime": {
     "end_time": "2024-06-20T15:53:07.872489Z",
     "start_time": "2024-06-20T15:53:07.866968Z"
    }
   },
   "cell_type": "code",
   "source": [
    "print(\"Creating Dataloader\")\n",
    "train_data_loader = DataLoader(train_dataset, batch_size=10, num_workers=0, collate_fn=dataset.custom_collate_fn)\n",
    "test_data_loader = DataLoader(test_dataset, batch_size=10, num_workers=10, collate_fn=dataset.custom_collate_fn, shuffle=True) \\\n",
    "    if test_dataset is not None else None"
   ],
   "id": "b482e350a94f096a",
   "outputs": [
    {
     "name": "stdout",
     "output_type": "stream",
     "text": [
      "Creating Dataloader\n"
     ]
    }
   ],
   "execution_count": 7
  },
  {
   "metadata": {
    "ExecuteTime": {
     "end_time": "2024-06-20T15:53:08.809789Z",
     "start_time": "2024-06-20T15:53:08.804878Z"
    }
   },
   "cell_type": "code",
   "source": [
    "print(\"Building model\")\n",
    "model = model.GraphEmbeddingNetwork(spread_times, embedded_depth, vector_size, embedding_size)"
   ],
   "id": "e41364645e30dcd5",
   "outputs": [
    {
     "name": "stdout",
     "output_type": "stream",
     "text": [
      "Building model\n"
     ]
    }
   ],
   "execution_count": 8
  },
  {
   "metadata": {
    "ExecuteTime": {
     "end_time": "2024-06-20T15:53:11.409167Z",
     "start_time": "2024-06-20T15:53:09.810539Z"
    }
   },
   "cell_type": "code",
   "source": [
    "print(\"Creating Trainer\")\n",
    "train_model = trainner.Trainer(model, train_data_loader, test_data_loader)"
   ],
   "id": "600fe69f29ed53e1",
   "outputs": [
    {
     "name": "stdout",
     "output_type": "stream",
     "text": [
      "Creating Trainer\n",
      "CUDA available: False\n"
     ]
    },
    {
     "name": "stderr",
     "output_type": "stream",
     "text": [
      "/home/tongxixu/anaconda3/envs/myenv/lib/python3.12/site-packages/torch/cuda/__init__.py:118: UserWarning: CUDA initialization: CUDA unknown error - this may be due to an incorrectly set up environment, e.g. changing env variable CUDA_VISIBLE_DEVICES after program start. Setting the available devices to be zero. (Triggered internally at /opt/conda/conda-bld/pytorch_1716905969118/work/c10/cuda/CUDAFunctions.cpp:108.)\n",
      "  return torch._C._cuda_getDeviceCount() > 0\n"
     ]
    },
    {
     "name": "stdout",
     "output_type": "stream",
     "text": [
      "Total Parameters: 13056\n"
     ]
    }
   ],
   "execution_count": 9
  },
  {
   "metadata": {
    "ExecuteTime": {
     "end_time": "2024-06-20T15:53:15.375010Z",
     "start_time": "2024-06-20T15:53:15.131858Z"
    }
   },
   "cell_type": "code",
   "source": [
    "print(\"Training Start\")\n",
    "for epoch in range(20):\n",
    "    train_model.train(epoch)\n",
    "    train_model.save(epoch, output_path)"
   ],
   "id": "38c053ee98e4e07c",
   "outputs": [
    {
     "name": "stdout",
     "output_type": "stream",
     "text": [
      "Training Start\n"
     ]
    },
    {
     "name": "stderr",
     "output_type": "stream",
     "text": [
      "EP_train:0:   0%|| 0/21 [00:00<?, ?it/s]"
     ]
    },
    {
     "name": "stdout",
     "output_type": "stream",
     "text": [
      "adj_tensor1 torch.Size([33, 33])\n",
      "attr_tensor1 torch.Size([33, 8])\n",
      "adj_tensor2 torch.Size([33, 33])\n",
      "attr_tensor2 torch.Size([33, 8])\n",
      "label torch.Size([])\n",
      "<class 'dict_values'>\n"
     ]
    },
    {
     "name": "stderr",
     "output_type": "stream",
     "text": [
      "\n"
     ]
    },
    {
     "ename": "RuntimeError",
     "evalue": "1D tensors expected, but got 2D and 2D tensors",
     "output_type": "error",
     "traceback": [
      "\u001B[0;31m---------------------------------------------------------------------------\u001B[0m",
      "\u001B[0;31mRuntimeError\u001B[0m                              Traceback (most recent call last)",
      "Cell \u001B[0;32mIn[10], line 3\u001B[0m\n\u001B[1;32m      1\u001B[0m \u001B[38;5;28mprint\u001B[39m(\u001B[38;5;124m\"\u001B[39m\u001B[38;5;124mTraining Start\u001B[39m\u001B[38;5;124m\"\u001B[39m)\n\u001B[1;32m      2\u001B[0m \u001B[38;5;28;01mfor\u001B[39;00m epoch \u001B[38;5;129;01min\u001B[39;00m \u001B[38;5;28mrange\u001B[39m(\u001B[38;5;241m20\u001B[39m):\n\u001B[0;32m----> 3\u001B[0m     train_model\u001B[38;5;241m.\u001B[39mtrain(epoch)\n\u001B[1;32m      4\u001B[0m     train_model\u001B[38;5;241m.\u001B[39msave(epoch, output_path)\n",
      "File \u001B[0;32m~/PycharmProjects/prakProject/gitfile/BAAIprak/trainner.py:53\u001B[0m, in \u001B[0;36mTrainer.train\u001B[0;34m(self, epoch)\u001B[0m\n\u001B[1;32m     51\u001B[0m attribute_vector1 \u001B[38;5;241m=\u001B[39m \u001B[38;5;28mself\u001B[39m\u001B[38;5;241m.\u001B[39mmodel\u001B[38;5;241m.\u001B[39mforward(data[\u001B[38;5;124m\"\u001B[39m\u001B[38;5;124mattr_tensor1\u001B[39m\u001B[38;5;124m\"\u001B[39m], data[\u001B[38;5;124m\"\u001B[39m\u001B[38;5;124madj_tensor1\u001B[39m\u001B[38;5;124m\"\u001B[39m], tensor_u1)\n\u001B[1;32m     52\u001B[0m attribute_vector2 \u001B[38;5;241m=\u001B[39m \u001B[38;5;28mself\u001B[39m\u001B[38;5;241m.\u001B[39mmodel\u001B[38;5;241m.\u001B[39mforward(data[\u001B[38;5;124m\"\u001B[39m\u001B[38;5;124mattr_tensor2\u001B[39m\u001B[38;5;124m\"\u001B[39m], data[\u001B[38;5;124m\"\u001B[39m\u001B[38;5;124madj_tensor2\u001B[39m\u001B[38;5;124m\"\u001B[39m], tensor_u2)\n\u001B[0;32m---> 53\u001B[0m loss \u001B[38;5;241m=\u001B[39m \u001B[38;5;28mself\u001B[39m\u001B[38;5;241m.\u001B[39mcriterion\u001B[38;5;241m.\u001B[39mforward(attribute_vector1, attribute_vector2, data[\u001B[38;5;124m\"\u001B[39m\u001B[38;5;124mlabel\u001B[39m\u001B[38;5;124m\"\u001B[39m])\n\u001B[1;32m     54\u001B[0m \u001B[38;5;28mself\u001B[39m\u001B[38;5;241m.\u001B[39moptimizer\u001B[38;5;241m.\u001B[39mzero_grad()\n\u001B[1;32m     55\u001B[0m loss\u001B[38;5;241m.\u001B[39mbackward()\n",
      "File \u001B[0;32m~/PycharmProjects/prakProject/gitfile/BAAIprak/lossfunction.py:10\u001B[0m, in \u001B[0;36mCosSimLoss.forward\u001B[0;34m(self, vector_feature1, vector_feature2, label)\u001B[0m\n\u001B[1;32m      9\u001B[0m \u001B[38;5;28;01mdef\u001B[39;00m \u001B[38;5;21mforward\u001B[39m(\u001B[38;5;28mself\u001B[39m, vector_feature1, vector_feature2, label):\n\u001B[0;32m---> 10\u001B[0m     loss \u001B[38;5;241m=\u001B[39m torch\u001B[38;5;241m.\u001B[39mdot(vector_feature1, vector_feature2)\u001B[38;5;241m/\u001B[39m(torch\u001B[38;5;241m.\u001B[39mnorm(vector_feature1) \u001B[38;5;241m*\u001B[39m torch\u001B[38;5;241m.\u001B[39mnorm(vector_feature2) \u001B[38;5;241m+\u001B[39m \u001B[38;5;241m1e-6\u001B[39m)\n\u001B[1;32m     11\u001B[0m     loss \u001B[38;5;241m=\u001B[39m (loss \u001B[38;5;241m-\u001B[39m label) \u001B[38;5;241m*\u001B[39m\u001B[38;5;241m*\u001B[39m \u001B[38;5;241m2.0\u001B[39m\n\u001B[1;32m     12\u001B[0m     \u001B[38;5;28;01mreturn\u001B[39;00m loss\n",
      "\u001B[0;31mRuntimeError\u001B[0m: 1D tensors expected, but got 2D and 2D tensors"
     ]
    }
   ],
   "execution_count": 10
  }
 ],
 "metadata": {
  "kernelspec": {
   "display_name": "Python 3",
   "language": "python",
   "name": "python3"
  },
  "language_info": {
   "codemirror_mode": {
    "name": "ipython",
    "version": 2
   },
   "file_extension": ".py",
   "mimetype": "text/x-python",
   "name": "python",
   "nbconvert_exporter": "python",
   "pygments_lexer": "ipython2",
   "version": "2.7.6"
  }
 },
 "nbformat": 4,
 "nbformat_minor": 5
}
