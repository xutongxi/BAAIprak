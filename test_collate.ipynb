{
 "cells": [
  {
   "metadata": {
    "ExecuteTime": {
     "end_time": "2024-06-24T09:34:07.780891Z",
     "start_time": "2024-06-24T09:34:05.396141Z"
    }
   },
   "cell_type": "code",
   "source": [
    "import torch\n",
    "from torch.utils.data import DataLoader, Dataset\n",
    "import torch.nn.functional as F"
   ],
   "id": "ce375bf7c9168d4b",
   "outputs": [],
   "execution_count": 1
  },
  {
   "metadata": {
    "ExecuteTime": {
     "end_time": "2024-06-24T09:34:07.784261Z",
     "start_time": "2024-06-24T09:34:07.782104Z"
    }
   },
   "cell_type": "code",
   "source": [
    "def pad_tensor(tensor, target_shape):\n",
    "    padding = [0]*4\n",
    "    padding[1] = target_shape[1] - tensor.shape[1]\n",
    "    padding[3] = target_shape[0] - tensor.shape[0]\n",
    "    print(padding, tensor.shape)\n",
    "    resul = F.pad(tensor, padding,\"constant\", 0)\n",
    "    print(target_shape,resul.shape)\n",
    "    return resul"
   ],
   "id": "2a4f262c38ad6059",
   "outputs": [],
   "execution_count": 2
  },
  {
   "metadata": {
    "ExecuteTime": {
     "end_time": "2024-06-24T09:34:07.796681Z",
     "start_time": "2024-06-24T09:34:07.784895Z"
    }
   },
   "cell_type": "code",
   "source": [
    "def custom_collate_fn(batch):\n",
    "    # print(batch[0])\n",
    "    # 找到每个张量的最大形状\n",
    "    max_shape = {}\n",
    "    for key in batch[0].keys():\n",
    "        if batch[0][key].dim() > 0:\n",
    "            max_shape[key] = [max(item[key].shape[i] for item in batch) for i in range(2)]\n",
    "            # print(max(item[key].shape[0] for item in batch),max(item[key].shape[1] for item in batch), key)    # 取道了最大的外形，没有问题\n",
    "        # else:\n",
    "            # print(key, batch[0][key].shape)\n",
    "\n",
    "    # for key in max_shape.keys():\n",
    "    #     print(key)\n",
    "    #     print(max_shape[key])\n",
    "    # 对每个样本的每个张量进行填充，并合并到一个批次中\n",
    "    collated_batch = {}\n",
    "    for key in batch[0].keys():\n",
    "        if isinstance(batch[0][key], torch.Tensor) and batch[0][key].dim() > 0:\n",
    "            # for item in batch:\n",
    "            #     for keys in item.keys():\n",
    "                    # print(keys, item[keys].shape)\n",
    "            padded_tensors = []\n",
    "            for item in batch:\n",
    "                padded_tensor = pad_tensor(item[key], max_shape[key])\n",
    "                # print(padded_tensor.shape, max_shape[key])\n",
    "                padded_tensors.append(padded_tensor)\n",
    "            # padded_tensors = [pad_tensor(item[key], max_shape[key]) for item in batch]\n",
    "            # for item in batch:\n",
    "            #     for keys in item.keys():\n",
    "            #         pad_tensor(item[keys], max_shape[keys])\n",
    "            #         print(max_shape[keys])         \n",
    "            # for tensor in padded_tensors:\n",
    "            #     print(key, tensor.shape)\n",
    "            collated_batch[key] = torch.stack(padded_tensors, dim=0)\n",
    "        else:\n",
    "            collated_batch[key] = torch.stack([item[key] for item in batch])\n",
    "    return collated_batch\n",
    "\n",
    "    # for key in batch[0].keys():\n",
    "    #     if key is 'label':\n",
    "    #         max_shape[key] = len(batch[0][key])\n",
    "    #     else:\n",
    "    #         max_shape[key] = [max(item[key].shape[i] for item in batch) for i in range(len(batch[0][key].shape))]\n",
    "    #\n",
    "    # # 对每个样本的每个张量进行填充，并合并到一个批次中\n",
    "    # collated_batch = {}\n",
    "    # for key in batch[0].keys():\n",
    "    #     if 'label' in key:\n",
    "    #         collated_batch[key] = torch.stack([item[key] for item in batch])\n",
    "    #     else:\n",
    "    #         padded_tensors = [pad_tensor(item[key], max_shape[key]) for item in batch]\n",
    "    #         collated_batch[key] = torch.stack(padded_tensors, dim=0)\n"
   ],
   "id": "initial_id",
   "outputs": [],
   "execution_count": 3
  },
  {
   "metadata": {
    "ExecuteTime": {
     "end_time": "2024-06-24T09:34:07.805334Z",
     "start_time": "2024-06-24T09:34:07.797708Z"
    }
   },
   "cell_type": "code",
   "source": [
    "class CustomDataset(Dataset):\n",
    "    def __init__(self, data):\n",
    "        self.data = data\n",
    "\n",
    "    def __len__(self):\n",
    "        return len(self.data)\n",
    "\n",
    "    def __getitem__(self, idx):\n",
    "        return self.data[idx]"
   ],
   "id": "dd4a918eb9d3068e",
   "outputs": [],
   "execution_count": 4
  },
  {
   "metadata": {
    "ExecuteTime": {
     "end_time": "2024-06-24T09:34:07.814755Z",
     "start_time": "2024-06-24T09:34:07.806144Z"
    }
   },
   "cell_type": "code",
   "source": [
    "data = [\n",
    "    {\n",
    "        'adj_tensor1': torch.randn(14, 77),\n",
    "        'attr_tensor1': torch.randn(14, 80),\n",
    "        'adj_tensor2': torch.randn(14, 77),\n",
    "        'attr_tensor2': torch.randn(14, 80),\n",
    "        # 'label': torch.tensor(1.0, dtype=torch.float32)\n",
    "    },\n",
    "    {\n",
    "        'adj_tensor1': torch.randn(10, 81),\n",
    "        'attr_tensor1': torch.randn(10, 85),\n",
    "        'adj_tensor2': torch.randn(10, 81),\n",
    "        'attr_tensor2': torch.randn(10, 85),\n",
    "        # 'label': torch.tensor(0.0, dtype=torch.float32)\n",
    "    },\n",
    "    {\n",
    "        'adj_tensor1': torch.randn(14, 81),\n",
    "        'attr_tensor1': torch.randn(21, 85),\n",
    "        'adj_tensor2': torch.randn(16, 81),\n",
    "        'attr_tensor2': torch.randn(11, 85),\n",
    "        # 'label': torch.tensor(0.0, dtype=torch.float32)\n",
    "    }\n",
    "]"
   ],
   "id": "6bd7daba03bf167b",
   "outputs": [],
   "execution_count": 5
  },
  {
   "metadata": {
    "ExecuteTime": {
     "end_time": "2024-06-24T09:34:07.820179Z",
     "start_time": "2024-06-24T09:34:07.815629Z"
    }
   },
   "cell_type": "code",
   "source": "dataset = CustomDataset(data)",
   "id": "939638c11dfd0582",
   "outputs": [],
   "execution_count": 6
  },
  {
   "metadata": {
    "ExecuteTime": {
     "end_time": "2024-06-24T09:34:07.852197Z",
     "start_time": "2024-06-24T09:34:07.820844Z"
    }
   },
   "cell_type": "code",
   "source": [
    "# 使用自定义的 collate_fn 创建 DataLoader\n",
    "dataloader = DataLoader(dataset, batch_size=3, collate_fn=custom_collate_fn)\n",
    "\n",
    "# 打印批次数据\n",
    "for batch in dataloader:\n",
    "    print(batch)"
   ],
   "id": "efd22abcfe51ec3",
   "outputs": [
    {
     "name": "stdout",
     "output_type": "stream",
     "text": [
      "[0, 4, 0, 0] torch.Size([14, 77])\n",
      "[14, 81] torch.Size([14, 81])\n",
      "[0, 0, 0, 4] torch.Size([10, 81])\n",
      "[14, 81] torch.Size([14, 81])\n",
      "[0, 0, 0, 0] torch.Size([14, 81])\n",
      "[14, 81] torch.Size([14, 81])\n",
      "[0, 5, 0, 7] torch.Size([14, 80])\n",
      "[21, 85] torch.Size([21, 85])\n",
      "[0, 0, 0, 11] torch.Size([10, 85])\n",
      "[21, 85] torch.Size([21, 85])\n",
      "[0, 0, 0, 0] torch.Size([21, 85])\n",
      "[21, 85] torch.Size([21, 85])\n",
      "[0, 4, 0, 2] torch.Size([14, 77])\n",
      "[16, 81] torch.Size([16, 81])\n",
      "[0, 0, 0, 6] torch.Size([10, 81])\n",
      "[16, 81] torch.Size([16, 81])\n",
      "[0, 0, 0, 0] torch.Size([16, 81])\n",
      "[16, 81] torch.Size([16, 81])\n",
      "[0, 5, 0, 0] torch.Size([14, 80])\n",
      "[14, 85] torch.Size([14, 85])\n",
      "[0, 0, 0, 4] torch.Size([10, 85])\n",
      "[14, 85] torch.Size([14, 85])\n",
      "[0, 0, 0, 3] torch.Size([11, 85])\n",
      "[14, 85] torch.Size([14, 85])\n",
      "{'adj_tensor1': tensor([[[ 0.2383,  0.1969,  0.0663,  ...,  0.0000,  0.0000,  0.0000],\n",
      "         [ 2.1536,  1.2902, -1.6163,  ...,  0.0000,  0.0000,  0.0000],\n",
      "         [ 1.3471,  0.3501,  0.5999,  ...,  0.0000,  0.0000,  0.0000],\n",
      "         ...,\n",
      "         [ 0.3715,  0.4141, -1.5294,  ...,  0.0000,  0.0000,  0.0000],\n",
      "         [-0.1346, -1.3491,  0.6846,  ...,  0.0000,  0.0000,  0.0000],\n",
      "         [-0.7066,  1.8492, -1.0874,  ...,  0.0000,  0.0000,  0.0000]],\n",
      "\n",
      "        [[ 0.9365,  1.3384, -0.6412,  ...,  1.1961,  0.7647,  0.4134],\n",
      "         [-1.1777, -2.2238,  1.8066,  ...,  1.5948, -0.5493,  0.6889],\n",
      "         [ 0.0178, -0.6949,  0.2519,  ...,  0.0217,  0.5451, -0.9491],\n",
      "         ...,\n",
      "         [ 0.0000,  0.0000,  0.0000,  ...,  0.0000,  0.0000,  0.0000],\n",
      "         [ 0.0000,  0.0000,  0.0000,  ...,  0.0000,  0.0000,  0.0000],\n",
      "         [ 0.0000,  0.0000,  0.0000,  ...,  0.0000,  0.0000,  0.0000]],\n",
      "\n",
      "        [[ 0.9244,  0.1491,  0.4512,  ..., -0.7774, -1.3684,  1.4536],\n",
      "         [-0.7387, -0.8857, -0.8915,  ..., -0.7467, -0.5693, -0.9880],\n",
      "         [-0.2499, -0.6588, -1.5912,  ..., -0.5791, -1.2764, -0.2843],\n",
      "         ...,\n",
      "         [-1.3547, -2.7572, -0.3879,  ...,  0.8344, -0.3513, -0.9203],\n",
      "         [ 0.4869,  0.1135,  0.0944,  ...,  1.6519,  0.1228,  0.6918],\n",
      "         [-0.1027, -1.0227,  2.3317,  ..., -0.5619,  0.3922, -0.8306]]]), 'attr_tensor1': tensor([[[-1.3150,  0.3853,  0.2945,  ...,  0.0000,  0.0000,  0.0000],\n",
      "         [ 0.0521,  0.8266, -0.5313,  ...,  0.0000,  0.0000,  0.0000],\n",
      "         [-0.2656,  1.3081,  0.7517,  ...,  0.0000,  0.0000,  0.0000],\n",
      "         ...,\n",
      "         [ 0.0000,  0.0000,  0.0000,  ...,  0.0000,  0.0000,  0.0000],\n",
      "         [ 0.0000,  0.0000,  0.0000,  ...,  0.0000,  0.0000,  0.0000],\n",
      "         [ 0.0000,  0.0000,  0.0000,  ...,  0.0000,  0.0000,  0.0000]],\n",
      "\n",
      "        [[ 1.3345, -0.2756,  1.6297,  ...,  2.5737,  1.4718,  0.6102],\n",
      "         [-0.1968,  0.6209,  0.9003,  ..., -0.9489, -0.1550,  2.1573],\n",
      "         [ 0.6425,  0.8750,  0.4936,  ..., -0.1293, -0.7093, -1.1754],\n",
      "         ...,\n",
      "         [ 0.0000,  0.0000,  0.0000,  ...,  0.0000,  0.0000,  0.0000],\n",
      "         [ 0.0000,  0.0000,  0.0000,  ...,  0.0000,  0.0000,  0.0000],\n",
      "         [ 0.0000,  0.0000,  0.0000,  ...,  0.0000,  0.0000,  0.0000]],\n",
      "\n",
      "        [[ 0.2972, -0.5479, -0.3235,  ...,  1.6374,  2.0046,  1.4033],\n",
      "         [-0.4541, -0.7644,  0.4247,  ..., -0.2652, -1.7330, -2.1632],\n",
      "         [ 1.3825,  1.2158,  0.4800,  ...,  1.5411, -0.0164, -0.2912],\n",
      "         ...,\n",
      "         [ 1.7549, -0.7660,  0.2421,  ..., -0.2875, -0.7774, -0.2813],\n",
      "         [ 0.6911, -1.1455,  0.0728,  ...,  0.7338, -0.8739, -0.7413],\n",
      "         [ 0.1408, -0.3841,  0.0167,  ..., -0.1279,  0.5016, -1.2134]]]), 'adj_tensor2': tensor([[[ 0.2569,  0.8465, -0.5222,  ...,  0.0000,  0.0000,  0.0000],\n",
      "         [ 0.4847, -0.2616, -1.9202,  ...,  0.0000,  0.0000,  0.0000],\n",
      "         [ 0.9582,  0.9358,  0.1423,  ...,  0.0000,  0.0000,  0.0000],\n",
      "         ...,\n",
      "         [ 0.6361,  0.7774,  0.5534,  ...,  0.0000,  0.0000,  0.0000],\n",
      "         [ 0.0000,  0.0000,  0.0000,  ...,  0.0000,  0.0000,  0.0000],\n",
      "         [ 0.0000,  0.0000,  0.0000,  ...,  0.0000,  0.0000,  0.0000]],\n",
      "\n",
      "        [[-2.7101,  0.2449,  0.0613,  ...,  0.6501,  0.0336,  0.6621],\n",
      "         [-0.5254, -0.6874,  0.2713,  ..., -0.7451, -0.5653, -0.6698],\n",
      "         [-0.0831,  2.4010, -0.3803,  ...,  0.6289, -1.4340, -1.5793],\n",
      "         ...,\n",
      "         [ 0.0000,  0.0000,  0.0000,  ...,  0.0000,  0.0000,  0.0000],\n",
      "         [ 0.0000,  0.0000,  0.0000,  ...,  0.0000,  0.0000,  0.0000],\n",
      "         [ 0.0000,  0.0000,  0.0000,  ...,  0.0000,  0.0000,  0.0000]],\n",
      "\n",
      "        [[ 0.2539, -1.3610, -0.3819,  ..., -0.4228, -0.7293, -1.9408],\n",
      "         [ 0.4841, -1.1358,  0.0730,  ..., -0.5059, -1.1192,  0.2391],\n",
      "         [-1.9332, -0.3036, -1.2732,  ...,  0.6086, -0.3977, -0.0754],\n",
      "         ...,\n",
      "         [-1.0476, -1.0711,  0.3120,  ...,  0.8011, -0.1740,  0.5227],\n",
      "         [ 0.0549,  2.6774, -0.2439,  ...,  1.2974, -1.3942, -0.0780],\n",
      "         [-1.3177,  0.4476,  0.0181,  ..., -0.5425, -1.6062, -0.2090]]]), 'attr_tensor2': tensor([[[ 1.6439,  1.7909,  0.6022,  ...,  0.0000,  0.0000,  0.0000],\n",
      "         [-0.3240,  0.0866, -1.8701,  ...,  0.0000,  0.0000,  0.0000],\n",
      "         [-0.0952, -1.4415,  0.6491,  ...,  0.0000,  0.0000,  0.0000],\n",
      "         ...,\n",
      "         [ 0.4133, -0.7285,  1.2119,  ...,  0.0000,  0.0000,  0.0000],\n",
      "         [ 0.2799, -0.6745, -0.5538,  ...,  0.0000,  0.0000,  0.0000],\n",
      "         [ 1.4370,  0.1562, -0.4357,  ...,  0.0000,  0.0000,  0.0000]],\n",
      "\n",
      "        [[ 0.7261, -0.4620,  0.1637,  ..., -0.2904, -0.2551, -0.4228],\n",
      "         [ 0.3771, -0.2797, -0.4307,  ...,  0.1661, -0.4890, -1.4152],\n",
      "         [ 1.5239, -0.1630,  0.2253,  ..., -1.9348, -1.3422, -1.5035],\n",
      "         ...,\n",
      "         [ 0.0000,  0.0000,  0.0000,  ...,  0.0000,  0.0000,  0.0000],\n",
      "         [ 0.0000,  0.0000,  0.0000,  ...,  0.0000,  0.0000,  0.0000],\n",
      "         [ 0.0000,  0.0000,  0.0000,  ...,  0.0000,  0.0000,  0.0000]],\n",
      "\n",
      "        [[ 0.8835, -1.0102, -1.3356,  ..., -1.6061,  0.7750,  1.4124],\n",
      "         [ 2.0019,  0.9690, -0.8845,  ...,  0.4309,  1.3861, -0.5133],\n",
      "         [ 0.1574,  0.8516,  0.7668,  ...,  1.8244, -0.7147,  0.3041],\n",
      "         ...,\n",
      "         [ 0.0000,  0.0000,  0.0000,  ...,  0.0000,  0.0000,  0.0000],\n",
      "         [ 0.0000,  0.0000,  0.0000,  ...,  0.0000,  0.0000,  0.0000],\n",
      "         [ 0.0000,  0.0000,  0.0000,  ...,  0.0000,  0.0000,  0.0000]]])}\n"
     ]
    }
   ],
   "execution_count": 7
  },
  {
   "metadata": {
    "ExecuteTime": {
     "end_time": "2024-06-24T09:34:07.855084Z",
     "start_time": "2024-06-24T09:34:07.852789Z"
    }
   },
   "cell_type": "code",
   "source": [
    "a = torch.ones((14, 77), dtype=torch.float32)\n",
    "test = pad_tensor(a, (21, 85))"
   ],
   "id": "d424dd51ea9e4be6",
   "outputs": [
    {
     "name": "stdout",
     "output_type": "stream",
     "text": [
      "[0, 8, 0, 7] torch.Size([14, 77])\n",
      "(21, 85) torch.Size([21, 85])\n"
     ]
    }
   ],
   "execution_count": 8
  },
  {
   "metadata": {
    "ExecuteTime": {
     "end_time": "2024-06-24T09:34:07.862551Z",
     "start_time": "2024-06-24T09:34:07.855730Z"
    }
   },
   "cell_type": "code",
   "source": "test.shape",
   "id": "641bd77fadfce81e",
   "outputs": [
    {
     "data": {
      "text/plain": [
       "torch.Size([21, 85])"
      ]
     },
     "execution_count": 9,
     "metadata": {},
     "output_type": "execute_result"
    }
   ],
   "execution_count": 9
  }
 ],
 "metadata": {
  "kernelspec": {
   "display_name": "Python 3",
   "language": "python",
   "name": "python3"
  },
  "language_info": {
   "codemirror_mode": {
    "name": "ipython",
    "version": 2
   },
   "file_extension": ".py",
   "mimetype": "text/x-python",
   "name": "python",
   "nbconvert_exporter": "python",
   "pygments_lexer": "ipython2",
   "version": "2.7.6"
  }
 },
 "nbformat": 4,
 "nbformat_minor": 5
}
